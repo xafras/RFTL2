{
 "cells": [
  {
   "cell_type": "code",
   "execution_count": 4,
   "metadata": {},
   "outputs": [],
   "source": [
    "from src import *\n",
    "\n",
    "def get_confusion_matrix(data_path=r'gross_scores_naive_B.npz', threshold = 0.5):\n",
    "    npzfile = np.load(data_path)\n",
    "    gross_scores_positive=npzfile['x']\n",
    "    gross_scores_negative=npzfile['y']\n",
    "    true_positive = (gross_scores_positive > threshold).sum()\n",
    "    true_negative = (gross_scores_negative < threshold).sum()\n",
    "    false_positive = (gross_scores_negative > threshold).sum()\n",
    "    false_negative = (gross_scores_positive < threshold).sum()\n",
    "    return [[true_positive, false_positive], [false_negative, true_negative]]"
   ]
  },
  {
   "cell_type": "code",
   "execution_count": 5,
   "metadata": {},
   "outputs": [
    {
     "data": {
      "text/plain": [
       "[[32, 33], [68, 67]]"
      ]
     },
     "execution_count": 5,
     "metadata": {},
     "output_type": "execute_result"
    }
   ],
   "source": [
    "get_confusion_matrix(data_path=r'gross_scores_naive_B.npz')"
   ]
  },
  {
   "cell_type": "code",
   "execution_count": 6,
   "metadata": {},
   "outputs": [
    {
     "data": {
      "text/plain": [
       "[[0, 0], [500, 500]]"
      ]
     },
     "execution_count": 6,
     "metadata": {},
     "output_type": "execute_result"
    }
   ],
   "source": [
    "get_confusion_matrix(data_path=r'gross_scores_pretrained_B.npz')"
   ]
  },
  {
   "cell_type": "code",
   "execution_count": 7,
   "metadata": {},
   "outputs": [],
   "source": [
    "def confusion_under_threshold(data_path=r'gross_scores_naive_B.npz', min=0, max=1, n_bit=100):\n",
    "    npzfile = np.load(data_path)\n",
    "    gross_scores_positive=npzfile['x']\n",
    "    gross_scores_negative=npzfile['y']\n",
    "    \n",
    "    thresholds = np.linspace(min, max, n_bit)\n",
    "    true_positives = []\n",
    "    true_negatives = []\n",
    "    false_positives = []\n",
    "    false_negatives = []\n",
    "    for threshold in thresholds:\n",
    "        true_positives.append((gross_scores_positive > threshold).sum())\n",
    "        true_negatives.append((gross_scores_negative < threshold).sum())\n",
    "        false_positives.append((gross_scores_negative > threshold).sum())\n",
    "        false_negatives.append((gross_scores_positive < threshold).sum())\n",
    "    return thresholds, [[true_positives, false_positives], [false_negatives, true_negatives]]"
   ]
  },
  {
   "cell_type": "code",
   "execution_count": 19,
   "metadata": {},
   "outputs": [],
   "source": [
    "def plot_confusion_under_threshold(data_path=r'gross_scores_naive_B.npz', min=0, max=1, n_bit=100):\n",
    "    thresholds, [[true_positives, false_positives], [false_negatives, true_negatives]] = confusion_under_threshold(data_path, min, max, n_bit)\n",
    "    plt.figure()\n",
    "    plt.plot(thresholds, true_positives, label=\"true_positives\")\n",
    "    plt.plot(thresholds, false_positives, label=\"false_positives\")\n",
    "    plt.plot(thresholds, false_negatives, label=\"false_negatives\")\n",
    "    plt.plot(thresholds, true_negatives, label=\"true_negatives\")\n",
    "    plt.xlabel('threshold')\n",
    "    plt.grid(which='minor', color='#EEEEEE', linestyle=':', linewidth=0.5)\n",
    "    plt.grid(which='major', color='#DDDDDD', linewidth=0.8)\n",
    "    plt.minorticks_on()\n",
    "    plt.legend(loc='center right')\n",
    "    plt.show()"
   ]
  },
  {
   "cell_type": "code",
   "execution_count": null,
   "metadata": {},
   "outputs": [],
   "source": [
    "plot_confusion_under_threshold()"
   ]
  }
 ],
 "metadata": {
  "kernelspec": {
   "display_name": ".venv",
   "language": "python",
   "name": "python3"
  },
  "language_info": {
   "codemirror_mode": {
    "name": "ipython",
    "version": 3
   },
   "file_extension": ".py",
   "mimetype": "text/x-python",
   "name": "python",
   "nbconvert_exporter": "python",
   "pygments_lexer": "ipython3",
   "version": "3.7.3"
  }
 },
 "nbformat": 4,
 "nbformat_minor": 2
}
