{
 "cells": [
  {
   "cell_type": "markdown",
   "metadata": {},
   "source": [
    "#   Prerequities\n",
    "##  Dependencies\n",
    "### Installation\n",
    "Install in that particular order :\n",
    "1. A ```python 3.7.3``` virtual environment : [link](https://www.python.org/downloads/release/python-370/)\n",
    "1. The ipykernel to run jupyter notebook cells (this installation is usually handled by VSCode)\n",
    "1. tensorflow 2.4.1 throught ```pip install tensorflow==2.4.1```\n",
    "   (and eventually tensorflow-gpu 2.4.1 throught ```pip install tensorflow-gpu==2.4.1``` if you working with a graphic card)\n",
    "1. opencv throught ```pip install opencv-python```\n",
    "1. matplotlib throught ```pip install matplotlib```\n",
    "\n",
    "The dataset can be found at http://vis-www.cs.umass.edu/lfw/lfw.tgz."
   ]
  },
  {
   "cell_type": "code",
   "execution_count": null,
   "metadata": {},
   "outputs": [],
   "source": [
    "%pip install tensorflow==2.4.1\n",
    "%pip install opencv-python\n",
    "%pip install matplotlib\n",
    "%pip install tqdm"
   ]
  },
  {
   "cell_type": "code",
   "execution_count": null,
   "metadata": {},
   "outputs": [],
   "source": [
    "from src import *"
   ]
  },
  {
   "cell_type": "code",
   "execution_count": null,
   "metadata": {},
   "outputs": [],
   "source": [
    "generate_structure()"
   ]
  }
 ],
 "metadata": {
  "language_info": {
   "name": "python"
  }
 },
 "nbformat": 4,
 "nbformat_minor": 2
}
