{
 "cells": [
  {
   "cell_type": "code",
   "execution_count": 5,
   "metadata": {},
   "outputs": [],
   "source": [
    "from src import *"
   ]
  },
  {
   "cell_type": "code",
   "execution_count": 6,
   "metadata": {},
   "outputs": [],
   "source": [
    "embedding_pretrained = make_embedding_from_pretrained(file_name='embedding_kernel_A')\n",
    "siamese_model = make_siamese_model(embedding_pretrained)"
   ]
  },
  {
   "cell_type": "code",
   "execution_count": 7,
   "metadata": {},
   "outputs": [],
   "source": [
    "# results = verify(siamese_model,ver_path=r'C:\\Users\\xafra\\Documents\\2A\\Cassiopée\\b\\RFTL2\\data\\verification_demo')\n",
    "results = get_verify_result(siamese_model, ver_path=ANC_PATH)\n",
    "mean, median, min, max = np.mean(results), np.median(results), np.min(results), np.max(results)\n",
    "print(f\"Mean score :\\t{mean}\\nMedian score :\\t{median}\\nMinimum score :\\t{min}\\nMaximum score :\\t{max}\")\n",
    "first_quartile, third_quartile = np.quantile(results, 0.25), np.quantile(results, 0.75)\n",
    "print(f\"First quartile :\\t{first_quartile}\\nThird quartile :\\t{third_quartile}\")"
   ]
  },
  {
   "cell_type": "markdown",
   "metadata": {},
   "source": [
    "After many observations, one can observe the usual values of the third quartile $q^{(3)}$ of the result vector, depending on the input as such:\n",
    "For corresponding pictures $q^{(3)}_{positive} \\lesssim 0.50$, while for differing pictures $q^{(3)}_{negative} \\gtrsim 0.55$. Hence we arbitrarily set the verification threshold at $q^{(3)}_{threshold} \\simeq 0.55$."
   ]
  },
  {
   "cell_type": "code",
   "execution_count": 8,
   "metadata": {},
   "outputs": [],
   "source": [
    "VERIFICATION_THRESHOLD = 0.55"
   ]
  },
  {
   "cell_type": "code",
   "execution_count": 9,
   "metadata": {},
   "outputs": [],
   "source": [
    "k,m = 0,0"
   ]
  },
  {
   "cell_type": "code",
   "execution_count": 14,
   "metadata": {},
   "outputs": [
    {
     "ename": "ZeroDivisionError",
     "evalue": "integer division or modulo by zero",
     "output_type": "error",
     "traceback": [
      "\u001b[1;31m---------------------------------------------------------------------------\u001b[0m",
      "\u001b[1;31mZeroDivisionError\u001b[0m                         Traceback (most recent call last)",
      "\u001b[1;32m~\\AppData\\Local\\Temp\\ipykernel_11180\\2274266537.py\u001b[0m in \u001b[0;36m<module>\u001b[1;34m\u001b[0m\n\u001b[0;32m      3\u001b[0m \u001b[0mk\u001b[0m\u001b[1;33m+=\u001b[0m\u001b[1;36m1\u001b[0m\u001b[1;33m\u001b[0m\u001b[1;33m\u001b[0m\u001b[0m\n\u001b[0;32m      4\u001b[0m \u001b[0mm\u001b[0m\u001b[1;33m-=\u001b[0m\u001b[1;36m1\u001b[0m\u001b[1;33m\u001b[0m\u001b[1;33m\u001b[0m\u001b[0m\n\u001b[1;32m----> 5\u001b[1;33m \u001b[0mk\u001b[0m \u001b[1;33m%=\u001b[0m \u001b[0mlen\u001b[0m\u001b[1;33m(\u001b[0m\u001b[0mos\u001b[0m\u001b[1;33m.\u001b[0m\u001b[0mlistdir\u001b[0m\u001b[1;33m(\u001b[0m\u001b[0manc_path\u001b[0m\u001b[1;33m)\u001b[0m\u001b[1;33m)\u001b[0m\u001b[1;33m\u001b[0m\u001b[1;33m\u001b[0m\u001b[0m\n\u001b[0m\u001b[0;32m      6\u001b[0m \u001b[0mm\u001b[0m \u001b[1;33m%=\u001b[0m \u001b[0mlen\u001b[0m\u001b[1;33m(\u001b[0m\u001b[0mos\u001b[0m\u001b[1;33m.\u001b[0m\u001b[0mlistdir\u001b[0m\u001b[1;33m(\u001b[0m\u001b[0mver_path\u001b[0m\u001b[1;33m)\u001b[0m\u001b[1;33m)\u001b[0m\u001b[1;33m\u001b[0m\u001b[1;33m\u001b[0m\u001b[0m\n\u001b[0;32m      7\u001b[0m \u001b[1;33m\u001b[0m\u001b[0m\n",
      "\u001b[1;31mZeroDivisionError\u001b[0m: integer division or modulo by zero"
     ]
    }
   ],
   "source": [
    "anc_path = r'C:\\Users\\xafra\\Documents\\2A\\Cassiopée\\git project\\RFTL2\\data\\anchor'\n",
    "ver_path = r'C:\\Users\\xafra\\Documents\\2A\\Cassiopée\\git project\\RFTL2\\data\\verification_demo'\n",
    "k+=1\n",
    "m-=1\n",
    "k %= len(os.listdir(anc_path))\n",
    "m %= len(os.listdir(ver_path))\n",
    "\n",
    "#   preprocess\n",
    "anchor_file_path = os.path.join(anc_path, os.listdir(anc_path)[k])\n",
    "verify_file_path = os.path.join(ver_path, os.listdir(ver_path)[m])\n",
    "test_input = np.array(preprocess(anchor_file_path))\n",
    "test_val = np.array(preprocess(verify_file_path))\n",
    "\n",
    "#   Display pictures and print results\n",
    "plot_images_b2b(test_input, test_val, title1=f\"anchor n°{k}\", title2=f\"camera n°{m}\")\n",
    "\n",
    "result = siamese_model.predict([np.array([test_input]), np.array([test_val])])\n",
    "print(f\"[Single verification] Gross result : {np.mean(result)}\\tValidation : {np.mean(result) > VERIFICATION_THRESHOLD}\")\n",
    "quartile_result = verify(siamese_model, verify_file_path, anc_path)\n",
    "print(f\"[Multiple verification] Gross result : {quartile_result}\\tValidation : {quartile_result > VERIFICATION_THRESHOLD}\")"
   ]
  },
  {
   "cell_type": "code",
   "execution_count": null,
   "metadata": {},
   "outputs": [],
   "source": [
    "LIVE_PATH = os.path.join('data', 'live')\n",
    "live_file_path = os.path.join(LIVE_PATH, 'input_image.jpg')\n",
    "\n",
    "cap = cv2.VideoCapture(0)\n",
    "while cap.isOpened():\n",
    "    ret, frame = cap.read()\n",
    "    frame = frame[120:120+250,200:200+250, :]\n",
    "    \n",
    "    cv2.imshow('Verification', frame)\n",
    "    \n",
    "    # Verification trigger\n",
    "    if cv2.waitKey(10) & 0xFF == ord('v'):\n",
    "        cv2.imwrite(live_file_path, frame)\n",
    "        plt.figure()\n",
    "        \n",
    "        # Run verification\n",
    "        quartile_result = verify(siamese_model, live_file_path)\n",
    "        print(f\"[Multiple verification] Gross result : {quartile_result}\\tValidation : {quartile_result > VERIFICATION_THRESHOLD}\")\n",
    "        os.system('cls')\n",
    "        img = preprocess(live_file_path)\n",
    "        fig, ax1 = plt.subplots(1, 1)\n",
    "        ax1.imshow(img)\n",
    "        ax1.set_title(\"Live reaction\")\n",
    "        plt.show()\n",
    "    \n",
    "    if cv2.waitKey(10) & 0xFF == ord('q'):\n",
    "        break\n",
    "\n",
    "cap.release()\n",
    "cv2.destroyAllWindows()"
   ]
  }
 ],
 "metadata": {
  "kernelspec": {
   "display_name": ".venv",
   "language": "python",
   "name": "python3"
  },
  "language_info": {
   "codemirror_mode": {
    "name": "ipython",
    "version": 3
   },
   "file_extension": ".py",
   "mimetype": "text/x-python",
   "name": "python",
   "nbconvert_exporter": "python",
   "pygments_lexer": "ipython3",
   "version": "3.7.3"
  }
 },
 "nbformat": 4,
 "nbformat_minor": 2
}
