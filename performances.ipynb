{
 "cells": [
  {
   "cell_type": "code",
   "execution_count": 1,
   "metadata": {},
   "outputs": [],
   "source": [
    "from src import *"
   ]
  },
  {
   "cell_type": "code",
   "execution_count": null,
   "metadata": {},
   "outputs": [],
   "source": [
    "# data_augment_from_folder(BANC_PATH, BPOS_PATH, data_augmentation_factor=1)\n",
    "max_harvest = 530\n",
    "# max_harvest = 10"
   ]
  },
  {
   "cell_type": "markdown",
   "metadata": {},
   "source": [
    "#   Create comparable"
   ]
  },
  {
   "cell_type": "markdown",
   "metadata": {},
   "source": [
    "### From a fresh kernel"
   ]
  },
  {
   "cell_type": "code",
   "execution_count": null,
   "metadata": {},
   "outputs": [],
   "source": [
    "%%capture cap\n",
    "print(f\"\"\"---------------------------------------------------------------------------------------------------\n",
    "file_name       naive_siamese_model_George_descriptor.h5\n",
    "max_harvest     {max_harvest}\n",
    "time trained    unknown\n",
    "---------------------------------------------------------------------------------------------------\"\"\")\n",
    "\n",
    "siamese_model = make_siamese_model(make_embedding())\n",
    "\n",
    "train_step = define_train_step(siamese_model)\n",
    "train = define_training_loop(siamese_model, train_step)\n",
    "print(f\"Successfully created siamese model from pretrained kernel.\")\n",
    "\n",
    "data = harvest_from_folder(anc_path=BANC_PATH, pos_path=BPOS_PATH, neg_path=NEG_PATH, n_harvest = max_harvest)\n",
    "train_data, test_data = build_dataloader_pipeline(data, max_data_size = max_harvest)\n",
    "\n",
    "print(f\"Begining transfert learning.\")\n",
    "train(train_data, n_epoch=10)\n",
    "print(f\"Transfert training complete, saving transfered siamese model.\")\n",
    "save_model(siamese_model, file_name='naive_siamese_model_George')\n",
    "\n",
    "with open('saved_model\\naive_siamese_model_George_descriptor.txt', 'w') as file:\n",
    "    file.write(cap.stdout)"
   ]
  },
  {
   "cell_type": "markdown",
   "metadata": {},
   "source": [
    "### From a pretrained kernel"
   ]
  },
  {
   "cell_type": "code",
   "execution_count": null,
   "metadata": {},
   "outputs": [],
   "source": [
    "%%capture cap\n",
    "print(f\"\"\"---------------------------------------------------------------------------------------------------\n",
    "file_name       pretrained_siamese_model_George.h5\n",
    "max_harvest     {max_harvest}\n",
    "time trained    unknown\n",
    "---------------------------------------------------------------------------------------------------\"\"\")\n",
    "\n",
    "embedding_pretrained = make_embedding_from_pretrained(file_name='embedding_kernel_A')\n",
    "siamese_model = make_siamese_model(embedding_pretrained)\n",
    "\n",
    "train_step = define_train_step(siamese_model)\n",
    "train = define_training_loop(siamese_model, train_step)\n",
    "print(f\"Successfully created siamese model from pretrained kernel.\")\n",
    "\n",
    "data = harvest_from_folder(anc_path=BANC_PATH, pos_path=BPOS_PATH, neg_path=NEG_PATH, n_harvest = max_harvest)\n",
    "train_data, test_data = build_dataloader_pipeline(data, max_data_size = max_harvest)\n",
    "\n",
    "print(f\"Begining transfert learning.\")\n",
    "train(train_data, n_epoch=10)\n",
    "print(f\"Transfert training complete, saving transfered siamese model.\")\n",
    "save_model(siamese_model, file_name='pretrained_siamese_model_George')\n",
    "\n",
    "with open('saved_model\\pretrained_siamese_model_George_descriptor.txt', 'w') as file:\n",
    "    file.write(cap.stdout)"
   ]
  },
  {
   "cell_type": "markdown",
   "metadata": {},
   "source": [
    "# Measure performance"
   ]
  },
  {
   "cell_type": "code",
   "execution_count": null,
   "metadata": {},
   "outputs": [],
   "source": [
    "file_name = 'naive_siamese_model_George'\n",
    "\n",
    "model = make_siamese_model(make_embedding())\n",
    "model.load_weights(os.path.join(SAVED_MODEL_PATH, f\"{file_name}.h5\"))\n",
    "gross_scores_positive, gross_scores_negative = get_histogram_scores(model, max_harvest=200, force_computation=True)"
   ]
  },
  {
   "cell_type": "markdown",
   "metadata": {},
   "source": []
  },
  {
   "cell_type": "code",
   "execution_count": null,
   "metadata": {},
   "outputs": [],
   "source": [
    "file_name = 'pretrained_siamese_model_George'\n",
    "\n",
    "model = make_siamese_model(make_embedding())\n",
    "model.load_weights(os.path.join(SAVED_MODEL_PATH, f\"{file_name}.h5\"))\n",
    "gross_scores_positive, gross_scores_negative = get_histogram_scores(model, max_harvest=200, force_computation=True)"
   ]
  },
  {
   "cell_type": "markdown",
   "metadata": {},
   "source": []
  }
 ],
 "metadata": {
  "kernelspec": {
   "display_name": ".venv",
   "language": "python",
   "name": "python3"
  },
  "language_info": {
   "codemirror_mode": {
    "name": "ipython",
    "version": 3
   },
   "file_extension": ".py",
   "mimetype": "text/x-python",
   "name": "python",
   "nbconvert_exporter": "python",
   "pygments_lexer": "ipython3",
   "version": "3.7.3"
  }
 },
 "nbformat": 4,
 "nbformat_minor": 2
}
