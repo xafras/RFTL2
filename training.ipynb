{
 "cells": [
  {
   "cell_type": "code",
   "execution_count": 1,
   "metadata": {},
   "outputs": [],
   "source": [
    "from src import *"
   ]
  },
  {
   "cell_type": "code",
   "execution_count": 2,
   "metadata": {},
   "outputs": [
    {
     "data": {
      "text/plain": [
       "[('George_W_Bush', 530),\n",
       " ('Colin_Powell', 236),\n",
       " ('Tony_Blair', 144),\n",
       " ('Donald_Rumsfeld', 121),\n",
       " ('Gerhard_Schroeder', 109),\n",
       " ('Ariel_Sharon', 77),\n",
       " ('Hugo_Chavez', 71),\n",
       " ('Junichiro_Koizumi', 60),\n",
       " ('Jean_Chretien', 55),\n",
       " ('John_Ashcroft', 53),\n",
       " ('Jacques_Chirac', 52),\n",
       " ('Serena_Williams', 52),\n",
       " ('Vladimir_Putin', 49),\n",
       " ('Luiz_Inacio_Lula_da_Silva', 48),\n",
       " ('Gloria_Macapagal_Arroyo', 44),\n",
       " ('Arnold_Schwarzenegger', 42),\n",
       " ('Jennifer_Capriati', 42),\n",
       " ('Laura_Bush', 41),\n",
       " ('Lleyton_Hewitt', 41),\n",
       " ('Alejandro_Toledo', 39),\n",
       " ('Hans_Blix', 39),\n",
       " ('Nestor_Kirchner', 37),\n",
       " ('Andre_Agassi', 36),\n",
       " ('Alvaro_Uribe', 35),\n",
       " ('Megawati_Sukarnoputri', 33),\n",
       " ('Silvio_Berlusconi', 33),\n",
       " ('Tom_Ridge', 33),\n",
       " ('Kofi_Annan', 32),\n",
       " ('Roh_Moo-hyun', 32),\n",
       " ('Vicente_Fox', 32),\n",
       " ('David_Beckham', 31),\n",
       " ('John_Negroponte', 31),\n",
       " ('Guillermo_Coria', 30),\n",
       " ('Recep_Tayyip_Erdogan', 30),\n",
       " ('Bill_Clinton', 29),\n",
       " ('Mahmoud_Abbas', 29),\n",
       " ('Jack_Straw', 28),\n",
       " ('Juan_Carlos_Ferrero', 28),\n",
       " ('Ricardo_Lagos', 27),\n",
       " ('Gray_Davis', 26),\n",
       " ('Rudolph_Giuliani', 26),\n",
       " ('Tom_Daschle', 25),\n",
       " ('Atal_Bihari_Vajpayee', 24),\n",
       " ('Jeremy_Greenstock', 24),\n",
       " ('Winona_Ryder', 24),\n",
       " ('Jose_Maria_Aznar', 23),\n",
       " ('Saddam_Hussein', 23),\n",
       " ('Tiger_Woods', 23),\n",
       " ('George_Robertson', 22),\n",
       " ('Hamid_Karzai', 22),\n",
       " ('Lindsay_Davenport', 22),\n",
       " ('Naomi_Watts', 22),\n",
       " ('Pete_Sampras', 22),\n",
       " ('Amelie_Mauresmo', 21),\n",
       " ('Carlos_Menem', 21),\n",
       " ('Jennifer_Aniston', 21),\n",
       " ('Jennifer_Lopez', 21),\n",
       " ('Angelina_Jolie', 20),\n",
       " ('Igor_Ivanov', 20),\n",
       " ('Jiang_Zemin', 20),\n",
       " ('Michael_Bloomberg', 20),\n",
       " ('Paul_Bremer', 20),\n",
       " ('Abdullah_Gul', 19),\n",
       " ('Carlos_Moya', 19),\n",
       " ('John_Howard', 19),\n",
       " ('Joschka_Fischer', 19),\n",
       " ('Julianne_Moore', 19),\n",
       " ('Nicole_Kidman', 19),\n",
       " ('Tim_Henman', 19),\n",
       " ('Fidel_Castro', 18),\n",
       " ('Lance_Armstrong', 18),\n",
       " ('Michael_Schumacher', 18),\n",
       " ('Pervez_Musharraf', 18),\n",
       " ('Richard_Myers', 18),\n",
       " ('Bill_Gates', 17),\n",
       " ('Jean_Charest', 17),\n",
       " ('John_Bolton', 17),\n",
       " ('John_Kerry', 17),\n",
       " ('John_Snow', 17),\n",
       " ('Renee_Zellweger', 17),\n",
       " ('Spencer_Abraham', 17),\n",
       " ('Venus_Williams', 17),\n",
       " ('Halle_Berry', 16),\n",
       " ('Tommy_Franks', 16),\n",
       " ('Trent_Lott', 16),\n",
       " ('Andy_Roddick', 15),\n",
       " ('Bill_Simon', 15),\n",
       " ('Dominique_de_Villepin', 15),\n",
       " ('Hu_Jintao', 15),\n",
       " ('Julie_Gerberding', 15),\n",
       " ('Meryl_Streep', 15),\n",
       " ('Mohammed_Al-Douri', 15),\n",
       " ('Nancy_Pelosi', 15),\n",
       " ('Norah_Jones', 15),\n",
       " ('Pierce_Brosnan', 15),\n",
       " ('Taha_Yassin_Ramadan', 15),\n",
       " ('Britney_Spears', 14),\n",
       " ('David_Nalbandian', 14),\n",
       " ('Dick_Cheney', 14),\n",
       " ('Eduardo_Duhalde', 14),\n",
       " ('Hillary_Clinton', 14),\n",
       " ('James_Blake', 14),\n",
       " ('Kim_Clijsters', 14),\n",
       " ('Mahathir_Mohamad', 14),\n",
       " ('Roger_Federer', 14),\n",
       " ('Yoriko_Kawaguchi', 14),\n",
       " ('Ari_Fleischer', 13),\n",
       " ('Charles_Moose', 13),\n",
       " ('Edmund_Stoiber', 13),\n",
       " ('George_HW_Bush', 13),\n",
       " ('Gordon_Brown', 13),\n",
       " ('Jackie_Chan', 13),\n",
       " ('Joe_Lieberman', 13),\n",
       " ('Lucio_Gutierrez', 13),\n",
       " ('Queen_Elizabeth_II', 13),\n",
       " ('Salma_Hayek', 13),\n",
       " ('Wen_Jiabao', 13),\n",
       " ('Adrien_Brody', 12),\n",
       " ('Anna_Kournikova', 12),\n",
       " ('Gonzalo_Sanchez_de_Lozada', 12),\n",
       " ('Harrison_Ford', 12),\n",
       " ('Howard_Dean', 12),\n",
       " ('Jeb_Bush', 12),\n",
       " ('Jennifer_Garner', 12),\n",
       " ('Keanu_Reeves', 12),\n",
       " ('Michael_Jackson', 12),\n",
       " ('Rubens_Barrichello', 12),\n",
       " ('Ann_Veneman', 11),\n",
       " ('Catherine_Zeta-Jones', 11),\n",
       " ('Condoleezza_Rice', 11),\n",
       " ('James_Kelly', 11),\n",
       " ('Jiri_Novak', 11),\n",
       " ('John_Allen_Muhammad', 11),\n",
       " ('John_Paul_II', 11),\n",
       " ('Kim_Ryong-sung', 11),\n",
       " ('Mark_Philippoussis', 11),\n",
       " ('Mike_Weir', 11),\n",
       " ('Nicanor_Duarte_Frutos', 11),\n",
       " ('Paul_Burrell', 11),\n",
       " ('Richard_Gephardt', 11),\n",
       " ('Sergey_Lavrov', 11),\n",
       " ('Sergio_Vieira_De_Mello', 11),\n",
       " ('Tang_Jiaxuan', 11),\n",
       " ('Bill_McBride', 10),\n",
       " ('Ian_Thorpe', 10),\n",
       " ('Jacques_Rogge', 10),\n",
       " ('Jason_Kidd', 10),\n",
       " ('Javier_Solana', 10),\n",
       " ('Jean-David_Levitte', 10),\n",
       " ('Mohammad_Khatami', 10),\n",
       " ('Muhammad_Ali', 10),\n",
       " ('Paradorn_Srichaphan', 10),\n",
       " ('Paul_Wolfowitz', 10),\n",
       " ('Richard_Gere', 10),\n",
       " ('Tom_Cruise', 10),\n",
       " ('Tom_Hanks', 10),\n",
       " ('Tommy_Thompson', 10),\n",
       " ('Walter_Mondale', 10),\n",
       " ('Bill_Frist', 9),\n",
       " ('Bill_Graham', 9),\n",
       " ('Charles_Taylor', 9),\n",
       " ('Colin_Farrell', 9),\n",
       " ('Fernando_Gonzalez', 9),\n",
       " ('George_Clooney', 9),\n",
       " ('Heizo_Takenaka', 9),\n",
       " ('Hosni_Mubarak', 9),\n",
       " ('Hugh_Grant', 9),\n",
       " ('Jeong_Se-hyun', 9),\n",
       " ('Jesse_Jackson', 9),\n",
       " ('Jimmy_Carter', 9),\n",
       " ('Joan_Laporta', 9),\n",
       " ('John_Abizaid', 9),\n",
       " ('Jose_Serra', 9),\n",
       " ('Kate_Hudson', 9),\n",
       " ('Leonardo_DiCaprio', 9),\n",
       " ('Li_Peng', 9),\n",
       " ('Paul_ONeill', 9),\n",
       " ('Ray_Romano', 9),\n",
       " ('Richard_Armitage', 9),\n",
       " ('Sylvester_Stallone', 9),\n",
       " ('Thomas_OBrien', 9),\n",
       " ('Tung_Chee-hwa', 9),\n",
       " ('Vaclav_Havel', 9),\n",
       " ('Zhu_Rongji', 9),\n",
       " ('Al_Gore', 8),\n",
       " ('Ali_Naimi', 8),\n",
       " ('Ana_Palacio', 8),\n",
       " ('Antonio_Palocci', 8),\n",
       " ('Bob_Hope', 8),\n",
       " ('Celine_Dion', 8),\n",
       " ('Cesar_Gaviria', 8),\n",
       " ('Fernando_Henrique_Cardoso', 8),\n",
       " ('Gerry_Adams', 8),\n",
       " ('Jelena_Dokic', 8),\n",
       " ('John_Edwards', 8),\n",
       " ('Jonathan_Edwards', 8),\n",
       " ('Juan_Pablo_Montoya', 8),\n",
       " ('Justin_Timberlake', 8),\n",
       " ('Kevin_Costner', 8),\n",
       " ('Kim_Dae-jung', 8),\n",
       " ('Li_Zhaoxing', 8),\n",
       " ('Maria_Shriver', 8),\n",
       " ('Michael_Chang', 8),\n",
       " ('Michelle_Kwan', 8),\n",
       " ('Mohamed_ElBaradei', 8),\n",
       " ('Naji_Sabri', 8),\n",
       " ('Paul_Martin', 8),\n",
       " ('Ralf_Schumacher', 8),\n",
       " ('Richard_Virenque', 8),\n",
       " ('Robert_Blake', 8),\n",
       " ('Robert_Duvall', 8),\n",
       " ('Robert_Redford', 8),\n",
       " ('Ron_Dittemore', 8),\n",
       " ('Sheryl_Crow', 8),\n",
       " ('Shimon_Peres', 8),\n",
       " ('Yao_Ming', 8),\n",
       " ('Yasser_Arafat', 8),\n",
       " ('Al_Sharpton', 7),\n",
       " ('Amelia_Vega', 7),\n",
       " ('Ana_Guevara', 7),\n",
       " ('Ben_Affleck', 7),\n",
       " ('Binyamin_Ben-Eliezer', 7),\n",
       " ('Bob_Stoops', 7),\n",
       " ('David_Wells', 7),\n",
       " ('Dennis_Kucinich', 7),\n",
       " ('Elton_John', 7),\n",
       " ('Geoff_Hoon', 7),\n",
       " ('Goldie_Hawn', 7),\n",
       " ('Gunter_Pleuger', 7),\n",
       " ('Holly_Hunter', 7),\n",
       " ('Jean-Pierre_Raffarin', 7),\n",
       " ('John_Manley', 7),\n",
       " ('John_McCain', 7),\n",
       " ('John_Travolta', 7),\n",
       " ('Jon_Gruden', 7),\n",
       " ('Justine_Pasek', 7),\n",
       " ('Larry_Brown', 7),\n",
       " ('Liza_Minnelli', 7),\n",
       " ('Mariah_Carey', 7),\n",
       " ('Martin_Scorsese', 7),\n",
       " ('Matthew_Perry', 7),\n",
       " ('Mike_Martz', 7),\n",
       " ('Mike_Myers', 7),\n",
       " ('Norm_Coleman', 7),\n",
       " ('Oscar_De_La_Hoya', 7),\n",
       " ('Paul_McCartney', 7),\n",
       " ('Pedro_Almodovar', 7),\n",
       " ('Robert_Zoellick', 7),\n",
       " ('Romano_Prodi', 7),\n",
       " ('Sophia_Loren', 7),\n",
       " ('Steven_Spielberg', 7),\n",
       " ('Vincent_Brooks', 7),\n",
       " ('Vojislav_Kostunica', 7),\n",
       " ('William_Donaldson', 7),\n",
       " ('William_Ford_Jr', 7),\n",
       " ('Yashwant_Sinha', 7),\n",
       " ('Albert_Costa', 6),\n",
       " ('Angela_Bassett', 6),\n",
       " ('Arminio_Fraga', 6),\n",
       " ('Billy_Crystal', 6),\n",
       " ('Bob_Graham', 6),\n",
       " ('Boris_Becker', 6),\n",
       " ('Bulent_Ecevit', 6),\n",
       " ('Calista_Flockhart', 6),\n",
       " ('Cameron_Diaz', 6),\n",
       " ('Carmen_Electra', 6),\n",
       " ('Charlton_Heston', 6),\n",
       " ('Christine_Todd_Whitman', 6),\n",
       " ('Clay_Aiken', 6),\n",
       " ('Clint_Eastwood', 6),\n",
       " ('Costas_Simitis', 6),\n",
       " ('Dennis_Hastert', 6),\n",
       " ('Diana_Krall', 6),\n",
       " ('Edward_Lu', 6),\n",
       " ('Elsa_Zylberstein', 6),\n",
       " ('Fujio_Cho', 6),\n",
       " ('Gwyneth_Paltrow', 6),\n",
       " ('JK_Rowling', 6),\n",
       " ('Jan_Ullrich', 6),\n",
       " ('Jay_Garner', 6),\n",
       " ('Jim_Furyk', 6),\n",
       " ('Jose_Manuel_Durao_Barroso', 6),\n",
       " ('Kamal_Kharrazi', 6),\n",
       " ('Leonid_Kuchma', 6),\n",
       " ('Luis_Ernesto_Derbez_Bautista', 6),\n",
       " ('Luis_Horna', 6),\n",
       " ('Marco_Antonio_Barrera', 6),\n",
       " ('Michael_Douglas', 6),\n",
       " ('Mike_Krzyzewski', 6),\n",
       " ('Monica_Seles', 6),\n",
       " ('Natalie_Coughlin', 6),\n",
       " ('Paula_Radcliffe', 6),\n",
       " ('Ricardo_Sanchez', 6),\n",
       " ('Rick_Perry', 6),\n",
       " ('Rob_Marshall', 6),\n",
       " ('Robert_De_Niro', 6),\n",
       " ('Roman_Polanski', 6),\n",
       " ('Roy_Moore', 6),\n",
       " ('Sarah_Hughes', 6),\n",
       " ('Sarah_Jessica_Parker', 6),\n",
       " ('Silvan_Shalom', 6),\n",
       " ('Steve_Lavin', 6),\n",
       " ('Susan_Sarandon', 6),\n",
       " ('Tariq_Aziz', 6),\n",
       " ('Thaksin_Shinawatra', 6),\n",
       " ('Tommy_Haas', 6),\n",
       " ('Tony_Stewart', 6),\n",
       " ('Valentino_Rossi', 6),\n",
       " ('Valery_Giscard_dEstaing', 6),\n",
       " ('Yoko_Ono', 6),\n",
       " ('Zinedine_Zidane', 6),\n",
       " ('Ahmed_Chalabi', 5),\n",
       " ('Ai_Sugiyama', 5),\n",
       " ('Alan_Greenspan', 5),\n",
       " ('Alastair_Campbell', 5),\n",
       " ('Allyson_Felix', 5),\n",
       " ('Angela_Merkel', 5),\n",
       " ('Antonio_Banderas', 5),\n",
       " ('Arnoldo_Aleman', 5),\n",
       " ('Ashanti', 5),\n",
       " ('Benazir_Bhutto', 5),\n",
       " ('Benjamin_Netanyahu', 5),\n",
       " ('Bernard_Law', 5),\n",
       " ('Bertie_Ahern', 5),\n",
       " ('Brad_Johnson', 5),\n",
       " ('Carla_Del_Ponte', 5),\n",
       " ('Carrie-Anne_Moss', 5),\n",
       " ('Catherine_Deneuve', 5),\n",
       " ('Chanda_Rubin', 5),\n",
       " ('Chen_Shui-bian', 5),\n",
       " ('Choi_Sung-hong', 5),\n",
       " ('Christine_Baumgartner', 5),\n",
       " ('Ciro_Gomes', 5),\n",
       " ('Clara_Harris', 5),\n",
       " ('Claudia_Pechstein', 5),\n",
       " ('Colin_Montgomerie', 5),\n",
       " ('Cruz_Bustamante', 5),\n",
       " ('David_Anderson', 5),\n",
       " ('David_Heymann', 5),\n",
       " ('David_Trimble', 5),\n",
       " ('Denzel_Washington', 5),\n",
       " ('Eduard_Shevardnadze', 5),\n",
       " ('Elizabeth_Hurley', 5),\n",
       " ('Elizabeth_Smart', 5),\n",
       " ('Emanuel_Ginobili', 5),\n",
       " ('Emma_Watson', 5),\n",
       " ('Enrique_Bolanos', 5),\n",
       " ('Erika_Harold', 5),\n",
       " ('Frank_Solich', 5),\n",
       " ('Gene_Robinson', 5),\n",
       " ('George_Lopez', 5),\n",
       " ('George_Pataki', 5),\n",
       " ('Gil_de_Ferran', 5),\n",
       " ('Grant_Hackett', 5),\n",
       " ('Gregg_Popovich', 5),\n",
       " ('Habib_Rizieq', 5),\n",
       " ('Hal_Gehman', 5),\n",
       " ('Heidi_Klum', 5),\n",
       " ('Hitomi_Soga', 5),\n",
       " ('Jake_Gyllenhaal', 5),\n",
       " ('James_Wolfensohn', 5),\n",
       " ('John_Stockton', 5),\n",
       " ('Joseph_Biden', 5),\n",
       " ('Kalpana_Chawla', 5),\n",
       " ('Kevin_Spacey', 5),\n",
       " ('King_Abdullah_II', 5),\n",
       " ('Kristanna_Loken', 5),\n",
       " ('Kurt_Warner', 5),\n",
       " ('Lance_Bass', 5),\n",
       " ('LeBron_James', 5),\n",
       " ('Lucy_Liu', 5),\n",
       " ('Ludivine_Sagnier', 5),\n",
       " ('Luis_Gonzalez_Macchi', 5),\n",
       " ('Madonna', 5),\n",
       " ('Marcelo_Rios', 5),\n",
       " ('Maria_Soledad_Alvear_Valenzuela', 5),\n",
       " ('Mark_Hurlbert', 5),\n",
       " ('Martha_Stewart', 5),\n",
       " ('Martin_McGuinness', 5),\n",
       " ('Martina_McBride', 5),\n",
       " ('Michael_Chiklis', 5),\n",
       " ('Michael_Phelps', 5),\n",
       " ('Michael_Powell', 5),\n",
       " ('Michelle_Yeoh', 5),\n",
       " ('Mick_Jagger', 5),\n",
       " ('Mireya_Moscoso', 5),\n",
       " ('Muhammad_Saeed_al-Sahhaf', 5),\n",
       " ('Nadia_Petrova', 5),\n",
       " ('Natalie_Maines', 5),\n",
       " ('Nia_Vardalos', 5),\n",
       " ('Nick_Nolte', 5),\n",
       " ('Oswaldo_Paya', 5),\n",
       " ('Pamela_Anderson', 5),\n",
       " ('Pedro_Malan', 5),\n",
       " ('Peter_Struck', 5),\n",
       " ('Prince_Charles', 5),\n",
       " ('Princess_Caroline', 5),\n",
       " ('Queen_Rania', 5),\n",
       " ('Rainer_Schuettler', 5),\n",
       " ('Robert_Kocharian', 5),\n",
       " ('Robert_Mueller', 5),\n",
       " ('Roger_Moore', 5),\n",
       " ('Russell_Simmons', 5),\n",
       " ('Scott_McClellan', 5),\n",
       " ('Scott_Peterson', 5),\n",
       " ('Sean_OKeefe', 5),\n",
       " ('Sergei_Ivanov', 5),\n",
       " ('Sharon_Stone', 5),\n",
       " ('Sourav_Ganguly', 5),\n",
       " ('Steffi_Graf', 5),\n",
       " ('Steve_Nash', 5),\n",
       " ('Thabo_Mbeki', 5),\n",
       " ('Tim_Robbins', 5),\n",
       " ('Tom_Crean', 5),\n",
       " ('Tom_Harkin', 5),\n",
       " ('Vanessa_Redgrave', 5),\n",
       " ('Vicente_Fernandez', 5),\n",
       " ('Victoria_Clarke', 5),\n",
       " ('Wayne_Ferreira', 5),\n",
       " ('William_Macy', 5),\n",
       " ('Woody_Allen', 5),\n",
       " ('Xanana_Gusmao', 5),\n",
       " ('Xavier_Malisse', 5),\n",
       " ('Aaron_Peirsol', 4),\n",
       " ('Abdoulaye_Wade', 4),\n",
       " ('Abdullah', 4),\n",
       " ('Abel_Pacheco', 4),\n",
       " ('Adam_Sandler', 4),\n",
       " ('Alec_Baldwin', 4),\n",
       " ('Aleksander_Kwasniewski', 4),\n",
       " ('Alexander_Downer', 4),\n",
       " ('Alexander_Losyukov', 4),\n",
       " ('Alvaro_Silva_Calderon', 4),\n",
       " ('Amanda_Bynes', 4),\n",
       " ('Amer_al-Saadi', 4),\n",
       " ('Anders_Fogh_Rasmussen', 4),\n",
       " ('Angelo_Reyes', 4),\n",
       " ('Antony_Leung', 4),\n",
       " ('Arianna_Huffington', 4),\n",
       " ('Art_Howe', 4),\n",
       " ('Augustin_Calleri', 4),\n",
       " ('Azra_Akin', 4),\n",
       " ('Barbara_Walters', 4),\n",
       " ('Bashar_Assad', 4),\n",
       " ('Ben_Howland', 4),\n",
       " ('Bernard_Landry', 4),\n",
       " ('Bill_Paxton', 4),\n",
       " ('Bob_Huggins', 4),\n",
       " ('Brad_Garrett', 4),\n",
       " ('Bruce_Springsteen', 4),\n",
       " ('Bud_Selig', 4),\n",
       " ('Candie_Kung', 4),\n",
       " ('Carlos_Vives', 4),\n",
       " ('Carson_Palmer', 4),\n",
       " ('Cate_Blanchett', 4),\n",
       " ('Cherie_Blair', 4),\n",
       " ('Christina_Aguilera', 4),\n",
       " ('Christine_Gregoire', 4),\n",
       " ('Christopher_Reeve', 4),\n",
       " ('Christopher_Walken', 4),\n",
       " ('Clare_Short', 4),\n",
       " ('Conan_OBrien', 4),\n",
       " ('Daisy_Fuentes', 4),\n",
       " ('Dale_Earnhardt_Jr', 4),\n",
       " ('Daniel_Radcliffe', 4),\n",
       " ('David_Hyde_Pierce', 4),\n",
       " ('David_Stern', 4),\n",
       " ('Dean_Barkley', 4),\n",
       " ('Debbie_Reynolds', 4),\n",
       " ('Demi_Moore', 4),\n",
       " ('Derek_Jeter', 4),\n",
       " ('Don_Siegelman', 4),\n",
       " ('Donald_Fehr', 4),\n",
       " ('Doris_Schroeder', 4),\n",
       " ('Edwina_Currie', 4),\n",
       " ('Eliane_Karp', 4),\n",
       " ('Elizabeth_Dole', 4),\n",
       " ('Erin_Runnion', 4),\n",
       " ('Ernie_Els', 4),\n",
       " ('Ethan_Hawke', 4),\n",
       " ('Fayssal_Mekdad', 4),\n",
       " ('Felipe_Perez_Roque', 4),\n",
       " ('Fernando_Vargas', 4),\n",
       " ('Francisco_Flores', 4),\n",
       " ('Franz_Fischler', 4),\n",
       " ('Franz_Muentefering', 4),\n",
       " ('GL_Peiris', 4),\n",
       " ('George_Galloway', 4),\n",
       " ('George_Papandreou', 4),\n",
       " ('George_Ryan', 4),\n",
       " ('Geraldine_Chaplin', 4),\n",
       " ('Gilberto_Rodriguez_Orejuela', 4),\n",
       " ('Giuseppe_Gibilisco', 4),\n",
       " ('Glafcos_Clerides', 4),\n",
       " ('Gloria_Trevi', 4),\n",
       " ('Greg_Rusedski', 4),\n",
       " ('Guillermo_Canas', 4),\n",
       " ('Harry_Schmidt', 4),\n",
       " ('Heath_Ledger', 4),\n",
       " ('Heather_Mills', 4),\n",
       " ('Heidi_Fleiss', 4),\n",
       " ('Helen_Clark', 4),\n",
       " ('Herb_Sendek', 4),\n",
       " ('Hipolito_Mejia', 4),\n",
       " ('Hun_Sen', 4),\n",
       " ('Iain_Duncan_Smith', 4),\n",
       " ('James_Kopp', 4),\n",
       " ('James_McGreevey', 4),\n",
       " ('Janet_Napolitano', 4),\n",
       " ('Jennifer_Connelly', 4),\n",
       " ('Jennifer_Keller', 4),\n",
       " ('Jerry_Regier', 4),\n",
       " ('Jerry_Springer', 4),\n",
       " ('Jim_Hahn', 4),\n",
       " ('Jim_Tressel', 4),\n",
       " ('Joe_Nichols', 4),\n",
       " ('Joe_Torre', 4),\n",
       " ('John_Warner', 4),\n",
       " ('Jong_Wook_Lee', 4),\n",
       " ('Joseph_Estrada', 4),\n",
       " ('Justin_Leonard', 4),\n",
       " ('Kate_Winslet', 4),\n",
       " ('Katherine_Harris', 4),\n",
       " ('Kathleen_Kennedy_Townsend', 4),\n",
       " ('Kim_Jong-Il', 4),\n",
       " ('Larry_Coker', 4),\n",
       " ('Larry_Thompson', 4),\n",
       " ('Laura_Linney', 4),\n",
       " ('Lee_Hoi-chang', 4),\n",
       " ('Lisa_Marie_Presley', 4),\n",
       " ('Luis_Figo', 4),\n",
       " ('Marc_Grossman', 4),\n",
       " ('Mark_Wahlberg', 4),\n",
       " ('Martha_Burk', 4),\n",
       " ('Martha_Lucia_Ramirez', 4),\n",
       " ('Mary_Carey', 4),\n",
       " ('Matt_Damon', 4),\n",
       " ('Matthew_Broderick', 4),\n",
       " ('Mian_Khursheed_Mehmood_Kasuri', 4),\n",
       " ('Michael_Caine', 4),\n",
       " ('Michael_Jordan', 4),\n",
       " ('Mike_Tyson', 4),\n",
       " ('Mikhail_Kasyanov', 4),\n",
       " ('Mikhail_Wehbe', 4),\n",
       " ('Mitchell_Daniels', 4),\n",
       " ('Monica_Bellucci', 4),\n",
       " ('Moshe_Katsav', 4),\n",
       " ('Nan_Wang', 4),\n",
       " ('Naoto_Kan', 4),\n",
       " ('Nathalie_Baye', 4),\n",
       " ('Nelson_Mandela', 4),\n",
       " ('Nicolas_Cage', 4),\n",
       " ('Noelle_Bush', 4),\n",
       " ('Omar_Sharif', 4),\n",
       " ('Oprah_Winfrey', 4),\n",
       " ('Osama_bin_Laden', 4),\n",
       " ('Oxana_Fedorova', 4),\n",
       " ('Padraig_Harrington', 4),\n",
       " ('Patricia_Clarkson', 4),\n",
       " ('Patty_Schnyder', 4),\n",
       " ('Paul_Tagliabue', 4),\n",
       " ('Pedro_Solbes', 4),\n",
       " ('Prince_Claus', 4),\n",
       " ('Pupi_Avati', 4),\n",
       " ('Queen_Beatrix', 4),\n",
       " ('Queen_Latifah', 4),\n",
       " ('Rachel_Hunter', 4),\n",
       " ('Rafael_Ramirez', 4),\n",
       " ('Raoul_Ruiz', 4),\n",
       " ('Rebecca_Romijn-Stamos', 4),\n",
       " ('Rebekah_Chantay_Revels', 4),\n",
       " ('Reese_Witherspoon', 4),\n",
       " ('Rick_Carlisle', 4),\n",
       " ('Rick_Pitino', 4),\n",
       " ('Rita_Wilson', 4),\n",
       " ('Rob_Lowe', 4),\n",
       " ('Roberto_Carlos', 4),\n",
       " ('Ronaldo_Luis_Nazario_de_Lima', 4),\n",
       " ('Roy_Williams', 4),\n",
       " ('Sachiko_Yamada', 4),\n",
       " ('Sally_Field', 4),\n",
       " ('Sally_Kirkland', 4),\n",
       " ('Samuel_Waksal', 4),\n",
       " ('Sandra_Bullock', 4),\n",
       " ('Sebastien_Grosjean', 4),\n",
       " ('Sepp_Blatter', 4),\n",
       " ('Sheila_Copps', 4),\n",
       " ('Sila_Calderon', 4),\n",
       " ('Slobodan_Milosevic', 4),\n",
       " ('Sonia_Gandhi', 4),\n",
       " ('Susilo_Bambang_Yudhoyono', 4),\n",
       " ('Thomas_Fargo', 4),\n",
       " ('Tim_Allen', 4),\n",
       " ('Tim_Duncan', 4),\n",
       " ('Todd_Haynes', 4),\n",
       " ('Tom_Craddick', 4),\n",
       " ('Tony_Bennett', 4),\n",
       " ('Tony_Shalhoub', 4),\n",
       " ('Vanessa_Incontrada', 4),\n",
       " ('Vince_Carter', 4),\n",
       " ('Vitali_Klitschko', 4),\n",
       " ('Wayne_Gretzky', 4),\n",
       " ('William_Bulger', 4),\n",
       " ('Win_Aung', 4),\n",
       " ('Wolfgang_Schuessel', 4),\n",
       " ('Yasar_Yakis', 4),\n",
       " ('Yevgeny_Kafelnikov', 4),\n",
       " ('Yu_Shyi-kun', 4),\n",
       " ('Zhang_Ziyi', 4),\n",
       " ('Zoran_Djindjic', 4),\n",
       " ('Abdullah_al-Attiyah', 3),\n",
       " ('Abid_Hamid_Mahmud_Al-Tikriti', 3),\n",
       " ('Adel_Al-Jubeir', 3),\n",
       " ('Adolfo_Aguilar_Zinser', 3),\n",
       " ('Aicha_El_Ouafi', 3),\n",
       " ('Akbar_Hashemi_Rafsanjani', 3),\n",
       " ('Akhmed_Zakayev', 3),\n",
       " ('Al_Pacino', 3),\n",
       " ('Alejandro_Avila', 3),\n",
       " ('Alex_Sink', 3),\n",
       " ('Alexandra_Stevenson', 3),\n",
       " ('Ali_Khamenei', 3),\n",
       " ('Alvaro_Noboa', 3),\n",
       " ('Anastasia_Myskina', 3),\n",
       " ('Anders_Ebbeson', 3),\n",
       " ('Andrew_Weissmann', 3),\n",
       " ('Anibal_Ibarra', 3),\n",
       " ('Anne_Krueger', 3),\n",
       " ('Anne_McLellan', 3),\n",
       " ('Annette_Lu', 3),\n",
       " ('Antonio_Trillanes', 3),\n",
       " ('Arlen_Specter', 3),\n",
       " ('Arnold_Palmer', 3),\n",
       " ('Arturo_Gatti', 3),\n",
       " ('Ashton_Kutcher', 3),\n",
       " ('Barbra_Streisand', 3),\n",
       " ('Ben_Curtis', 3),\n",
       " ('Bijan_Darvish', 3),\n",
       " ('Biljana_Plavsic', 3),\n",
       " ('Bill_Callahan', 3),\n",
       " ('Bob_Dole', 3),\n",
       " ('Bono', 3),\n",
       " ('Branko_Crvenkovski', 3),\n",
       " ('Bridget_Fonda', 3),\n",
       " ('Bridgette_Wilson-Sampras', 3),\n",
       " ('Candice_Bergen', 3),\n",
       " ('Carlo_Ancelotti', 3),\n",
       " ('Carlos_Manuel_Pruneda', 3),\n",
       " ('Carlos_Ortega', 3),\n",
       " ('Carlos_Ruiz', 3),\n",
       " ('Carly_Fiorina', 3),\n",
       " ('Carolina_Kluft', 3),\n",
       " ('Caroline_Kennedy', 3),\n",
       " ('Carolyn_Dawn_Johnson', 3),\n",
       " ('Cecilia_Bolocco', 3),\n",
       " ('Chan_Gailey', 3),\n",
       " ('Charles_Bronson', 3),\n",
       " ('Chick_Hearn', 3),\n",
       " ('Christian_Longo', 3),\n",
       " ('Cindy_Crawford', 3),\n",
       " ('Claire_Danes', 3),\n",
       " ('Claudia_Schiffer', 3),\n",
       " ('Conchita_Martinez', 3),\n",
       " ('Constance_Marie', 3),\n",
       " ('Coretta_Scott_King', 3),\n",
       " ('Dan_Morales', 3),\n",
       " ('Daniel_Day-Lewis', 3),\n",
       " ('Dave_Campo', 3),\n",
       " ('David_Caruso', 3),\n",
       " ('Debra_Messing', 3),\n",
       " ('Diana_Munz', 3),\n",
       " ('Dianne_Feinstein', 3),\n",
       " ('Dick_Clark', 3),\n",
       " ('Donald_Pettit', 3),\n",
       " ('Donatella_Versace', 3),\n",
       " ('Doris_Roberts', 3),\n",
       " ('Doug_Melvin', 3),\n",
       " ('Ed_Rosenthal', 3),\n",
       " ('Ed_Smart', 3),\n",
       " ('Edmund_Hillary', 3),\n",
       " ('Edward_Kennedy', 3),\n",
       " ('Edwin_Edwards', 3),\n",
       " ('Eileen_Coparropa', 3),\n",
       " ('Elena_Bovina', 3),\n",
       " ('Elijah_Wood', 3),\n",
       " ('Emma_Thompson', 3),\n",
       " ('Emmanuelle_Beart', 3),\n",
       " ('Eric_Robert_Rudolph', 3),\n",
       " ('Erik_Morales', 3),\n",
       " ('Evan_Rachel_Wood', 3),\n",
       " ('Fabrice_Santoro', 3),\n",
       " ('Farouk_al-Sharaa', 3),\n",
       " ('Faye_Dunaway', 3),\n",
       " ('Federico_Trillo', 3),\n",
       " ('Filippo_Inzaghi', 3),\n",
       " ('Frank_Cassell', 3),\n",
       " ('Fred_Eckhard', 3),\n",
       " ('Fred_Thompson', 3),\n",
       " ('Gary_Carter', 3),\n",
       " ('Gary_Doer', 3),\n",
       " ('George_Voinovich', 3),\n",
       " ('Gian_Marco', 3),\n",
       " ('Gianna_Angelopoulos-Daskalaki', 3),\n",
       " ('Gus_Van_Sant', 3),\n",
       " ('Gustavo_Kuerten', 3),\n",
       " ('Gwendal_Peizerat', 3),\n",
       " ('Hans_Eichel', 3),\n",
       " ('Hector_Babenco', 3),\n",
       " ('Hee-Won_Han', 3),\n",
       " ('Heinz_Feldmann', 3),\n",
       " ('Hilary_Duff', 3),\n",
       " ('Horst_Koehler', 3),\n",
       " ('Ian_McKellen', 3),\n",
       " ('Ilan_Ramon', 3),\n",
       " ('Intisar_Ajouri', 3),\n",
       " ('Isabella_Rossellini', 3),\n",
       " ('Jack_Nicholson', 3),\n",
       " ('James_Caan', 3),\n",
       " ('James_Cameron', 3),\n",
       " ('James_Cunningham', 3),\n",
       " ('James_Gandolfini', 3),\n",
       " ('James_Traficant', 3),\n",
       " ('Jan-Michael_Gambill', 3),\n",
       " ('Javier_Weber', 3),\n",
       " ('Jay_Leno', 3),\n",
       " ('Jayson_Williams', 3),\n",
       " ('Jean-Francois_Pontal', 3),\n",
       " ('Jeff_Van_Gundy', 3),\n",
       " ('Jesse_Harris', 3),\n",
       " ('Jesse_Ventura', 3),\n",
       " ('Jim_Carrey', 3),\n",
       " ('Jim_OBrien', 3),\n",
       " ('Jodie_Foster', 3),\n",
       " ('John_Malkovich', 3),\n",
       " ('John_Mayer', 3),\n",
       " ('John_Reid', 3),\n",
       " ('John_Rosa', 3),\n",
       " ('John_Swofford', 3),\n",
       " ('Johnny_Tapia', 3),\n",
       " ('Jon_Corzine', 3),\n",
       " ('Jon_Voight', 3),\n",
       " ('Jorge_Batlle', 3),\n",
       " ('Jose_Canseco', 3),\n",
       " ('Jose_Sarney', 3),\n",
       " ('Joseph_Deiss', 3),\n",
       " ('Juan_Ignacio_Chela', 3),\n",
       " ('Juan_Manuel_Marquez', 3),\n",
       " ('Juanes', 3),\n",
       " ('Julia_Tymoshenko', 3),\n",
       " ('Justin_Guarini', 3),\n",
       " ('Justine_Henin', 3),\n",
       " ('Katie_Harman', 3),\n",
       " ('Keith_Bogans', 3),\n",
       " ('Kelly_Clarkson', 3),\n",
       " ('Kelvin_Sampson', 3),\n",
       " ('Kemal_Dervis', 3),\n",
       " ('Ken_Macha', 3),\n",
       " ('Kenneth_Bowersox', 3),\n",
       " ('Kim_Yong-il', 3),\n",
       " ('Kimi_Raikkonen', 3),\n",
       " ('Kirk_Johnson', 3),\n",
       " ('Kjell_Magne_Bondevik', 3),\n",
       " ('Kobe_Bryant', 3),\n",
       " ('Kristen_Breitweiser', 3),\n",
       " ('Kristin_Davis', 3),\n",
       " ('Kwon_Yang-sook', 3),\n",
       " ('LK_Advani', 3),\n",
       " ('Laila_Ali', 3),\n",
       " ('Larry_Ellison', 3),\n",
       " ('Lars_Von_Trier', 3),\n",
       " ('Lee_Soo-hyuck', 3),\n",
       " ('Lennox_Lewis', 3),\n",
       " ('Lenny_Wilkens', 3),\n",
       " ('Lesley_McCulloch', 3),\n",
       " ('Leslie_Caldwell', 3),\n",
       " ('Leszek_Miller', 3),\n",
       " ('Liam_Neeson', 3),\n",
       " ('Lino_Oviedo', 3),\n",
       " ('Lou_Piniella', 3),\n",
       " ('Luciano_Pavarotti', 3),\n",
       " ('Lynn_Redgrave', 3),\n",
       " ('Lynne_Cheney', 3),\n",
       " ('Madeleine_Albright', 3),\n",
       " ('Magdalena_Maleeva', 3),\n",
       " ('Makhdoom_Amin_Fahim', 3),\n",
       " ('Marat_Safin', 3),\n",
       " ('Marcelo_Ebrard', 3),\n",
       " ('Marcelo_Salas', 3),\n",
       " ('Mariana_Pollack', 3),\n",
       " ('Mariangel_Ruiz_Torrealba', 3),\n",
       " ('Marieta_Chrousala', 3),\n",
       " ('Mark_Gottfried', 3),\n",
       " ('Mark_Richt', 3),\n",
       " ('Martin_Verkerk', 3),\n",
       " ('Martina_Hingis', 3),\n",
       " ('Marty_Mornhinweg', 3),\n",
       " ('Mary-Kate_Olsen', 3),\n",
       " ('Mary_Landrieu', 3),\n",
       " ('Mary_Steenburgen', 3),\n",
       " ('Masum_Turker', 3),\n",
       " ('Mathias_Reichhold', 3),\n",
       " ('Matt_Dillon', 3),\n",
       " ('Matt_Doherty', 3),\n",
       " ('Megan_Mullally', 3),\n",
       " ('Melanie_Griffith', 3),\n",
       " ('Michael_Ballack', 3),\n",
       " ('Michael_Moore', 3),\n",
       " ('Michael_Winterbottom', 3),\n",
       " ('Michelle_Pfeiffer', 3),\n",
       " ('Mikhail_Youzhny', 3),\n",
       " ('Milo_Djukanovic', 3),\n",
       " ('Milo_Maestrecampo', 3),\n",
       " ('Mohammed_Baqir_al-Hakim', 3),\n",
       " ('Monica_Lewinsky', 3),\n",
       " ('Monique_Garbrecht-Enfeldt', 3),\n",
       " ('Mukesh_Ambani', 3),\n",
       " ('Nabil_Shaath', 3),\n",
       " ('Natalie_Cole', 3),\n",
       " ('Natasha_McElhone', 3),\n",
       " ('Noah_Wyle', 3),\n",
       " ('Norodom_Sihanouk', 3),\n",
       " ('Orlando_Bloom', 3),\n",
       " ('Ozzy_Osbourne', 3),\n",
       " ('Pascal_Quignard', 3),\n",
       " ('Patti_Labelle', 3),\n",
       " ('Paul-Henri_Mathieu', 3),\n",
       " ('Paul_Gascoigne', 3),\n",
       " ('Paul_Sarbanes', 3),\n",
       " ('Paul_Shanley', 3),\n",
       " ('Paul_Wellstone', 3),\n",
       " ('Penelope_Cruz', 3),\n",
       " ('Pete_Carroll', 3),\n",
       " ('Peter_Arnett', 3),\n",
       " ('Petria_Thomas', 3),\n",
       " ('Phan_Van_Khai', 3),\n",
       " ('Pierre_Pettigrew', 3),\n",
       " ('Placido_Domingo', 3),\n",
       " ('Prince_Harry', 3),\n",
       " ('Prince_Naruhito', 3),\n",
       " ('Prince_Willem-Alexander', 3),\n",
       " ('Rachel_Griffiths', 3),\n",
       " ('Ranil_Wickremasinghe', 3),\n",
       " ('Ray_Allen', 3),\n",
       " ('Richard_Krajicek', 3),\n",
       " ('Rick_Barnes', 3),\n",
       " ('Rick_Dinse', 3),\n",
       " ('Rick_Romley', 3),\n",
       " ('Rick_Santorum', 3),\n",
       " ('Rick_Stansbury', 3),\n",
       " ('Rita_Grande', 3),\n",
       " ('Robbie_Williams', 3),\n",
       " ('Robert_Bonner', 3),\n",
       " ('Robert_Evans', 3),\n",
       " ('Robert_Torricelli', 3),\n",
       " ('Roberto_Marinho', 3),\n",
       " ('Rod_Stewart', 3),\n",
       " ('Ronald_Reagan', 3),\n",
       " ('Roseanne_Barr', 3),\n",
       " ('Rupert_Grint', 3),\n",
       " ('Sadie_Frost', 3),\n",
       " ('Salman_Rushdie', 3),\n",
       " ('Sam_Bith', 3),\n",
       " ('Sam_Torrance', 3),\n",
       " ('Sarah_Michelle_Gellar', 3),\n",
       " ('Sean_Astin', 3),\n",
       " ('Sean_Patrick_OMalley', 3),\n",
       " ('Sean_Penn', 3),\n",
       " ('Sebastian_Saja', 3),\n",
       " ('Sharon_Osbourne', 3),\n",
       " ('Shaul_Mofaz', 3),\n",
       " ('Silvia_Farina_Elia', 3),\n",
       " ('Stanley_McChrystal', 3),\n",
       " ('Steve_Ballmer', 3),\n",
       " ('Steve_Mariucci', 3),\n",
       " ('Stockard_Channing', 3),\n",
       " ('Strom_Thurmond', 3),\n",
       " ('Tassos_Papadopoulos', 3),\n",
       " ('Taufik_Hidayat', 3),\n",
       " ('Terry_McAuliffe', 3),\n",
       " ('Theodore_Tweed_Roosevelt', 3),\n",
       " ('Theresa_May', 3),\n",
       " ('Thierry_Falise', 3),\n",
       " ('Thomas_Rupprath', 3),\n",
       " ('Tim_Conway', 3),\n",
       " ('Tom_Reilly', 3),\n",
       " ('Tom_Watson', 3),\n",
       " ('Tommy_Robredo', 3),\n",
       " ('Toni_Braxton', 3),\n",
       " ('Toshihiko_Fukui', 3),\n",
       " ('Tubby_Smith', 3),\n",
       " ('Uma_Thurman', 3),\n",
       " ('Vanessa_Williams', 3),\n",
       " ('Victoria_Beckham', 3),\n",
       " ('Vincent_Gallo', 3),\n",
       " ('Vladimir_Spidla', 3),\n",
       " ('Vladimiro_Montesinos', 3),\n",
       " ('Wang_Yingfan', 3),\n",
       " ('Warren_Buffett', 3),\n",
       " ('William_Bratton', 3),\n",
       " ('Wu_Yi', 3),\n",
       " ('Zico', 3),\n",
       " ('Aaron_Sorkin', 2),\n",
       " ('Abdel_Nasser_Assidi', 2),\n",
       " ('Abdullatif_Sener', 2),\n",
       " ('Adam_Scott', 2),\n",
       " ('Adolfo_Rodriguez_Saa', 2),\n",
       " ('Adrian_McPherson', 2),\n",
       " ('Adrian_Nastase', 2),\n",
       " ('Ahmad_Masood', 2),\n",
       " ('Ahmet_Necdet_Sezer', 2),\n",
       " ('Aitor_Gonzalez', 2),\n",
       " ('Al_Davis', 2),\n",
       " ('Alan_Ball', 2),\n",
       " ('Alan_Mulally', 2),\n",
       " ('Alberto_Fujimori', 2),\n",
       " ('Alberto_Ruiz_Gallardon', 2),\n",
       " ('Albrecht_Mentz', 2),\n",
       " ('Aldo_Paredes', 2),\n",
       " ('Alejandro_Atchugarry', 2),\n",
       " ('Alex_Barros', 2),\n",
       " ('Alex_Penelas', 2),\n",
       " ('Alexander_Rumyantsev', 2),\n",
       " ('Alexandra_Vodjanikova', 2),\n",
       " ('Ali_Abbas', 2),\n",
       " ('Alice_Fisher', 2),\n",
       " ('Alicia_Silverstone', 2),\n",
       " ('Alimzhan_Tokhtakhounov', 2),\n",
       " ('Alison_Lohman', 2),\n",
       " ('Allen_Iverson', 2),\n",
       " ('Allison_Janney', 2),\n",
       " ('Amanda_Beard', 2),\n",
       " ('Amanda_Coetzer', 2),\n",
       " ('Amber_Tamblyn', 2),\n",
       " ('Amram_Mitzna', 2),\n",
       " ('Andrei_Mikhnevich', 2),\n",
       " ('Andrew_Bunner', 2),\n",
       " ('Andrew_Cuomo', 2),\n",
       " ('Andrew_Niccol', 2),\n",
       " ('Andy_Hebb', 2),\n",
       " ('Angela_Lansbury', 2),\n",
       " ('Anna_Nicole_Smith', 2),\n",
       " ('Anneli_Jaatteenmaki', 2),\n",
       " ('Annette_Bening', 2),\n",
       " ('Anthony_Fauci', 2),\n",
       " ('Anthony_Hopkins', 2),\n",
       " ('Anthony_LaPaglia', 2),\n",
       " ('Anwar_Ibrahim', 2),\n",
       " ('Arantxa_Sanchez-Vicario', 2),\n",
       " ('Arnaud_Clement', 2),\n",
       " ('Aron_Ralston', 2),\n",
       " ('Arsinee_Khanjian', 2),\n",
       " ('Art_Hoffmann', 2),\n",
       " ('Arye_Mekel', 2),\n",
       " ('Asa_Hutchinson', 2),\n",
       " ('Augusto_Pinochet', 2),\n",
       " ('Augusto_Roa_Bastos', 2),\n",
       " ('Aung_San_Suu_Kyi', 2),\n",
       " ('Barbara_Brezigar', 2),\n",
       " ('Barrett_Jackman', 2),\n",
       " ('Barry_Alvarez', 2),\n",
       " ('Barry_Zito', 2),\n",
       " ('Begum_Khaleda_Zia', 2),\n",
       " ('Ben_Glisan', 2),\n",
       " ('Bernard_Lord', 2),\n",
       " ('Bernardo_Segura', 2),\n",
       " ('Bertrand_Bonello', 2),\n",
       " ('Beth_Jones', 2),\n",
       " ('Betsy_Smith', 2),\n",
       " ('Bijan_Namdar_Zangeneh', 2),\n",
       " ('Bill_Belichick', 2),\n",
       " ('Bill_Nelson', 2),\n",
       " ('Bill_Parcells', 2),\n",
       " ('Bill_Sizemore', 2),\n",
       " ('Billy_Graham', 2),\n",
       " ('Billy_Sollie', 2),\n",
       " ('Blythe_Danner', 2),\n",
       " ('Blythe_Hartley', 2),\n",
       " ('Bo_Pelini', 2),\n",
       " ('Bo_Ryan', 2),\n",
       " ('Bob_Beauprez', 2),\n",
       " ('Bob_Colvin', 2),\n",
       " ('Bob_Geldof', 2),\n",
       " ('Bobby_Goldwater', 2),\n",
       " ('Bobby_Robson', 2),\n",
       " ('Bode_Miller', 2),\n",
       " ('Boris_Berezovsky', 2),\n",
       " ('Boris_Yeltsin', 2),\n",
       " ('Brendan_Hansen', 2),\n",
       " ('Brian_Cowen', 2),\n",
       " ('Brian_Griese', 2),\n",
       " ('Brian_Heidik', 2),\n",
       " ('Brian_Mulroney', 2),\n",
       " ('Brian_Wells', 2),\n",
       " ('Brigitte_Boisselier', 2),\n",
       " ('Brooke_Shields', 2),\n",
       " ('Bruce_Van_De_Velde', 2),\n",
       " ('Bruce_Weber', 2),\n",
       " ('Butch_Davis', 2),\n",
       " ('Byron_Scott', 2),\n",
       " ('Camilla_Parker_Bowles', 2),\n",
       " ...]"
      ]
     },
     "execution_count": 2,
     "metadata": {},
     "output_type": "execute_result"
    }
   ],
   "source": [
    "get_sorted_lfw_table()"
   ]
  },
  {
   "cell_type": "code",
   "execution_count": 3,
   "metadata": {},
   "outputs": [],
   "source": [
    "# embedding_init = make_embedding()\n",
    "# save_model(embedding_init, file_name='embedding_kernel_Georgeless')"
   ]
  },
  {
   "cell_type": "code",
   "execution_count": 4,
   "metadata": {},
   "outputs": [
    {
     "name": "stdout",
     "output_type": "stream",
     "text": [
      "Successfully created siamese model from pretrained kernel.\n",
      "Generating data variant with Colin_Powell as anchor\n"
     ]
    },
    {
     "name": "stderr",
     "output_type": "stream",
     "text": [
      "100%|██████████| 5748/5748 [00:19<00:00, 291.01it/s]\n"
     ]
    },
    {
     "name": "stdout",
     "output_type": "stream",
     "text": [
      "[DEBUG] Finished data variant setup\n",
      "Preparing data augmentation from data\\var_anchor to data\\var_positive.\n"
     ]
    },
    {
     "name": "stderr",
     "output_type": "stream",
     "text": [
      "100%|██████████| 100/100 [00:01<00:00, 67.75it/s]\n"
     ]
    },
    {
     "name": "stdout",
     "output_type": "stream",
     "text": [
      "Successfully generated 200 new images through data augmentation.\n",
      "Preparing data augmentation from data\\var_anchor to data\\var_anchor.\n"
     ]
    },
    {
     "name": "stderr",
     "output_type": "stream",
     "text": [
      "100%|██████████| 100/100 [00:00<00:00, 132.27it/s]\n"
     ]
    },
    {
     "name": "stdout",
     "output_type": "stream",
     "text": [
      "Successfully generated 100 new images through data augmentation.\n",
      "Harvesting data from anchor data\\var_anchor, positive data\\var_positive and negative data\\var_negative folder.\n",
      "Anchor images availlable :\t200\n",
      "Positive images availlable :\t200\n",
      "Negative images availlable :\t12393\n",
      "Tuple harvested :\t\t200\n",
      "Labelling data\n",
      "Successfully harvested and labelled 200 data.\n",
      "Begining training 1th/50 person.\n",
      "Epoch 1/10\n",
      "9/9 [==============================] - 136s 15s/step\n",
      "Loss : 0.6778159141540527\tRecall : 0.6811594367027283\tPrecision : 0.7460317611694336\n",
      "Epoch 2/10\n",
      "9/9 [==============================] - 131s 14s/step\n",
      "Loss : 0.6964094042778015\tRecall : 0.15942029654979706\tPrecision : 0.6875\n",
      "Epoch 3/10\n",
      "9/9 [==============================] - 133s 15s/step\n",
      "Loss : 0.628129243850708\tRecall : 0.34285715222358704\tPrecision : 0.8571428656578064\n",
      "Epoch 4/10\n",
      "9/9 [==============================] - 132s 15s/step\n",
      "Loss : 0.5989730358123779\tRecall : 0.5373134613037109\tPrecision : 0.8181818127632141\n",
      "Epoch 5/10\n",
      "9/9 [==============================] - 133s 15s/step\n",
      "Loss : 0.4792703092098236\tRecall : 0.7746478915214539\tPrecision : 0.8461538553237915\n",
      "Epoch 6/10\n",
      "9/9 [==============================] - 133s 15s/step\n",
      "Loss : 0.3652888238430023\tRecall : 0.7647058963775635\tPrecision : 0.9285714030265808\n",
      "Epoch 7/10\n",
      "9/9 [==============================] - 134s 15s/step\n",
      "Loss : 0.4744166433811188\tRecall : 0.9014084339141846\tPrecision : 0.8888888955116272\n",
      "Epoch 8/10\n",
      "9/9 [==============================] - 136s 15s/step\n",
      "Loss : 0.2735063433647156\tRecall : 0.9305555820465088\tPrecision : 0.9178082346916199\n",
      "Epoch 9/10\n",
      "9/9 [==============================] - 133s 15s/step\n",
      "Loss : 0.16606052219867706\tRecall : 0.9264705777168274\tPrecision : 0.9692307710647583\n",
      "Epoch 10/10\n",
      "9/9 [==============================] - 134s 15s/step\n",
      "Loss : 0.16026924550533295\tRecall : 0.9850746393203735\tPrecision : 0.95652174949646\n",
      "Training complete, saving embedding kernel.\n",
      "Successfully saved model at saved_model\\embedding_kernel_Georgeless.h5.\n",
      "Generating data variant with Tony_Blair as anchor\n"
     ]
    },
    {
     "name": "stderr",
     "output_type": "stream",
     "text": [
      "100%|██████████| 5748/5748 [00:15<00:00, 368.70it/s]\n"
     ]
    },
    {
     "name": "stdout",
     "output_type": "stream",
     "text": [
      "[DEBUG] Finished data variant setup\n",
      "Preparing data augmentation from data\\var_anchor to data\\var_positive.\n"
     ]
    },
    {
     "name": "stderr",
     "output_type": "stream",
     "text": [
      "100%|██████████| 100/100 [00:01<00:00, 65.66it/s]\n"
     ]
    },
    {
     "name": "stdout",
     "output_type": "stream",
     "text": [
      "Successfully generated 200 new images through data augmentation.\n",
      "Preparing data augmentation from data\\var_anchor to data\\var_anchor.\n"
     ]
    },
    {
     "name": "stderr",
     "output_type": "stream",
     "text": [
      "100%|██████████| 100/100 [00:00<00:00, 130.55it/s]\n"
     ]
    },
    {
     "name": "stdout",
     "output_type": "stream",
     "text": [
      "Successfully generated 100 new images through data augmentation.\n",
      "Harvesting data from anchor data\\var_anchor, positive data\\var_positive and negative data\\var_negative folder.\n",
      "Anchor images availlable :\t200\n",
      "Positive images availlable :\t200\n",
      "Negative images availlable :\t12393\n",
      "Tuple harvested :\t\t200\n",
      "Labelling data\n",
      "Successfully harvested and labelled 200 data.\n",
      "Begining training 2th/50 person.\n",
      "Epoch 1/10\n",
      "9/9 [==============================] - 136s 15s/step\n",
      "Loss : 1.6658600568771362\tRecall : 0.9444444179534912\tPrecision : 0.5354330539703369\n",
      "Epoch 2/10\n",
      "9/9 [==============================] - 134s 15s/step\n",
      "Loss : 0.718965470790863\tRecall : 0.699999988079071\tPrecision : 0.5051546096801758\n",
      "Epoch 3/10\n",
      "9/9 [==============================] - 133s 15s/step\n",
      "Loss : 0.7053506970405579\tRecall : 0.13846154510974884\tPrecision : 0.5625\n",
      "Epoch 4/10\n",
      "9/9 [==============================] - 134s 15s/step\n",
      "Loss : 0.6666628122329712\tRecall : 0.2777777910232544\tPrecision : 0.6896551847457886\n",
      "Epoch 5/10\n",
      "9/9 [==============================] - 134s 15s/step\n",
      "Loss : 0.6919145584106445\tRecall : 0.762499988079071\tPrecision : 0.6288659572601318\n",
      "Epoch 6/10\n",
      "9/9 [==============================] - 134s 15s/step\n",
      "Loss : 0.6734358668327332\tRecall : 0.38461539149284363\tPrecision : 0.6666666865348816\n",
      "Epoch 7/10\n",
      "9/9 [==============================] - 133s 15s/step\n",
      "Loss : 0.7419378757476807\tRecall : 0.49275362491607666\tPrecision : 0.6415094137191772\n",
      "Epoch 8/10\n",
      "9/9 [==============================] - 133s 15s/step\n",
      "Loss : 0.7564196586608887\tRecall : 0.4533333480358124\tPrecision : 0.7906976938247681\n",
      "Epoch 9/10\n",
      "9/9 [==============================] - 133s 15s/step\n",
      "Loss : 0.5964123606681824\tRecall : 0.6969696879386902\tPrecision : 0.6478873491287231\n",
      "Epoch 10/10\n",
      "9/9 [==============================] - 133s 15s/step\n",
      "Loss : 0.4868987798690796\tRecall : 0.5806451439857483\tPrecision : 0.8372092843055725\n",
      "Training complete, saving embedding kernel.\n",
      "Successfully saved model at saved_model\\embedding_kernel_Georgeless.h5.\n",
      "Generating data variant with Donald_Rumsfeld as anchor\n"
     ]
    },
    {
     "name": "stderr",
     "output_type": "stream",
     "text": [
      "100%|██████████| 5748/5748 [00:15<00:00, 373.85it/s]\n"
     ]
    },
    {
     "name": "stdout",
     "output_type": "stream",
     "text": [
      "[DEBUG] Finished data variant setup\n",
      "Preparing data augmentation from data\\var_anchor to data\\var_positive.\n"
     ]
    },
    {
     "name": "stderr",
     "output_type": "stream",
     "text": [
      "100%|██████████| 100/100 [00:01<00:00, 66.49it/s]\n"
     ]
    },
    {
     "name": "stdout",
     "output_type": "stream",
     "text": [
      "Successfully generated 200 new images through data augmentation.\n",
      "Preparing data augmentation from data\\var_anchor to data\\var_anchor.\n"
     ]
    },
    {
     "name": "stderr",
     "output_type": "stream",
     "text": [
      "100%|██████████| 100/100 [00:00<00:00, 123.15it/s]\n"
     ]
    },
    {
     "name": "stdout",
     "output_type": "stream",
     "text": [
      "Successfully generated 100 new images through data augmentation.\n",
      "Harvesting data from anchor data\\var_anchor, positive data\\var_positive and negative data\\var_negative folder.\n",
      "Anchor images availlable :\t200\n",
      "Positive images availlable :\t200\n",
      "Negative images availlable :\t12393\n",
      "Tuple harvested :\t\t200\n",
      "Labelling data\n",
      "Successfully harvested and labelled 200 data.\n",
      "Begining training 3th/50 person.\n",
      "Epoch 1/10\n",
      "9/9 [==============================] - 135s 15s/step\n",
      "Loss : 0.7936537861824036\tRecall : 0.5571428537368774\tPrecision : 0.7222222089767456\n",
      "Epoch 2/10\n",
      "9/9 [==============================] - 134s 15s/step\n",
      "Loss : 0.5587369203567505\tRecall : 0.6617646813392639\tPrecision : 0.725806474685669\n",
      "Epoch 3/10\n",
      "9/9 [==============================] - 133s 15s/step\n",
      "Loss : 0.5381634831428528\tRecall : 0.779411792755127\tPrecision : 0.7361111044883728\n",
      "Epoch 4/10\n",
      "9/9 [==============================] - 133s 15s/step\n",
      "Loss : 0.46861740946769714\tRecall : 0.7916666865348816\tPrecision : 0.8507462739944458\n",
      "Epoch 5/10\n",
      "9/9 [==============================] - 133s 15s/step\n",
      "Loss : 0.2289729118347168\tRecall : 0.8484848737716675\tPrecision : 0.9032257795333862\n",
      "Epoch 6/10\n",
      "9/9 [==============================] - 133s 15s/step\n",
      "Loss : 0.42975524067878723\tRecall : 0.8970588445663452\tPrecision : 0.8970588445663452\n",
      "Epoch 7/10\n",
      "9/9 [==============================] - 134s 15s/step\n",
      "Loss : 0.29798009991645813\tRecall : 0.89552241563797\tPrecision : 0.9523809552192688\n",
      "Epoch 8/10\n",
      "9/9 [==============================] - 133s 15s/step\n",
      "Loss : 0.3933199346065521\tRecall : 0.9130434989929199\tPrecision : 0.9402984976768494\n",
      "Epoch 9/10\n",
      "9/9 [==============================] - 133s 15s/step\n",
      "Loss : 0.15342795848846436\tRecall : 0.8888888955116272\tPrecision : 0.9142857193946838\n",
      "Epoch 10/10\n",
      "9/9 [==============================] - 134s 15s/step\n",
      "Loss : 0.17278899252414703\tRecall : 0.9428571462631226\tPrecision : 0.9428571462631226\n",
      "Training complete, saving embedding kernel.\n",
      "Successfully saved model at saved_model\\embedding_kernel_Georgeless.h5.\n",
      "Generating data variant with Gerhard_Schroeder as anchor\n"
     ]
    },
    {
     "name": "stderr",
     "output_type": "stream",
     "text": [
      "100%|██████████| 5748/5748 [00:15<00:00, 366.24it/s]\n"
     ]
    },
    {
     "name": "stdout",
     "output_type": "stream",
     "text": [
      "[DEBUG] Finished data variant setup\n",
      "Preparing data augmentation from data\\var_anchor to data\\var_positive.\n"
     ]
    },
    {
     "name": "stderr",
     "output_type": "stream",
     "text": [
      "100%|██████████| 100/100 [00:01<00:00, 69.83it/s]\n"
     ]
    },
    {
     "name": "stdout",
     "output_type": "stream",
     "text": [
      "Successfully generated 200 new images through data augmentation.\n",
      "Preparing data augmentation from data\\var_anchor to data\\var_anchor.\n"
     ]
    },
    {
     "name": "stderr",
     "output_type": "stream",
     "text": [
      "100%|██████████| 100/100 [00:00<00:00, 132.80it/s]\n"
     ]
    },
    {
     "name": "stdout",
     "output_type": "stream",
     "text": [
      "Successfully generated 100 new images through data augmentation.\n",
      "Harvesting data from anchor data\\var_anchor, positive data\\var_positive and negative data\\var_negative folder.\n",
      "Anchor images availlable :\t200\n",
      "Positive images availlable :\t200\n",
      "Negative images availlable :\t12393\n",
      "Tuple harvested :\t\t200\n",
      "Labelling data\n",
      "Successfully harvested and labelled 200 data.\n",
      "Begining training 4th/50 person.\n",
      "Epoch 1/10\n",
      "9/9 [==============================] - 131s 14s/step\n",
      "Loss : 0.8187138438224792\tRecall : 0.8181818127632141\tPrecision : 0.5454545617103577\n",
      "Epoch 2/10\n",
      "9/9 [==============================] - 134s 15s/step\n",
      "Loss : 0.6704893112182617\tRecall : 0.3125\tPrecision : 0.6896551847457886\n",
      "Epoch 3/10\n",
      "9/9 [==============================] - 133s 15s/step\n",
      "Loss : 0.6667771935462952\tRecall : 0.5194805264472961\tPrecision : 0.6896551847457886\n",
      "Epoch 4/10\n",
      "9/9 [==============================] - 133s 15s/step\n",
      "Loss : 0.4234975278377533\tRecall : 0.641791045665741\tPrecision : 0.7288135886192322\n",
      "Epoch 5/10\n",
      "9/9 [==============================] - 135s 15s/step\n",
      "Loss : 0.6147502064704895\tRecall : 0.27142858505249023\tPrecision : 0.8636363744735718\n",
      "Epoch 6/10\n",
      "9/9 [==============================] - 134s 15s/step\n",
      "Loss : 0.5740036368370056\tRecall : 0.611940324306488\tPrecision : 0.640625\n",
      "Epoch 7/10\n",
      "9/9 [==============================] - 133s 15s/step\n",
      "Loss : 0.5636329650878906\tRecall : 0.3142857253551483\tPrecision : 0.9166666865348816\n",
      "Epoch 8/10\n",
      "9/9 [==============================] - 134s 15s/step\n",
      "Loss : 0.5616762042045593\tRecall : 0.44285714626312256\tPrecision : 0.837837815284729\n",
      "Epoch 9/10\n",
      "9/9 [==============================] - 134s 15s/step\n",
      "Loss : 0.5908882021903992\tRecall : 0.5833333134651184\tPrecision : 0.8936170339584351\n",
      "Epoch 10/10\n",
      "9/9 [==============================] - 133s 15s/step\n",
      "Loss : 0.42431724071502686\tRecall : 0.699999988079071\tPrecision : 0.8166666626930237\n",
      "Training complete, saving embedding kernel.\n",
      "Successfully saved model at saved_model\\embedding_kernel_Georgeless.h5.\n",
      "Generating data variant with Ariel_Sharon as anchor\n"
     ]
    },
    {
     "name": "stderr",
     "output_type": "stream",
     "text": [
      "100%|██████████| 5748/5748 [00:14<00:00, 409.60it/s]\n"
     ]
    },
    {
     "name": "stdout",
     "output_type": "stream",
     "text": [
      "[DEBUG] Finished data variant setup\n",
      "Preparing data augmentation from data\\var_anchor to data\\var_positive.\n"
     ]
    },
    {
     "name": "stderr",
     "output_type": "stream",
     "text": [
      "100%|██████████| 77/77 [00:01<00:00, 65.48it/s]\n"
     ]
    },
    {
     "name": "stdout",
     "output_type": "stream",
     "text": [
      "Successfully generated 154 new images through data augmentation.\n",
      "Preparing data augmentation from data\\var_anchor to data\\var_anchor.\n"
     ]
    },
    {
     "name": "stderr",
     "output_type": "stream",
     "text": [
      "100%|██████████| 77/77 [00:00<00:00, 128.12it/s]\n"
     ]
    },
    {
     "name": "stdout",
     "output_type": "stream",
     "text": [
      "Successfully generated 77 new images through data augmentation.\n",
      "Harvesting data from anchor data\\var_anchor, positive data\\var_positive and negative data\\var_negative folder.\n",
      "Anchor images availlable :\t154\n",
      "Positive images availlable :\t154\n",
      "Negative images availlable :\t12416\n",
      "Tuple harvested :\t\t154\n",
      "Labelling data\n",
      "Successfully harvested and labelled 154 data.\n",
      "Begining training 5th/50 person.\n",
      "Epoch 1/10\n",
      "7/7 [==============================] - 103s 15s/step\n",
      "Loss : 0.7087658047676086\tRecall : 0.7142857313156128\tPrecision : 0.5405405163764954\n",
      "Epoch 2/10\n",
      "7/7 [==============================] - 103s 15s/step\n",
      "Loss : 0.6757466197013855\tRecall : 0.7719298005104065\tPrecision : 0.5866666436195374\n",
      "Epoch 3/10\n",
      "7/7 [==============================] - 104s 15s/step\n",
      "Loss : 0.6843867301940918\tRecall : 0.5600000023841858\tPrecision : 0.6363636255264282\n",
      "Epoch 4/10\n",
      "7/7 [==============================] - 102s 15s/step\n",
      "Loss : 0.6851229071617126\tRecall : 0.2549019753932953\tPrecision : 0.6190476417541504\n",
      "Epoch 5/10\n",
      "7/7 [==============================] - 104s 15s/step\n",
      "Loss : 0.6731691956520081\tRecall : 0.24137930572032928\tPrecision : 0.5833333134651184\n",
      "Epoch 6/10\n",
      "7/7 [==============================] - 104s 15s/step\n",
      "Loss : 0.6204306483268738\tRecall : 0.2068965584039688\tPrecision : 0.7058823704719543\n",
      "Epoch 7/10\n",
      "7/7 [==============================] - 105s 15s/step\n",
      "Loss : 0.6601884365081787\tRecall : 0.03703703731298447\tPrecision : 1.0\n",
      "Epoch 8/10\n",
      "7/7 [==============================] - 103s 15s/step\n",
      "Loss : 0.6798123717308044\tRecall : 0.2181818187236786\tPrecision : 0.800000011920929\n",
      "Epoch 9/10\n",
      "7/7 [==============================] - 101s 14s/step\n",
      "Loss : 0.6712906956672668\tRecall : 0.2631579041481018\tPrecision : 0.8823529481887817\n",
      "Epoch 10/10\n",
      "7/7 [==============================] - 103s 15s/step\n",
      "Loss : 0.5802910327911377\tRecall : 0.41818180680274963\tPrecision : 0.71875\n",
      "Training complete, saving embedding kernel.\n",
      "Successfully saved model at saved_model\\embedding_kernel_Georgeless.h5.\n",
      "Generating data variant with Hugo_Chavez as anchor\n"
     ]
    },
    {
     "name": "stderr",
     "output_type": "stream",
     "text": [
      "100%|██████████| 5748/5748 [00:15<00:00, 379.94it/s]\n"
     ]
    },
    {
     "name": "stdout",
     "output_type": "stream",
     "text": [
      "[DEBUG] Finished data variant setup\n",
      "Preparing data augmentation from data\\var_anchor to data\\var_positive.\n"
     ]
    },
    {
     "name": "stderr",
     "output_type": "stream",
     "text": [
      "100%|██████████| 71/71 [00:01<00:00, 64.72it/s]\n"
     ]
    },
    {
     "name": "stdout",
     "output_type": "stream",
     "text": [
      "Successfully generated 142 new images through data augmentation.\n",
      "Preparing data augmentation from data\\var_anchor to data\\var_anchor.\n"
     ]
    },
    {
     "name": "stderr",
     "output_type": "stream",
     "text": [
      "100%|██████████| 71/71 [00:00<00:00, 109.39it/s]\n"
     ]
    },
    {
     "name": "stdout",
     "output_type": "stream",
     "text": [
      "Successfully generated 71 new images through data augmentation.\n",
      "Harvesting data from anchor data\\var_anchor, positive data\\var_positive and negative data\\var_negative folder.\n",
      "Anchor images availlable :\t142\n",
      "Positive images availlable :\t142\n",
      "Negative images availlable :\t12422\n",
      "Tuple harvested :\t\t142\n",
      "Labelling data\n",
      "Successfully harvested and labelled 142 data.\n",
      "Begining training 6th/50 person.\n",
      "Epoch 1/10\n",
      "7/7 [==============================] - 97s 14s/step\n",
      "Loss : 0.8722647428512573\tRecall : 0.40425533056259155\tPrecision : 0.4318181872367859\n",
      "Epoch 2/10\n",
      "7/7 [==============================] - 96s 13s/step\n",
      "Loss : 0.6827387809753418\tRecall : 0.30612245202064514\tPrecision : 0.5555555820465088\n",
      "Epoch 3/10\n",
      "7/7 [==============================] - 96s 13s/step\n",
      "Loss : 0.6602436304092407\tRecall : 0.8461538553237915\tPrecision : 0.5365853905677795\n",
      "Epoch 4/10\n",
      "7/7 [==============================] - 96s 13s/step\n",
      "Loss : 0.6730156540870667\tRecall : 0.7200000286102295\tPrecision : 0.5625\n",
      "Epoch 5/10\n",
      "7/7 [==============================] - 96s 13s/step\n",
      "Loss : 0.6478970646858215\tRecall : 0.692307710647583\tPrecision : 0.6428571343421936\n",
      "Epoch 6/10\n",
      "7/7 [==============================] - 96s 13s/step\n",
      "Loss : 0.6697399616241455\tRecall : 0.717391312122345\tPrecision : 0.515625\n",
      "Epoch 7/10\n",
      "7/7 [==============================] - 96s 13s/step\n",
      "Loss : 0.7113901376724243\tRecall : 0.6808510422706604\tPrecision : 0.5614035129547119\n",
      "Epoch 8/10\n",
      "7/7 [==============================] - 95s 13s/step\n",
      "Loss : 0.6550071835517883\tRecall : 0.54347825050354\tPrecision : 0.5952380895614624\n",
      "Epoch 9/10\n",
      "7/7 [==============================] - 95s 13s/step\n",
      "Loss : 0.6566435098648071\tRecall : 0.28070175647735596\tPrecision : 0.5714285969734192\n",
      "Epoch 10/10\n",
      "7/7 [==============================] - 96s 13s/step\n",
      "Loss : 0.6838662624359131\tRecall : 0.44897958636283875\tPrecision : 0.5945945978164673\n",
      "Training complete, saving embedding kernel.\n",
      "Successfully saved model at saved_model\\embedding_kernel_Georgeless.h5.\n",
      "Generating data variant with Junichiro_Koizumi as anchor\n"
     ]
    },
    {
     "name": "stderr",
     "output_type": "stream",
     "text": [
      "100%|██████████| 5748/5748 [00:15<00:00, 379.85it/s]\n"
     ]
    },
    {
     "name": "stdout",
     "output_type": "stream",
     "text": [
      "[DEBUG] Finished data variant setup\n",
      "Preparing data augmentation from data\\var_anchor to data\\var_positive.\n"
     ]
    },
    {
     "name": "stderr",
     "output_type": "stream",
     "text": [
      "100%|██████████| 60/60 [00:00<00:00, 63.69it/s]\n"
     ]
    },
    {
     "name": "stdout",
     "output_type": "stream",
     "text": [
      "Successfully generated 120 new images through data augmentation.\n",
      "Preparing data augmentation from data\\var_anchor to data\\var_anchor.\n"
     ]
    },
    {
     "name": "stderr",
     "output_type": "stream",
     "text": [
      "100%|██████████| 60/60 [00:00<00:00, 124.22it/s]\n"
     ]
    },
    {
     "name": "stdout",
     "output_type": "stream",
     "text": [
      "Successfully generated 60 new images through data augmentation.\n",
      "Harvesting data from anchor data\\var_anchor, positive data\\var_positive and negative data\\var_negative folder.\n",
      "Anchor images availlable :\t120\n",
      "Positive images availlable :\t120\n",
      "Negative images availlable :\t12433\n",
      "Tuple harvested :\t\t120\n",
      "Labelling data\n",
      "Successfully harvested and labelled 120 data.\n",
      "Begining training 7th/50 person.\n",
      "Epoch 1/10\n",
      "6/6 [==============================] - 82s 13s/step\n",
      "Loss : 0.6468871831893921\tRecall : 0.25\tPrecision : 0.5882353186607361\n",
      "Epoch 2/10\n",
      "6/6 [==============================] - 82s 13s/step\n",
      "Loss : 0.6690848469734192\tRecall : 0.2222222238779068\tPrecision : 0.6153846383094788\n",
      "Epoch 3/10\n",
      "6/6 [==============================] - 81s 13s/step\n",
      "Loss : 0.6064971685409546\tRecall : 0.1818181872367859\tPrecision : 0.7272727489471436\n",
      "Epoch 4/10\n",
      "6/6 [==============================] - 81s 13s/step\n",
      "Loss : 0.6919465661048889\tRecall : 0.302325576543808\tPrecision : 0.8666666746139526\n",
      "Epoch 5/10\n",
      "6/6 [==============================] - 81s 13s/step\n",
      "Loss : 0.8892396688461304\tRecall : 0.1304347813129425\tPrecision : 1.0\n",
      "Epoch 6/10\n",
      "6/6 [==============================] - 82s 13s/step\n",
      "Loss : 0.6899415254592896\tRecall : 0.5\tPrecision : 0.6896551847457886\n",
      "Epoch 7/10\n",
      "6/6 [==============================] - 82s 13s/step\n",
      "Loss : 0.6847969889640808\tRecall : 0.3076923191547394\tPrecision : 0.8571428656578064\n",
      "Epoch 8/10\n",
      "6/6 [==============================] - 82s 13s/step\n",
      "Loss : 0.6527810096740723\tRecall : 0.1190476194024086\tPrecision : 1.0\n",
      "Epoch 9/10\n",
      "6/6 [==============================] - 81s 13s/step\n",
      "Loss : 0.6979175806045532\tRecall : 0.06976744532585144\tPrecision : 1.0\n",
      "Epoch 10/10\n",
      "6/6 [==============================] - 83s 13s/step\n",
      "Loss : 0.5557994842529297\tRecall : 0.04545454680919647\tPrecision : 1.0\n",
      "Training complete, saving embedding kernel.\n",
      "Successfully saved model at saved_model\\embedding_kernel_Georgeless.h5.\n",
      "Generating data variant with Jean_Chretien as anchor\n"
     ]
    },
    {
     "name": "stderr",
     "output_type": "stream",
     "text": [
      "100%|██████████| 5748/5748 [00:15<00:00, 373.48it/s]\n"
     ]
    },
    {
     "name": "stdout",
     "output_type": "stream",
     "text": [
      "[DEBUG] Finished data variant setup\n",
      "Preparing data augmentation from data\\var_anchor to data\\var_positive.\n"
     ]
    },
    {
     "name": "stderr",
     "output_type": "stream",
     "text": [
      "100%|██████████| 55/55 [00:00<00:00, 69.80it/s]\n"
     ]
    },
    {
     "name": "stdout",
     "output_type": "stream",
     "text": [
      "Successfully generated 110 new images through data augmentation.\n",
      "Preparing data augmentation from data\\var_anchor to data\\var_anchor.\n"
     ]
    },
    {
     "name": "stderr",
     "output_type": "stream",
     "text": [
      "100%|██████████| 55/55 [00:00<00:00, 121.15it/s]\n"
     ]
    },
    {
     "name": "stdout",
     "output_type": "stream",
     "text": [
      "Successfully generated 55 new images through data augmentation.\n",
      "Harvesting data from anchor data\\var_anchor, positive data\\var_positive and negative data\\var_negative folder.\n",
      "Anchor images availlable :\t110\n",
      "Positive images availlable :\t110\n",
      "Negative images availlable :\t12438\n",
      "Tuple harvested :\t\t110\n",
      "Labelling data\n",
      "Successfully harvested and labelled 110 data.\n",
      "Begining training 8th/50 person.\n",
      "Epoch 1/10\n",
      "5/5 [==============================] - 74s 15s/step\n",
      "Loss : 0.5889588594436646\tRecall : 0.027027027681469917\tPrecision : 0.5\n",
      "Epoch 2/10\n",
      "5/5 [==============================] - 74s 15s/step\n",
      "Loss : 0.7353687286376953\tRecall : 0.025641025975346565\tPrecision : 1.0\n",
      "Epoch 3/10\n",
      "5/5 [==============================] - 75s 15s/step\n",
      "Loss : 0.6443179845809937\tRecall : 0.027027027681469917\tPrecision : 0.5\n",
      "Epoch 4/10\n",
      "5/5 [==============================] - 74s 15s/step\n",
      "Loss : 0.6922182440757751\tRecall : 0.05000000074505806\tPrecision : 0.6666666865348816\n",
      "Epoch 5/10\n",
      "5/5 [==============================] - 74s 15s/step\n",
      "Loss : 0.5028737187385559\tRecall : 0.05263157933950424\tPrecision : 0.6666666865348816\n",
      "Epoch 6/10\n",
      "5/5 [==============================] - 74s 15s/step\n",
      "Loss : 0.6465346217155457\tRecall : 0.28205129504203796\tPrecision : 0.8461538553237915\n",
      "Epoch 7/10\n",
      "5/5 [==============================] - 74s 15s/step\n",
      "Loss : 0.5698384642601013\tRecall : 0.1666666716337204\tPrecision : 0.8571428656578064\n",
      "Epoch 8/10\n",
      "5/5 [==============================] - 74s 15s/step\n",
      "Loss : 0.5503143072128296\tRecall : 0.1666666716337204\tPrecision : 1.0\n",
      "Epoch 9/10\n",
      "5/5 [==============================] - 74s 15s/step\n",
      "Loss : 0.56766277551651\tRecall : 0.31707316637039185\tPrecision : 0.9285714030265808\n",
      "Epoch 10/10\n",
      "5/5 [==============================] - 74s 15s/step\n",
      "Loss : 0.4540088474750519\tRecall : 0.20512820780277252\tPrecision : 1.0\n",
      "Training complete, saving embedding kernel.\n",
      "Successfully saved model at saved_model\\embedding_kernel_Georgeless.h5.\n",
      "Generating data variant with John_Ashcroft as anchor\n"
     ]
    },
    {
     "name": "stderr",
     "output_type": "stream",
     "text": [
      "100%|██████████| 5748/5748 [00:15<00:00, 372.91it/s]\n"
     ]
    },
    {
     "name": "stdout",
     "output_type": "stream",
     "text": [
      "[DEBUG] Finished data variant setup\n",
      "Preparing data augmentation from data\\var_anchor to data\\var_positive.\n"
     ]
    },
    {
     "name": "stderr",
     "output_type": "stream",
     "text": [
      "100%|██████████| 53/53 [00:00<00:00, 71.43it/s]\n"
     ]
    },
    {
     "name": "stdout",
     "output_type": "stream",
     "text": [
      "Successfully generated 106 new images through data augmentation.\n",
      "Preparing data augmentation from data\\var_anchor to data\\var_anchor.\n"
     ]
    },
    {
     "name": "stderr",
     "output_type": "stream",
     "text": [
      "100%|██████████| 53/53 [00:00<00:00, 132.83it/s]\n"
     ]
    },
    {
     "name": "stdout",
     "output_type": "stream",
     "text": [
      "Successfully generated 53 new images through data augmentation.\n",
      "Harvesting data from anchor data\\var_anchor, positive data\\var_positive and negative data\\var_negative folder.\n",
      "Anchor images availlable :\t106\n",
      "Positive images availlable :\t106\n",
      "Negative images availlable :\t12440\n",
      "Tuple harvested :\t\t106\n",
      "Labelling data\n",
      "Successfully harvested and labelled 106 data.\n",
      "Begining training 9th/50 person.\n",
      "Epoch 1/10\n",
      "5/5 [==============================] - 72s 14s/step\n",
      "Loss : 0.6899346709251404\tRecall : 0.625\tPrecision : 0.7352941036224365\n",
      "Epoch 2/10\n",
      "5/5 [==============================] - 72s 14s/step\n",
      "Loss : 0.5038076043128967\tRecall : 0.9117646813392639\tPrecision : 0.5740740895271301\n",
      "Epoch 3/10\n",
      "5/5 [==============================] - 72s 14s/step\n",
      "Loss : 0.34995147585868835\tRecall : 0.25\tPrecision : 0.8999999761581421\n",
      "Epoch 4/10\n",
      "5/5 [==============================] - 73s 14s/step\n",
      "Loss : 0.5811607241630554\tRecall : 0.692307710647583\tPrecision : 0.7941176295280457\n",
      "Epoch 5/10\n",
      "5/5 [==============================] - 72s 14s/step\n",
      "Loss : 0.43953952193260193\tRecall : 0.4285714328289032\tPrecision : 0.7142857313156128\n",
      "Epoch 6/10\n",
      "5/5 [==============================] - 72s 14s/step\n",
      "Loss : 0.552618682384491\tRecall : 0.6285714507102966\tPrecision : 0.7857142686843872\n",
      "Epoch 7/10\n",
      "5/5 [==============================] - 71s 14s/step\n",
      "Loss : 0.3456276059150696\tRecall : 0.7777777910232544\tPrecision : 0.7777777910232544\n",
      "Epoch 8/10\n",
      "5/5 [==============================] - 72s 14s/step\n",
      "Loss : 0.3319316804409027\tRecall : 0.8999999761581421\tPrecision : 0.8571428656578064\n",
      "Epoch 9/10\n",
      "5/5 [==============================] - 73s 14s/step\n",
      "Loss : 0.48308393359184265\tRecall : 0.8823529481887817\tPrecision : 0.8571428656578064\n",
      "Epoch 10/10\n",
      "5/5 [==============================] - 72s 14s/step\n",
      "Loss : 0.4046928286552429\tRecall : 0.9750000238418579\tPrecision : 0.8125\n",
      "Training complete, saving embedding kernel.\n",
      "Successfully saved model at saved_model\\embedding_kernel_Georgeless.h5.\n",
      "Generating data variant with Jacques_Chirac as anchor\n"
     ]
    },
    {
     "name": "stderr",
     "output_type": "stream",
     "text": [
      "100%|██████████| 5748/5748 [00:15<00:00, 378.85it/s]\n"
     ]
    },
    {
     "name": "stdout",
     "output_type": "stream",
     "text": [
      "[DEBUG] Finished data variant setup\n",
      "Preparing data augmentation from data\\var_anchor to data\\var_positive.\n"
     ]
    },
    {
     "name": "stderr",
     "output_type": "stream",
     "text": [
      "100%|██████████| 52/52 [00:01<00:00, 28.95it/s]\n"
     ]
    },
    {
     "name": "stdout",
     "output_type": "stream",
     "text": [
      "Successfully generated 104 new images through data augmentation.\n",
      "Preparing data augmentation from data\\var_anchor to data\\var_anchor.\n"
     ]
    },
    {
     "name": "stderr",
     "output_type": "stream",
     "text": [
      "100%|██████████| 52/52 [00:00<00:00, 97.74it/s]\n"
     ]
    },
    {
     "name": "stdout",
     "output_type": "stream",
     "text": [
      "Successfully generated 52 new images through data augmentation.\n",
      "Harvesting data from anchor data\\var_anchor, positive data\\var_positive and negative data\\var_negative folder.\n",
      "Anchor images availlable :\t104\n",
      "Positive images availlable :\t104\n",
      "Negative images availlable :\t12441\n",
      "Tuple harvested :\t\t104\n",
      "Labelling data\n",
      "Successfully harvested and labelled 104 data.\n",
      "Begining training 10th/50 person.\n",
      "Epoch 1/10\n",
      "5/5 [==============================] - 71s 14s/step\n",
      "Loss : 0.6450055837631226\tRecall : 0.9166666865348816\tPrecision : 0.568965494632721\n",
      "Epoch 2/10\n",
      "5/5 [==============================] - 71s 14s/step\n",
      "Loss : 0.6065776944160461\tRecall : 0.4166666567325592\tPrecision : 0.75\n",
      "Epoch 3/10\n",
      "5/5 [==============================] - 71s 14s/step\n",
      "Loss : 0.49747294187545776\tRecall : 0.025641025975346565\tPrecision : 1.0\n",
      "Epoch 4/10\n",
      "5/5 [==============================] - 71s 14s/step\n",
      "Loss : 0.4597241282463074\tRecall : 0.0\tPrecision : 0.0\n",
      "Epoch 5/10\n",
      "5/5 [==============================] - 71s 14s/step\n",
      "Loss : 0.4536358714103699\tRecall : 0.06060606241226196\tPrecision : 1.0\n",
      "Epoch 6/10\n",
      "5/5 [==============================] - 70s 14s/step\n",
      "Loss : 0.33257558941841125\tRecall : 0.1315789520740509\tPrecision : 0.8333333134651184\n",
      "Epoch 7/10\n",
      "5/5 [==============================] - 72s 14s/step\n",
      "Loss : 0.6194698810577393\tRecall : 0.25\tPrecision : 1.0\n",
      "Epoch 8/10\n",
      "5/5 [==============================] - 71s 14s/step\n",
      "Loss : 0.38804134726524353\tRecall : 0.7222222089767456\tPrecision : 0.9285714030265808\n",
      "Epoch 9/10\n",
      "5/5 [==============================] - 72s 14s/step\n",
      "Loss : 0.47591862082481384\tRecall : 0.7692307829856873\tPrecision : 0.8823529481887817\n",
      "Epoch 10/10\n",
      "5/5 [==============================] - 70s 14s/step\n",
      "Loss : 0.2858232259750366\tRecall : 0.5\tPrecision : 0.8947368264198303\n",
      "Training complete, saving embedding kernel.\n",
      "Successfully saved model at saved_model\\embedding_kernel_Georgeless.h5.\n",
      "Generating data variant with Serena_Williams as anchor\n"
     ]
    },
    {
     "name": "stderr",
     "output_type": "stream",
     "text": [
      "100%|██████████| 5748/5748 [00:14<00:00, 388.33it/s]\n"
     ]
    },
    {
     "name": "stdout",
     "output_type": "stream",
     "text": [
      "[DEBUG] Finished data variant setup\n",
      "Preparing data augmentation from data\\var_anchor to data\\var_positive.\n"
     ]
    },
    {
     "name": "stderr",
     "output_type": "stream",
     "text": [
      "100%|██████████| 52/52 [00:00<00:00, 55.14it/s]\n"
     ]
    },
    {
     "name": "stdout",
     "output_type": "stream",
     "text": [
      "Successfully generated 104 new images through data augmentation.\n",
      "Preparing data augmentation from data\\var_anchor to data\\var_anchor.\n"
     ]
    },
    {
     "name": "stderr",
     "output_type": "stream",
     "text": [
      "100%|██████████| 52/52 [00:00<00:00, 106.56it/s]\n"
     ]
    },
    {
     "name": "stdout",
     "output_type": "stream",
     "text": [
      "Successfully generated 52 new images through data augmentation.\n",
      "Harvesting data from anchor data\\var_anchor, positive data\\var_positive and negative data\\var_negative folder.\n",
      "Anchor images availlable :\t104\n",
      "Positive images availlable :\t104\n",
      "Negative images availlable :\t12441\n",
      "Tuple harvested :\t\t104\n",
      "Labelling data\n",
      "Successfully harvested and labelled 104 data.\n",
      "Begining training 11th/50 person.\n",
      "Epoch 1/10\n",
      "5/5 [==============================] - 71s 14s/step\n",
      "Loss : 0.8058816194534302\tRecall : 0.8571428656578064\tPrecision : 0.46875\n",
      "Epoch 2/10\n",
      "5/5 [==============================] - 71s 14s/step\n",
      "Loss : 0.7042995691299438\tRecall : 1.0\tPrecision : 0.5\n",
      "Epoch 3/10\n",
      "5/5 [==============================] - 71s 14s/step\n",
      "Loss : 0.6917061805725098\tRecall : 1.0\tPrecision : 0.5135135054588318\n",
      "Epoch 4/10\n",
      "5/5 [==============================] - 71s 14s/step\n",
      "Loss : 0.7033045291900635\tRecall : 1.0\tPrecision : 0.4931506812572479\n",
      "Epoch 5/10\n",
      "5/5 [==============================] - 72s 14s/step\n",
      "Loss : 0.6994951963424683\tRecall : 0.8648648858070374\tPrecision : 0.5714285969734192\n",
      "Epoch 6/10\n",
      "5/5 [==============================] - 72s 14s/step\n",
      "Loss : 0.688204288482666\tRecall : 0.2631579041481018\tPrecision : 0.625\n",
      "Epoch 7/10\n",
      "5/5 [==============================] - 69s 14s/step\n",
      "Loss : 0.7131198048591614\tRecall : 0.3243243098258972\tPrecision : 0.800000011920929\n",
      "Epoch 8/10\n",
      "5/5 [==============================] - 70s 14s/step\n",
      "Loss : 0.6900613307952881\tRecall : 0.6315789222717285\tPrecision : 0.6486486196517944\n",
      "Epoch 9/10\n",
      "5/5 [==============================] - 71s 14s/step\n",
      "Loss : 0.6769441366195679\tRecall : 0.7692307829856873\tPrecision : 0.6666666865348816\n",
      "Epoch 10/10\n",
      "5/5 [==============================] - 71s 14s/step\n",
      "Loss : 0.6574856638908386\tRecall : 0.6842105388641357\tPrecision : 0.8125\n",
      "Training complete, saving embedding kernel.\n",
      "Successfully saved model at saved_model\\embedding_kernel_Georgeless.h5.\n",
      "Generating data variant with Vladimir_Putin as anchor\n"
     ]
    },
    {
     "name": "stderr",
     "output_type": "stream",
     "text": [
      "100%|██████████| 5748/5748 [00:15<00:00, 374.26it/s]\n"
     ]
    },
    {
     "name": "stdout",
     "output_type": "stream",
     "text": [
      "[DEBUG] Finished data variant setup\n",
      "Preparing data augmentation from data\\var_anchor to data\\var_positive.\n"
     ]
    },
    {
     "name": "stderr",
     "output_type": "stream",
     "text": [
      "100%|██████████| 49/49 [00:00<00:00, 67.77it/s]\n"
     ]
    },
    {
     "name": "stdout",
     "output_type": "stream",
     "text": [
      "Successfully generated 98 new images through data augmentation.\n",
      "Preparing data augmentation from data\\var_anchor to data\\var_anchor.\n"
     ]
    },
    {
     "name": "stderr",
     "output_type": "stream",
     "text": [
      "100%|██████████| 49/49 [00:00<00:00, 120.10it/s]\n"
     ]
    },
    {
     "name": "stdout",
     "output_type": "stream",
     "text": [
      "Successfully generated 49 new images through data augmentation.\n",
      "Harvesting data from anchor data\\var_anchor, positive data\\var_positive and negative data\\var_negative folder.\n",
      "Anchor images availlable :\t98\n",
      "Positive images availlable :\t98\n",
      "Negative images availlable :\t12444\n",
      "Tuple harvested :\t\t98\n",
      "Labelling data\n",
      "Successfully harvested and labelled 98 data.\n",
      "Begining training 12th/50 person.\n",
      "Epoch 1/10\n",
      "5/5 [==============================] - 67s 13s/step\n",
      "Loss : 0.6659128069877625\tRecall : 0.5428571701049805\tPrecision : 0.5757575631141663\n",
      "Epoch 2/10\n",
      "5/5 [==============================] - 66s 13s/step\n",
      "Loss : 0.7551641464233398\tRecall : 0.7272727489471436\tPrecision : 0.6486486196517944\n",
      "Epoch 3/10\n",
      "5/5 [==============================] - 66s 13s/step\n",
      "Loss : 0.6726442575454712\tRecall : 0.20000000298023224\tPrecision : 0.875\n",
      "Epoch 4/10\n",
      "5/5 [==============================] - 67s 13s/step\n",
      "Loss : 0.6601059436798096\tRecall : 0.21621622145175934\tPrecision : 0.800000011920929\n",
      "Epoch 5/10\n",
      "5/5 [==============================] - 67s 13s/step\n",
      "Loss : 0.6909379959106445\tRecall : 0.4545454680919647\tPrecision : 0.75\n",
      "Epoch 6/10\n",
      "5/5 [==============================] - 65s 13s/step\n",
      "Loss : 0.611099898815155\tRecall : 0.5833333134651184\tPrecision : 0.7241379022598267\n",
      "Epoch 7/10\n",
      "5/5 [==============================] - 66s 13s/step\n",
      "Loss : 0.5841192007064819\tRecall : 0.6388888955116272\tPrecision : 0.7931034564971924\n",
      "Epoch 8/10\n",
      "5/5 [==============================] - 66s 13s/step\n",
      "Loss : 0.7027787566184998\tRecall : 0.4193548262119293\tPrecision : 0.6190476417541504\n",
      "Epoch 9/10\n",
      "5/5 [==============================] - 67s 13s/step\n",
      "Loss : 0.6419607996940613\tRecall : 0.7222222089767456\tPrecision : 0.7222222089767456\n",
      "Epoch 10/10\n",
      "5/5 [==============================] - 66s 13s/step\n",
      "Loss : 0.7510491609573364\tRecall : 0.6285714507102966\tPrecision : 0.7333333492279053\n",
      "Training complete, saving embedding kernel.\n",
      "Successfully saved model at saved_model\\embedding_kernel_Georgeless.h5.\n",
      "Generating data variant with Luiz_Inacio_Lula_da_Silva as anchor\n"
     ]
    },
    {
     "name": "stderr",
     "output_type": "stream",
     "text": [
      "100%|██████████| 5748/5748 [00:14<00:00, 383.37it/s]\n"
     ]
    },
    {
     "name": "stdout",
     "output_type": "stream",
     "text": [
      "[DEBUG] Finished data variant setup\n",
      "Preparing data augmentation from data\\var_anchor to data\\var_positive.\n"
     ]
    },
    {
     "name": "stderr",
     "output_type": "stream",
     "text": [
      "100%|██████████| 48/48 [00:00<00:00, 73.73it/s]\n"
     ]
    },
    {
     "name": "stdout",
     "output_type": "stream",
     "text": [
      "Successfully generated 96 new images through data augmentation.\n",
      "Preparing data augmentation from data\\var_anchor to data\\var_anchor.\n"
     ]
    },
    {
     "name": "stderr",
     "output_type": "stream",
     "text": [
      "100%|██████████| 48/48 [00:00<00:00, 131.15it/s]\n"
     ]
    },
    {
     "name": "stdout",
     "output_type": "stream",
     "text": [
      "Successfully generated 48 new images through data augmentation.\n",
      "Harvesting data from anchor data\\var_anchor, positive data\\var_positive and negative data\\var_negative folder.\n",
      "Anchor images availlable :\t96\n",
      "Positive images availlable :\t96\n",
      "Negative images availlable :\t12445\n",
      "Tuple harvested :\t\t96\n",
      "Labelling data\n",
      "Successfully harvested and labelled 96 data.\n",
      "Begining training 13th/50 person.\n",
      "Epoch 1/10\n",
      "5/5 [==============================] - 66s 13s/step\n",
      "Loss : 0.9017344117164612\tRecall : 0.3636363744735718\tPrecision : 0.75\n",
      "Epoch 2/10\n",
      "5/5 [==============================] - 65s 12s/step\n",
      "Loss : 0.6873749494552612\tRecall : 0.7272727489471436\tPrecision : 0.7058823704719543\n",
      "Epoch 3/10\n",
      "5/5 [==============================] - 66s 13s/step\n",
      "Loss : 0.7560247778892517\tRecall : 0.44117647409439087\tPrecision : 0.8823529481887817\n",
      "Epoch 4/10\n",
      "5/5 [==============================] - 65s 13s/step\n",
      "Loss : 0.5410069227218628\tRecall : 0.5757575631141663\tPrecision : 0.7916666865348816\n",
      "Epoch 5/10\n",
      "5/5 [==============================] - 66s 13s/step\n",
      "Loss : 0.46863460540771484\tRecall : 0.21212121844291687\tPrecision : 0.7777777910232544\n",
      "Epoch 6/10\n",
      "5/5 [==============================] - 66s 13s/step\n",
      "Loss : 0.594683051109314\tRecall : 0.5454545617103577\tPrecision : 0.782608687877655\n",
      "Epoch 7/10\n",
      "5/5 [==============================] - 65s 13s/step\n",
      "Loss : 0.6224594116210938\tRecall : 0.7878788113594055\tPrecision : 0.7222222089767456\n",
      "Epoch 8/10\n",
      "5/5 [==============================] - 64s 12s/step\n",
      "Loss : 0.49658602476119995\tRecall : 0.8055555820465088\tPrecision : 0.7435897588729858\n",
      "Epoch 9/10\n",
      "5/5 [==============================] - 65s 12s/step\n",
      "Loss : 0.4935445487499237\tRecall : 0.7419354915618896\tPrecision : 0.8214285969734192\n",
      "Epoch 10/10\n",
      "5/5 [==============================] - 65s 13s/step\n",
      "Loss : 0.6938486099243164\tRecall : 1.0\tPrecision : 0.4848484992980957\n",
      "Training complete, saving embedding kernel.\n",
      "Successfully saved model at saved_model\\embedding_kernel_Georgeless.h5.\n",
      "Generating data variant with Gloria_Macapagal_Arroyo as anchor\n"
     ]
    },
    {
     "name": "stderr",
     "output_type": "stream",
     "text": [
      "100%|██████████| 5748/5748 [00:14<00:00, 394.00it/s]\n"
     ]
    },
    {
     "name": "stdout",
     "output_type": "stream",
     "text": [
      "[DEBUG] Finished data variant setup\n",
      "Preparing data augmentation from data\\var_anchor to data\\var_positive.\n"
     ]
    },
    {
     "name": "stderr",
     "output_type": "stream",
     "text": [
      "100%|██████████| 44/44 [00:00<00:00, 68.75it/s]\n"
     ]
    },
    {
     "name": "stdout",
     "output_type": "stream",
     "text": [
      "Successfully generated 88 new images through data augmentation.\n",
      "Preparing data augmentation from data\\var_anchor to data\\var_anchor.\n"
     ]
    },
    {
     "name": "stderr",
     "output_type": "stream",
     "text": [
      "100%|██████████| 44/44 [00:00<00:00, 124.64it/s]\n"
     ]
    },
    {
     "name": "stdout",
     "output_type": "stream",
     "text": [
      "Successfully generated 44 new images through data augmentation.\n",
      "Harvesting data from anchor data\\var_anchor, positive data\\var_positive and negative data\\var_negative folder.\n",
      "Anchor images availlable :\t88\n",
      "Positive images availlable :\t88\n",
      "Negative images availlable :\t12449\n",
      "Tuple harvested :\t\t88\n",
      "Labelling data\n",
      "Successfully harvested and labelled 88 data.\n",
      "Begining training 14th/50 person.\n",
      "Epoch 1/10\n",
      "4/4 [==============================] - 60s 15s/step\n",
      "Loss : 0.7182441353797913\tRecall : 0.8333333134651184\tPrecision : 0.46296295523643494\n",
      "Epoch 2/10\n",
      "4/4 [==============================] - 59s 15s/step\n",
      "Loss : 0.6915750503540039\tRecall : 0.7586206793785095\tPrecision : 0.5365853905677795\n",
      "Epoch 3/10\n",
      "4/4 [==============================] - 59s 15s/step\n",
      "Loss : 0.6890222430229187\tRecall : 0.6451612710952759\tPrecision : 0.5555555820465088\n",
      "Epoch 4/10\n",
      "4/4 [==============================] - 59s 14s/step\n",
      "Loss : 0.6884689927101135\tRecall : 0.6451612710952759\tPrecision : 0.5555555820465088\n",
      "Epoch 5/10\n",
      "4/4 [==============================] - 59s 15s/step\n",
      "Loss : 0.6854400634765625\tRecall : 0.9032257795333862\tPrecision : 0.5283018946647644\n",
      "Epoch 6/10\n",
      "4/4 [==============================] - 60s 15s/step\n",
      "Loss : 0.6516816020011902\tRecall : 0.9714285731315613\tPrecision : 0.5762711763381958\n",
      "Epoch 7/10\n",
      "4/4 [==============================] - 59s 15s/step\n",
      "Loss : 0.6381896734237671\tRecall : 1.0\tPrecision : 0.4354838728904724\n",
      "Epoch 8/10\n",
      "4/4 [==============================] - 58s 15s/step\n",
      "Loss : 0.6648183465003967\tRecall : 1.0\tPrecision : 0.5\n",
      "Epoch 9/10\n",
      "4/4 [==============================] - 59s 14s/step\n",
      "Loss : 0.72406005859375\tRecall : 0.9259259104728699\tPrecision : 0.4545454680919647\n",
      "Epoch 10/10\n",
      "4/4 [==============================] - 59s 15s/step\n",
      "Loss : 0.6761700510978699\tRecall : 0.8965517282485962\tPrecision : 0.49056604504585266\n",
      "Training complete, saving embedding kernel.\n",
      "Successfully saved model at saved_model\\embedding_kernel_Georgeless.h5.\n",
      "Generating data variant with Arnold_Schwarzenegger as anchor\n"
     ]
    },
    {
     "name": "stderr",
     "output_type": "stream",
     "text": [
      "100%|██████████| 5748/5748 [00:15<00:00, 374.39it/s]\n"
     ]
    },
    {
     "name": "stdout",
     "output_type": "stream",
     "text": [
      "[DEBUG] Finished data variant setup\n",
      "Preparing data augmentation from data\\var_anchor to data\\var_positive.\n"
     ]
    },
    {
     "name": "stderr",
     "output_type": "stream",
     "text": [
      "100%|██████████| 42/42 [00:00<00:00, 69.19it/s]\n"
     ]
    },
    {
     "name": "stdout",
     "output_type": "stream",
     "text": [
      "Successfully generated 84 new images through data augmentation.\n",
      "Preparing data augmentation from data\\var_anchor to data\\var_anchor.\n"
     ]
    },
    {
     "name": "stderr",
     "output_type": "stream",
     "text": [
      "100%|██████████| 42/42 [00:00<00:00, 119.65it/s]\n"
     ]
    },
    {
     "name": "stdout",
     "output_type": "stream",
     "text": [
      "Successfully generated 42 new images through data augmentation.\n",
      "Harvesting data from anchor data\\var_anchor, positive data\\var_positive and negative data\\var_negative folder.\n",
      "Anchor images availlable :\t84\n",
      "Positive images availlable :\t84\n",
      "Negative images availlable :\t12451\n",
      "Tuple harvested :\t\t84\n",
      "Labelling data\n",
      "Successfully harvested and labelled 84 data.\n",
      "Begining training 15th/50 person.\n",
      "Epoch 1/10\n",
      "4/4 [==============================] - 57s 14s/step\n",
      "Loss : 0.6945011019706726\tRecall : 0.7857142686843872\tPrecision : 0.4888888895511627\n",
      "Epoch 2/10\n",
      "4/4 [==============================] - 58s 14s/step\n",
      "Loss : 0.6946206092834473\tRecall : 0.7666666507720947\tPrecision : 0.5111111402511597\n",
      "Epoch 3/10\n",
      "4/4 [==============================] - 56s 14s/step\n",
      "Loss : 0.6899830102920532\tRecall : 0.8571428656578064\tPrecision : 0.5581395626068115\n",
      "Epoch 4/10\n",
      "4/4 [==============================] - 56s 14s/step\n",
      "Loss : 0.6948637366294861\tRecall : 0.6666666865348816\tPrecision : 0.6666666865348816\n",
      "Epoch 5/10\n",
      "4/4 [==============================] - 57s 14s/step\n",
      "Loss : 0.6862006783485413\tRecall : 0.5517241358757019\tPrecision : 0.5333333611488342\n",
      "Epoch 6/10\n",
      "4/4 [==============================] - 56s 13s/step\n",
      "Loss : 0.6851767897605896\tRecall : 0.75\tPrecision : 0.6486486196517944\n",
      "Epoch 7/10\n",
      "4/4 [==============================] - 57s 14s/step\n",
      "Loss : 0.7009615898132324\tRecall : 0.4838709533214569\tPrecision : 0.5769230723381042\n",
      "Epoch 8/10\n",
      "4/4 [==============================] - 56s 14s/step\n",
      "Loss : 0.6944446563720703\tRecall : 0.5862069129943848\tPrecision : 0.6538461446762085\n",
      "Epoch 9/10\n",
      "4/4 [==============================] - 57s 14s/step\n",
      "Loss : 0.6930811405181885\tRecall : 0.5666666626930237\tPrecision : 0.6800000071525574\n",
      "Epoch 10/10\n",
      "4/4 [==============================] - 55s 14s/step\n",
      "Loss : 0.6819256544113159\tRecall : 0.46666666865348816\tPrecision : 0.6086956262588501\n",
      "Training complete, saving embedding kernel.\n",
      "Successfully saved model at saved_model\\embedding_kernel_Georgeless.h5.\n",
      "Generating data variant with Jennifer_Capriati as anchor\n"
     ]
    },
    {
     "name": "stderr",
     "output_type": "stream",
     "text": [
      "100%|██████████| 5748/5748 [00:14<00:00, 387.15it/s]\n"
     ]
    },
    {
     "name": "stdout",
     "output_type": "stream",
     "text": [
      "[DEBUG] Finished data variant setup\n",
      "Preparing data augmentation from data\\var_anchor to data\\var_positive.\n"
     ]
    },
    {
     "name": "stderr",
     "output_type": "stream",
     "text": [
      "100%|██████████| 42/42 [00:00<00:00, 65.32it/s]\n"
     ]
    },
    {
     "name": "stdout",
     "output_type": "stream",
     "text": [
      "Successfully generated 84 new images through data augmentation.\n",
      "Preparing data augmentation from data\\var_anchor to data\\var_anchor.\n"
     ]
    },
    {
     "name": "stderr",
     "output_type": "stream",
     "text": [
      "100%|██████████| 42/42 [00:00<00:00, 131.25it/s]\n"
     ]
    },
    {
     "name": "stdout",
     "output_type": "stream",
     "text": [
      "Successfully generated 42 new images through data augmentation.\n",
      "Harvesting data from anchor data\\var_anchor, positive data\\var_positive and negative data\\var_negative folder.\n",
      "Anchor images availlable :\t84\n",
      "Positive images availlable :\t84\n",
      "Negative images availlable :\t12451\n",
      "Tuple harvested :\t\t84\n",
      "Labelling data\n",
      "Successfully harvested and labelled 84 data.\n",
      "Begining training 16th/50 person.\n",
      "Epoch 1/10\n",
      "4/4 [==============================] - 56s 14s/step\n",
      "Loss : 0.6857240796089172\tRecall : 0.4285714328289032\tPrecision : 0.5\n",
      "Epoch 2/10\n",
      "4/4 [==============================] - 57s 14s/step\n",
      "Loss : 0.7111982703208923\tRecall : 0.4137931168079376\tPrecision : 0.6666666865348816\n",
      "Epoch 3/10\n",
      "4/4 [==============================] - 56s 14s/step\n",
      "Loss : 0.6890828013420105\tRecall : 0.35483869910240173\tPrecision : 0.6111111044883728\n",
      "Epoch 4/10\n",
      "4/4 [==============================] - 56s 14s/step\n",
      "Loss : 0.6904568076133728\tRecall : 0.517241358757019\tPrecision : 0.517241358757019\n",
      "Epoch 5/10\n",
      "4/4 [==============================] - 56s 14s/step\n",
      "Loss : 0.6858286261558533\tRecall : 0.5806451439857483\tPrecision : 0.5454545617103577\n",
      "Epoch 6/10\n",
      "4/4 [==============================] - 57s 14s/step\n",
      "Loss : 0.6870706677436829\tRecall : 0.6071428656578064\tPrecision : 0.5666666626930237\n",
      "Epoch 7/10\n",
      "4/4 [==============================] - 57s 14s/step\n",
      "Loss : 0.6875028014183044\tRecall : 0.3076923191547394\tPrecision : 0.5\n",
      "Epoch 8/10\n",
      "4/4 [==============================] - 56s 13s/step\n",
      "Loss : 0.7033256888389587\tRecall : 0.30000001192092896\tPrecision : 0.6428571343421936\n",
      "Epoch 9/10\n",
      "4/4 [==============================] - 55s 13s/step\n",
      "Loss : 0.6819005608558655\tRecall : 0.37931033968925476\tPrecision : 0.5789473652839661\n",
      "Epoch 10/10\n",
      "4/4 [==============================] - 55s 14s/step\n",
      "Loss : 0.6792554259300232\tRecall : 0.6153846383094788\tPrecision : 0.5925925970077515\n",
      "Training complete, saving embedding kernel.\n",
      "Successfully saved model at saved_model\\embedding_kernel_Georgeless.h5.\n",
      "Generating data variant with Laura_Bush as anchor\n"
     ]
    },
    {
     "name": "stderr",
     "output_type": "stream",
     "text": [
      "100%|██████████| 5748/5748 [00:14<00:00, 385.37it/s]\n"
     ]
    },
    {
     "name": "stdout",
     "output_type": "stream",
     "text": [
      "[DEBUG] Finished data variant setup\n",
      "Preparing data augmentation from data\\var_anchor to data\\var_positive.\n"
     ]
    },
    {
     "name": "stderr",
     "output_type": "stream",
     "text": [
      "100%|██████████| 41/41 [00:00<00:00, 59.77it/s]\n"
     ]
    },
    {
     "name": "stdout",
     "output_type": "stream",
     "text": [
      "Successfully generated 82 new images through data augmentation.\n",
      "Preparing data augmentation from data\\var_anchor to data\\var_anchor.\n"
     ]
    },
    {
     "name": "stderr",
     "output_type": "stream",
     "text": [
      "100%|██████████| 41/41 [00:00<00:00, 113.57it/s]\n"
     ]
    },
    {
     "name": "stdout",
     "output_type": "stream",
     "text": [
      "Successfully generated 41 new images through data augmentation.\n",
      "Harvesting data from anchor data\\var_anchor, positive data\\var_positive and negative data\\var_negative folder.\n",
      "Anchor images availlable :\t82\n",
      "Positive images availlable :\t82\n",
      "Negative images availlable :\t12452\n",
      "Tuple harvested :\t\t82\n",
      "Labelling data\n",
      "Successfully harvested and labelled 82 data.\n",
      "Begining training 17th/50 person.\n",
      "Epoch 1/10\n",
      "4/4 [==============================] - 56s 13s/step\n",
      "Loss : 0.6891363859176636\tRecall : 0.29629629850387573\tPrecision : 0.800000011920929\n",
      "Epoch 2/10\n",
      "4/4 [==============================] - 55s 13s/step\n",
      "Loss : 0.6976795792579651\tRecall : 0.3928571343421936\tPrecision : 0.4399999976158142\n",
      "Epoch 3/10\n",
      "4/4 [==============================] - 56s 13s/step\n",
      "Loss : 0.6913534998893738\tRecall : 0.6774193644523621\tPrecision : 0.45652174949645996\n",
      "Epoch 4/10\n",
      "4/4 [==============================] - 56s 13s/step\n",
      "Loss : 0.6886944770812988\tRecall : 0.9666666388511658\tPrecision : 0.5178571343421936\n",
      "Epoch 5/10\n",
      "4/4 [==============================] - 56s 13s/step\n",
      "Loss : 0.6899579167366028\tRecall : 0.9655172228813171\tPrecision : 0.5\n",
      "Epoch 6/10\n",
      "4/4 [==============================] - 56s 14s/step\n",
      "Loss : 0.6894499063491821\tRecall : 1.0\tPrecision : 0.5344827771186829\n",
      "Epoch 7/10\n",
      "4/4 [==============================] - 56s 13s/step\n",
      "Loss : 0.6839073896408081\tRecall : 0.9629629850387573\tPrecision : 0.45614033937454224\n",
      "Epoch 8/10\n",
      "4/4 [==============================] - 56s 14s/step\n",
      "Loss : 0.6969998478889465\tRecall : 1.0\tPrecision : 0.5\n",
      "Epoch 9/10\n",
      "4/4 [==============================] - 55s 13s/step\n",
      "Loss : 0.6971211433410645\tRecall : 1.0\tPrecision : 0.43103447556495667\n",
      "Epoch 10/10\n",
      "4/4 [==============================] - 56s 13s/step\n",
      "Loss : 0.67144376039505\tRecall : 0.9696969985961914\tPrecision : 0.5614035129547119\n",
      "Training complete, saving embedding kernel.\n",
      "Successfully saved model at saved_model\\embedding_kernel_Georgeless.h5.\n",
      "Generating data variant with Lleyton_Hewitt as anchor\n"
     ]
    },
    {
     "name": "stderr",
     "output_type": "stream",
     "text": [
      "100%|██████████| 5748/5748 [00:14<00:00, 391.68it/s]\n"
     ]
    },
    {
     "name": "stdout",
     "output_type": "stream",
     "text": [
      "[DEBUG] Finished data variant setup\n",
      "Preparing data augmentation from data\\var_anchor to data\\var_positive.\n"
     ]
    },
    {
     "name": "stderr",
     "output_type": "stream",
     "text": [
      "100%|██████████| 41/41 [00:00<00:00, 73.74it/s]\n"
     ]
    },
    {
     "name": "stdout",
     "output_type": "stream",
     "text": [
      "Successfully generated 82 new images through data augmentation.\n",
      "Preparing data augmentation from data\\var_anchor to data\\var_anchor.\n"
     ]
    },
    {
     "name": "stderr",
     "output_type": "stream",
     "text": [
      "100%|██████████| 41/41 [00:00<00:00, 128.53it/s]\n"
     ]
    },
    {
     "name": "stdout",
     "output_type": "stream",
     "text": [
      "Successfully generated 41 new images through data augmentation.\n",
      "Harvesting data from anchor data\\var_anchor, positive data\\var_positive and negative data\\var_negative folder.\n",
      "Anchor images availlable :\t82\n",
      "Positive images availlable :\t82\n",
      "Negative images availlable :\t12452\n",
      "Tuple harvested :\t\t82\n",
      "Labelling data\n",
      "Successfully harvested and labelled 82 data.\n",
      "Begining training 18th/50 person.\n",
      "Epoch 1/10\n",
      "4/4 [==============================] - 56s 13s/step\n",
      "Loss : 0.6960843205451965\tRecall : 0.9629629850387573\tPrecision : 0.45614033937454224\n",
      "Epoch 2/10\n",
      "4/4 [==============================] - 55s 13s/step\n",
      "Loss : 0.6908075213432312\tRecall : 1.0\tPrecision : 0.517241358757019\n",
      "Epoch 3/10\n",
      "4/4 [==============================] - 52s 13s/step\n",
      "Loss : 0.7026683688163757\tRecall : 0.9629629850387573\tPrecision : 0.4642857015132904\n",
      "Epoch 4/10\n",
      "4/4 [==============================] - 55s 13s/step\n",
      "Loss : 0.6928884387016296\tRecall : 0.931034505367279\tPrecision : 0.4909090995788574\n",
      "Epoch 5/10\n",
      "4/4 [==============================] - 56s 14s/step\n",
      "Loss : 0.689308762550354\tRecall : 0.8571428656578064\tPrecision : 0.47058823704719543\n",
      "Epoch 6/10\n",
      "4/4 [==============================] - 56s 13s/step\n",
      "Loss : 0.6928949952125549\tRecall : 0.8571428656578064\tPrecision : 0.47058823704719543\n",
      "Epoch 7/10\n",
      "4/4 [==============================] - 56s 14s/step\n",
      "Loss : 0.6947627067565918\tRecall : 0.800000011920929\tPrecision : 0.5\n",
      "Epoch 8/10\n",
      "4/4 [==============================] - 55s 13s/step\n",
      "Loss : 0.6886083483695984\tRecall : 0.807692289352417\tPrecision : 0.4883720874786377\n",
      "Epoch 9/10\n",
      "4/4 [==============================] - 57s 14s/step\n",
      "Loss : 0.6860174536705017\tRecall : 0.692307710647583\tPrecision : 0.5\n",
      "Epoch 10/10\n",
      "4/4 [==============================] - 55s 13s/step\n",
      "Loss : 0.6773046255111694\tRecall : 0.46666666865348816\tPrecision : 0.6363636255264282\n",
      "Training complete, saving embedding kernel.\n",
      "Successfully saved model at saved_model\\embedding_kernel_Georgeless.h5.\n",
      "Generating data variant with Alejandro_Toledo as anchor\n"
     ]
    },
    {
     "name": "stderr",
     "output_type": "stream",
     "text": [
      "100%|██████████| 5748/5748 [00:14<00:00, 385.73it/s]\n"
     ]
    },
    {
     "name": "stdout",
     "output_type": "stream",
     "text": [
      "[DEBUG] Finished data variant setup\n",
      "Preparing data augmentation from data\\var_anchor to data\\var_positive.\n"
     ]
    },
    {
     "name": "stderr",
     "output_type": "stream",
     "text": [
      "100%|██████████| 39/39 [00:00<00:00, 66.21it/s]\n"
     ]
    },
    {
     "name": "stdout",
     "output_type": "stream",
     "text": [
      "Successfully generated 78 new images through data augmentation.\n",
      "Preparing data augmentation from data\\var_anchor to data\\var_anchor.\n"
     ]
    },
    {
     "name": "stderr",
     "output_type": "stream",
     "text": [
      "100%|██████████| 39/39 [00:00<00:00, 116.77it/s]\n"
     ]
    },
    {
     "name": "stdout",
     "output_type": "stream",
     "text": [
      "Successfully generated 39 new images through data augmentation.\n",
      "Harvesting data from anchor data\\var_anchor, positive data\\var_positive and negative data\\var_negative folder.\n",
      "Anchor images availlable :\t78\n",
      "Positive images availlable :\t78\n",
      "Negative images availlable :\t12454\n",
      "Tuple harvested :\t\t78\n",
      "Labelling data\n",
      "Successfully harvested and labelled 78 data.\n",
      "Begining training 19th/50 person.\n",
      "Epoch 1/10\n",
      "4/4 [==============================] - 54s 13s/step\n",
      "Loss : 0.6828895211219788\tRecall : 0.5925925970077515\tPrecision : 0.8888888955116272\n",
      "Epoch 2/10\n",
      "4/4 [==============================] - 52s 13s/step\n",
      "Loss : 0.6507392525672913\tRecall : 0.11538461595773697\tPrecision : 1.0\n",
      "Epoch 3/10\n",
      "4/4 [==============================] - 53s 12s/step\n",
      "Loss : 0.770961344242096\tRecall : 0.0\tPrecision : 0.0\n",
      "Epoch 4/10\n",
      "4/4 [==============================] - 53s 13s/step\n",
      "Loss : 0.6858649849891663\tRecall : 0.14814814925193787\tPrecision : 0.800000011920929\n",
      "Epoch 5/10\n",
      "4/4 [==============================] - 52s 12s/step\n",
      "Loss : 0.6623243689537048\tRecall : 0.23999999463558197\tPrecision : 0.8571428656578064\n",
      "Epoch 6/10\n",
      "4/4 [==============================] - 53s 13s/step\n",
      "Loss : 0.6581859588623047\tRecall : 0.03703703731298447\tPrecision : 1.0\n",
      "Epoch 7/10\n",
      "4/4 [==============================] - 53s 12s/step\n",
      "Loss : 0.9060987830162048\tRecall : 0.07692307978868484\tPrecision : 1.0\n",
      "Epoch 8/10\n",
      "4/4 [==============================] - 53s 13s/step\n",
      "Loss : 0.6415258646011353\tRecall : 0.7586206793785095\tPrecision : 0.7333333492279053\n",
      "Epoch 9/10\n",
      "4/4 [==============================] - 53s 12s/step\n",
      "Loss : 0.674899697303772\tRecall : 1.0\tPrecision : 0.5714285969734192\n",
      "Epoch 10/10\n",
      "4/4 [==============================] - 53s 13s/step\n",
      "Loss : 0.6502346396446228\tRecall : 1.0\tPrecision : 0.6428571343421936\n",
      "Training complete, saving embedding kernel.\n",
      "Successfully saved model at saved_model\\embedding_kernel_Georgeless.h5.\n",
      "Generating data variant with Hans_Blix as anchor\n"
     ]
    },
    {
     "name": "stderr",
     "output_type": "stream",
     "text": [
      "100%|██████████| 5748/5748 [00:15<00:00, 371.04it/s]\n"
     ]
    },
    {
     "name": "stdout",
     "output_type": "stream",
     "text": [
      "[DEBUG] Finished data variant setup\n",
      "Preparing data augmentation from data\\var_anchor to data\\var_positive.\n"
     ]
    },
    {
     "name": "stderr",
     "output_type": "stream",
     "text": [
      "100%|██████████| 39/39 [00:00<00:00, 69.52it/s]\n"
     ]
    },
    {
     "name": "stdout",
     "output_type": "stream",
     "text": [
      "Successfully generated 78 new images through data augmentation.\n",
      "Preparing data augmentation from data\\var_anchor to data\\var_anchor.\n"
     ]
    },
    {
     "name": "stderr",
     "output_type": "stream",
     "text": [
      "100%|██████████| 39/39 [00:00<00:00, 128.71it/s]\n"
     ]
    },
    {
     "name": "stdout",
     "output_type": "stream",
     "text": [
      "Successfully generated 39 new images through data augmentation.\n",
      "Harvesting data from anchor data\\var_anchor, positive data\\var_positive and negative data\\var_negative folder.\n",
      "Anchor images availlable :\t78\n",
      "Positive images availlable :\t78\n",
      "Negative images availlable :\t12454\n",
      "Tuple harvested :\t\t78\n",
      "Labelling data\n",
      "Successfully harvested and labelled 78 data.\n",
      "Begining training 20th/50 person.\n",
      "Epoch 1/10\n",
      "4/4 [==============================] - 52s 12s/step\n",
      "Loss : 0.6754673719406128\tRecall : 0.1785714328289032\tPrecision : 0.5555555820465088\n",
      "Epoch 2/10\n",
      "4/4 [==============================] - 53s 13s/step\n",
      "Loss : 0.6444010734558105\tRecall : 0.03999999910593033\tPrecision : 0.5\n",
      "Epoch 3/10\n",
      "4/4 [==============================] - 53s 12s/step\n",
      "Loss : 0.6914754509925842\tRecall : 0.07692307978868484\tPrecision : 1.0\n",
      "Epoch 4/10\n",
      "4/4 [==============================] - 53s 13s/step\n",
      "Loss : 0.6604765057563782\tRecall : 0.0\tPrecision : 0.0\n",
      "Epoch 5/10\n",
      "4/4 [==============================] - 53s 13s/step\n",
      "Loss : 0.6811699867248535\tRecall : 0.10000000149011612\tPrecision : 0.75\n",
      "Epoch 6/10\n",
      "4/4 [==============================] - 52s 12s/step\n",
      "Loss : 0.693448007106781\tRecall : 0.6000000238418579\tPrecision : 0.5357142686843872\n",
      "Epoch 7/10\n",
      "4/4 [==============================] - 53s 13s/step\n",
      "Loss : 0.6875573396682739\tRecall : 0.9259259104728699\tPrecision : 0.5952380895614624\n",
      "Epoch 8/10\n",
      "4/4 [==============================] - 52s 12s/step\n",
      "Loss : 0.6784897446632385\tRecall : 0.9230769276618958\tPrecision : 0.6315789222717285\n",
      "Epoch 9/10\n",
      "4/4 [==============================] - 53s 13s/step\n",
      "Loss : 0.6803818941116333\tRecall : 0.7142857313156128\tPrecision : 0.6060606241226196\n",
      "Epoch 10/10\n",
      "4/4 [==============================] - 53s 12s/step\n",
      "Loss : 0.6925520300865173\tRecall : 0.5357142686843872\tPrecision : 0.5769230723381042\n",
      "Training complete, saving embedding kernel.\n",
      "Successfully saved model at saved_model\\embedding_kernel_Georgeless.h5.\n",
      "Generating data variant with Nestor_Kirchner as anchor\n"
     ]
    },
    {
     "name": "stderr",
     "output_type": "stream",
     "text": [
      "100%|██████████| 5748/5748 [00:15<00:00, 374.18it/s]\n"
     ]
    },
    {
     "name": "stdout",
     "output_type": "stream",
     "text": [
      "[DEBUG] Finished data variant setup\n",
      "Preparing data augmentation from data\\var_anchor to data\\var_positive.\n"
     ]
    },
    {
     "name": "stderr",
     "output_type": "stream",
     "text": [
      "100%|██████████| 37/37 [00:00<00:00, 69.42it/s]\n"
     ]
    },
    {
     "name": "stdout",
     "output_type": "stream",
     "text": [
      "Successfully generated 74 new images through data augmentation.\n",
      "Preparing data augmentation from data\\var_anchor to data\\var_anchor.\n"
     ]
    },
    {
     "name": "stderr",
     "output_type": "stream",
     "text": [
      "100%|██████████| 37/37 [00:00<00:00, 125.85it/s]\n"
     ]
    },
    {
     "name": "stdout",
     "output_type": "stream",
     "text": [
      "Successfully generated 37 new images through data augmentation.\n",
      "Harvesting data from anchor data\\var_anchor, positive data\\var_positive and negative data\\var_negative folder.\n",
      "Anchor images availlable :\t74\n",
      "Positive images availlable :\t74\n",
      "Negative images availlable :\t12456\n",
      "Tuple harvested :\t\t74\n",
      "Labelling data\n",
      "Successfully harvested and labelled 74 data.\n",
      "Begining training 21th/50 person.\n",
      "Epoch 1/10\n",
      "4/4 [==============================] - 51s 12s/step\n",
      "Loss : 0.61667799949646\tRecall : 0.5600000023841858\tPrecision : 0.8235294222831726\n",
      "Epoch 2/10\n",
      "4/4 [==============================] - 50s 11s/step\n",
      "Loss : 0.7580945491790771\tRecall : 0.13333334028720856\tPrecision : 0.5714285969734192\n",
      "Epoch 3/10\n",
      "4/4 [==============================] - 50s 12s/step\n",
      "Loss : 0.6700143814086914\tRecall : 0.1428571492433548\tPrecision : 0.800000011920929\n",
      "Epoch 4/10\n",
      "4/4 [==============================] - 50s 11s/step\n",
      "Loss : 0.6308032274246216\tRecall : 0.1071428582072258\tPrecision : 0.6000000238418579\n",
      "Epoch 5/10\n",
      "4/4 [==============================] - 50s 12s/step\n",
      "Loss : 0.5503502488136292\tRecall : 0.11999999731779099\tPrecision : 0.6000000238418579\n",
      "Epoch 6/10\n",
      "4/4 [==============================] - 50s 11s/step\n",
      "Loss : 0.6103019118309021\tRecall : 0.5454545617103577\tPrecision : 0.7058823704719543\n",
      "Epoch 7/10\n",
      "4/4 [==============================] - 50s 12s/step\n",
      "Loss : 0.6751928329467773\tRecall : 0.1111111119389534\tPrecision : 0.75\n",
      "Epoch 8/10\n",
      "4/4 [==============================] - 50s 11s/step\n",
      "Loss : 0.6942487955093384\tRecall : 0.5384615659713745\tPrecision : 0.7368420958518982\n",
      "Epoch 9/10\n",
      "4/4 [==============================] - 50s 12s/step\n",
      "Loss : 0.47401267290115356\tRecall : 0.37037035822868347\tPrecision : 0.7142857313156128\n",
      "Epoch 10/10\n",
      "4/4 [==============================] - 50s 11s/step\n",
      "Loss : 0.6898939609527588\tRecall : 0.5555555820465088\tPrecision : 0.8823529481887817\n",
      "Training complete, saving embedding kernel.\n",
      "Successfully saved model at saved_model\\embedding_kernel_Georgeless.h5.\n",
      "Generating data variant with Andre_Agassi as anchor\n"
     ]
    },
    {
     "name": "stderr",
     "output_type": "stream",
     "text": [
      "100%|██████████| 5748/5748 [00:15<00:00, 374.86it/s]\n"
     ]
    },
    {
     "name": "stdout",
     "output_type": "stream",
     "text": [
      "[DEBUG] Finished data variant setup\n",
      "Preparing data augmentation from data\\var_anchor to data\\var_positive.\n"
     ]
    },
    {
     "name": "stderr",
     "output_type": "stream",
     "text": [
      "100%|██████████| 36/36 [00:00<00:00, 55.30it/s]\n"
     ]
    },
    {
     "name": "stdout",
     "output_type": "stream",
     "text": [
      "Successfully generated 72 new images through data augmentation.\n",
      "Preparing data augmentation from data\\var_anchor to data\\var_anchor.\n"
     ]
    },
    {
     "name": "stderr",
     "output_type": "stream",
     "text": [
      "100%|██████████| 36/36 [00:00<00:00, 122.45it/s]\n"
     ]
    },
    {
     "name": "stdout",
     "output_type": "stream",
     "text": [
      "Successfully generated 36 new images through data augmentation.\n",
      "Harvesting data from anchor data\\var_anchor, positive data\\var_positive and negative data\\var_negative folder.\n",
      "Anchor images availlable :\t72\n",
      "Positive images availlable :\t72\n",
      "Negative images availlable :\t12457\n",
      "Tuple harvested :\t\t72\n",
      "Labelling data\n",
      "Successfully harvested and labelled 72 data.\n",
      "Begining training 22th/50 person.\n",
      "Epoch 1/10\n",
      "4/4 [==============================] - 49s 11s/step\n",
      "Loss : 0.6963582038879395\tRecall : 0.7692307829856873\tPrecision : 0.4761904776096344\n",
      "Epoch 2/10\n",
      "4/4 [==============================] - 49s 11s/step\n",
      "Loss : 0.6801806092262268\tRecall : 1.0\tPrecision : 0.4901960790157318\n",
      "Epoch 3/10\n",
      "4/4 [==============================] - 49s 11s/step\n",
      "Loss : 0.6884263157844543\tRecall : 1.0\tPrecision : 0.45098039507865906\n",
      "Epoch 4/10\n",
      "4/4 [==============================] - 48s 11s/step\n",
      "Loss : 0.6982381939888\tRecall : 1.0\tPrecision : 0.47058823704719543\n",
      "Epoch 5/10\n",
      "4/4 [==============================] - 49s 11s/step\n",
      "Loss : 0.67879319190979\tRecall : 1.0\tPrecision : 0.4901960790157318\n",
      "Epoch 6/10\n",
      "4/4 [==============================] - 49s 11s/step\n",
      "Loss : 0.6883478164672852\tRecall : 1.0\tPrecision : 0.47058823704719543\n",
      "Epoch 7/10\n",
      "4/4 [==============================] - 49s 11s/step\n",
      "Loss : 0.6883151531219482\tRecall : 1.0\tPrecision : 0.4901960790157318\n",
      "Epoch 8/10\n",
      "4/4 [==============================] - 49s 11s/step\n",
      "Loss : 0.708156168460846\tRecall : 1.0\tPrecision : 0.45098039507865906\n",
      "Epoch 9/10\n",
      "4/4 [==============================] - 49s 11s/step\n",
      "Loss : 0.7081155776977539\tRecall : 1.0\tPrecision : 0.47058823704719543\n",
      "Epoch 10/10\n",
      "4/4 [==============================] - 47s 11s/step\n",
      "Loss : 0.6883337497711182\tRecall : 1.0\tPrecision : 0.47058823704719543\n",
      "Training complete, saving embedding kernel.\n",
      "Successfully saved model at saved_model\\embedding_kernel_Georgeless.h5.\n",
      "Generating data variant with Alvaro_Uribe as anchor\n"
     ]
    },
    {
     "name": "stderr",
     "output_type": "stream",
     "text": [
      "100%|██████████| 5748/5748 [00:15<00:00, 374.23it/s]\n"
     ]
    },
    {
     "name": "stdout",
     "output_type": "stream",
     "text": [
      "[DEBUG] Finished data variant setup\n",
      "Preparing data augmentation from data\\var_anchor to data\\var_positive.\n"
     ]
    },
    {
     "name": "stderr",
     "output_type": "stream",
     "text": [
      "100%|██████████| 35/35 [00:00<00:00, 66.29it/s]\n"
     ]
    },
    {
     "name": "stdout",
     "output_type": "stream",
     "text": [
      "Successfully generated 70 new images through data augmentation.\n",
      "Preparing data augmentation from data\\var_anchor to data\\var_anchor.\n"
     ]
    },
    {
     "name": "stderr",
     "output_type": "stream",
     "text": [
      "100%|██████████| 35/35 [00:00<00:00, 125.90it/s]\n"
     ]
    },
    {
     "name": "stdout",
     "output_type": "stream",
     "text": [
      "Successfully generated 35 new images through data augmentation.\n",
      "Harvesting data from anchor data\\var_anchor, positive data\\var_positive and negative data\\var_negative folder.\n",
      "Anchor images availlable :\t70\n",
      "Positive images availlable :\t70\n",
      "Negative images availlable :\t12458\n",
      "Tuple harvested :\t\t70\n",
      "Labelling data\n",
      "Successfully harvested and labelled 70 data.\n",
      "Begining training 23th/50 person.\n",
      "Epoch 1/10\n",
      "4/4 [==============================] - 49s 11s/step\n",
      "Loss : 0.7079579830169678\tRecall : 1.0\tPrecision : 0.46000000834465027\n",
      "Epoch 2/10\n",
      "4/4 [==============================] - 48s 11s/step\n",
      "Loss : 0.6786621809005737\tRecall : 1.0\tPrecision : 0.5199999809265137\n",
      "Epoch 3/10\n",
      "4/4 [==============================] - 48s 11s/step\n",
      "Loss : 0.707848310470581\tRecall : 1.0\tPrecision : 0.5\n",
      "Epoch 4/10\n",
      "4/4 [==============================] - 48s 11s/step\n",
      "Loss : 0.6932523846626282\tRecall : 1.0\tPrecision : 0.5\n",
      "Epoch 5/10\n",
      "4/4 [==============================] - 49s 11s/step\n",
      "Loss : 0.7077271342277527\tRecall : 1.0\tPrecision : 0.4399999976158142\n",
      "Epoch 6/10\n",
      "4/4 [==============================] - 48s 11s/step\n",
      "Loss : 0.6788821220397949\tRecall : 1.0\tPrecision : 0.5199999809265137\n",
      "Epoch 7/10\n",
      "4/4 [==============================] - 49s 11s/step\n",
      "Loss : 0.6932505369186401\tRecall : 1.0\tPrecision : 0.47999998927116394\n",
      "Epoch 8/10\n",
      "4/4 [==============================] - 48s 11s/step\n",
      "Loss : 0.6932493448257446\tRecall : 1.0\tPrecision : 0.5199999809265137\n",
      "Epoch 9/10\n",
      "4/4 [==============================] - 49s 11s/step\n",
      "Loss : 0.6932506561279297\tRecall : 1.0\tPrecision : 0.5799999833106995\n",
      "Epoch 10/10\n",
      "4/4 [==============================] - 48s 11s/step\n",
      "Loss : 0.6932505369186401\tRecall : 1.0\tPrecision : 0.46000000834465027\n",
      "Training complete, saving embedding kernel.\n",
      "Successfully saved model at saved_model\\embedding_kernel_Georgeless.h5.\n",
      "Generating data variant with Megawati_Sukarnoputri as anchor\n"
     ]
    },
    {
     "name": "stderr",
     "output_type": "stream",
     "text": [
      "100%|██████████| 5748/5748 [00:15<00:00, 380.75it/s]\n"
     ]
    },
    {
     "name": "stdout",
     "output_type": "stream",
     "text": [
      "[DEBUG] Finished data variant setup\n",
      "Preparing data augmentation from data\\var_anchor to data\\var_positive.\n"
     ]
    },
    {
     "name": "stderr",
     "output_type": "stream",
     "text": [
      "100%|██████████| 33/33 [00:00<00:00, 66.53it/s]\n"
     ]
    },
    {
     "name": "stdout",
     "output_type": "stream",
     "text": [
      "Successfully generated 66 new images through data augmentation.\n",
      "Preparing data augmentation from data\\var_anchor to data\\var_anchor.\n"
     ]
    },
    {
     "name": "stderr",
     "output_type": "stream",
     "text": [
      "100%|██████████| 33/33 [00:00<00:00, 128.91it/s]\n"
     ]
    },
    {
     "name": "stdout",
     "output_type": "stream",
     "text": [
      "Successfully generated 33 new images through data augmentation.\n",
      "Harvesting data from anchor data\\var_anchor, positive data\\var_positive and negative data\\var_negative folder.\n",
      "Anchor images availlable :\t66\n",
      "Positive images availlable :\t66\n",
      "Negative images availlable :\t12460\n",
      "Tuple harvested :\t\t66\n",
      "Labelling data\n",
      "Successfully harvested and labelled 66 data.\n",
      "Begining training 24th/50 person.\n",
      "Epoch 1/10\n",
      "3/3 [==============================] - 45s 15s/step\n",
      "Loss : 0.69612056016922\tRecall : 1.0\tPrecision : 0.5106382966041565\n",
      "Epoch 2/10\n",
      "3/3 [==============================] - 45s 15s/step\n",
      "Loss : 0.6999408602714539\tRecall : 1.0\tPrecision : 0.4680851101875305\n",
      "Epoch 3/10\n",
      "3/3 [==============================] - 45s 15s/step\n",
      "Loss : 0.6903892755508423\tRecall : 1.0\tPrecision : 0.5106382966041565\n",
      "Epoch 4/10\n",
      "3/3 [==============================] - 45s 15s/step\n",
      "Loss : 0.6961129307746887\tRecall : 1.0\tPrecision : 0.44680851697921753\n",
      "Epoch 5/10\n",
      "3/3 [==============================] - 45s 15s/step\n",
      "Loss : 0.6980239748954773\tRecall : 1.0\tPrecision : 0.5106382966041565\n",
      "Epoch 6/10\n",
      "3/3 [==============================] - 44s 15s/step\n",
      "Loss : 0.6903968453407288\tRecall : 1.0\tPrecision : 0.5744680762290955\n",
      "Epoch 7/10\n",
      "3/3 [==============================] - 45s 15s/step\n",
      "Loss : 0.6922948360443115\tRecall : 1.0\tPrecision : 0.5106382966041565\n",
      "Epoch 8/10\n",
      "3/3 [==============================] - 45s 15s/step\n",
      "Loss : 0.6865814328193665\tRecall : 1.0\tPrecision : 0.5106382966041565\n",
      "Epoch 9/10\n",
      "3/3 [==============================] - 47s 15s/step\n",
      "Loss : 0.6942023634910583\tRecall : 1.0\tPrecision : 0.4680851101875305\n",
      "Epoch 10/10\n",
      "3/3 [==============================] - 45s 15s/step\n",
      "Loss : 0.6941998600959778\tRecall : 1.0\tPrecision : 0.44680851697921753\n",
      "Training complete, saving embedding kernel.\n",
      "Successfully saved model at saved_model\\embedding_kernel_Georgeless.h5.\n",
      "Generating data variant with Silvio_Berlusconi as anchor\n"
     ]
    },
    {
     "name": "stderr",
     "output_type": "stream",
     "text": [
      "100%|██████████| 5748/5748 [00:15<00:00, 366.47it/s]\n"
     ]
    },
    {
     "name": "stdout",
     "output_type": "stream",
     "text": [
      "[DEBUG] Finished data variant setup\n",
      "Preparing data augmentation from data\\var_anchor to data\\var_positive.\n"
     ]
    },
    {
     "name": "stderr",
     "output_type": "stream",
     "text": [
      "100%|██████████| 33/33 [00:00<00:00, 64.33it/s]\n"
     ]
    },
    {
     "name": "stdout",
     "output_type": "stream",
     "text": [
      "Successfully generated 66 new images through data augmentation.\n",
      "Preparing data augmentation from data\\var_anchor to data\\var_anchor.\n"
     ]
    },
    {
     "name": "stderr",
     "output_type": "stream",
     "text": [
      "100%|██████████| 33/33 [00:00<00:00, 120.00it/s]\n"
     ]
    },
    {
     "name": "stdout",
     "output_type": "stream",
     "text": [
      "Successfully generated 33 new images through data augmentation.\n",
      "Harvesting data from anchor data\\var_anchor, positive data\\var_positive and negative data\\var_negative folder.\n",
      "Anchor images availlable :\t66\n",
      "Positive images availlable :\t66\n",
      "Negative images availlable :\t12460\n",
      "Tuple harvested :\t\t66\n",
      "Labelling data\n",
      "Successfully harvested and labelled 66 data.\n",
      "Begining training 25th/50 person.\n",
      "Epoch 1/10\n",
      "3/3 [==============================] - 45s 15s/step\n",
      "Loss : 0.696098268032074\tRecall : 1.0\tPrecision : 0.5531914830207825\n",
      "Epoch 2/10\n",
      "3/3 [==============================] - 45s 15s/step\n",
      "Loss : 0.6922962665557861\tRecall : 1.0\tPrecision : 0.5744680762290955\n",
      "Epoch 3/10\n",
      "3/3 [==============================] - 45s 15s/step\n",
      "Loss : 0.6961057186126709\tRecall : 1.0\tPrecision : 0.4680851101875305\n",
      "Epoch 4/10\n",
      "3/3 [==============================] - 45s 15s/step\n",
      "Loss : 0.6922954320907593\tRecall : 1.0\tPrecision : 0.4680851101875305\n",
      "Epoch 5/10\n",
      "3/3 [==============================] - 44s 15s/step\n",
      "Loss : 0.6922919154167175\tRecall : 1.0\tPrecision : 0.5744680762290955\n",
      "Epoch 6/10\n",
      "3/3 [==============================] - 45s 15s/step\n",
      "Loss : 0.6980051398277283\tRecall : 1.0\tPrecision : 0.42553192377090454\n",
      "Epoch 7/10\n",
      "3/3 [==============================] - 45s 15s/step\n",
      "Loss : 0.6922948360443115\tRecall : 1.0\tPrecision : 0.5106382966041565\n",
      "Epoch 8/10\n",
      "3/3 [==============================] - 45s 15s/step\n",
      "Loss : 0.6922973394393921\tRecall : 1.0\tPrecision : 0.4893617033958435\n",
      "Epoch 9/10\n",
      "3/3 [==============================] - 45s 15s/step\n",
      "Loss : 0.6922972202301025\tRecall : 1.0\tPrecision : 0.5106382966041565\n",
      "Epoch 10/10\n",
      "3/3 [==============================] - 46s 15s/step\n",
      "Loss : 0.6922985315322876\tRecall : 1.0\tPrecision : 0.5319148898124695\n",
      "Training complete, saving embedding kernel.\n",
      "Successfully saved model at saved_model\\embedding_kernel_Georgeless.h5.\n",
      "Generating data variant with Tom_Ridge as anchor\n"
     ]
    },
    {
     "name": "stderr",
     "output_type": "stream",
     "text": [
      "100%|██████████| 5748/5748 [00:15<00:00, 381.69it/s]\n"
     ]
    },
    {
     "name": "stdout",
     "output_type": "stream",
     "text": [
      "[DEBUG] Finished data variant setup\n",
      "Preparing data augmentation from data\\var_anchor to data\\var_positive.\n"
     ]
    },
    {
     "name": "stderr",
     "output_type": "stream",
     "text": [
      "100%|██████████| 33/33 [00:00<00:00, 36.03it/s]\n"
     ]
    },
    {
     "name": "stdout",
     "output_type": "stream",
     "text": [
      "Successfully generated 66 new images through data augmentation.\n",
      "Preparing data augmentation from data\\var_anchor to data\\var_anchor.\n"
     ]
    },
    {
     "name": "stderr",
     "output_type": "stream",
     "text": [
      "100%|██████████| 33/33 [00:00<00:00, 106.80it/s]\n"
     ]
    },
    {
     "name": "stdout",
     "output_type": "stream",
     "text": [
      "Successfully generated 33 new images through data augmentation.\n",
      "Harvesting data from anchor data\\var_anchor, positive data\\var_positive and negative data\\var_negative folder.\n",
      "Anchor images availlable :\t66\n",
      "Positive images availlable :\t66\n",
      "Negative images availlable :\t12460\n",
      "Tuple harvested :\t\t66\n",
      "Labelling data\n",
      "Successfully harvested and labelled 66 data.\n",
      "Begining training 26th/50 person.\n",
      "Epoch 1/10\n",
      "3/3 [==============================] - 45s 15s/step\n",
      "Loss : 0.6903966665267944\tRecall : 1.0\tPrecision : 0.5319148898124695\n",
      "Epoch 2/10\n",
      "3/3 [==============================] - 45s 15s/step\n",
      "Loss : 0.6922973394393921\tRecall : 1.0\tPrecision : 0.4893617033958435\n",
      "Epoch 3/10\n",
      "3/3 [==============================] - 45s 15s/step\n",
      "Loss : 0.6979995965957642\tRecall : 1.0\tPrecision : 0.5106382966041565\n",
      "Epoch 4/10\n",
      "3/3 [==============================] - 44s 15s/step\n",
      "Loss : 0.686596691608429\tRecall : 1.0\tPrecision : 0.5106382966041565\n",
      "Epoch 5/10\n",
      "3/3 [==============================] - 45s 15s/step\n",
      "Loss : 0.6960985660552979\tRecall : 1.0\tPrecision : 0.42553192377090454\n",
      "Epoch 6/10\n",
      "3/3 [==============================] - 45s 15s/step\n",
      "Loss : 0.694196343421936\tRecall : 1.0\tPrecision : 0.5319148898124695\n",
      "Epoch 7/10\n",
      "3/3 [==============================] - 44s 15s/step\n",
      "Loss : 0.6941936612129211\tRecall : 1.0\tPrecision : 0.4680851101875305\n",
      "Epoch 8/10\n",
      "3/3 [==============================] - 44s 14s/step\n",
      "Loss : 0.6941893100738525\tRecall : 1.0\tPrecision : 0.5744680762290955\n",
      "Epoch 9/10\n",
      "3/3 [==============================] - 45s 15s/step\n",
      "Loss : 0.6960412263870239\tRecall : 1.0\tPrecision : 0.42553192377090454\n",
      "Epoch 10/10\n",
      "3/3 [==============================] - 44s 15s/step\n",
      "Loss : 0.6940537691116333\tRecall : 1.0\tPrecision : 0.4893617033958435\n",
      "Training complete, saving embedding kernel.\n",
      "Successfully saved model at saved_model\\embedding_kernel_Georgeless.h5.\n",
      "Generating data variant with Kofi_Annan as anchor\n"
     ]
    },
    {
     "name": "stderr",
     "output_type": "stream",
     "text": [
      "100%|██████████| 5748/5748 [00:14<00:00, 388.18it/s]\n"
     ]
    },
    {
     "name": "stdout",
     "output_type": "stream",
     "text": [
      "[DEBUG] Finished data variant setup\n",
      "Preparing data augmentation from data\\var_anchor to data\\var_positive.\n"
     ]
    },
    {
     "name": "stderr",
     "output_type": "stream",
     "text": [
      "100%|██████████| 32/32 [00:00<00:00, 55.94it/s]\n"
     ]
    },
    {
     "name": "stdout",
     "output_type": "stream",
     "text": [
      "Successfully generated 64 new images through data augmentation.\n",
      "Preparing data augmentation from data\\var_anchor to data\\var_anchor.\n"
     ]
    },
    {
     "name": "stderr",
     "output_type": "stream",
     "text": [
      "100%|██████████| 32/32 [00:00<00:00, 120.30it/s]\n"
     ]
    },
    {
     "name": "stdout",
     "output_type": "stream",
     "text": [
      "Successfully generated 32 new images through data augmentation.\n",
      "Harvesting data from anchor data\\var_anchor, positive data\\var_positive and negative data\\var_negative folder.\n",
      "Anchor images availlable :\t64\n",
      "Positive images availlable :\t64\n",
      "Negative images availlable :\t12461\n",
      "Tuple harvested :\t\t64\n",
      "Labelling data\n",
      "Successfully harvested and labelled 64 data.\n",
      "Begining training 27th/50 person.\n",
      "Epoch 1/10\n",
      "3/3 [==============================] - 43s 14s/step\n",
      "Loss : 0.6952658891677856\tRecall : 1.0\tPrecision : 0.5869565010070801\n",
      "Epoch 2/10\n",
      "3/3 [==============================] - 44s 14s/step\n",
      "Loss : 0.6891911625862122\tRecall : 1.0\tPrecision : 0.52173912525177\n",
      "Epoch 3/10\n",
      "3/3 [==============================] - 43s 14s/step\n",
      "Loss : 0.6912145614624023\tRecall : 1.0\tPrecision : 0.5869565010070801\n",
      "Epoch 4/10\n",
      "3/3 [==============================] - 44s 14s/step\n",
      "Loss : 0.6993623971939087\tRecall : 1.0\tPrecision : 0.54347825050354\n",
      "Epoch 5/10\n",
      "3/3 [==============================] - 44s 14s/step\n",
      "Loss : 0.6952930092811584\tRecall : 1.0\tPrecision : 0.54347825050354\n",
      "Epoch 6/10\n",
      "3/3 [==============================] - 44s 14s/step\n",
      "Loss : 0.697346031665802\tRecall : 1.0\tPrecision : 0.5\n",
      "Epoch 7/10\n",
      "3/3 [==============================] - 44s 14s/step\n",
      "Loss : 0.6932492256164551\tRecall : 1.0\tPrecision : 0.47826087474823\n",
      "Epoch 8/10\n",
      "3/3 [==============================] - 43s 14s/step\n",
      "Loss : 0.6952995657920837\tRecall : 1.0\tPrecision : 0.41304346919059753\n",
      "Epoch 9/10\n",
      "3/3 [==============================] - 43s 14s/step\n",
      "Loss : 0.6891761422157288\tRecall : 1.0\tPrecision : 0.41304346919059753\n",
      "Epoch 10/10\n",
      "3/3 [==============================] - 44s 14s/step\n",
      "Loss : 0.6993508338928223\tRecall : 1.0\tPrecision : 0.41304346919059753\n",
      "Training complete, saving embedding kernel.\n",
      "Successfully saved model at saved_model\\embedding_kernel_Georgeless.h5.\n",
      "Generating data variant with Roh_Moo-hyun as anchor\n"
     ]
    },
    {
     "name": "stderr",
     "output_type": "stream",
     "text": [
      "100%|██████████| 5748/5748 [00:15<00:00, 375.83it/s]\n"
     ]
    },
    {
     "name": "stdout",
     "output_type": "stream",
     "text": [
      "[DEBUG] Finished data variant setup\n",
      "Preparing data augmentation from data\\var_anchor to data\\var_positive.\n"
     ]
    },
    {
     "name": "stderr",
     "output_type": "stream",
     "text": [
      "100%|██████████| 32/32 [00:00<00:00, 65.84it/s]\n"
     ]
    },
    {
     "name": "stdout",
     "output_type": "stream",
     "text": [
      "Successfully generated 64 new images through data augmentation.\n",
      "Preparing data augmentation from data\\var_anchor to data\\var_anchor.\n"
     ]
    },
    {
     "name": "stderr",
     "output_type": "stream",
     "text": [
      "100%|██████████| 32/32 [00:00<00:00, 127.49it/s]\n"
     ]
    },
    {
     "name": "stdout",
     "output_type": "stream",
     "text": [
      "Successfully generated 32 new images through data augmentation.\n",
      "Harvesting data from anchor data\\var_anchor, positive data\\var_positive and negative data\\var_negative folder.\n",
      "Anchor images availlable :\t64\n",
      "Positive images availlable :\t64\n",
      "Negative images availlable :\t12461\n",
      "Tuple harvested :\t\t64\n",
      "Labelling data\n",
      "Successfully harvested and labelled 64 data.\n",
      "Begining training 28th/50 person.\n",
      "Epoch 1/10\n",
      "3/3 [==============================] - 43s 14s/step\n",
      "Loss : 0.6952719688415527\tRecall : 1.0\tPrecision : 0.47826087474823\n",
      "Epoch 2/10\n",
      "3/3 [==============================] - 44s 14s/step\n",
      "Loss : 0.6952653527259827\tRecall : 1.0\tPrecision : 0.5\n",
      "Epoch 3/10\n",
      "3/3 [==============================] - 43s 14s/step\n",
      "Loss : 0.6932458877563477\tRecall : 1.0\tPrecision : 0.52173912525177\n",
      "Epoch 4/10\n",
      "3/3 [==============================] - 44s 14s/step\n",
      "Loss : 0.6912345886230469\tRecall : 1.0\tPrecision : 0.5\n",
      "Epoch 5/10\n",
      "3/3 [==============================] - 44s 14s/step\n",
      "Loss : 0.6912393569946289\tRecall : 1.0\tPrecision : 0.47826087474823\n",
      "Epoch 6/10\n",
      "3/3 [==============================] - 43s 14s/step\n",
      "Loss : 0.6932450532913208\tRecall : 1.0\tPrecision : 0.5652173757553101\n",
      "Epoch 7/10\n",
      "3/3 [==============================] - 44s 14s/step\n",
      "Loss : 0.6932452917098999\tRecall : 1.0\tPrecision : 0.43478259444236755\n",
      "Epoch 8/10\n",
      "3/3 [==============================] - 44s 14s/step\n",
      "Loss : 0.6972516775131226\tRecall : 1.0\tPrecision : 0.54347825050354\n",
      "Epoch 9/10\n",
      "3/3 [==============================] - 44s 14s/step\n",
      "Loss : 0.6912442445755005\tRecall : 1.0\tPrecision : 0.47826087474823\n",
      "Epoch 10/10\n",
      "3/3 [==============================] - 44s 14s/step\n",
      "Loss : 0.6932423710823059\tRecall : 1.0\tPrecision : 0.43478259444236755\n",
      "Training complete, saving embedding kernel.\n",
      "Successfully saved model at saved_model\\embedding_kernel_Georgeless.h5.\n",
      "Generating data variant with Vicente_Fox as anchor\n"
     ]
    },
    {
     "name": "stderr",
     "output_type": "stream",
     "text": [
      "100%|██████████| 5748/5748 [00:14<00:00, 391.09it/s]\n"
     ]
    },
    {
     "name": "stdout",
     "output_type": "stream",
     "text": [
      "[DEBUG] Finished data variant setup\n",
      "Preparing data augmentation from data\\var_anchor to data\\var_positive.\n"
     ]
    },
    {
     "name": "stderr",
     "output_type": "stream",
     "text": [
      "100%|██████████| 32/32 [00:00<00:00, 60.72it/s]\n"
     ]
    },
    {
     "name": "stdout",
     "output_type": "stream",
     "text": [
      "Successfully generated 64 new images through data augmentation.\n",
      "Preparing data augmentation from data\\var_anchor to data\\var_anchor.\n"
     ]
    },
    {
     "name": "stderr",
     "output_type": "stream",
     "text": [
      "100%|██████████| 32/32 [00:00<00:00, 101.91it/s]\n"
     ]
    },
    {
     "name": "stdout",
     "output_type": "stream",
     "text": [
      "Successfully generated 32 new images through data augmentation.\n",
      "Harvesting data from anchor data\\var_anchor, positive data\\var_positive and negative data\\var_negative folder.\n",
      "Anchor images availlable :\t64\n",
      "Positive images availlable :\t64\n",
      "Negative images availlable :\t12461\n",
      "Tuple harvested :\t\t64\n",
      "Labelling data\n",
      "Successfully harvested and labelled 64 data.\n",
      "Begining training 29th/50 person.\n",
      "Epoch 1/10\n",
      "3/3 [==============================] - 44s 14s/step\n",
      "Loss : 0.6932439208030701\tRecall : 1.0\tPrecision : 0.47826087474823\n",
      "Epoch 2/10\n",
      "3/3 [==============================] - 44s 14s/step\n",
      "Loss : 0.6892674565315247\tRecall : 1.0\tPrecision : 0.43478259444236755\n",
      "Epoch 3/10\n",
      "3/3 [==============================] - 44s 14s/step\n",
      "Loss : 0.6912593841552734\tRecall : 1.0\tPrecision : 0.5\n",
      "Epoch 4/10\n",
      "3/3 [==============================] - 43s 14s/step\n",
      "Loss : 0.6892839074134827\tRecall : 1.0\tPrecision : 0.5\n",
      "Epoch 5/10\n",
      "3/3 [==============================] - 44s 15s/step\n",
      "Loss : 0.693242609500885\tRecall : 1.0\tPrecision : 0.47826087474823\n",
      "Epoch 6/10\n",
      "3/3 [==============================] - 46s 15s/step\n",
      "Loss : 0.6932423710823059\tRecall : 1.0\tPrecision : 0.52173912525177\n",
      "Epoch 7/10\n",
      "3/3 [==============================] - 44s 14s/step\n",
      "Loss : 0.6952147483825684\tRecall : 1.0\tPrecision : 0.52173912525177\n",
      "Epoch 8/10\n",
      "3/3 [==============================] - 44s 14s/step\n",
      "Loss : 0.6932414770126343\tRecall : 1.0\tPrecision : 0.5\n",
      "Epoch 9/10\n",
      "3/3 [==============================] - 44s 15s/step\n",
      "Loss : 0.6932414174079895\tRecall : 1.0\tPrecision : 0.5\n",
      "Epoch 10/10\n",
      "3/3 [==============================] - 44s 14s/step\n",
      "Loss : 0.7011288404464722\tRecall : 1.0\tPrecision : 0.47826087474823\n",
      "Training complete, saving embedding kernel.\n",
      "Successfully saved model at saved_model\\embedding_kernel_Georgeless.h5.\n",
      "Generating data variant with David_Beckham as anchor\n"
     ]
    },
    {
     "name": "stderr",
     "output_type": "stream",
     "text": [
      "100%|██████████| 5748/5748 [00:14<00:00, 393.60it/s]\n"
     ]
    },
    {
     "name": "stdout",
     "output_type": "stream",
     "text": [
      "[DEBUG] Finished data variant setup\n",
      "Preparing data augmentation from data\\var_anchor to data\\var_positive.\n"
     ]
    },
    {
     "name": "stderr",
     "output_type": "stream",
     "text": [
      "100%|██████████| 31/31 [00:00<00:00, 66.81it/s]\n"
     ]
    },
    {
     "name": "stdout",
     "output_type": "stream",
     "text": [
      "Successfully generated 62 new images through data augmentation.\n",
      "Preparing data augmentation from data\\var_anchor to data\\var_anchor.\n"
     ]
    },
    {
     "name": "stderr",
     "output_type": "stream",
     "text": [
      "100%|██████████| 31/31 [00:00<00:00, 43.61it/s]\n"
     ]
    },
    {
     "name": "stdout",
     "output_type": "stream",
     "text": [
      "Successfully generated 31 new images through data augmentation.\n",
      "Harvesting data from anchor data\\var_anchor, positive data\\var_positive and negative data\\var_negative folder.\n",
      "Anchor images availlable :\t62\n",
      "Positive images availlable :\t62\n",
      "Negative images availlable :\t12462\n",
      "Tuple harvested :\t\t62\n",
      "Labelling data\n",
      "Successfully harvested and labelled 62 data.\n",
      "Begining training 30th/50 person.\n",
      "Epoch 1/10\n",
      "3/3 [==============================] - 43s 14s/step\n",
      "Loss : 0.693242073059082\tRecall : 1.0\tPrecision : 0.5\n",
      "Epoch 2/10\n",
      "3/3 [==============================] - 42s 13s/step\n",
      "Loss : 0.6978254318237305\tRecall : 1.0\tPrecision : 0.5\n",
      "Epoch 3/10\n",
      "3/3 [==============================] - 43s 14s/step\n",
      "Loss : 0.6932328343391418\tRecall : 1.0\tPrecision : 0.5\n",
      "Epoch 4/10\n",
      "3/3 [==============================] - 42s 14s/step\n",
      "Loss : 0.6932404041290283\tRecall : 1.0\tPrecision : 0.4318181872367859\n",
      "Epoch 5/10\n",
      "3/3 [==============================] - 42s 14s/step\n",
      "Loss : 0.695526123046875\tRecall : 1.0\tPrecision : 0.5454545617103577\n",
      "Epoch 6/10\n",
      "3/3 [==============================] - 43s 14s/step\n",
      "Loss : 0.7023646235466003\tRecall : 1.0\tPrecision : 0.4545454680919647\n",
      "Epoch 7/10\n",
      "3/3 [==============================] - 42s 13s/step\n",
      "Loss : 0.6909537315368652\tRecall : 1.0\tPrecision : 0.47727271914482117\n",
      "Epoch 8/10\n",
      "3/3 [==============================] - 42s 13s/step\n",
      "Loss : 0.6977726817131042\tRecall : 1.0\tPrecision : 0.5681818127632141\n",
      "Epoch 9/10\n",
      "3/3 [==============================] - 42s 13s/step\n",
      "Loss : 0.6909639835357666\tRecall : 1.0\tPrecision : 0.4318181872367859\n",
      "Epoch 10/10\n",
      "3/3 [==============================] - 43s 14s/step\n",
      "Loss : 0.6954877376556396\tRecall : 1.0\tPrecision : 0.5454545617103577\n",
      "Training complete, saving embedding kernel.\n",
      "Successfully saved model at saved_model\\embedding_kernel_Georgeless.h5.\n",
      "Generating data variant with John_Negroponte as anchor\n"
     ]
    },
    {
     "name": "stderr",
     "output_type": "stream",
     "text": [
      "100%|██████████| 5748/5748 [00:15<00:00, 365.72it/s]\n"
     ]
    },
    {
     "name": "stdout",
     "output_type": "stream",
     "text": [
      "[DEBUG] Finished data variant setup\n",
      "Preparing data augmentation from data\\var_anchor to data\\var_positive.\n"
     ]
    },
    {
     "name": "stderr",
     "output_type": "stream",
     "text": [
      "100%|██████████| 31/31 [00:00<00:00, 64.32it/s]\n"
     ]
    },
    {
     "name": "stdout",
     "output_type": "stream",
     "text": [
      "Successfully generated 62 new images through data augmentation.\n",
      "Preparing data augmentation from data\\var_anchor to data\\var_anchor.\n"
     ]
    },
    {
     "name": "stderr",
     "output_type": "stream",
     "text": [
      "100%|██████████| 31/31 [00:00<00:00, 108.77it/s]\n"
     ]
    },
    {
     "name": "stdout",
     "output_type": "stream",
     "text": [
      "Successfully generated 31 new images through data augmentation.\n",
      "Harvesting data from anchor data\\var_anchor, positive data\\var_positive and negative data\\var_negative folder.\n",
      "Anchor images availlable :\t62\n",
      "Positive images availlable :\t62\n",
      "Negative images availlable :\t12462\n",
      "Tuple harvested :\t\t62\n",
      "Labelling data\n",
      "Successfully harvested and labelled 62 data.\n",
      "Begining training 31th/50 person.\n",
      "Epoch 1/10\n",
      "3/3 [==============================] - 42s 14s/step\n",
      "Loss : 0.6887800097465515\tRecall : 1.0\tPrecision : 0.4545454680919647\n",
      "Epoch 2/10\n",
      "3/3 [==============================] - 43s 14s/step\n",
      "Loss : 0.6931845545768738\tRecall : 1.0\tPrecision : 0.47727271914482117\n",
      "Epoch 3/10\n",
      "3/3 [==============================] - 42s 13s/step\n",
      "Loss : 0.6889076232910156\tRecall : 1.0\tPrecision : 0.5\n",
      "Epoch 4/10\n",
      "3/3 [==============================] - 43s 14s/step\n",
      "Loss : 0.6909849047660828\tRecall : 1.0\tPrecision : 0.4545454680919647\n",
      "Epoch 5/10\n",
      "3/3 [==============================] - 42s 13s/step\n",
      "Loss : 0.6842473149299622\tRecall : 1.0\tPrecision : 0.5227272510528564\n",
      "Epoch 6/10\n",
      "3/3 [==============================] - 43s 14s/step\n",
      "Loss : 0.6977359652519226\tRecall : 1.0\tPrecision : 0.5\n",
      "Epoch 7/10\n",
      "3/3 [==============================] - 42s 13s/step\n",
      "Loss : 0.6977332234382629\tRecall : 1.0\tPrecision : 0.4545454680919647\n",
      "Epoch 8/10\n",
      "3/3 [==============================] - 42s 14s/step\n",
      "Loss : 0.6932375431060791\tRecall : 1.0\tPrecision : 0.47727271914482117\n",
      "Epoch 9/10\n",
      "3/3 [==============================] - 42s 13s/step\n",
      "Loss : 0.6954736113548279\tRecall : 1.0\tPrecision : 0.4545454680919647\n",
      "Epoch 10/10\n",
      "3/3 [==============================] - 42s 14s/step\n",
      "Loss : 0.6976993680000305\tRecall : 1.0\tPrecision : 0.47727271914482117\n",
      "Training complete, saving embedding kernel.\n",
      "Successfully saved model at saved_model\\embedding_kernel_Georgeless.h5.\n",
      "Generating data variant with Guillermo_Coria as anchor\n"
     ]
    },
    {
     "name": "stderr",
     "output_type": "stream",
     "text": [
      "100%|██████████| 5748/5748 [00:15<00:00, 376.18it/s]\n"
     ]
    },
    {
     "name": "stdout",
     "output_type": "stream",
     "text": [
      "[DEBUG] Finished data variant setup\n",
      "Preparing data augmentation from data\\var_anchor to data\\var_positive.\n"
     ]
    },
    {
     "name": "stderr",
     "output_type": "stream",
     "text": [
      "100%|██████████| 30/30 [00:00<00:00, 48.62it/s]\n"
     ]
    },
    {
     "name": "stdout",
     "output_type": "stream",
     "text": [
      "Successfully generated 60 new images through data augmentation.\n",
      "Preparing data augmentation from data\\var_anchor to data\\var_anchor.\n"
     ]
    },
    {
     "name": "stderr",
     "output_type": "stream",
     "text": [
      "100%|██████████| 30/30 [00:00<00:00, 129.31it/s]\n"
     ]
    },
    {
     "name": "stdout",
     "output_type": "stream",
     "text": [
      "Successfully generated 30 new images through data augmentation.\n",
      "Harvesting data from anchor data\\var_anchor, positive data\\var_positive and negative data\\var_negative folder.\n",
      "Anchor images availlable :\t60\n",
      "Positive images availlable :\t60\n",
      "Negative images availlable :\t12463\n",
      "Tuple harvested :\t\t60\n",
      "Labelling data\n",
      "Successfully harvested and labelled 60 data.\n",
      "Begining training 32th/50 person.\n",
      "Epoch 1/10\n",
      "3/3 [==============================] - 40s 12s/step\n",
      "Loss : 0.6968737244606018\tRecall : 1.0\tPrecision : 0.41860464215278625\n",
      "Epoch 2/10\n",
      "3/3 [==============================] - 40s 13s/step\n",
      "Loss : 0.6823822259902954\tRecall : 1.0\tPrecision : 0.44186046719551086\n",
      "Epoch 3/10\n",
      "3/3 [==============================] - 42s 13s/step\n",
      "Loss : 0.696857750415802\tRecall : 1.0\tPrecision : 0.5116279125213623\n",
      "Epoch 4/10\n",
      "3/3 [==============================] - 41s 13s/step\n",
      "Loss : 0.6897647380828857\tRecall : 1.0\tPrecision : 0.5581395626068115\n",
      "Epoch 5/10\n",
      "3/3 [==============================] - 42s 13s/step\n",
      "Loss : 0.6919922232627869\tRecall : 1.0\tPrecision : 0.5581395626068115\n",
      "Epoch 6/10\n",
      "3/3 [==============================] - 41s 13s/step\n",
      "Loss : 0.6920528411865234\tRecall : 1.0\tPrecision : 0.4883720874786377\n",
      "Epoch 7/10\n",
      "3/3 [==============================] - 42s 13s/step\n",
      "Loss : 0.6966729164123535\tRecall : 1.0\tPrecision : 0.4651162922382355\n",
      "Epoch 8/10\n",
      "3/3 [==============================] - 41s 13s/step\n",
      "Loss : 0.6896942257881165\tRecall : 1.0\tPrecision : 0.4883720874786377\n",
      "Epoch 9/10\n",
      "3/3 [==============================] - 41s 13s/step\n",
      "Loss : 0.6872661113739014\tRecall : 1.0\tPrecision : 0.5813953280448914\n",
      "Epoch 10/10\n",
      "3/3 [==============================] - 42s 13s/step\n",
      "Loss : 0.6919817328453064\tRecall : 1.0\tPrecision : 0.5348837375640869\n",
      "Training complete, saving embedding kernel.\n",
      "Successfully saved model at saved_model\\embedding_kernel_Georgeless.h5.\n",
      "Generating data variant with Recep_Tayyip_Erdogan as anchor\n"
     ]
    },
    {
     "name": "stderr",
     "output_type": "stream",
     "text": [
      "100%|██████████| 5748/5748 [00:14<00:00, 406.19it/s]\n"
     ]
    },
    {
     "name": "stdout",
     "output_type": "stream",
     "text": [
      "[DEBUG] Finished data variant setup\n",
      "Preparing data augmentation from data\\var_anchor to data\\var_positive.\n"
     ]
    },
    {
     "name": "stderr",
     "output_type": "stream",
     "text": [
      "100%|██████████| 30/30 [00:00<00:00, 58.94it/s]\n"
     ]
    },
    {
     "name": "stdout",
     "output_type": "stream",
     "text": [
      "Successfully generated 60 new images through data augmentation.\n",
      "Preparing data augmentation from data\\var_anchor to data\\var_anchor.\n"
     ]
    },
    {
     "name": "stderr",
     "output_type": "stream",
     "text": [
      "100%|██████████| 30/30 [00:00<00:00, 119.52it/s]\n"
     ]
    },
    {
     "name": "stdout",
     "output_type": "stream",
     "text": [
      "Successfully generated 30 new images through data augmentation.\n",
      "Harvesting data from anchor data\\var_anchor, positive data\\var_positive and negative data\\var_negative folder.\n",
      "Anchor images availlable :\t60\n",
      "Positive images availlable :\t60\n",
      "Negative images availlable :\t12463\n",
      "Tuple harvested :\t\t60\n",
      "Labelling data\n",
      "Successfully harvested and labelled 60 data.\n",
      "Begining training 33th/50 person.\n",
      "Epoch 1/10\n",
      "3/3 [==============================] - 42s 13s/step\n",
      "Loss : 0.6944191455841064\tRecall : 1.0\tPrecision : 0.4651162922382355\n",
      "Epoch 2/10\n",
      "3/3 [==============================] - 42s 13s/step\n",
      "Loss : 0.6966292858123779\tRecall : 1.0\tPrecision : 0.4651162922382355\n",
      "Epoch 3/10\n",
      "3/3 [==============================] - 41s 13s/step\n",
      "Loss : 0.6989760994911194\tRecall : 1.0\tPrecision : 0.41860464215278625\n",
      "Epoch 4/10\n",
      "3/3 [==============================] - 42s 13s/step\n",
      "Loss : 0.6942325234413147\tRecall : 1.0\tPrecision : 0.5116279125213623\n",
      "Epoch 5/10\n",
      "3/3 [==============================] - 41s 13s/step\n",
      "Loss : 0.6963855624198914\tRecall : 1.0\tPrecision : 0.4651162922382355\n",
      "Epoch 6/10\n",
      "3/3 [==============================] - 42s 13s/step\n",
      "Loss : 0.6896209120750427\tRecall : 1.0\tPrecision : 0.4651162922382355\n",
      "Epoch 7/10\n",
      "3/3 [==============================] - 41s 13s/step\n",
      "Loss : 0.6896762251853943\tRecall : 1.0\tPrecision : 0.5348837375640869\n",
      "Epoch 8/10\n",
      "3/3 [==============================] - 42s 13s/step\n",
      "Loss : 0.6920310854911804\tRecall : 1.0\tPrecision : 0.5581395626068115\n",
      "Epoch 9/10\n",
      "3/3 [==============================] - 42s 13s/step\n",
      "Loss : 0.696679413318634\tRecall : 1.0\tPrecision : 0.44186046719551086\n",
      "Epoch 10/10\n",
      "3/3 [==============================] - 41s 13s/step\n",
      "Loss : 0.6922180652618408\tRecall : 1.0\tPrecision : 0.4883720874786377\n",
      "Training complete, saving embedding kernel.\n",
      "Successfully saved model at saved_model\\embedding_kernel_Georgeless.h5.\n",
      "Generating data variant with Bill_Clinton as anchor\n"
     ]
    },
    {
     "name": "stderr",
     "output_type": "stream",
     "text": [
      "100%|██████████| 5748/5748 [00:15<00:00, 361.95it/s]\n"
     ]
    },
    {
     "name": "stdout",
     "output_type": "stream",
     "text": [
      "[DEBUG] Finished data variant setup\n",
      "Preparing data augmentation from data\\var_anchor to data\\var_positive.\n"
     ]
    },
    {
     "name": "stderr",
     "output_type": "stream",
     "text": [
      "100%|██████████| 29/29 [00:00<00:00, 61.97it/s]\n"
     ]
    },
    {
     "name": "stdout",
     "output_type": "stream",
     "text": [
      "Successfully generated 58 new images through data augmentation.\n",
      "Preparing data augmentation from data\\var_anchor to data\\var_anchor.\n"
     ]
    },
    {
     "name": "stderr",
     "output_type": "stream",
     "text": [
      "100%|██████████| 29/29 [00:00<00:00, 122.88it/s]\n"
     ]
    },
    {
     "name": "stdout",
     "output_type": "stream",
     "text": [
      "Successfully generated 29 new images through data augmentation.\n",
      "Harvesting data from anchor data\\var_anchor, positive data\\var_positive and negative data\\var_negative folder.\n",
      "Anchor images availlable :\t58\n",
      "Positive images availlable :\t58\n",
      "Negative images availlable :\t12464\n",
      "Tuple harvested :\t\t58\n",
      "Labelling data\n",
      "Successfully harvested and labelled 58 data.\n",
      "Begining training 34th/50 person.\n",
      "Epoch 1/10\n",
      "3/3 [==============================] - 40s 12s/step\n",
      "Loss : 0.6995489597320557\tRecall : 1.0\tPrecision : 0.4878048896789551\n",
      "Epoch 2/10\n",
      "3/3 [==============================] - 39s 12s/step\n",
      "Loss : 0.6917978525161743\tRecall : 1.0\tPrecision : 0.5121951103210449\n",
      "Epoch 3/10\n",
      "3/3 [==============================] - 40s 12s/step\n",
      "Loss : 0.6943767070770264\tRecall : 1.0\tPrecision : 0.5121951103210449\n",
      "Epoch 4/10\n",
      "3/3 [==============================] - 40s 12s/step\n",
      "Loss : 0.6973766684532166\tRecall : 1.0\tPrecision : 0.4878048896789551\n",
      "Epoch 5/10\n",
      "3/3 [==============================] - 40s 12s/step\n",
      "Loss : 0.6891714930534363\tRecall : 1.0\tPrecision : 0.4878048896789551\n",
      "Epoch 6/10\n",
      "3/3 [==============================] - 39s 12s/step\n",
      "Loss : 0.6918060183525085\tRecall : 1.0\tPrecision : 0.4146341383457184\n",
      "Epoch 7/10\n",
      "3/3 [==============================] - 40s 12s/step\n",
      "Loss : 0.6888431906700134\tRecall : 1.0\tPrecision : 0.46341463923454285\n",
      "Epoch 8/10\n",
      "3/3 [==============================] - 40s 12s/step\n",
      "Loss : 0.6918302178382874\tRecall : 1.0\tPrecision : 0.46341463923454285\n",
      "Epoch 9/10\n",
      "3/3 [==============================] - 39s 12s/step\n",
      "Loss : 0.6946565508842468\tRecall : 1.0\tPrecision : 0.5609756112098694\n",
      "Epoch 10/10\n",
      "3/3 [==============================] - 40s 12s/step\n",
      "Loss : 0.6975167989730835\tRecall : 1.0\tPrecision : 0.46341463923454285\n",
      "Training complete, saving embedding kernel.\n",
      "Successfully saved model at saved_model\\embedding_kernel_Georgeless.h5.\n",
      "Generating data variant with Mahmoud_Abbas as anchor\n"
     ]
    },
    {
     "name": "stderr",
     "output_type": "stream",
     "text": [
      "100%|██████████| 5748/5748 [00:15<00:00, 373.60it/s]\n"
     ]
    },
    {
     "name": "stdout",
     "output_type": "stream",
     "text": [
      "[DEBUG] Finished data variant setup\n",
      "Preparing data augmentation from data\\var_anchor to data\\var_positive.\n"
     ]
    },
    {
     "name": "stderr",
     "output_type": "stream",
     "text": [
      "100%|██████████| 29/29 [00:00<00:00, 70.90it/s]\n"
     ]
    },
    {
     "name": "stdout",
     "output_type": "stream",
     "text": [
      "Successfully generated 58 new images through data augmentation.\n",
      "Preparing data augmentation from data\\var_anchor to data\\var_anchor.\n"
     ]
    },
    {
     "name": "stderr",
     "output_type": "stream",
     "text": [
      "100%|██████████| 29/29 [00:00<00:00, 137.44it/s]\n"
     ]
    },
    {
     "name": "stdout",
     "output_type": "stream",
     "text": [
      "Successfully generated 29 new images through data augmentation.\n",
      "Harvesting data from anchor data\\var_anchor, positive data\\var_positive and negative data\\var_negative folder.\n",
      "Anchor images availlable :\t58\n",
      "Positive images availlable :\t58\n",
      "Negative images availlable :\t12464\n",
      "Tuple harvested :\t\t58\n",
      "Labelling data\n",
      "Successfully harvested and labelled 58 data.\n",
      "Begining training 35th/50 person.\n",
      "Epoch 1/10\n",
      "3/3 [==============================] - 39s 12s/step\n",
      "Loss : 0.7002178430557251\tRecall : 1.0\tPrecision : 0.4146341383457184\n",
      "Epoch 2/10\n",
      "3/3 [==============================] - 39s 12s/step\n",
      "Loss : 0.6973472237586975\tRecall : 1.0\tPrecision : 0.5365853905677795\n",
      "Epoch 3/10\n",
      "3/3 [==============================] - 39s 12s/step\n",
      "Loss : 0.6946852207183838\tRecall : 1.0\tPrecision : 0.5121951103210449\n",
      "Epoch 4/10\n",
      "3/3 [==============================] - 40s 12s/step\n",
      "Loss : 0.6920746564865112\tRecall : 1.0\tPrecision : 0.5365853905677795\n",
      "Epoch 5/10\n",
      "3/3 [==============================] - 40s 12s/step\n",
      "Loss : 0.6974647045135498\tRecall : 1.0\tPrecision : 0.46341463923454285\n",
      "Epoch 6/10\n",
      "3/3 [==============================] - 40s 12s/step\n",
      "Loss : 0.697461724281311\tRecall : 1.0\tPrecision : 0.46341463923454285\n",
      "Epoch 7/10\n",
      "3/3 [==============================] - 40s 12s/step\n",
      "Loss : 0.6974480152130127\tRecall : 1.0\tPrecision : 0.46341463923454285\n",
      "Epoch 8/10\n",
      "3/3 [==============================] - 39s 12s/step\n",
      "Loss : 0.6974300146102905\tRecall : 1.0\tPrecision : 0.4390243887901306\n",
      "Epoch 9/10\n",
      "3/3 [==============================] - 39s 12s/step\n",
      "Loss : 0.6946215629577637\tRecall : 1.0\tPrecision : 0.5365853905677795\n",
      "Epoch 10/10\n",
      "3/3 [==============================] - 39s 12s/step\n",
      "Loss : 0.6918331384658813\tRecall : 1.0\tPrecision : 0.5121951103210449\n",
      "Training complete, saving embedding kernel.\n",
      "Successfully saved model at saved_model\\embedding_kernel_Georgeless.h5.\n",
      "Generating data variant with Jack_Straw as anchor\n"
     ]
    },
    {
     "name": "stderr",
     "output_type": "stream",
     "text": [
      "100%|██████████| 5748/5748 [00:15<00:00, 375.49it/s]\n"
     ]
    },
    {
     "name": "stdout",
     "output_type": "stream",
     "text": [
      "[DEBUG] Finished data variant setup\n",
      "Preparing data augmentation from data\\var_anchor to data\\var_positive.\n"
     ]
    },
    {
     "name": "stderr",
     "output_type": "stream",
     "text": [
      "100%|██████████| 28/28 [00:01<00:00, 23.99it/s]\n"
     ]
    },
    {
     "name": "stdout",
     "output_type": "stream",
     "text": [
      "Successfully generated 56 new images through data augmentation.\n",
      "Preparing data augmentation from data\\var_anchor to data\\var_anchor.\n"
     ]
    },
    {
     "name": "stderr",
     "output_type": "stream",
     "text": [
      "100%|██████████| 28/28 [00:00<00:00, 127.85it/s]\n"
     ]
    },
    {
     "name": "stdout",
     "output_type": "stream",
     "text": [
      "Successfully generated 28 new images through data augmentation.\n",
      "Harvesting data from anchor data\\var_anchor, positive data\\var_positive and negative data\\var_negative folder.\n",
      "Anchor images availlable :\t56\n",
      "Positive images availlable :\t56\n",
      "Negative images availlable :\t12465\n",
      "Tuple harvested :\t\t56\n",
      "Labelling data\n",
      "Successfully harvested and labelled 56 data.\n",
      "Begining training 36th/50 person.\n",
      "Epoch 1/10\n",
      "3/3 [==============================] - 39s 12s/step\n",
      "Loss : 0.6869837045669556\tRecall : 1.0\tPrecision : 0.4749999940395355\n",
      "Epoch 2/10\n",
      "3/3 [==============================] - 37s 12s/step\n",
      "Loss : 0.6869871616363525\tRecall : 1.0\tPrecision : 0.550000011920929\n",
      "Epoch 3/10\n",
      "3/3 [==============================] - 39s 12s/step\n",
      "Loss : 0.6994704604148865\tRecall : 1.0\tPrecision : 0.44999998807907104\n",
      "Epoch 4/10\n",
      "3/3 [==============================] - 39s 12s/step\n",
      "Loss : 0.696342945098877\tRecall : 1.0\tPrecision : 0.4749999940395355\n",
      "Epoch 5/10\n",
      "3/3 [==============================] - 39s 12s/step\n",
      "Loss : 0.6901116371154785\tRecall : 1.0\tPrecision : 0.5\n",
      "Epoch 6/10\n",
      "3/3 [==============================] - 39s 12s/step\n",
      "Loss : 0.6901167035102844\tRecall : 1.0\tPrecision : 0.5\n",
      "Epoch 7/10\n",
      "3/3 [==============================] - 39s 12s/step\n",
      "Loss : 0.6901212334632874\tRecall : 1.0\tPrecision : 0.44999998807907104\n",
      "Epoch 8/10\n",
      "3/3 [==============================] - 39s 12s/step\n",
      "Loss : 0.6963245272636414\tRecall : 1.0\tPrecision : 0.4749999940395355\n",
      "Epoch 9/10\n",
      "3/3 [==============================] - 38s 12s/step\n",
      "Loss : 0.6963216662406921\tRecall : 1.0\tPrecision : 0.550000011920929\n",
      "Epoch 10/10\n",
      "3/3 [==============================] - 39s 12s/step\n",
      "Loss : 0.6932237148284912\tRecall : 1.0\tPrecision : 0.42500001192092896\n",
      "Training complete, saving embedding kernel.\n",
      "Successfully saved model at saved_model\\embedding_kernel_Georgeless.h5.\n",
      "Generating data variant with Juan_Carlos_Ferrero as anchor\n"
     ]
    },
    {
     "name": "stderr",
     "output_type": "stream",
     "text": [
      "100%|██████████| 5748/5748 [00:15<00:00, 368.89it/s]\n"
     ]
    },
    {
     "name": "stdout",
     "output_type": "stream",
     "text": [
      "[DEBUG] Finished data variant setup\n",
      "Preparing data augmentation from data\\var_anchor to data\\var_positive.\n"
     ]
    },
    {
     "name": "stderr",
     "output_type": "stream",
     "text": [
      "100%|██████████| 28/28 [00:00<00:00, 64.96it/s]\n"
     ]
    },
    {
     "name": "stdout",
     "output_type": "stream",
     "text": [
      "Successfully generated 56 new images through data augmentation.\n",
      "Preparing data augmentation from data\\var_anchor to data\\var_anchor.\n"
     ]
    },
    {
     "name": "stderr",
     "output_type": "stream",
     "text": [
      "100%|██████████| 28/28 [00:00<00:00, 110.24it/s]\n"
     ]
    },
    {
     "name": "stdout",
     "output_type": "stream",
     "text": [
      "Successfully generated 28 new images through data augmentation.\n",
      "Harvesting data from anchor data\\var_anchor, positive data\\var_positive and negative data\\var_negative folder.\n",
      "Anchor images availlable :\t56\n",
      "Positive images availlable :\t56\n",
      "Negative images availlable :\t12465\n",
      "Tuple harvested :\t\t56\n",
      "Labelling data\n",
      "Successfully harvested and labelled 56 data.\n",
      "Begining training 37th/50 person.\n",
      "Epoch 1/10\n",
      "3/3 [==============================] - 38s 12s/step\n",
      "Loss : 0.6932227611541748\tRecall : 1.0\tPrecision : 0.550000011920929\n",
      "Epoch 2/10\n",
      "3/3 [==============================] - 39s 12s/step\n",
      "Loss : 0.6932231187820435\tRecall : 1.0\tPrecision : 0.550000011920929\n",
      "Epoch 3/10\n",
      "3/3 [==============================] - 38s 11s/step\n",
      "Loss : 0.6901370286941528\tRecall : 1.0\tPrecision : 0.5\n",
      "Epoch 4/10\n",
      "3/3 [==============================] - 38s 11s/step\n",
      "Loss : 0.6963105797767639\tRecall : 1.0\tPrecision : 0.4749999940395355\n",
      "Epoch 5/10\n",
      "3/3 [==============================] - 39s 12s/step\n",
      "Loss : 0.6993975043296814\tRecall : 1.0\tPrecision : 0.5249999761581421\n",
      "Epoch 6/10\n",
      "3/3 [==============================] - 38s 11s/step\n",
      "Loss : 0.6963059902191162\tRecall : 1.0\tPrecision : 0.4749999940395355\n",
      "Epoch 7/10\n",
      "3/3 [==============================] - 39s 12s/step\n",
      "Loss : 0.6962950825691223\tRecall : 1.0\tPrecision : 0.375\n",
      "Epoch 8/10\n",
      "3/3 [==============================] - 39s 12s/step\n",
      "Loss : 0.6871044635772705\tRecall : 1.0\tPrecision : 0.5\n",
      "Epoch 9/10\n",
      "3/3 [==============================] - 39s 12s/step\n",
      "Loss : 0.6993251442909241\tRecall : 1.0\tPrecision : 0.4749999940395355\n",
      "Epoch 10/10\n",
      "3/3 [==============================] - 39s 12s/step\n",
      "Loss : 0.7023475170135498\tRecall : 1.0\tPrecision : 0.4749999940395355\n",
      "Training complete, saving embedding kernel.\n",
      "Successfully saved model at saved_model\\embedding_kernel_Georgeless.h5.\n",
      "Generating data variant with Ricardo_Lagos as anchor\n"
     ]
    },
    {
     "name": "stderr",
     "output_type": "stream",
     "text": [
      "100%|██████████| 5748/5748 [00:15<00:00, 380.12it/s]\n"
     ]
    },
    {
     "name": "stdout",
     "output_type": "stream",
     "text": [
      "[DEBUG] Finished data variant setup\n",
      "Preparing data augmentation from data\\var_anchor to data\\var_positive.\n"
     ]
    },
    {
     "name": "stderr",
     "output_type": "stream",
     "text": [
      "100%|██████████| 27/27 [00:00<00:00, 36.73it/s]\n"
     ]
    },
    {
     "name": "stdout",
     "output_type": "stream",
     "text": [
      "Successfully generated 54 new images through data augmentation.\n",
      "Preparing data augmentation from data\\var_anchor to data\\var_anchor.\n"
     ]
    },
    {
     "name": "stderr",
     "output_type": "stream",
     "text": [
      "100%|██████████| 27/27 [00:00<00:00, 123.85it/s]\n"
     ]
    },
    {
     "name": "stdout",
     "output_type": "stream",
     "text": [
      "Successfully generated 27 new images through data augmentation.\n",
      "Harvesting data from anchor data\\var_anchor, positive data\\var_positive and negative data\\var_negative folder.\n",
      "Anchor images availlable :\t54\n",
      "Positive images availlable :\t54\n",
      "Negative images availlable :\t12466\n",
      "Tuple harvested :\t\t54\n",
      "Labelling data\n",
      "Successfully harvested and labelled 54 data.\n",
      "Begining training 38th/50 person.\n",
      "Epoch 1/10\n",
      "3/3 [==============================] - 38s 11s/step\n",
      "Loss : 0.6851463317871094\tRecall : 1.0\tPrecision : 0.5263158082962036\n",
      "Epoch 2/10\n",
      "3/3 [==============================] - 37s 11s/step\n",
      "Loss : 0.6851559281349182\tRecall : 1.0\tPrecision : 0.5789473652839661\n",
      "Epoch 3/10\n",
      "3/3 [==============================] - 36s 10s/step\n",
      "Loss : 0.6972640156745911\tRecall : 1.0\tPrecision : 0.5263158082962036\n",
      "Epoch 4/10\n",
      "3/3 [==============================] - 37s 11s/step\n",
      "Loss : 0.6891769766807556\tRecall : 1.0\tPrecision : 0.4736842215061188\n",
      "Epoch 5/10\n",
      "3/3 [==============================] - 37s 11s/step\n",
      "Loss : 0.7013222575187683\tRecall : 1.0\tPrecision : 0.5263158082962036\n",
      "Epoch 6/10\n",
      "3/3 [==============================] - 37s 11s/step\n",
      "Loss : 0.6972721219062805\tRecall : 1.0\tPrecision : 0.5526315569877625\n",
      "Epoch 7/10\n",
      "3/3 [==============================] - 37s 11s/step\n",
      "Loss : 0.6972683072090149\tRecall : 1.0\tPrecision : 0.44736841320991516\n",
      "Epoch 8/10\n",
      "3/3 [==============================] - 37s 11s/step\n",
      "Loss : 0.6932201385498047\tRecall : 1.0\tPrecision : 0.5\n",
      "Epoch 9/10\n",
      "3/3 [==============================] - 37s 11s/step\n",
      "Loss : 0.6972483992576599\tRecall : 1.0\tPrecision : 0.5\n",
      "Epoch 10/10\n",
      "3/3 [==============================] - 37s 11s/step\n",
      "Loss : 0.6932189464569092\tRecall : 1.0\tPrecision : 0.42105263471603394\n",
      "Training complete, saving embedding kernel.\n",
      "Successfully saved model at saved_model\\embedding_kernel_Georgeless.h5.\n",
      "Generating data variant with Gray_Davis as anchor\n"
     ]
    },
    {
     "name": "stderr",
     "output_type": "stream",
     "text": [
      "100%|██████████| 5748/5748 [00:15<00:00, 372.55it/s]\n"
     ]
    },
    {
     "name": "stdout",
     "output_type": "stream",
     "text": [
      "[DEBUG] Finished data variant setup\n",
      "Preparing data augmentation from data\\var_anchor to data\\var_positive.\n"
     ]
    },
    {
     "name": "stderr",
     "output_type": "stream",
     "text": [
      "100%|██████████| 26/26 [00:00<00:00, 58.43it/s]\n"
     ]
    },
    {
     "name": "stdout",
     "output_type": "stream",
     "text": [
      "Successfully generated 52 new images through data augmentation.\n",
      "Preparing data augmentation from data\\var_anchor to data\\var_anchor.\n"
     ]
    },
    {
     "name": "stderr",
     "output_type": "stream",
     "text": [
      "100%|██████████| 26/26 [00:00<00:00, 118.18it/s]\n"
     ]
    },
    {
     "name": "stdout",
     "output_type": "stream",
     "text": [
      "Successfully generated 26 new images through data augmentation.\n",
      "Harvesting data from anchor data\\var_anchor, positive data\\var_positive and negative data\\var_negative folder.\n",
      "Anchor images availlable :\t52\n",
      "Positive images availlable :\t52\n",
      "Negative images availlable :\t12467\n",
      "Tuple harvested :\t\t52\n",
      "Labelling data\n",
      "Successfully harvested and labelled 52 data.\n",
      "Begining training 39th/50 person.\n",
      "Epoch 1/10\n",
      "3/3 [==============================] - 36s 10s/step\n",
      "Loss : 0.6956218481063843\tRecall : 1.0\tPrecision : 0.5405405163764954\n",
      "Epoch 2/10\n",
      "3/3 [==============================] - 36s 10s/step\n",
      "Loss : 0.6908227205276489\tRecall : 1.0\tPrecision : 0.4864864945411682\n",
      "Epoch 3/10\n",
      "3/3 [==============================] - 36s 10s/step\n",
      "Loss : 0.7051742672920227\tRecall : 1.0\tPrecision : 0.4054054021835327\n",
      "Epoch 4/10\n",
      "3/3 [==============================] - 36s 10s/step\n",
      "Loss : 0.695592999458313\tRecall : 1.0\tPrecision : 0.4324324429035187\n",
      "Epoch 5/10\n",
      "3/3 [==============================] - 36s 10s/step\n",
      "Loss : 0.6861352920532227\tRecall : 1.0\tPrecision : 0.4864864945411682\n",
      "Epoch 6/10\n",
      "3/3 [==============================] - 36s 10s/step\n",
      "Loss : 0.6955693960189819\tRecall : 1.0\tPrecision : 0.5135135054588318\n",
      "Epoch 7/10\n",
      "3/3 [==============================] - 37s 11s/step\n",
      "Loss : 0.6908679604530334\tRecall : 1.0\tPrecision : 0.5135135054588318\n",
      "Epoch 8/10\n",
      "3/3 [==============================] - 36s 10s/step\n",
      "Loss : 0.6861914992332458\tRecall : 1.0\tPrecision : 0.45945945382118225\n",
      "Epoch 9/10\n",
      "3/3 [==============================] - 36s 10s/step\n",
      "Loss : 0.6861897110939026\tRecall : 1.0\tPrecision : 0.5675675868988037\n",
      "Epoch 10/10\n",
      "3/3 [==============================] - 36s 10s/step\n",
      "Loss : 0.7002546191215515\tRecall : 1.0\tPrecision : 0.3513513505458832\n",
      "Training complete, saving embedding kernel.\n",
      "Successfully saved model at saved_model\\embedding_kernel_Georgeless.h5.\n",
      "Generating data variant with Rudolph_Giuliani as anchor\n"
     ]
    },
    {
     "name": "stderr",
     "output_type": "stream",
     "text": [
      "100%|██████████| 5748/5748 [00:15<00:00, 371.84it/s]\n"
     ]
    },
    {
     "name": "stdout",
     "output_type": "stream",
     "text": [
      "[DEBUG] Finished data variant setup\n",
      "Preparing data augmentation from data\\var_anchor to data\\var_positive.\n"
     ]
    },
    {
     "name": "stderr",
     "output_type": "stream",
     "text": [
      "100%|██████████| 26/26 [00:00<00:00, 45.69it/s]\n"
     ]
    },
    {
     "name": "stdout",
     "output_type": "stream",
     "text": [
      "Successfully generated 52 new images through data augmentation.\n",
      "Preparing data augmentation from data\\var_anchor to data\\var_anchor.\n"
     ]
    },
    {
     "name": "stderr",
     "output_type": "stream",
     "text": [
      "100%|██████████| 26/26 [00:00<00:00, 127.45it/s]\n"
     ]
    },
    {
     "name": "stdout",
     "output_type": "stream",
     "text": [
      "Successfully generated 26 new images through data augmentation.\n",
      "Harvesting data from anchor data\\var_anchor, positive data\\var_positive and negative data\\var_negative folder.\n",
      "Anchor images availlable :\t52\n",
      "Positive images availlable :\t52\n",
      "Negative images availlable :\t12467\n",
      "Tuple harvested :\t\t52\n",
      "Labelling data\n",
      "Successfully harvested and labelled 52 data.\n",
      "Begining training 40th/50 person.\n",
      "Epoch 1/10\n",
      "3/3 [==============================] - 36s 10s/step\n",
      "Loss : 0.6861972212791443\tRecall : 1.0\tPrecision : 0.4864864945411682\n",
      "Epoch 2/10\n",
      "3/3 [==============================] - 36s 10s/step\n",
      "Loss : 0.7002312541007996\tRecall : 1.0\tPrecision : 0.45945945382118225\n",
      "Epoch 3/10\n",
      "3/3 [==============================] - 36s 10s/step\n",
      "Loss : 0.7002193331718445\tRecall : 1.0\tPrecision : 0.5135135054588318\n",
      "Epoch 4/10\n",
      "3/3 [==============================] - 36s 10s/step\n",
      "Loss : 0.6816012859344482\tRecall : 1.0\tPrecision : 0.45945945382118225\n",
      "Epoch 5/10\n",
      "3/3 [==============================] - 36s 10s/step\n",
      "Loss : 0.7048243880271912\tRecall : 1.0\tPrecision : 0.4864864945411682\n",
      "Epoch 6/10\n",
      "3/3 [==============================] - 36s 10s/step\n",
      "Loss : 0.690900444984436\tRecall : 1.0\tPrecision : 0.5135135054588318\n",
      "Epoch 7/10\n",
      "3/3 [==============================] - 36s 10s/step\n",
      "Loss : 0.7001388669013977\tRecall : 1.0\tPrecision : 0.45945945382118225\n",
      "Epoch 8/10\n",
      "3/3 [==============================] - 36s 10s/step\n",
      "Loss : 0.6955121159553528\tRecall : 1.0\tPrecision : 0.4864864945411682\n",
      "Epoch 9/10\n",
      "3/3 [==============================] - 36s 10s/step\n",
      "Loss : 0.70008385181427\tRecall : 1.0\tPrecision : 0.4864864945411682\n",
      "Epoch 10/10\n",
      "3/3 [==============================] - 36s 10s/step\n",
      "Loss : 0.6909334659576416\tRecall : 1.0\tPrecision : 0.4864864945411682\n",
      "Training complete, saving embedding kernel.\n",
      "Successfully saved model at saved_model\\embedding_kernel_Georgeless.h5.\n",
      "Generating data variant with Tom_Daschle as anchor\n"
     ]
    },
    {
     "name": "stderr",
     "output_type": "stream",
     "text": [
      "100%|██████████| 5748/5748 [00:15<00:00, 373.59it/s]\n"
     ]
    },
    {
     "name": "stdout",
     "output_type": "stream",
     "text": [
      "[DEBUG] Finished data variant setup\n",
      "Preparing data augmentation from data\\var_anchor to data\\var_positive.\n"
     ]
    },
    {
     "name": "stderr",
     "output_type": "stream",
     "text": [
      "100%|██████████| 25/25 [00:00<00:00, 66.49it/s]\n"
     ]
    },
    {
     "name": "stdout",
     "output_type": "stream",
     "text": [
      "Successfully generated 50 new images through data augmentation.\n",
      "Preparing data augmentation from data\\var_anchor to data\\var_anchor.\n"
     ]
    },
    {
     "name": "stderr",
     "output_type": "stream",
     "text": [
      "100%|██████████| 25/25 [00:00<00:00, 117.37it/s]\n"
     ]
    },
    {
     "name": "stdout",
     "output_type": "stream",
     "text": [
      "Successfully generated 25 new images through data augmentation.\n",
      "Harvesting data from anchor data\\var_anchor, positive data\\var_positive and negative data\\var_negative folder.\n",
      "Anchor images availlable :\t50\n",
      "Positive images availlable :\t50\n",
      "Negative images availlable :\t12468\n",
      "Tuple harvested :\t\t50\n",
      "Labelling data\n",
      "Successfully harvested and labelled 50 data.\n",
      "Begining training 41th/50 person.\n",
      "Epoch 1/10\n",
      "3/3 [==============================] - 36s 10s/step\n",
      "Loss : 0.6988879442214966\tRecall : 1.0\tPrecision : 0.5\n",
      "Epoch 2/10\n",
      "3/3 [==============================] - 36s 10s/step\n",
      "Loss : 0.6875592470169067\tRecall : 1.0\tPrecision : 0.5277777910232544\n",
      "Epoch 3/10\n",
      "3/3 [==============================] - 35s 10s/step\n",
      "Loss : 0.6932106614112854\tRecall : 1.0\tPrecision : 0.5\n",
      "Epoch 4/10\n",
      "3/3 [==============================] - 35s 10s/step\n",
      "Loss : 0.6875765919685364\tRecall : 1.0\tPrecision : 0.4722222089767456\n",
      "Epoch 5/10\n",
      "3/3 [==============================] - 35s 10s/step\n",
      "Loss : 0.6819456219673157\tRecall : 1.0\tPrecision : 0.5277777910232544\n",
      "Epoch 6/10\n",
      "3/3 [==============================] - 36s 10s/step\n",
      "Loss : 0.693210244178772\tRecall : 1.0\tPrecision : 0.4722222089767456\n",
      "Epoch 7/10\n",
      "3/3 [==============================] - 35s 10s/step\n",
      "Loss : 0.6932078003883362\tRecall : 1.0\tPrecision : 0.5277777910232544\n",
      "Epoch 8/10\n",
      "3/3 [==============================] - 35s 10s/step\n",
      "Loss : 0.6932110786437988\tRecall : 1.0\tPrecision : 0.4722222089767456\n",
      "Epoch 9/10\n",
      "3/3 [==============================] - 35s 10s/step\n",
      "Loss : 0.693206787109375\tRecall : 1.0\tPrecision : 0.4722222089767456\n",
      "Epoch 10/10\n",
      "3/3 [==============================] - 36s 10s/step\n",
      "Loss : 0.6932106614112854\tRecall : 1.0\tPrecision : 0.4444444477558136\n",
      "Training complete, saving embedding kernel.\n",
      "Successfully saved model at saved_model\\embedding_kernel_Georgeless.h5.\n",
      "Generating data variant with Atal_Bihari_Vajpayee as anchor\n"
     ]
    },
    {
     "name": "stderr",
     "output_type": "stream",
     "text": [
      "100%|██████████| 5748/5748 [00:16<00:00, 352.74it/s]\n"
     ]
    },
    {
     "name": "stdout",
     "output_type": "stream",
     "text": [
      "[DEBUG] Finished data variant setup\n",
      "Preparing data augmentation from data\\var_anchor to data\\var_positive.\n"
     ]
    },
    {
     "name": "stderr",
     "output_type": "stream",
     "text": [
      "100%|██████████| 24/24 [00:00<00:00, 59.26it/s]\n"
     ]
    },
    {
     "name": "stdout",
     "output_type": "stream",
     "text": [
      "Successfully generated 48 new images through data augmentation.\n",
      "Preparing data augmentation from data\\var_anchor to data\\var_anchor.\n"
     ]
    },
    {
     "name": "stderr",
     "output_type": "stream",
     "text": [
      "100%|██████████| 24/24 [00:00<00:00, 121.22it/s]\n"
     ]
    },
    {
     "name": "stdout",
     "output_type": "stream",
     "text": [
      "Successfully generated 24 new images through data augmentation.\n",
      "Harvesting data from anchor data\\var_anchor, positive data\\var_positive and negative data\\var_negative folder.\n",
      "Anchor images availlable :\t48\n",
      "Positive images availlable :\t48\n",
      "Negative images availlable :\t12469\n",
      "Tuple harvested :\t\t48\n",
      "Labelling data\n",
      "Successfully harvested and labelled 48 data.\n",
      "Begining training 42th/50 person.\n",
      "Epoch 1/10\n",
      "3/3 [==============================] - 33s 9s/step\n",
      "Loss : 0.6818817257881165\tRecall : 1.0\tPrecision : 0.38235294818878174\n",
      "Epoch 2/10\n",
      "3/3 [==============================] - 33s 9s/step\n",
      "Loss : 0.6932113766670227\tRecall : 1.0\tPrecision : 0.4117647111415863\n",
      "Epoch 3/10\n",
      "3/3 [==============================] - 33s 9s/step\n",
      "Loss : 0.6932104825973511\tRecall : 1.0\tPrecision : 0.47058823704719543\n",
      "Epoch 4/10\n",
      "3/3 [==============================] - 34s 9s/step\n",
      "Loss : 0.6932272911071777\tRecall : 1.0\tPrecision : 0.47058823704719543\n",
      "Epoch 5/10\n",
      "3/3 [==============================] - 33s 9s/step\n",
      "Loss : 0.6932071447372437\tRecall : 1.0\tPrecision : 0.5\n",
      "Epoch 6/10\n",
      "3/3 [==============================] - 33s 9s/step\n",
      "Loss : 0.6819838881492615\tRecall : 1.0\tPrecision : 0.6176470518112183\n",
      "Epoch 7/10\n",
      "3/3 [==============================] - 34s 9s/step\n",
      "Loss : 0.6932196617126465\tRecall : 1.0\tPrecision : 0.5\n",
      "Epoch 8/10\n",
      "3/3 [==============================] - 33s 9s/step\n",
      "Loss : 0.6932135820388794\tRecall : 1.0\tPrecision : 0.47058823704719543\n",
      "Epoch 9/10\n",
      "3/3 [==============================] - 34s 9s/step\n",
      "Loss : 0.6818180680274963\tRecall : 1.0\tPrecision : 0.5\n",
      "Epoch 10/10\n",
      "3/3 [==============================] - 33s 9s/step\n",
      "Loss : 0.6932181119918823\tRecall : 1.0\tPrecision : 0.44117647409439087\n",
      "Training complete, saving embedding kernel.\n",
      "Successfully saved model at saved_model\\embedding_kernel_Georgeless.h5.\n",
      "Generating data variant with Jeremy_Greenstock as anchor\n"
     ]
    },
    {
     "name": "stderr",
     "output_type": "stream",
     "text": [
      "100%|██████████| 5748/5748 [00:15<00:00, 380.00it/s]\n"
     ]
    },
    {
     "name": "stdout",
     "output_type": "stream",
     "text": [
      "[DEBUG] Finished data variant setup\n",
      "Preparing data augmentation from data\\var_anchor to data\\var_positive.\n"
     ]
    },
    {
     "name": "stderr",
     "output_type": "stream",
     "text": [
      "100%|██████████| 24/24 [00:00<00:00, 59.41it/s]\n"
     ]
    },
    {
     "name": "stdout",
     "output_type": "stream",
     "text": [
      "Successfully generated 48 new images through data augmentation.\n",
      "Preparing data augmentation from data\\var_anchor to data\\var_anchor.\n"
     ]
    },
    {
     "name": "stderr",
     "output_type": "stream",
     "text": [
      "100%|██████████| 24/24 [00:00<00:00, 106.20it/s]\n"
     ]
    },
    {
     "name": "stdout",
     "output_type": "stream",
     "text": [
      "Successfully generated 24 new images through data augmentation.\n",
      "Harvesting data from anchor data\\var_anchor, positive data\\var_positive and negative data\\var_negative folder.\n",
      "Anchor images availlable :\t48\n",
      "Positive images availlable :\t48\n",
      "Negative images availlable :\t12469\n",
      "Tuple harvested :\t\t48\n",
      "Labelling data\n",
      "Successfully harvested and labelled 48 data.\n",
      "Begining training 43th/50 person.\n",
      "Epoch 1/10\n",
      "3/3 [==============================] - 35s 9s/step\n",
      "Loss : 0.7046932578086853\tRecall : 1.0\tPrecision : 0.5588235259056091\n",
      "Epoch 2/10\n",
      "3/3 [==============================] - 34s 9s/step\n",
      "Loss : 0.7046775817871094\tRecall : 1.0\tPrecision : 0.44117647409439087\n",
      "Epoch 3/10\n",
      "3/3 [==============================] - 33s 9s/step\n",
      "Loss : 0.6932119131088257\tRecall : 1.0\tPrecision : 0.44117647409439087\n",
      "Epoch 4/10\n",
      "3/3 [==============================] - 33s 9s/step\n",
      "Loss : 0.6932111978530884\tRecall : 1.0\tPrecision : 0.44117647409439087\n",
      "Epoch 5/10\n",
      "3/3 [==============================] - 34s 9s/step\n",
      "Loss : 0.6819313168525696\tRecall : 1.0\tPrecision : 0.5882353186607361\n",
      "Epoch 6/10\n",
      "3/3 [==============================] - 33s 9s/step\n",
      "Loss : 0.6932108402252197\tRecall : 1.0\tPrecision : 0.5588235259056091\n",
      "Epoch 7/10\n",
      "3/3 [==============================] - 34s 9s/step\n",
      "Loss : 0.6818915009498596\tRecall : 1.0\tPrecision : 0.5\n",
      "Epoch 8/10\n",
      "3/3 [==============================] - 34s 9s/step\n",
      "Loss : 0.7045929431915283\tRecall : 1.0\tPrecision : 0.5588235259056091\n",
      "Epoch 9/10\n",
      "3/3 [==============================] - 33s 9s/step\n",
      "Loss : 0.704590916633606\tRecall : 1.0\tPrecision : 0.4117647111415863\n",
      "Epoch 10/10\n",
      "3/3 [==============================] - 34s 9s/step\n",
      "Loss : 0.6932111978530884\tRecall : 1.0\tPrecision : 0.529411792755127\n",
      "Training complete, saving embedding kernel.\n",
      "Successfully saved model at saved_model\\embedding_kernel_Georgeless.h5.\n",
      "Generating data variant with Winona_Ryder as anchor\n"
     ]
    },
    {
     "name": "stderr",
     "output_type": "stream",
     "text": [
      "100%|██████████| 5748/5748 [00:15<00:00, 371.80it/s]\n"
     ]
    },
    {
     "name": "stdout",
     "output_type": "stream",
     "text": [
      "[DEBUG] Finished data variant setup\n",
      "Preparing data augmentation from data\\var_anchor to data\\var_positive.\n"
     ]
    },
    {
     "name": "stderr",
     "output_type": "stream",
     "text": [
      "100%|██████████| 24/24 [00:00<00:00, 65.75it/s]\n"
     ]
    },
    {
     "name": "stdout",
     "output_type": "stream",
     "text": [
      "Successfully generated 48 new images through data augmentation.\n",
      "Preparing data augmentation from data\\var_anchor to data\\var_anchor.\n"
     ]
    },
    {
     "name": "stderr",
     "output_type": "stream",
     "text": [
      "100%|██████████| 24/24 [00:00<00:00, 124.36it/s]\n"
     ]
    },
    {
     "name": "stdout",
     "output_type": "stream",
     "text": [
      "Successfully generated 24 new images through data augmentation.\n",
      "Harvesting data from anchor data\\var_anchor, positive data\\var_positive and negative data\\var_negative folder.\n",
      "Anchor images availlable :\t48\n",
      "Positive images availlable :\t48\n",
      "Negative images availlable :\t12469\n",
      "Tuple harvested :\t\t48\n",
      "Labelling data\n",
      "Successfully harvested and labelled 48 data.\n",
      "Begining training 44th/50 person.\n",
      "Epoch 1/10\n",
      "3/3 [==============================] - 34s 9s/step\n",
      "Loss : 0.7045129537582397\tRecall : 1.0\tPrecision : 0.529411792755127\n",
      "Epoch 2/10\n",
      "3/3 [==============================] - 33s 9s/step\n",
      "Loss : 0.6819695234298706\tRecall : 1.0\tPrecision : 0.529411792755127\n",
      "Epoch 3/10\n",
      "3/3 [==============================] - 33s 9s/step\n",
      "Loss : 0.704456090927124\tRecall : 1.0\tPrecision : 0.5\n",
      "Epoch 4/10\n",
      "3/3 [==============================] - 34s 9s/step\n",
      "Loss : 0.7044132947921753\tRecall : 1.0\tPrecision : 0.5\n",
      "Epoch 5/10\n",
      "3/3 [==============================] - 34s 9s/step\n",
      "Loss : 0.6820802688598633\tRecall : 1.0\tPrecision : 0.5\n",
      "Epoch 6/10\n",
      "3/3 [==============================] - 33s 9s/step\n",
      "Loss : 0.7043343782424927\tRecall : 1.0\tPrecision : 0.5882353186607361\n",
      "Epoch 7/10\n",
      "3/3 [==============================] - 34s 9s/step\n",
      "Loss : 0.693208634853363\tRecall : 1.0\tPrecision : 0.47058823704719543\n",
      "Epoch 8/10\n",
      "3/3 [==============================] - 33s 9s/step\n",
      "Loss : 0.6932080984115601\tRecall : 1.0\tPrecision : 0.47058823704719543\n",
      "Epoch 9/10\n",
      "3/3 [==============================] - 33s 9s/step\n",
      "Loss : 0.6932080984115601\tRecall : 1.0\tPrecision : 0.5\n",
      "Epoch 10/10\n",
      "3/3 [==============================] - 33s 9s/step\n",
      "Loss : 0.6822155714035034\tRecall : 1.0\tPrecision : 0.5588235259056091\n",
      "Training complete, saving embedding kernel.\n",
      "Successfully saved model at saved_model\\embedding_kernel_Georgeless.h5.\n",
      "Generating data variant with Jose_Maria_Aznar as anchor\n"
     ]
    },
    {
     "name": "stderr",
     "output_type": "stream",
     "text": [
      "100%|██████████| 5748/5748 [00:14<00:00, 388.86it/s]\n"
     ]
    },
    {
     "name": "stdout",
     "output_type": "stream",
     "text": [
      "[DEBUG] Finished data variant setup\n",
      "Preparing data augmentation from data\\var_anchor to data\\var_positive.\n"
     ]
    },
    {
     "name": "stderr",
     "output_type": "stream",
     "text": [
      "100%|██████████| 23/23 [00:00<00:00, 59.90it/s]\n"
     ]
    },
    {
     "name": "stdout",
     "output_type": "stream",
     "text": [
      "Successfully generated 46 new images through data augmentation.\n",
      "Preparing data augmentation from data\\var_anchor to data\\var_anchor.\n"
     ]
    },
    {
     "name": "stderr",
     "output_type": "stream",
     "text": [
      "100%|██████████| 23/23 [00:00<00:00, 109.52it/s]\n"
     ]
    },
    {
     "name": "stdout",
     "output_type": "stream",
     "text": [
      "Successfully generated 23 new images through data augmentation.\n",
      "Harvesting data from anchor data\\var_anchor, positive data\\var_positive and negative data\\var_negative folder.\n",
      "Anchor images availlable :\t46\n",
      "Positive images availlable :\t46\n",
      "Negative images availlable :\t12470\n",
      "Tuple harvested :\t\t46\n",
      "Labelling data\n",
      "Successfully harvested and labelled 46 data.\n",
      "Begining training 45th/50 person.\n",
      "Epoch 1/10\n",
      "3/3 [==============================] - 33s 8s/step\n",
      "Loss : 0.6821833848953247\tRecall : 1.0\tPrecision : 0.4848484992980957\n",
      "Epoch 2/10\n",
      "3/3 [==============================] - 32s 8s/step\n",
      "Loss : 0.6821267008781433\tRecall : 1.0\tPrecision : 0.5454545617103577\n",
      "Epoch 3/10\n",
      "3/3 [==============================] - 32s 8s/step\n",
      "Loss : 0.6820382475852966\tRecall : 1.0\tPrecision : 0.5151515007019043\n",
      "Epoch 4/10\n",
      "3/3 [==============================] - 32s 8s/step\n",
      "Loss : 0.7044866681098938\tRecall : 1.0\tPrecision : 0.4545454680919647\n",
      "Epoch 5/10\n",
      "3/3 [==============================] - 33s 9s/step\n",
      "Loss : 0.681911289691925\tRecall : 1.0\tPrecision : 0.4545454680919647\n",
      "Epoch 6/10\n",
      "3/3 [==============================] - 32s 9s/step\n",
      "Loss : 0.7045632004737854\tRecall : 1.0\tPrecision : 0.42424243688583374\n",
      "Epoch 7/10\n",
      "3/3 [==============================] - 32s 8s/step\n",
      "Loss : 0.681882381439209\tRecall : 1.0\tPrecision : 0.4545454680919647\n",
      "Epoch 8/10\n",
      "3/3 [==============================] - 32s 8s/step\n",
      "Loss : 0.7045671939849854\tRecall : 1.0\tPrecision : 0.5151515007019043\n",
      "Epoch 9/10\n",
      "3/3 [==============================] - 32s 9s/step\n",
      "Loss : 0.6818801760673523\tRecall : 1.0\tPrecision : 0.5151515007019043\n",
      "Epoch 10/10\n",
      "3/3 [==============================] - 31s 8s/step\n",
      "Loss : 0.7045691013336182\tRecall : 1.0\tPrecision : 0.4848484992980957\n",
      "Training complete, saving embedding kernel.\n",
      "Successfully saved model at saved_model\\embedding_kernel_Georgeless.h5.\n",
      "Generating data variant with Saddam_Hussein as anchor\n"
     ]
    },
    {
     "name": "stderr",
     "output_type": "stream",
     "text": [
      "100%|██████████| 5748/5748 [00:15<00:00, 362.86it/s]\n"
     ]
    },
    {
     "name": "stdout",
     "output_type": "stream",
     "text": [
      "[DEBUG] Finished data variant setup\n",
      "Preparing data augmentation from data\\var_anchor to data\\var_positive.\n"
     ]
    },
    {
     "name": "stderr",
     "output_type": "stream",
     "text": [
      "100%|██████████| 23/23 [00:00<00:00, 63.89it/s]\n"
     ]
    },
    {
     "name": "stdout",
     "output_type": "stream",
     "text": [
      "Successfully generated 46 new images through data augmentation.\n",
      "Preparing data augmentation from data\\var_anchor to data\\var_anchor.\n"
     ]
    },
    {
     "name": "stderr",
     "output_type": "stream",
     "text": [
      "100%|██████████| 23/23 [00:00<00:00, 130.68it/s]\n"
     ]
    },
    {
     "name": "stdout",
     "output_type": "stream",
     "text": [
      "Successfully generated 23 new images through data augmentation.\n",
      "Harvesting data from anchor data\\var_anchor, positive data\\var_positive and negative data\\var_negative folder.\n",
      "Anchor images availlable :\t46\n",
      "Positive images availlable :\t46\n",
      "Negative images availlable :\t12470\n",
      "Tuple harvested :\t\t46\n",
      "Labelling data\n",
      "Successfully harvested and labelled 46 data.\n",
      "Begining training 46th/50 person.\n",
      "Epoch 1/10\n",
      "3/3 [==============================] - 32s 8s/step\n",
      "Loss : 0.7045489549636841\tRecall : 1.0\tPrecision : 0.5757575631141663\n",
      "Epoch 2/10\n",
      "3/3 [==============================] - 32s 8s/step\n",
      "Loss : 0.7044968605041504\tRecall : 1.0\tPrecision : 0.4848484992980957\n",
      "Epoch 3/10\n",
      "3/3 [==============================] - 32s 8s/step\n",
      "Loss : 0.6820061802864075\tRecall : 1.0\tPrecision : 0.5454545617103577\n",
      "Epoch 4/10\n",
      "3/3 [==============================] - 33s 9s/step\n",
      "Loss : 0.6820159554481506\tRecall : 1.0\tPrecision : 0.4545454680919647\n",
      "Epoch 5/10\n",
      "3/3 [==============================] - 32s 8s/step\n",
      "Loss : 0.7044285535812378\tRecall : 1.0\tPrecision : 0.5454545617103577\n",
      "Epoch 6/10\n",
      "3/3 [==============================] - 33s 9s/step\n",
      "Loss : 0.7044158577919006\tRecall : 1.0\tPrecision : 0.5454545617103577\n",
      "Epoch 7/10\n",
      "3/3 [==============================] - 32s 8s/step\n",
      "Loss : 0.6820407509803772\tRecall : 1.0\tPrecision : 0.6060606241226196\n",
      "Epoch 8/10\n",
      "3/3 [==============================] - 32s 8s/step\n",
      "Loss : 0.704393208026886\tRecall : 1.0\tPrecision : 0.4848484992980957\n",
      "Epoch 9/10\n",
      "3/3 [==============================] - 33s 8s/step\n",
      "Loss : 0.6820608973503113\tRecall : 1.0\tPrecision : 0.42424243688583374\n",
      "Epoch 10/10\n",
      "3/3 [==============================] - 33s 9s/step\n",
      "Loss : 0.7043688297271729\tRecall : 1.0\tPrecision : 0.5454545617103577\n",
      "Training complete, saving embedding kernel.\n",
      "Successfully saved model at saved_model\\embedding_kernel_Georgeless.h5.\n",
      "Generating data variant with Tiger_Woods as anchor\n"
     ]
    },
    {
     "name": "stderr",
     "output_type": "stream",
     "text": [
      "100%|██████████| 5748/5748 [00:15<00:00, 382.53it/s]\n"
     ]
    },
    {
     "name": "stdout",
     "output_type": "stream",
     "text": [
      "[DEBUG] Finished data variant setup\n",
      "Preparing data augmentation from data\\var_anchor to data\\var_positive.\n"
     ]
    },
    {
     "name": "stderr",
     "output_type": "stream",
     "text": [
      "100%|██████████| 23/23 [00:00<00:00, 59.59it/s]\n"
     ]
    },
    {
     "name": "stdout",
     "output_type": "stream",
     "text": [
      "Successfully generated 46 new images through data augmentation.\n",
      "Preparing data augmentation from data\\var_anchor to data\\var_anchor.\n"
     ]
    },
    {
     "name": "stderr",
     "output_type": "stream",
     "text": [
      "100%|██████████| 23/23 [00:00<00:00, 120.42it/s]\n"
     ]
    },
    {
     "name": "stdout",
     "output_type": "stream",
     "text": [
      "Successfully generated 23 new images through data augmentation.\n",
      "Harvesting data from anchor data\\var_anchor, positive data\\var_positive and negative data\\var_negative folder.\n",
      "Anchor images availlable :\t46\n",
      "Positive images availlable :\t46\n",
      "Negative images availlable :\t12470\n",
      "Tuple harvested :\t\t46\n",
      "Labelling data\n",
      "Successfully harvested and labelled 46 data.\n",
      "Begining training 47th/50 person.\n",
      "Epoch 1/10\n",
      "3/3 [==============================] - 33s 9s/step\n",
      "Loss : 0.704341471195221\tRecall : 1.0\tPrecision : 0.4848484992980957\n",
      "Epoch 2/10\n",
      "3/3 [==============================] - 33s 9s/step\n",
      "Loss : 0.6821431517601013\tRecall : 1.0\tPrecision : 0.4848484992980957\n",
      "Epoch 3/10\n",
      "3/3 [==============================] - 32s 8s/step\n",
      "Loss : 0.6821549534797668\tRecall : 1.0\tPrecision : 0.5151515007019043\n",
      "Epoch 4/10\n",
      "3/3 [==============================] - 32s 8s/step\n",
      "Loss : 0.704285204410553\tRecall : 1.0\tPrecision : 0.39393940567970276\n",
      "Epoch 5/10\n",
      "3/3 [==============================] - 32s 9s/step\n",
      "Loss : 0.7042568922042847\tRecall : 1.0\tPrecision : 0.5454545617103577\n",
      "Epoch 6/10\n",
      "3/3 [==============================] - 32s 9s/step\n",
      "Loss : 0.6822065114974976\tRecall : 1.0\tPrecision : 0.5757575631141663\n",
      "Epoch 7/10\n",
      "3/3 [==============================] - 33s 8s/step\n",
      "Loss : 0.6822022795677185\tRecall : 1.0\tPrecision : 0.4848484992980957\n",
      "Epoch 8/10\n",
      "3/3 [==============================] - 32s 8s/step\n",
      "Loss : 0.7042375802993774\tRecall : 1.0\tPrecision : 0.3636363744735718\n",
      "Epoch 9/10\n",
      "3/3 [==============================] - 32s 8s/step\n",
      "Loss : 0.7042081952095032\tRecall : 1.0\tPrecision : 0.4545454680919647\n",
      "Epoch 10/10\n",
      "3/3 [==============================] - 32s 8s/step\n",
      "Loss : 0.6822735667228699\tRecall : 1.0\tPrecision : 0.5151515007019043\n",
      "Training complete, saving embedding kernel.\n",
      "Successfully saved model at saved_model\\embedding_kernel_Georgeless.h5.\n",
      "Generating data variant with George_Robertson as anchor\n"
     ]
    },
    {
     "name": "stderr",
     "output_type": "stream",
     "text": [
      "100%|██████████| 5748/5748 [00:16<00:00, 351.04it/s]\n"
     ]
    },
    {
     "name": "stdout",
     "output_type": "stream",
     "text": [
      "[DEBUG] Finished data variant setup\n",
      "Preparing data augmentation from data\\var_anchor to data\\var_positive.\n"
     ]
    },
    {
     "name": "stderr",
     "output_type": "stream",
     "text": [
      "100%|██████████| 22/22 [00:00<00:00, 68.75it/s]\n"
     ]
    },
    {
     "name": "stdout",
     "output_type": "stream",
     "text": [
      "Successfully generated 44 new images through data augmentation.\n",
      "Preparing data augmentation from data\\var_anchor to data\\var_anchor.\n"
     ]
    },
    {
     "name": "stderr",
     "output_type": "stream",
     "text": [
      "100%|██████████| 22/22 [00:00<00:00, 123.59it/s]\n"
     ]
    },
    {
     "name": "stdout",
     "output_type": "stream",
     "text": [
      "Successfully generated 22 new images through data augmentation.\n",
      "Harvesting data from anchor data\\var_anchor, positive data\\var_positive and negative data\\var_negative folder.\n",
      "Anchor images availlable :\t44\n",
      "Positive images availlable :\t44\n",
      "Negative images availlable :\t12471\n",
      "Tuple harvested :\t\t44\n",
      "Labelling data\n",
      "Successfully harvested and labelled 44 data.\n",
      "Begining training 48th/50 person.\n",
      "Epoch 1/10\n",
      "2/2 [==============================] - 30s 14s/step\n",
      "Loss : 0.6939346194267273\tRecall : 1.0\tPrecision : 0.3870967626571655\n",
      "Epoch 2/10\n",
      "2/2 [==============================] - 30s 15s/step\n",
      "Loss : 0.6939332485198975\tRecall : 1.0\tPrecision : 0.4838709533214569\n",
      "Epoch 3/10\n",
      "2/2 [==============================] - 30s 15s/step\n",
      "Loss : 0.691028356552124\tRecall : 1.0\tPrecision : 0.5806451439857483\n",
      "Epoch 4/10\n",
      "2/2 [==============================] - 30s 14s/step\n",
      "Loss : 0.6910296082496643\tRecall : 1.0\tPrecision : 0.5161290168762207\n",
      "Epoch 5/10\n",
      "2/2 [==============================] - 30s 15s/step\n",
      "Loss : 0.6939312815666199\tRecall : 1.0\tPrecision : 0.4516128897666931\n",
      "Epoch 6/10\n",
      "2/2 [==============================] - 30s 14s/step\n",
      "Loss : 0.6924811601638794\tRecall : 1.0\tPrecision : 0.5483871102333069\n",
      "Epoch 7/10\n",
      "2/2 [==============================] - 29s 14s/step\n",
      "Loss : 0.6924816370010376\tRecall : 1.0\tPrecision : 0.4193548262119293\n",
      "Epoch 8/10\n",
      "2/2 [==============================] - 30s 14s/step\n",
      "Loss : 0.6953760981559753\tRecall : 1.0\tPrecision : 0.3870967626571655\n",
      "Epoch 9/10\n",
      "2/2 [==============================] - 30s 14s/step\n",
      "Loss : 0.6924835443496704\tRecall : 1.0\tPrecision : 0.4838709533214569\n",
      "Epoch 10/10\n",
      "2/2 [==============================] - 30s 15s/step\n",
      "Loss : 0.6924842000007629\tRecall : 1.0\tPrecision : 0.6451612710952759\n",
      "Training complete, saving embedding kernel.\n",
      "Successfully saved model at saved_model\\embedding_kernel_Georgeless.h5.\n",
      "Generating data variant with Hamid_Karzai as anchor\n"
     ]
    },
    {
     "name": "stderr",
     "output_type": "stream",
     "text": [
      "100%|██████████| 5748/5748 [00:14<00:00, 398.25it/s]\n"
     ]
    },
    {
     "name": "stdout",
     "output_type": "stream",
     "text": [
      "[DEBUG] Finished data variant setup\n",
      "Preparing data augmentation from data\\var_anchor to data\\var_positive.\n"
     ]
    },
    {
     "name": "stderr",
     "output_type": "stream",
     "text": [
      "100%|██████████| 22/22 [00:00<00:00, 65.09it/s]\n"
     ]
    },
    {
     "name": "stdout",
     "output_type": "stream",
     "text": [
      "Successfully generated 44 new images through data augmentation.\n",
      "Preparing data augmentation from data\\var_anchor to data\\var_anchor.\n"
     ]
    },
    {
     "name": "stderr",
     "output_type": "stream",
     "text": [
      "100%|██████████| 22/22 [00:00<00:00, 122.90it/s]\n"
     ]
    },
    {
     "name": "stdout",
     "output_type": "stream",
     "text": [
      "Successfully generated 22 new images through data augmentation.\n",
      "Harvesting data from anchor data\\var_anchor, positive data\\var_positive and negative data\\var_negative folder.\n",
      "Anchor images availlable :\t44\n",
      "Positive images availlable :\t44\n",
      "Negative images availlable :\t12471\n",
      "Tuple harvested :\t\t44\n",
      "Labelling data\n",
      "Successfully harvested and labelled 44 data.\n",
      "Begining training 49th/50 person.\n",
      "Epoch 1/10\n",
      "2/2 [==============================] - 30s 15s/step\n",
      "Loss : 0.6924844980239868\tRecall : 1.0\tPrecision : 0.5483871102333069\n",
      "Epoch 2/10\n",
      "2/2 [==============================] - 30s 15s/step\n",
      "Loss : 0.693926990032196\tRecall : 1.0\tPrecision : 0.4516128897666931\n",
      "Epoch 3/10\n",
      "2/2 [==============================] - 30s 15s/step\n",
      "Loss : 0.6997001767158508\tRecall : 1.0\tPrecision : 0.4516128897666931\n",
      "Epoch 4/10\n",
      "2/2 [==============================] - 30s 15s/step\n",
      "Loss : 0.6953687071800232\tRecall : 1.0\tPrecision : 0.4838709533214569\n",
      "Epoch 5/10\n",
      "2/2 [==============================] - 30s 15s/step\n",
      "Loss : 0.691045343875885\tRecall : 1.0\tPrecision : 0.4516128897666931\n",
      "Epoch 6/10\n",
      "2/2 [==============================] - 30s 15s/step\n",
      "Loss : 0.69536292552948\tRecall : 1.0\tPrecision : 0.4838709533214569\n",
      "Epoch 7/10\n",
      "2/2 [==============================] - 30s 14s/step\n",
      "Loss : 0.6910503506660461\tRecall : 1.0\tPrecision : 0.5161290168762207\n",
      "Epoch 8/10\n",
      "2/2 [==============================] - 30s 15s/step\n",
      "Loss : 0.6910531520843506\tRecall : 1.0\tPrecision : 0.4838709533214569\n",
      "Epoch 9/10\n",
      "2/2 [==============================] - 30s 15s/step\n",
      "Loss : 0.6982234716415405\tRecall : 1.0\tPrecision : 0.4516128897666931\n",
      "Epoch 10/10\n",
      "2/2 [==============================] - 30s 14s/step\n",
      "Loss : 0.6953519582748413\tRecall : 1.0\tPrecision : 0.3870967626571655\n",
      "Training complete, saving embedding kernel.\n",
      "Successfully saved model at saved_model\\embedding_kernel_Georgeless.h5.\n",
      "Generating data variant with Lindsay_Davenport as anchor\n"
     ]
    },
    {
     "name": "stderr",
     "output_type": "stream",
     "text": [
      "100%|██████████| 5748/5748 [00:15<00:00, 379.95it/s]\n"
     ]
    },
    {
     "name": "stdout",
     "output_type": "stream",
     "text": [
      "[DEBUG] Finished data variant setup\n",
      "Preparing data augmentation from data\\var_anchor to data\\var_positive.\n"
     ]
    },
    {
     "name": "stderr",
     "output_type": "stream",
     "text": [
      "100%|██████████| 22/22 [00:00<00:00, 62.86it/s]\n"
     ]
    },
    {
     "name": "stdout",
     "output_type": "stream",
     "text": [
      "Successfully generated 44 new images through data augmentation.\n",
      "Preparing data augmentation from data\\var_anchor to data\\var_anchor.\n"
     ]
    },
    {
     "name": "stderr",
     "output_type": "stream",
     "text": [
      "100%|██████████| 22/22 [00:00<00:00, 120.88it/s]\n"
     ]
    },
    {
     "name": "stdout",
     "output_type": "stream",
     "text": [
      "Successfully generated 22 new images through data augmentation.\n",
      "Harvesting data from anchor data\\var_anchor, positive data\\var_positive and negative data\\var_negative folder.\n",
      "Anchor images availlable :\t44\n",
      "Positive images availlable :\t44\n",
      "Negative images availlable :\t12471\n",
      "Tuple harvested :\t\t44\n",
      "Labelling data\n",
      "Successfully harvested and labelled 44 data.\n",
      "Begining training 50th/50 person.\n",
      "Epoch 1/10\n",
      "2/2 [==============================] - 29s 14s/step\n",
      "Loss : 0.6967755556106567\tRecall : 1.0\tPrecision : 0.4516128897666931\n",
      "Epoch 2/10\n",
      "2/2 [==============================] - 30s 15s/step\n",
      "Loss : 0.6953416466712952\tRecall : 1.0\tPrecision : 0.4516128897666931\n",
      "Epoch 3/10\n",
      "2/2 [==============================] - 30s 14s/step\n",
      "Loss : 0.6910722255706787\tRecall : 1.0\tPrecision : 0.5161290168762207\n",
      "Epoch 4/10\n",
      "2/2 [==============================] - 30s 15s/step\n",
      "Loss : 0.69391268491745\tRecall : 1.0\tPrecision : 0.4516128897666931\n",
      "Epoch 5/10\n",
      "2/2 [==============================] - 30s 14s/step\n",
      "Loss : 0.692496120929718\tRecall : 1.0\tPrecision : 0.4193548262119293\n",
      "Epoch 6/10\n",
      "2/2 [==============================] - 30s 14s/step\n",
      "Loss : 0.6910865306854248\tRecall : 1.0\tPrecision : 0.5483871102333069\n",
      "Epoch 7/10\n",
      "2/2 [==============================] - 30s 15s/step\n",
      "Loss : 0.692498505115509\tRecall : 1.0\tPrecision : 0.5161290168762207\n",
      "Epoch 8/10\n",
      "2/2 [==============================] - 30s 15s/step\n",
      "Loss : 0.6924989223480225\tRecall : 1.0\tPrecision : 0.5483871102333069\n",
      "Epoch 9/10\n",
      "2/2 [==============================] - 30s 14s/step\n",
      "Loss : 0.6939056515693665\tRecall : 1.0\tPrecision : 0.4193548262119293\n",
      "Epoch 10/10\n",
      "2/2 [==============================] - 30s 14s/step\n",
      "Loss : 0.6925001740455627\tRecall : 1.0\tPrecision : 0.4838709533214569\n",
      "Training complete, saving embedding kernel.\n",
      "Successfully saved model at saved_model\\embedding_kernel_Georgeless.h5.\n"
     ]
    }
   ],
   "source": [
    "n_max_person = 50\n",
    "offset = 1\n",
    "max_harvest = 100\n",
    "\n",
    "embedding_pretrained = make_embedding_from_pretrained(file_name='embedding_kernel_Georgeless')\n",
    "siamese_model = make_siamese_model(embedding_pretrained)\n",
    "train_step = define_train_step(siamese_model)\n",
    "train = define_training_loop(siamese_model, train_step)\n",
    "print(f\"Successfully created siamese model from pretrained kernel.\")\n",
    "\n",
    "for k_th_person in range(n_max_person):\n",
    "    empty_folder(VANC_PATH)\n",
    "    empty_folder(VPOS_PATH)\n",
    "    empty_folder(VNEG_PATH)\n",
    "\n",
    "    setup_var_data(offset+k_th_person, max_harvest)\n",
    "    data_augment_from_folder(VANC_PATH, VPOS_PATH, data_augmentation_factor=2)\n",
    "    data_augment_from_folder(VANC_PATH, VANC_PATH, data_augmentation_factor=1)\n",
    "\n",
    "    data = harvest_from_folder(\n",
    "        anc_path=VANC_PATH, pos_path=VPOS_PATH, neg_path=VNEG_PATH, n_harvest = 2*max_harvest)\n",
    "    train_data, test_data = build_dataloader_pipeline(data, max_data_size = 2*max_harvest)\n",
    "    \n",
    "    print(f\"Begining training {k_th_person+1}th/{n_max_person} person.\")\n",
    "    train(train_data, n_epoch=10)\n",
    "    print(f\"Training complete, saving embedding kernel.\")\n",
    "    save_model(embedding_pretrained, file_name='embedding_kernel_Georgeless')"
   ]
  }
 ],
 "metadata": {
  "kernelspec": {
   "display_name": ".venv",
   "language": "python",
   "name": "python3"
  },
  "language_info": {
   "codemirror_mode": {
    "name": "ipython",
    "version": 3
   },
   "file_extension": ".py",
   "mimetype": "text/x-python",
   "name": "python",
   "nbconvert_exporter": "python",
   "pygments_lexer": "ipython3",
   "version": "3.7.3"
  }
 },
 "nbformat": 4,
 "nbformat_minor": 2
}
