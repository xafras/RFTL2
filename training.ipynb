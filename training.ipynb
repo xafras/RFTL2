{
 "cells": [
  {
   "cell_type": "code",
   "execution_count": 1,
   "metadata": {},
   "outputs": [],
   "source": [
    "from src import *"
   ]
  },
  {
   "cell_type": "code",
   "execution_count": 2,
   "metadata": {},
   "outputs": [
    {
     "data": {
      "text/plain": [
       "[('George_W_Bush', 530),\n",
       " ('Colin_Powell', 236),\n",
       " ('Tony_Blair', 144),\n",
       " ('Donald_Rumsfeld', 121),\n",
       " ('Gerhard_Schroeder', 109),\n",
       " ('Ariel_Sharon', 77),\n",
       " ('Hugo_Chavez', 71),\n",
       " ('Junichiro_Koizumi', 60),\n",
       " ('Jean_Chretien', 55),\n",
       " ('John_Ashcroft', 53),\n",
       " ('Jacques_Chirac', 52),\n",
       " ('Serena_Williams', 52),\n",
       " ('Vladimir_Putin', 49),\n",
       " ('Luiz_Inacio_Lula_da_Silva', 48),\n",
       " ('Gloria_Macapagal_Arroyo', 44),\n",
       " ('Arnold_Schwarzenegger', 42),\n",
       " ('Jennifer_Capriati', 42),\n",
       " ('Laura_Bush', 41),\n",
       " ('Lleyton_Hewitt', 41),\n",
       " ('Alejandro_Toledo', 39),\n",
       " ('Hans_Blix', 39),\n",
       " ('Nestor_Kirchner', 37),\n",
       " ('Andre_Agassi', 36),\n",
       " ('Alvaro_Uribe', 35),\n",
       " ('Megawati_Sukarnoputri', 33),\n",
       " ('Silvio_Berlusconi', 33),\n",
       " ('Tom_Ridge', 33),\n",
       " ('Kofi_Annan', 32),\n",
       " ('Roh_Moo-hyun', 32),\n",
       " ('Vicente_Fox', 32),\n",
       " ('David_Beckham', 31),\n",
       " ('John_Negroponte', 31),\n",
       " ('Guillermo_Coria', 30),\n",
       " ('Recep_Tayyip_Erdogan', 30),\n",
       " ('Bill_Clinton', 29),\n",
       " ('Mahmoud_Abbas', 29),\n",
       " ('Jack_Straw', 28),\n",
       " ('Juan_Carlos_Ferrero', 28),\n",
       " ('Ricardo_Lagos', 27),\n",
       " ('Gray_Davis', 26),\n",
       " ('Rudolph_Giuliani', 26),\n",
       " ('Tom_Daschle', 25),\n",
       " ('Atal_Bihari_Vajpayee', 24),\n",
       " ('Jeremy_Greenstock', 24),\n",
       " ('Winona_Ryder', 24),\n",
       " ('Jose_Maria_Aznar', 23),\n",
       " ('Saddam_Hussein', 23),\n",
       " ('Tiger_Woods', 23),\n",
       " ('George_Robertson', 22),\n",
       " ('Hamid_Karzai', 22),\n",
       " ('Lindsay_Davenport', 22),\n",
       " ('Naomi_Watts', 22),\n",
       " ('Pete_Sampras', 22),\n",
       " ('Amelie_Mauresmo', 21),\n",
       " ('Carlos_Menem', 21),\n",
       " ('Jennifer_Aniston', 21),\n",
       " ('Jennifer_Lopez', 21),\n",
       " ('Angelina_Jolie', 20),\n",
       " ('Igor_Ivanov', 20),\n",
       " ('Jiang_Zemin', 20),\n",
       " ('Michael_Bloomberg', 20),\n",
       " ('Paul_Bremer', 20),\n",
       " ('Abdullah_Gul', 19),\n",
       " ('Carlos_Moya', 19),\n",
       " ('John_Howard', 19),\n",
       " ('Joschka_Fischer', 19),\n",
       " ('Julianne_Moore', 19),\n",
       " ('Nicole_Kidman', 19),\n",
       " ('Tim_Henman', 19),\n",
       " ('Fidel_Castro', 18),\n",
       " ('Lance_Armstrong', 18),\n",
       " ('Michael_Schumacher', 18),\n",
       " ('Pervez_Musharraf', 18),\n",
       " ('Richard_Myers', 18),\n",
       " ('Bill_Gates', 17),\n",
       " ('Jean_Charest', 17),\n",
       " ('John_Bolton', 17),\n",
       " ('John_Kerry', 17),\n",
       " ('John_Snow', 17),\n",
       " ('Renee_Zellweger', 17),\n",
       " ('Spencer_Abraham', 17),\n",
       " ('Venus_Williams', 17),\n",
       " ('Halle_Berry', 16),\n",
       " ('Tommy_Franks', 16),\n",
       " ('Trent_Lott', 16),\n",
       " ('Andy_Roddick', 15),\n",
       " ('Bill_Simon', 15),\n",
       " ('Dominique_de_Villepin', 15),\n",
       " ('Hu_Jintao', 15),\n",
       " ('Julie_Gerberding', 15),\n",
       " ('Meryl_Streep', 15),\n",
       " ('Mohammed_Al-Douri', 15),\n",
       " ('Nancy_Pelosi', 15),\n",
       " ('Norah_Jones', 15),\n",
       " ('Pierce_Brosnan', 15),\n",
       " ('Taha_Yassin_Ramadan', 15),\n",
       " ('Britney_Spears', 14),\n",
       " ('David_Nalbandian', 14),\n",
       " ('Dick_Cheney', 14),\n",
       " ('Eduardo_Duhalde', 14),\n",
       " ('Hillary_Clinton', 14),\n",
       " ('James_Blake', 14),\n",
       " ('Kim_Clijsters', 14),\n",
       " ('Mahathir_Mohamad', 14),\n",
       " ('Roger_Federer', 14),\n",
       " ('Yoriko_Kawaguchi', 14),\n",
       " ('Ari_Fleischer', 13),\n",
       " ('Charles_Moose', 13),\n",
       " ('Edmund_Stoiber', 13),\n",
       " ('George_HW_Bush', 13),\n",
       " ('Gordon_Brown', 13),\n",
       " ('Jackie_Chan', 13),\n",
       " ('Joe_Lieberman', 13),\n",
       " ('Lucio_Gutierrez', 13),\n",
       " ('Queen_Elizabeth_II', 13),\n",
       " ('Salma_Hayek', 13),\n",
       " ('Wen_Jiabao', 13),\n",
       " ('Adrien_Brody', 12),\n",
       " ('Anna_Kournikova', 12),\n",
       " ('Gonzalo_Sanchez_de_Lozada', 12),\n",
       " ('Harrison_Ford', 12),\n",
       " ('Howard_Dean', 12),\n",
       " ('Jeb_Bush', 12),\n",
       " ('Jennifer_Garner', 12),\n",
       " ('Keanu_Reeves', 12),\n",
       " ('Michael_Jackson', 12),\n",
       " ('Rubens_Barrichello', 12),\n",
       " ('Ann_Veneman', 11),\n",
       " ('Catherine_Zeta-Jones', 11),\n",
       " ('Condoleezza_Rice', 11),\n",
       " ('James_Kelly', 11),\n",
       " ('Jiri_Novak', 11),\n",
       " ('John_Allen_Muhammad', 11),\n",
       " ('John_Paul_II', 11),\n",
       " ('Kim_Ryong-sung', 11),\n",
       " ('Mark_Philippoussis', 11),\n",
       " ('Mike_Weir', 11),\n",
       " ('Nicanor_Duarte_Frutos', 11),\n",
       " ('Paul_Burrell', 11),\n",
       " ('Richard_Gephardt', 11),\n",
       " ('Sergey_Lavrov', 11),\n",
       " ('Sergio_Vieira_De_Mello', 11),\n",
       " ('Tang_Jiaxuan', 11),\n",
       " ('Bill_McBride', 10),\n",
       " ('Ian_Thorpe', 10),\n",
       " ('Jacques_Rogge', 10),\n",
       " ('Jason_Kidd', 10),\n",
       " ('Javier_Solana', 10),\n",
       " ('Jean-David_Levitte', 10),\n",
       " ('Mohammad_Khatami', 10),\n",
       " ('Muhammad_Ali', 10),\n",
       " ('Paradorn_Srichaphan', 10),\n",
       " ('Paul_Wolfowitz', 10),\n",
       " ('Richard_Gere', 10),\n",
       " ('Tom_Cruise', 10),\n",
       " ('Tom_Hanks', 10),\n",
       " ('Tommy_Thompson', 10),\n",
       " ('Walter_Mondale', 10),\n",
       " ('Bill_Frist', 9),\n",
       " ('Bill_Graham', 9),\n",
       " ('Charles_Taylor', 9),\n",
       " ('Colin_Farrell', 9),\n",
       " ('Fernando_Gonzalez', 9),\n",
       " ('George_Clooney', 9),\n",
       " ('Heizo_Takenaka', 9),\n",
       " ('Hosni_Mubarak', 9),\n",
       " ('Hugh_Grant', 9),\n",
       " ('Jeong_Se-hyun', 9),\n",
       " ('Jesse_Jackson', 9),\n",
       " ('Jimmy_Carter', 9),\n",
       " ('Joan_Laporta', 9),\n",
       " ('John_Abizaid', 9),\n",
       " ('Jose_Serra', 9),\n",
       " ('Kate_Hudson', 9),\n",
       " ('Leonardo_DiCaprio', 9),\n",
       " ('Li_Peng', 9),\n",
       " ('Paul_ONeill', 9),\n",
       " ('Ray_Romano', 9),\n",
       " ('Richard_Armitage', 9),\n",
       " ('Sylvester_Stallone', 9),\n",
       " ('Thomas_OBrien', 9),\n",
       " ('Tung_Chee-hwa', 9),\n",
       " ('Vaclav_Havel', 9),\n",
       " ('Zhu_Rongji', 9),\n",
       " ('Al_Gore', 8),\n",
       " ('Ali_Naimi', 8),\n",
       " ('Ana_Palacio', 8),\n",
       " ('Antonio_Palocci', 8),\n",
       " ('Bob_Hope', 8),\n",
       " ('Celine_Dion', 8),\n",
       " ('Cesar_Gaviria', 8),\n",
       " ('Fernando_Henrique_Cardoso', 8),\n",
       " ('Gerry_Adams', 8),\n",
       " ('Jelena_Dokic', 8),\n",
       " ('John_Edwards', 8),\n",
       " ('Jonathan_Edwards', 8),\n",
       " ('Juan_Pablo_Montoya', 8),\n",
       " ('Justin_Timberlake', 8),\n",
       " ('Kevin_Costner', 8),\n",
       " ('Kim_Dae-jung', 8),\n",
       " ('Li_Zhaoxing', 8),\n",
       " ('Maria_Shriver', 8),\n",
       " ('Michael_Chang', 8),\n",
       " ('Michelle_Kwan', 8),\n",
       " ('Mohamed_ElBaradei', 8),\n",
       " ('Naji_Sabri', 8),\n",
       " ('Paul_Martin', 8),\n",
       " ('Ralf_Schumacher', 8),\n",
       " ('Richard_Virenque', 8),\n",
       " ('Robert_Blake', 8),\n",
       " ('Robert_Duvall', 8),\n",
       " ('Robert_Redford', 8),\n",
       " ('Ron_Dittemore', 8),\n",
       " ('Sheryl_Crow', 8),\n",
       " ('Shimon_Peres', 8),\n",
       " ('Yao_Ming', 8),\n",
       " ('Yasser_Arafat', 8),\n",
       " ('Al_Sharpton', 7),\n",
       " ('Amelia_Vega', 7),\n",
       " ('Ana_Guevara', 7),\n",
       " ('Ben_Affleck', 7),\n",
       " ('Binyamin_Ben-Eliezer', 7),\n",
       " ('Bob_Stoops', 7),\n",
       " ('David_Wells', 7),\n",
       " ('Dennis_Kucinich', 7),\n",
       " ('Elton_John', 7),\n",
       " ('Geoff_Hoon', 7),\n",
       " ('Goldie_Hawn', 7),\n",
       " ('Gunter_Pleuger', 7),\n",
       " ('Holly_Hunter', 7),\n",
       " ('Jean-Pierre_Raffarin', 7),\n",
       " ('John_Manley', 7),\n",
       " ('John_McCain', 7),\n",
       " ('John_Travolta', 7),\n",
       " ('Jon_Gruden', 7),\n",
       " ('Justine_Pasek', 7),\n",
       " ('Larry_Brown', 7),\n",
       " ('Liza_Minnelli', 7),\n",
       " ('Mariah_Carey', 7),\n",
       " ('Martin_Scorsese', 7),\n",
       " ('Matthew_Perry', 7),\n",
       " ('Mike_Martz', 7),\n",
       " ('Mike_Myers', 7),\n",
       " ('Norm_Coleman', 7),\n",
       " ('Oscar_De_La_Hoya', 7),\n",
       " ('Paul_McCartney', 7),\n",
       " ('Pedro_Almodovar', 7),\n",
       " ('Robert_Zoellick', 7),\n",
       " ('Romano_Prodi', 7),\n",
       " ('Sophia_Loren', 7),\n",
       " ('Steven_Spielberg', 7),\n",
       " ('Vincent_Brooks', 7),\n",
       " ('Vojislav_Kostunica', 7),\n",
       " ('William_Donaldson', 7),\n",
       " ('William_Ford_Jr', 7),\n",
       " ('Yashwant_Sinha', 7),\n",
       " ('Albert_Costa', 6),\n",
       " ('Angela_Bassett', 6),\n",
       " ('Arminio_Fraga', 6),\n",
       " ('Billy_Crystal', 6),\n",
       " ('Bob_Graham', 6),\n",
       " ('Boris_Becker', 6),\n",
       " ('Bulent_Ecevit', 6),\n",
       " ('Calista_Flockhart', 6),\n",
       " ('Cameron_Diaz', 6),\n",
       " ('Carmen_Electra', 6),\n",
       " ('Charlton_Heston', 6),\n",
       " ('Christine_Todd_Whitman', 6),\n",
       " ('Clay_Aiken', 6),\n",
       " ('Clint_Eastwood', 6),\n",
       " ('Costas_Simitis', 6),\n",
       " ('Dennis_Hastert', 6),\n",
       " ('Diana_Krall', 6),\n",
       " ('Edward_Lu', 6),\n",
       " ('Elsa_Zylberstein', 6),\n",
       " ('Fujio_Cho', 6),\n",
       " ('Gwyneth_Paltrow', 6),\n",
       " ('JK_Rowling', 6),\n",
       " ('Jan_Ullrich', 6),\n",
       " ('Jay_Garner', 6),\n",
       " ('Jim_Furyk', 6),\n",
       " ('Jose_Manuel_Durao_Barroso', 6),\n",
       " ('Kamal_Kharrazi', 6),\n",
       " ('Leonid_Kuchma', 6),\n",
       " ('Luis_Ernesto_Derbez_Bautista', 6),\n",
       " ('Luis_Horna', 6),\n",
       " ('Marco_Antonio_Barrera', 6),\n",
       " ('Michael_Douglas', 6),\n",
       " ('Mike_Krzyzewski', 6),\n",
       " ('Monica_Seles', 6),\n",
       " ('Natalie_Coughlin', 6),\n",
       " ('Paula_Radcliffe', 6),\n",
       " ('Ricardo_Sanchez', 6),\n",
       " ('Rick_Perry', 6),\n",
       " ('Rob_Marshall', 6),\n",
       " ('Robert_De_Niro', 6),\n",
       " ('Roman_Polanski', 6),\n",
       " ('Roy_Moore', 6),\n",
       " ('Sarah_Hughes', 6),\n",
       " ('Sarah_Jessica_Parker', 6),\n",
       " ('Silvan_Shalom', 6),\n",
       " ('Steve_Lavin', 6),\n",
       " ('Susan_Sarandon', 6),\n",
       " ('Tariq_Aziz', 6),\n",
       " ('Thaksin_Shinawatra', 6),\n",
       " ('Tommy_Haas', 6),\n",
       " ('Tony_Stewart', 6),\n",
       " ('Valentino_Rossi', 6),\n",
       " ('Valery_Giscard_dEstaing', 6),\n",
       " ('Yoko_Ono', 6),\n",
       " ('Zinedine_Zidane', 6),\n",
       " ('Ahmed_Chalabi', 5),\n",
       " ('Ai_Sugiyama', 5),\n",
       " ('Alan_Greenspan', 5),\n",
       " ('Alastair_Campbell', 5),\n",
       " ('Allyson_Felix', 5),\n",
       " ('Angela_Merkel', 5),\n",
       " ('Antonio_Banderas', 5),\n",
       " ('Arnoldo_Aleman', 5),\n",
       " ('Ashanti', 5),\n",
       " ('Benazir_Bhutto', 5),\n",
       " ('Benjamin_Netanyahu', 5),\n",
       " ('Bernard_Law', 5),\n",
       " ('Bertie_Ahern', 5),\n",
       " ('Brad_Johnson', 5),\n",
       " ('Carla_Del_Ponte', 5),\n",
       " ('Carrie-Anne_Moss', 5),\n",
       " ('Catherine_Deneuve', 5),\n",
       " ('Chanda_Rubin', 5),\n",
       " ('Chen_Shui-bian', 5),\n",
       " ('Choi_Sung-hong', 5),\n",
       " ('Christine_Baumgartner', 5),\n",
       " ('Ciro_Gomes', 5),\n",
       " ('Clara_Harris', 5),\n",
       " ('Claudia_Pechstein', 5),\n",
       " ('Colin_Montgomerie', 5),\n",
       " ('Cruz_Bustamante', 5),\n",
       " ('David_Anderson', 5),\n",
       " ('David_Heymann', 5),\n",
       " ('David_Trimble', 5),\n",
       " ('Denzel_Washington', 5),\n",
       " ('Eduard_Shevardnadze', 5),\n",
       " ('Elizabeth_Hurley', 5),\n",
       " ('Elizabeth_Smart', 5),\n",
       " ('Emanuel_Ginobili', 5),\n",
       " ('Emma_Watson', 5),\n",
       " ('Enrique_Bolanos', 5),\n",
       " ('Erika_Harold', 5),\n",
       " ('Frank_Solich', 5),\n",
       " ('Gene_Robinson', 5),\n",
       " ('George_Lopez', 5),\n",
       " ('George_Pataki', 5),\n",
       " ('Gil_de_Ferran', 5),\n",
       " ('Grant_Hackett', 5),\n",
       " ('Gregg_Popovich', 5),\n",
       " ('Habib_Rizieq', 5),\n",
       " ('Hal_Gehman', 5),\n",
       " ('Heidi_Klum', 5),\n",
       " ('Hitomi_Soga', 5),\n",
       " ('Jake_Gyllenhaal', 5),\n",
       " ('James_Wolfensohn', 5),\n",
       " ('John_Stockton', 5),\n",
       " ('Joseph_Biden', 5),\n",
       " ('Kalpana_Chawla', 5),\n",
       " ('Kevin_Spacey', 5),\n",
       " ('King_Abdullah_II', 5),\n",
       " ('Kristanna_Loken', 5),\n",
       " ('Kurt_Warner', 5),\n",
       " ('Lance_Bass', 5),\n",
       " ('LeBron_James', 5),\n",
       " ('Lucy_Liu', 5),\n",
       " ('Ludivine_Sagnier', 5),\n",
       " ('Luis_Gonzalez_Macchi', 5),\n",
       " ('Madonna', 5),\n",
       " ('Marcelo_Rios', 5),\n",
       " ('Maria_Soledad_Alvear_Valenzuela', 5),\n",
       " ('Mark_Hurlbert', 5),\n",
       " ('Martha_Stewart', 5),\n",
       " ('Martin_McGuinness', 5),\n",
       " ('Martina_McBride', 5),\n",
       " ('Michael_Chiklis', 5),\n",
       " ('Michael_Phelps', 5),\n",
       " ('Michael_Powell', 5),\n",
       " ('Michelle_Yeoh', 5),\n",
       " ('Mick_Jagger', 5),\n",
       " ('Mireya_Moscoso', 5),\n",
       " ('Muhammad_Saeed_al-Sahhaf', 5),\n",
       " ('Nadia_Petrova', 5),\n",
       " ('Natalie_Maines', 5),\n",
       " ('Nia_Vardalos', 5),\n",
       " ('Nick_Nolte', 5),\n",
       " ('Oswaldo_Paya', 5),\n",
       " ('Pamela_Anderson', 5),\n",
       " ('Pedro_Malan', 5),\n",
       " ('Peter_Struck', 5),\n",
       " ('Prince_Charles', 5),\n",
       " ('Princess_Caroline', 5),\n",
       " ('Queen_Rania', 5),\n",
       " ('Rainer_Schuettler', 5),\n",
       " ('Robert_Kocharian', 5),\n",
       " ('Robert_Mueller', 5),\n",
       " ('Roger_Moore', 5),\n",
       " ('Russell_Simmons', 5),\n",
       " ('Scott_McClellan', 5),\n",
       " ('Scott_Peterson', 5),\n",
       " ('Sean_OKeefe', 5),\n",
       " ('Sergei_Ivanov', 5),\n",
       " ('Sharon_Stone', 5),\n",
       " ('Sourav_Ganguly', 5),\n",
       " ('Steffi_Graf', 5),\n",
       " ('Steve_Nash', 5),\n",
       " ('Thabo_Mbeki', 5),\n",
       " ('Tim_Robbins', 5),\n",
       " ('Tom_Crean', 5),\n",
       " ('Tom_Harkin', 5),\n",
       " ('Vanessa_Redgrave', 5),\n",
       " ('Vicente_Fernandez', 5),\n",
       " ('Victoria_Clarke', 5),\n",
       " ('Wayne_Ferreira', 5),\n",
       " ('William_Macy', 5),\n",
       " ('Woody_Allen', 5),\n",
       " ('Xanana_Gusmao', 5),\n",
       " ('Xavier_Malisse', 5),\n",
       " ('Aaron_Peirsol', 4),\n",
       " ('Abdoulaye_Wade', 4),\n",
       " ('Abdullah', 4),\n",
       " ('Abel_Pacheco', 4),\n",
       " ('Adam_Sandler', 4),\n",
       " ('Alec_Baldwin', 4),\n",
       " ('Aleksander_Kwasniewski', 4),\n",
       " ('Alexander_Downer', 4),\n",
       " ('Alexander_Losyukov', 4),\n",
       " ('Alvaro_Silva_Calderon', 4),\n",
       " ('Amanda_Bynes', 4),\n",
       " ('Amer_al-Saadi', 4),\n",
       " ('Anders_Fogh_Rasmussen', 4),\n",
       " ('Angelo_Reyes', 4),\n",
       " ('Antony_Leung', 4),\n",
       " ('Arianna_Huffington', 4),\n",
       " ('Art_Howe', 4),\n",
       " ('Augustin_Calleri', 4),\n",
       " ('Azra_Akin', 4),\n",
       " ('Barbara_Walters', 4),\n",
       " ('Bashar_Assad', 4),\n",
       " ('Ben_Howland', 4),\n",
       " ('Bernard_Landry', 4),\n",
       " ('Bill_Paxton', 4),\n",
       " ('Bob_Huggins', 4),\n",
       " ('Brad_Garrett', 4),\n",
       " ('Bruce_Springsteen', 4),\n",
       " ('Bud_Selig', 4),\n",
       " ('Candie_Kung', 4),\n",
       " ('Carlos_Vives', 4),\n",
       " ('Carson_Palmer', 4),\n",
       " ('Cate_Blanchett', 4),\n",
       " ('Cherie_Blair', 4),\n",
       " ('Christina_Aguilera', 4),\n",
       " ('Christine_Gregoire', 4),\n",
       " ('Christopher_Reeve', 4),\n",
       " ('Christopher_Walken', 4),\n",
       " ('Clare_Short', 4),\n",
       " ('Conan_OBrien', 4),\n",
       " ('Daisy_Fuentes', 4),\n",
       " ('Dale_Earnhardt_Jr', 4),\n",
       " ('Daniel_Radcliffe', 4),\n",
       " ('David_Hyde_Pierce', 4),\n",
       " ('David_Stern', 4),\n",
       " ('Dean_Barkley', 4),\n",
       " ('Debbie_Reynolds', 4),\n",
       " ('Demi_Moore', 4),\n",
       " ('Derek_Jeter', 4),\n",
       " ('Don_Siegelman', 4),\n",
       " ('Donald_Fehr', 4),\n",
       " ('Doris_Schroeder', 4),\n",
       " ('Edwina_Currie', 4),\n",
       " ('Eliane_Karp', 4),\n",
       " ('Elizabeth_Dole', 4),\n",
       " ('Erin_Runnion', 4),\n",
       " ('Ernie_Els', 4),\n",
       " ('Ethan_Hawke', 4),\n",
       " ('Fayssal_Mekdad', 4),\n",
       " ('Felipe_Perez_Roque', 4),\n",
       " ('Fernando_Vargas', 4),\n",
       " ('Francisco_Flores', 4),\n",
       " ('Franz_Fischler', 4),\n",
       " ('Franz_Muentefering', 4),\n",
       " ('GL_Peiris', 4),\n",
       " ('George_Galloway', 4),\n",
       " ('George_Papandreou', 4),\n",
       " ('George_Ryan', 4),\n",
       " ('Geraldine_Chaplin', 4),\n",
       " ('Gilberto_Rodriguez_Orejuela', 4),\n",
       " ('Giuseppe_Gibilisco', 4),\n",
       " ('Glafcos_Clerides', 4),\n",
       " ('Gloria_Trevi', 4),\n",
       " ('Greg_Rusedski', 4),\n",
       " ('Guillermo_Canas', 4),\n",
       " ('Harry_Schmidt', 4),\n",
       " ('Heath_Ledger', 4),\n",
       " ('Heather_Mills', 4),\n",
       " ('Heidi_Fleiss', 4),\n",
       " ('Helen_Clark', 4),\n",
       " ('Herb_Sendek', 4),\n",
       " ('Hipolito_Mejia', 4),\n",
       " ('Hun_Sen', 4),\n",
       " ('Iain_Duncan_Smith', 4),\n",
       " ('James_Kopp', 4),\n",
       " ('James_McGreevey', 4),\n",
       " ('Janet_Napolitano', 4),\n",
       " ('Jennifer_Connelly', 4),\n",
       " ('Jennifer_Keller', 4),\n",
       " ('Jerry_Regier', 4),\n",
       " ('Jerry_Springer', 4),\n",
       " ('Jim_Hahn', 4),\n",
       " ('Jim_Tressel', 4),\n",
       " ('Joe_Nichols', 4),\n",
       " ('Joe_Torre', 4),\n",
       " ('John_Warner', 4),\n",
       " ('Jong_Wook_Lee', 4),\n",
       " ('Joseph_Estrada', 4),\n",
       " ('Justin_Leonard', 4),\n",
       " ('Kate_Winslet', 4),\n",
       " ('Katherine_Harris', 4),\n",
       " ('Kathleen_Kennedy_Townsend', 4),\n",
       " ('Kim_Jong-Il', 4),\n",
       " ('Larry_Coker', 4),\n",
       " ('Larry_Thompson', 4),\n",
       " ('Laura_Linney', 4),\n",
       " ('Lee_Hoi-chang', 4),\n",
       " ('Lisa_Marie_Presley', 4),\n",
       " ('Luis_Figo', 4),\n",
       " ('Marc_Grossman', 4),\n",
       " ('Mark_Wahlberg', 4),\n",
       " ('Martha_Burk', 4),\n",
       " ('Martha_Lucia_Ramirez', 4),\n",
       " ('Mary_Carey', 4),\n",
       " ('Matt_Damon', 4),\n",
       " ('Matthew_Broderick', 4),\n",
       " ('Mian_Khursheed_Mehmood_Kasuri', 4),\n",
       " ('Michael_Caine', 4),\n",
       " ('Michael_Jordan', 4),\n",
       " ('Mike_Tyson', 4),\n",
       " ('Mikhail_Kasyanov', 4),\n",
       " ('Mikhail_Wehbe', 4),\n",
       " ('Mitchell_Daniels', 4),\n",
       " ('Monica_Bellucci', 4),\n",
       " ('Moshe_Katsav', 4),\n",
       " ('Nan_Wang', 4),\n",
       " ('Naoto_Kan', 4),\n",
       " ('Nathalie_Baye', 4),\n",
       " ('Nelson_Mandela', 4),\n",
       " ('Nicolas_Cage', 4),\n",
       " ('Noelle_Bush', 4),\n",
       " ('Omar_Sharif', 4),\n",
       " ('Oprah_Winfrey', 4),\n",
       " ('Osama_bin_Laden', 4),\n",
       " ('Oxana_Fedorova', 4),\n",
       " ('Padraig_Harrington', 4),\n",
       " ('Patricia_Clarkson', 4),\n",
       " ('Patty_Schnyder', 4),\n",
       " ('Paul_Tagliabue', 4),\n",
       " ('Pedro_Solbes', 4),\n",
       " ('Prince_Claus', 4),\n",
       " ('Pupi_Avati', 4),\n",
       " ('Queen_Beatrix', 4),\n",
       " ('Queen_Latifah', 4),\n",
       " ('Rachel_Hunter', 4),\n",
       " ('Rafael_Ramirez', 4),\n",
       " ('Raoul_Ruiz', 4),\n",
       " ('Rebecca_Romijn-Stamos', 4),\n",
       " ('Rebekah_Chantay_Revels', 4),\n",
       " ('Reese_Witherspoon', 4),\n",
       " ('Rick_Carlisle', 4),\n",
       " ('Rick_Pitino', 4),\n",
       " ('Rita_Wilson', 4),\n",
       " ('Rob_Lowe', 4),\n",
       " ('Roberto_Carlos', 4),\n",
       " ('Ronaldo_Luis_Nazario_de_Lima', 4),\n",
       " ('Roy_Williams', 4),\n",
       " ('Sachiko_Yamada', 4),\n",
       " ('Sally_Field', 4),\n",
       " ('Sally_Kirkland', 4),\n",
       " ('Samuel_Waksal', 4),\n",
       " ('Sandra_Bullock', 4),\n",
       " ('Sebastien_Grosjean', 4),\n",
       " ('Sepp_Blatter', 4),\n",
       " ('Sheila_Copps', 4),\n",
       " ('Sila_Calderon', 4),\n",
       " ('Slobodan_Milosevic', 4),\n",
       " ('Sonia_Gandhi', 4),\n",
       " ('Susilo_Bambang_Yudhoyono', 4),\n",
       " ('Thomas_Fargo', 4),\n",
       " ('Tim_Allen', 4),\n",
       " ('Tim_Duncan', 4),\n",
       " ('Todd_Haynes', 4),\n",
       " ('Tom_Craddick', 4),\n",
       " ('Tony_Bennett', 4),\n",
       " ('Tony_Shalhoub', 4),\n",
       " ('Vanessa_Incontrada', 4),\n",
       " ('Vince_Carter', 4),\n",
       " ('Vitali_Klitschko', 4),\n",
       " ('Wayne_Gretzky', 4),\n",
       " ('William_Bulger', 4),\n",
       " ('Win_Aung', 4),\n",
       " ('Wolfgang_Schuessel', 4),\n",
       " ('Yasar_Yakis', 4),\n",
       " ('Yevgeny_Kafelnikov', 4),\n",
       " ('Yu_Shyi-kun', 4),\n",
       " ('Zhang_Ziyi', 4),\n",
       " ('Zoran_Djindjic', 4),\n",
       " ('Abdullah_al-Attiyah', 3),\n",
       " ('Abid_Hamid_Mahmud_Al-Tikriti', 3),\n",
       " ('Adel_Al-Jubeir', 3),\n",
       " ('Adolfo_Aguilar_Zinser', 3),\n",
       " ('Aicha_El_Ouafi', 3),\n",
       " ('Akbar_Hashemi_Rafsanjani', 3),\n",
       " ('Akhmed_Zakayev', 3),\n",
       " ('Al_Pacino', 3),\n",
       " ('Alejandro_Avila', 3),\n",
       " ('Alex_Sink', 3),\n",
       " ('Alexandra_Stevenson', 3),\n",
       " ('Ali_Khamenei', 3),\n",
       " ('Alvaro_Noboa', 3),\n",
       " ('Anastasia_Myskina', 3),\n",
       " ('Anders_Ebbeson', 3),\n",
       " ('Andrew_Weissmann', 3),\n",
       " ('Anibal_Ibarra', 3),\n",
       " ('Anne_Krueger', 3),\n",
       " ('Anne_McLellan', 3),\n",
       " ('Annette_Lu', 3),\n",
       " ('Antonio_Trillanes', 3),\n",
       " ('Arlen_Specter', 3),\n",
       " ('Arnold_Palmer', 3),\n",
       " ('Arturo_Gatti', 3),\n",
       " ('Ashton_Kutcher', 3),\n",
       " ('Barbra_Streisand', 3),\n",
       " ('Ben_Curtis', 3),\n",
       " ('Bijan_Darvish', 3),\n",
       " ('Biljana_Plavsic', 3),\n",
       " ('Bill_Callahan', 3),\n",
       " ('Bob_Dole', 3),\n",
       " ('Bono', 3),\n",
       " ('Branko_Crvenkovski', 3),\n",
       " ('Bridget_Fonda', 3),\n",
       " ('Bridgette_Wilson-Sampras', 3),\n",
       " ('Candice_Bergen', 3),\n",
       " ('Carlo_Ancelotti', 3),\n",
       " ('Carlos_Manuel_Pruneda', 3),\n",
       " ('Carlos_Ortega', 3),\n",
       " ('Carlos_Ruiz', 3),\n",
       " ('Carly_Fiorina', 3),\n",
       " ('Carolina_Kluft', 3),\n",
       " ('Caroline_Kennedy', 3),\n",
       " ('Carolyn_Dawn_Johnson', 3),\n",
       " ('Cecilia_Bolocco', 3),\n",
       " ('Chan_Gailey', 3),\n",
       " ('Charles_Bronson', 3),\n",
       " ('Chick_Hearn', 3),\n",
       " ('Christian_Longo', 3),\n",
       " ('Cindy_Crawford', 3),\n",
       " ('Claire_Danes', 3),\n",
       " ('Claudia_Schiffer', 3),\n",
       " ('Conchita_Martinez', 3),\n",
       " ('Constance_Marie', 3),\n",
       " ('Coretta_Scott_King', 3),\n",
       " ('Dan_Morales', 3),\n",
       " ('Daniel_Day-Lewis', 3),\n",
       " ('Dave_Campo', 3),\n",
       " ('David_Caruso', 3),\n",
       " ('Debra_Messing', 3),\n",
       " ('Diana_Munz', 3),\n",
       " ('Dianne_Feinstein', 3),\n",
       " ('Dick_Clark', 3),\n",
       " ('Donald_Pettit', 3),\n",
       " ('Donatella_Versace', 3),\n",
       " ('Doris_Roberts', 3),\n",
       " ('Doug_Melvin', 3),\n",
       " ('Ed_Rosenthal', 3),\n",
       " ('Ed_Smart', 3),\n",
       " ('Edmund_Hillary', 3),\n",
       " ('Edward_Kennedy', 3),\n",
       " ('Edwin_Edwards', 3),\n",
       " ('Eileen_Coparropa', 3),\n",
       " ('Elena_Bovina', 3),\n",
       " ('Elijah_Wood', 3),\n",
       " ('Emma_Thompson', 3),\n",
       " ('Emmanuelle_Beart', 3),\n",
       " ('Eric_Robert_Rudolph', 3),\n",
       " ('Erik_Morales', 3),\n",
       " ('Evan_Rachel_Wood', 3),\n",
       " ('Fabrice_Santoro', 3),\n",
       " ('Farouk_al-Sharaa', 3),\n",
       " ('Faye_Dunaway', 3),\n",
       " ('Federico_Trillo', 3),\n",
       " ('Filippo_Inzaghi', 3),\n",
       " ('Frank_Cassell', 3),\n",
       " ('Fred_Eckhard', 3),\n",
       " ('Fred_Thompson', 3),\n",
       " ('Gary_Carter', 3),\n",
       " ('Gary_Doer', 3),\n",
       " ('George_Voinovich', 3),\n",
       " ('Gian_Marco', 3),\n",
       " ('Gianna_Angelopoulos-Daskalaki', 3),\n",
       " ('Gus_Van_Sant', 3),\n",
       " ('Gustavo_Kuerten', 3),\n",
       " ('Gwendal_Peizerat', 3),\n",
       " ('Hans_Eichel', 3),\n",
       " ('Hector_Babenco', 3),\n",
       " ('Hee-Won_Han', 3),\n",
       " ('Heinz_Feldmann', 3),\n",
       " ('Hilary_Duff', 3),\n",
       " ('Horst_Koehler', 3),\n",
       " ('Ian_McKellen', 3),\n",
       " ('Ilan_Ramon', 3),\n",
       " ('Intisar_Ajouri', 3),\n",
       " ('Isabella_Rossellini', 3),\n",
       " ('Jack_Nicholson', 3),\n",
       " ('James_Caan', 3),\n",
       " ('James_Cameron', 3),\n",
       " ('James_Cunningham', 3),\n",
       " ('James_Gandolfini', 3),\n",
       " ('James_Traficant', 3),\n",
       " ('Jan-Michael_Gambill', 3),\n",
       " ('Javier_Weber', 3),\n",
       " ('Jay_Leno', 3),\n",
       " ('Jayson_Williams', 3),\n",
       " ('Jean-Francois_Pontal', 3),\n",
       " ('Jeff_Van_Gundy', 3),\n",
       " ('Jesse_Harris', 3),\n",
       " ('Jesse_Ventura', 3),\n",
       " ('Jim_Carrey', 3),\n",
       " ('Jim_OBrien', 3),\n",
       " ('Jodie_Foster', 3),\n",
       " ('John_Malkovich', 3),\n",
       " ('John_Mayer', 3),\n",
       " ('John_Reid', 3),\n",
       " ('John_Rosa', 3),\n",
       " ('John_Swofford', 3),\n",
       " ('Johnny_Tapia', 3),\n",
       " ('Jon_Corzine', 3),\n",
       " ('Jon_Voight', 3),\n",
       " ('Jorge_Batlle', 3),\n",
       " ('Jose_Canseco', 3),\n",
       " ('Jose_Sarney', 3),\n",
       " ('Joseph_Deiss', 3),\n",
       " ('Juan_Ignacio_Chela', 3),\n",
       " ('Juan_Manuel_Marquez', 3),\n",
       " ('Juanes', 3),\n",
       " ('Julia_Tymoshenko', 3),\n",
       " ('Justin_Guarini', 3),\n",
       " ('Justine_Henin', 3),\n",
       " ('Katie_Harman', 3),\n",
       " ('Keith_Bogans', 3),\n",
       " ('Kelly_Clarkson', 3),\n",
       " ('Kelvin_Sampson', 3),\n",
       " ('Kemal_Dervis', 3),\n",
       " ('Ken_Macha', 3),\n",
       " ('Kenneth_Bowersox', 3),\n",
       " ('Kim_Yong-il', 3),\n",
       " ('Kimi_Raikkonen', 3),\n",
       " ('Kirk_Johnson', 3),\n",
       " ('Kjell_Magne_Bondevik', 3),\n",
       " ('Kobe_Bryant', 3),\n",
       " ('Kristen_Breitweiser', 3),\n",
       " ('Kristin_Davis', 3),\n",
       " ('Kwon_Yang-sook', 3),\n",
       " ('LK_Advani', 3),\n",
       " ('Laila_Ali', 3),\n",
       " ('Larry_Ellison', 3),\n",
       " ('Lars_Von_Trier', 3),\n",
       " ('Lee_Soo-hyuck', 3),\n",
       " ('Lennox_Lewis', 3),\n",
       " ('Lenny_Wilkens', 3),\n",
       " ('Lesley_McCulloch', 3),\n",
       " ('Leslie_Caldwell', 3),\n",
       " ('Leszek_Miller', 3),\n",
       " ('Liam_Neeson', 3),\n",
       " ('Lino_Oviedo', 3),\n",
       " ('Lou_Piniella', 3),\n",
       " ('Luciano_Pavarotti', 3),\n",
       " ('Lynn_Redgrave', 3),\n",
       " ('Lynne_Cheney', 3),\n",
       " ('Madeleine_Albright', 3),\n",
       " ('Magdalena_Maleeva', 3),\n",
       " ('Makhdoom_Amin_Fahim', 3),\n",
       " ('Marat_Safin', 3),\n",
       " ('Marcelo_Ebrard', 3),\n",
       " ('Marcelo_Salas', 3),\n",
       " ('Mariana_Pollack', 3),\n",
       " ('Mariangel_Ruiz_Torrealba', 3),\n",
       " ('Marieta_Chrousala', 3),\n",
       " ('Mark_Gottfried', 3),\n",
       " ('Mark_Richt', 3),\n",
       " ('Martin_Verkerk', 3),\n",
       " ('Martina_Hingis', 3),\n",
       " ('Marty_Mornhinweg', 3),\n",
       " ('Mary-Kate_Olsen', 3),\n",
       " ('Mary_Landrieu', 3),\n",
       " ('Mary_Steenburgen', 3),\n",
       " ('Masum_Turker', 3),\n",
       " ('Mathias_Reichhold', 3),\n",
       " ('Matt_Dillon', 3),\n",
       " ('Matt_Doherty', 3),\n",
       " ('Megan_Mullally', 3),\n",
       " ('Melanie_Griffith', 3),\n",
       " ('Michael_Ballack', 3),\n",
       " ('Michael_Moore', 3),\n",
       " ('Michael_Winterbottom', 3),\n",
       " ('Michelle_Pfeiffer', 3),\n",
       " ('Mikhail_Youzhny', 3),\n",
       " ('Milo_Djukanovic', 3),\n",
       " ('Milo_Maestrecampo', 3),\n",
       " ('Mohammed_Baqir_al-Hakim', 3),\n",
       " ('Monica_Lewinsky', 3),\n",
       " ('Monique_Garbrecht-Enfeldt', 3),\n",
       " ('Mukesh_Ambani', 3),\n",
       " ('Nabil_Shaath', 3),\n",
       " ('Natalie_Cole', 3),\n",
       " ('Natasha_McElhone', 3),\n",
       " ('Noah_Wyle', 3),\n",
       " ('Norodom_Sihanouk', 3),\n",
       " ('Orlando_Bloom', 3),\n",
       " ('Ozzy_Osbourne', 3),\n",
       " ('Pascal_Quignard', 3),\n",
       " ('Patti_Labelle', 3),\n",
       " ('Paul-Henri_Mathieu', 3),\n",
       " ('Paul_Gascoigne', 3),\n",
       " ('Paul_Sarbanes', 3),\n",
       " ('Paul_Shanley', 3),\n",
       " ('Paul_Wellstone', 3),\n",
       " ('Penelope_Cruz', 3),\n",
       " ('Pete_Carroll', 3),\n",
       " ('Peter_Arnett', 3),\n",
       " ('Petria_Thomas', 3),\n",
       " ('Phan_Van_Khai', 3),\n",
       " ('Pierre_Pettigrew', 3),\n",
       " ('Placido_Domingo', 3),\n",
       " ('Prince_Harry', 3),\n",
       " ('Prince_Naruhito', 3),\n",
       " ('Prince_Willem-Alexander', 3),\n",
       " ('Rachel_Griffiths', 3),\n",
       " ('Ranil_Wickremasinghe', 3),\n",
       " ('Ray_Allen', 3),\n",
       " ('Richard_Krajicek', 3),\n",
       " ('Rick_Barnes', 3),\n",
       " ('Rick_Dinse', 3),\n",
       " ('Rick_Romley', 3),\n",
       " ('Rick_Santorum', 3),\n",
       " ('Rick_Stansbury', 3),\n",
       " ('Rita_Grande', 3),\n",
       " ('Robbie_Williams', 3),\n",
       " ('Robert_Bonner', 3),\n",
       " ('Robert_Evans', 3),\n",
       " ('Robert_Torricelli', 3),\n",
       " ('Roberto_Marinho', 3),\n",
       " ('Rod_Stewart', 3),\n",
       " ('Ronald_Reagan', 3),\n",
       " ('Roseanne_Barr', 3),\n",
       " ('Rupert_Grint', 3),\n",
       " ('Sadie_Frost', 3),\n",
       " ('Salman_Rushdie', 3),\n",
       " ('Sam_Bith', 3),\n",
       " ('Sam_Torrance', 3),\n",
       " ('Sarah_Michelle_Gellar', 3),\n",
       " ('Sean_Astin', 3),\n",
       " ('Sean_Patrick_OMalley', 3),\n",
       " ('Sean_Penn', 3),\n",
       " ('Sebastian_Saja', 3),\n",
       " ('Sharon_Osbourne', 3),\n",
       " ('Shaul_Mofaz', 3),\n",
       " ('Silvia_Farina_Elia', 3),\n",
       " ('Stanley_McChrystal', 3),\n",
       " ('Steve_Ballmer', 3),\n",
       " ('Steve_Mariucci', 3),\n",
       " ('Stockard_Channing', 3),\n",
       " ('Strom_Thurmond', 3),\n",
       " ('Tassos_Papadopoulos', 3),\n",
       " ('Taufik_Hidayat', 3),\n",
       " ('Terry_McAuliffe', 3),\n",
       " ('Theodore_Tweed_Roosevelt', 3),\n",
       " ('Theresa_May', 3),\n",
       " ('Thierry_Falise', 3),\n",
       " ('Thomas_Rupprath', 3),\n",
       " ('Tim_Conway', 3),\n",
       " ('Tom_Reilly', 3),\n",
       " ('Tom_Watson', 3),\n",
       " ('Tommy_Robredo', 3),\n",
       " ('Toni_Braxton', 3),\n",
       " ('Toshihiko_Fukui', 3),\n",
       " ('Tubby_Smith', 3),\n",
       " ('Uma_Thurman', 3),\n",
       " ('Vanessa_Williams', 3),\n",
       " ('Victoria_Beckham', 3),\n",
       " ('Vincent_Gallo', 3),\n",
       " ('Vladimir_Spidla', 3),\n",
       " ('Vladimiro_Montesinos', 3),\n",
       " ('Wang_Yingfan', 3),\n",
       " ('Warren_Buffett', 3),\n",
       " ('William_Bratton', 3),\n",
       " ('Wu_Yi', 3),\n",
       " ('Zico', 3),\n",
       " ('Aaron_Sorkin', 2),\n",
       " ('Abdel_Nasser_Assidi', 2),\n",
       " ('Abdullatif_Sener', 2),\n",
       " ('Adam_Scott', 2),\n",
       " ('Adolfo_Rodriguez_Saa', 2),\n",
       " ('Adrian_McPherson', 2),\n",
       " ('Adrian_Nastase', 2),\n",
       " ('Ahmad_Masood', 2),\n",
       " ('Ahmet_Necdet_Sezer', 2),\n",
       " ('Aitor_Gonzalez', 2),\n",
       " ('Al_Davis', 2),\n",
       " ('Alan_Ball', 2),\n",
       " ('Alan_Mulally', 2),\n",
       " ('Alberto_Fujimori', 2),\n",
       " ('Alberto_Ruiz_Gallardon', 2),\n",
       " ('Albrecht_Mentz', 2),\n",
       " ('Aldo_Paredes', 2),\n",
       " ('Alejandro_Atchugarry', 2),\n",
       " ('Alex_Barros', 2),\n",
       " ('Alex_Penelas', 2),\n",
       " ('Alexander_Rumyantsev', 2),\n",
       " ('Alexandra_Vodjanikova', 2),\n",
       " ('Ali_Abbas', 2),\n",
       " ('Alice_Fisher', 2),\n",
       " ('Alicia_Silverstone', 2),\n",
       " ('Alimzhan_Tokhtakhounov', 2),\n",
       " ('Alison_Lohman', 2),\n",
       " ('Allen_Iverson', 2),\n",
       " ('Allison_Janney', 2),\n",
       " ('Amanda_Beard', 2),\n",
       " ('Amanda_Coetzer', 2),\n",
       " ('Amber_Tamblyn', 2),\n",
       " ('Amram_Mitzna', 2),\n",
       " ('Andrei_Mikhnevich', 2),\n",
       " ('Andrew_Bunner', 2),\n",
       " ('Andrew_Cuomo', 2),\n",
       " ('Andrew_Niccol', 2),\n",
       " ('Andy_Hebb', 2),\n",
       " ('Angela_Lansbury', 2),\n",
       " ('Anna_Nicole_Smith', 2),\n",
       " ('Anneli_Jaatteenmaki', 2),\n",
       " ('Annette_Bening', 2),\n",
       " ('Anthony_Fauci', 2),\n",
       " ('Anthony_Hopkins', 2),\n",
       " ('Anthony_LaPaglia', 2),\n",
       " ('Anwar_Ibrahim', 2),\n",
       " ('Arantxa_Sanchez-Vicario', 2),\n",
       " ('Arnaud_Clement', 2),\n",
       " ('Aron_Ralston', 2),\n",
       " ('Arsinee_Khanjian', 2),\n",
       " ('Art_Hoffmann', 2),\n",
       " ('Arye_Mekel', 2),\n",
       " ('Asa_Hutchinson', 2),\n",
       " ('Augusto_Pinochet', 2),\n",
       " ('Augusto_Roa_Bastos', 2),\n",
       " ('Aung_San_Suu_Kyi', 2),\n",
       " ('Barbara_Brezigar', 2),\n",
       " ('Barrett_Jackman', 2),\n",
       " ('Barry_Alvarez', 2),\n",
       " ('Barry_Zito', 2),\n",
       " ('Begum_Khaleda_Zia', 2),\n",
       " ('Ben_Glisan', 2),\n",
       " ('Bernard_Lord', 2),\n",
       " ('Bernardo_Segura', 2),\n",
       " ('Bertrand_Bonello', 2),\n",
       " ('Beth_Jones', 2),\n",
       " ('Betsy_Smith', 2),\n",
       " ('Bijan_Namdar_Zangeneh', 2),\n",
       " ('Bill_Belichick', 2),\n",
       " ('Bill_Nelson', 2),\n",
       " ('Bill_Parcells', 2),\n",
       " ('Bill_Sizemore', 2),\n",
       " ('Billy_Graham', 2),\n",
       " ('Billy_Sollie', 2),\n",
       " ('Blythe_Danner', 2),\n",
       " ('Blythe_Hartley', 2),\n",
       " ('Bo_Pelini', 2),\n",
       " ('Bo_Ryan', 2),\n",
       " ('Bob_Beauprez', 2),\n",
       " ('Bob_Colvin', 2),\n",
       " ('Bob_Geldof', 2),\n",
       " ('Bobby_Goldwater', 2),\n",
       " ('Bobby_Robson', 2),\n",
       " ('Bode_Miller', 2),\n",
       " ('Boris_Berezovsky', 2),\n",
       " ('Boris_Yeltsin', 2),\n",
       " ('Brendan_Hansen', 2),\n",
       " ('Brian_Cowen', 2),\n",
       " ('Brian_Griese', 2),\n",
       " ('Brian_Heidik', 2),\n",
       " ('Brian_Mulroney', 2),\n",
       " ('Brian_Wells', 2),\n",
       " ('Brigitte_Boisselier', 2),\n",
       " ('Brooke_Shields', 2),\n",
       " ('Bruce_Van_De_Velde', 2),\n",
       " ('Bruce_Weber', 2),\n",
       " ('Butch_Davis', 2),\n",
       " ('Byron_Scott', 2),\n",
       " ('Camilla_Parker_Bowles', 2),\n",
       " ...]"
      ]
     },
     "execution_count": 2,
     "metadata": {},
     "output_type": "execute_result"
    }
   ],
   "source": [
    "get_sorted_lfw_table()"
   ]
  },
  {
   "cell_type": "code",
   "execution_count": 3,
   "metadata": {},
   "outputs": [
    {
     "name": "stdout",
     "output_type": "stream",
     "text": [
      "Successfully saved model at saved_model\\embedding_kernel.h5.\n"
     ]
    }
   ],
   "source": [
    "# embedding_init = make_embedding()\n",
    "# save_model(embedding_init, file_name='embedding_kernel')"
   ]
  },
  {
   "cell_type": "code",
   "execution_count": 4,
   "metadata": {},
   "outputs": [
    {
     "name": "stdout",
     "output_type": "stream",
     "text": [
      "Successfully created siamese model from pretrained kernel.\n",
      "Generating data variant with George_W_Bush as anchor\n"
     ]
    },
    {
     "name": "stderr",
     "output_type": "stream",
     "text": [
      "100%|██████████| 5749/5749 [00:15<00:00, 367.26it/s]\n"
     ]
    },
    {
     "name": "stdout",
     "output_type": "stream",
     "text": [
      "[DEBUG] Finished data variant setup\n",
      "Preparing data augmentation from data\\var_anchor to data\\var_positive.\n"
     ]
    },
    {
     "name": "stderr",
     "output_type": "stream",
     "text": [
      "100%|██████████| 100/100 [00:01<00:00, 64.10it/s]\n"
     ]
    },
    {
     "name": "stdout",
     "output_type": "stream",
     "text": [
      "Successfully generated 200 new images through data augmentation.\n",
      "Preparing data augmentation from data\\var_anchor to data\\var_anchor.\n"
     ]
    },
    {
     "name": "stderr",
     "output_type": "stream",
     "text": [
      "100%|██████████| 100/100 [00:00<00:00, 129.37it/s]\n"
     ]
    },
    {
     "name": "stdout",
     "output_type": "stream",
     "text": [
      "Successfully generated 100 new images through data augmentation.\n",
      "Harvesting data from anchor data\\var_anchor, positive data\\var_positive and negative data\\var_negative folder.\n",
      "Anchor images availlable :\t200\n",
      "Positive images availlable :\t200\n",
      "Negative images availlable :\t12493\n",
      "Tuple harvested :\t\t200\n",
      "Labelling data\n",
      "Successfully harvested and labelled 200 data.\n",
      "Begining training 1th/100 person.\n",
      "Epoch 1/10\n",
      "9/9 [==============================] - 137s 15s/step\n",
      "Loss : 0.6825612187385559\tRecall : 0.19354838132858276\tPrecision : 0.9230769276618958\n",
      "Epoch 2/10\n",
      "9/9 [==============================] - 134s 15s/step\n",
      "Loss : 0.6938707828521729\tRecall : 0.15492957830429077\tPrecision : 0.6875\n",
      "Epoch 3/10\n",
      "9/9 [==============================] - 135s 15s/step\n",
      "Loss : 0.7012469172477722\tRecall : 0.6376811861991882\tPrecision : 0.6027397513389587\n",
      "Epoch 4/10\n",
      "9/9 [==============================] - 140s 16s/step\n",
      "Loss : 0.7745205760002136\tRecall : 0.3283582031726837\tPrecision : 0.8799999952316284\n",
      "Epoch 5/10\n",
      "9/9 [==============================] - 137s 15s/step\n",
      "Loss : 0.7272880673408508\tRecall : 0.7536231875419617\tPrecision : 0.604651153087616\n",
      "Epoch 6/10\n",
      "9/9 [==============================] - 135s 15s/step\n",
      "Loss : 0.7280084490776062\tRecall : 0.3239436745643616\tPrecision : 0.9583333134651184\n",
      "Epoch 7/10\n",
      "9/9 [==============================] - 140s 16s/step\n",
      "Loss : 0.6957952380180359\tRecall : 0.8115941882133484\tPrecision : 0.7887324094772339\n",
      "Epoch 8/10\n",
      "9/9 [==============================] - 140s 16s/step\n",
      "Loss : 0.6317903399467468\tRecall : 0.8153846263885498\tPrecision : 0.841269850730896\n",
      "Epoch 9/10\n",
      "9/9 [==============================] - 132s 15s/step\n",
      "Loss : 0.5092108845710754\tRecall : 0.9076923131942749\tPrecision : 0.8939393758773804\n",
      "Epoch 10/10\n",
      "9/9 [==============================] - 136s 15s/step\n",
      "Loss : 0.4725067913532257\tRecall : 0.9076923131942749\tPrecision : 0.8550724387168884\n",
      "Training complete, saving embedding kernel.\n",
      "Successfully saved model at saved_model\\embedding_kernel.h5.\n",
      "Generating data variant with Colin_Powell as anchor\n"
     ]
    },
    {
     "name": "stderr",
     "output_type": "stream",
     "text": [
      "100%|██████████| 5749/5749 [00:16<00:00, 347.43it/s]\n"
     ]
    },
    {
     "name": "stdout",
     "output_type": "stream",
     "text": [
      "[DEBUG] Finished data variant setup\n",
      "Preparing data augmentation from data\\var_anchor to data\\var_positive.\n"
     ]
    },
    {
     "name": "stderr",
     "output_type": "stream",
     "text": [
      "100%|██████████| 100/100 [00:01<00:00, 70.17it/s]\n"
     ]
    },
    {
     "name": "stdout",
     "output_type": "stream",
     "text": [
      "Successfully generated 200 new images through data augmentation.\n",
      "Preparing data augmentation from data\\var_anchor to data\\var_anchor.\n"
     ]
    },
    {
     "name": "stderr",
     "output_type": "stream",
     "text": [
      "100%|██████████| 100/100 [00:00<00:00, 128.53it/s]\n"
     ]
    },
    {
     "name": "stdout",
     "output_type": "stream",
     "text": [
      "Successfully generated 100 new images through data augmentation.\n",
      "Harvesting data from anchor data\\var_anchor, positive data\\var_positive and negative data\\var_negative folder.\n",
      "Anchor images availlable :\t200\n",
      "Positive images availlable :\t200\n",
      "Negative images availlable :\t12493\n",
      "Tuple harvested :\t\t200\n",
      "Labelling data\n",
      "Successfully harvested and labelled 200 data.\n",
      "Begining training 2th/100 person.\n",
      "Epoch 1/10\n",
      "9/9 [==============================] - 138s 15s/step\n",
      "Loss : 0.7045213580131531\tRecall : 0.49275362491607666\tPrecision : 0.5396825671195984\n",
      "Epoch 2/10\n",
      "9/9 [==============================] - 135s 15s/step\n",
      "Loss : 0.6331997513771057\tRecall : 0.52173912525177\tPrecision : 0.6206896305084229\n",
      "Epoch 3/10\n",
      "9/9 [==============================] - 132s 15s/step\n",
      "Loss : 0.7271043658256531\tRecall : 0.3333333432674408\tPrecision : 0.7419354915618896\n",
      "Epoch 4/10\n",
      "9/9 [==============================] - 136s 15s/step\n",
      "Loss : 0.5386602282524109\tRecall : 0.7014925479888916\tPrecision : 0.7460317611694336\n",
      "Epoch 5/10\n",
      "9/9 [==============================] - 133s 15s/step\n",
      "Loss : 0.3703571856021881\tRecall : 0.7808219194412231\tPrecision : 0.8382353186607361\n",
      "Epoch 6/10\n",
      "9/9 [==============================] - 135s 15s/step\n",
      "Loss : 0.44888678193092346\tRecall : 0.746268630027771\tPrecision : 0.8064516186714172\n",
      "Epoch 7/10\n",
      "9/9 [==============================] - 134s 15s/step\n",
      "Loss : 0.41180452704429626\tRecall : 0.8450704216957092\tPrecision : 0.89552241563797\n",
      "Epoch 8/10\n",
      "9/9 [==============================] - 130s 14s/step\n",
      "Loss : 0.20308394730091095\tRecall : 0.931506872177124\tPrecision : 0.9189189076423645\n",
      "Epoch 9/10\n",
      "9/9 [==============================] - 133s 15s/step\n",
      "Loss : 0.2656267583370209\tRecall : 0.9594594836235046\tPrecision : 0.9342105388641357\n",
      "Epoch 10/10\n",
      "9/9 [==============================] - 141s 16s/step\n",
      "Loss : 0.28701552748680115\tRecall : 0.9253731369972229\tPrecision : 0.9253731369972229\n",
      "Training complete, saving embedding kernel.\n",
      "Successfully saved model at saved_model\\embedding_kernel.h5.\n",
      "Generating data variant with Tony_Blair as anchor\n"
     ]
    },
    {
     "name": "stderr",
     "output_type": "stream",
     "text": [
      "100%|██████████| 5749/5749 [00:17<00:00, 323.42it/s]\n"
     ]
    },
    {
     "name": "stdout",
     "output_type": "stream",
     "text": [
      "[DEBUG] Finished data variant setup\n",
      "Preparing data augmentation from data\\var_anchor to data\\var_positive.\n"
     ]
    },
    {
     "name": "stderr",
     "output_type": "stream",
     "text": [
      "100%|██████████| 100/100 [00:01<00:00, 59.88it/s]\n"
     ]
    },
    {
     "name": "stdout",
     "output_type": "stream",
     "text": [
      "Successfully generated 200 new images through data augmentation.\n",
      "Preparing data augmentation from data\\var_anchor to data\\var_anchor.\n"
     ]
    },
    {
     "name": "stderr",
     "output_type": "stream",
     "text": [
      "100%|██████████| 100/100 [00:01<00:00, 95.97it/s]\n"
     ]
    },
    {
     "name": "stdout",
     "output_type": "stream",
     "text": [
      "Successfully generated 100 new images through data augmentation.\n",
      "Harvesting data from anchor data\\var_anchor, positive data\\var_positive and negative data\\var_negative folder.\n",
      "Anchor images availlable :\t200\n",
      "Positive images availlable :\t200\n",
      "Negative images availlable :\t12493\n",
      "Tuple harvested :\t\t200\n",
      "Labelling data\n",
      "Successfully harvested and labelled 200 data.\n",
      "Begining training 3th/100 person.\n",
      "Epoch 1/10\n",
      "9/9 [==============================] - 166s 18s/step\n",
      "Loss : 0.8504143357276917\tRecall : 0.6842105388641357\tPrecision : 0.5252525210380554\n",
      "Epoch 2/10\n",
      "9/9 [==============================] - 183s 20s/step\n",
      "Loss : 0.7425761818885803\tRecall : 0.5735294222831726\tPrecision : 0.49367088079452515\n",
      "Epoch 3/10\n",
      "9/9 [==============================] - 168s 19s/step\n",
      "Loss : 0.6334637999534607\tRecall : 0.13432836532592773\tPrecision : 0.5\n",
      "Epoch 4/10\n",
      "9/9 [==============================] - 171s 18s/step\n",
      "Loss : 0.6958686709403992\tRecall : 0.6438356041908264\tPrecision : 0.6811594367027283\n",
      "Epoch 5/10\n",
      "9/9 [==============================] - 173s 19s/step\n",
      "Loss : 0.6936213970184326\tRecall : 0.7536231875419617\tPrecision : 0.6117647290229797\n",
      "Epoch 6/10\n",
      "9/9 [==============================] - 199s 22s/step\n",
      "Loss : 0.610805094242096\tRecall : 0.5970149040222168\tPrecision : 0.6779661178588867\n",
      "Epoch 7/10\n",
      "9/9 [==============================] - 184s 21s/step\n",
      "Loss : 0.6411628127098083\tRecall : 0.5223880410194397\tPrecision : 0.6481481194496155\n",
      "Epoch 8/10\n",
      "9/9 [==============================] - 184s 20s/step\n",
      "Loss : 0.4764620363712311\tRecall : 0.7101449370384216\tPrecision : 0.7777777910232544\n",
      "Epoch 9/10\n",
      "9/9 [==============================] - 181s 20s/step\n",
      "Loss : 0.4986148774623871\tRecall : 0.7352941036224365\tPrecision : 0.8474576473236084\n",
      "Epoch 10/10\n",
      "9/9 [==============================] - 168s 19s/step\n",
      "Loss : 0.5262929201126099\tRecall : 0.7714285850524902\tPrecision : 0.8852459192276001\n",
      "Training complete, saving embedding kernel.\n",
      "Successfully saved model at saved_model\\embedding_kernel.h5.\n",
      "Generating data variant with Donald_Rumsfeld as anchor\n"
     ]
    },
    {
     "name": "stderr",
     "output_type": "stream",
     "text": [
      "100%|██████████| 5749/5749 [00:18<00:00, 306.81it/s]\n"
     ]
    },
    {
     "name": "stdout",
     "output_type": "stream",
     "text": [
      "[DEBUG] Finished data variant setup\n",
      "Preparing data augmentation from data\\var_anchor to data\\var_positive.\n"
     ]
    },
    {
     "name": "stderr",
     "output_type": "stream",
     "text": [
      "100%|██████████| 100/100 [00:01<00:00, 59.56it/s]\n"
     ]
    },
    {
     "name": "stdout",
     "output_type": "stream",
     "text": [
      "Successfully generated 200 new images through data augmentation.\n",
      "Preparing data augmentation from data\\var_anchor to data\\var_anchor.\n"
     ]
    },
    {
     "name": "stderr",
     "output_type": "stream",
     "text": [
      "100%|██████████| 100/100 [00:00<00:00, 120.53it/s]\n"
     ]
    },
    {
     "name": "stdout",
     "output_type": "stream",
     "text": [
      "Successfully generated 100 new images through data augmentation.\n",
      "Harvesting data from anchor data\\var_anchor, positive data\\var_positive and negative data\\var_negative folder.\n",
      "Anchor images availlable :\t200\n",
      "Positive images availlable :\t200\n",
      "Negative images availlable :\t12493\n",
      "Tuple harvested :\t\t200\n",
      "Labelling data\n",
      "Successfully harvested and labelled 200 data.\n",
      "Begining training 4th/100 person.\n",
      "Epoch 1/10\n",
      "9/9 [==============================] - 188s 21s/step\n",
      "Loss : 0.659675121307373\tRecall : 0.27419355511665344\tPrecision : 0.53125\n",
      "Epoch 2/10\n",
      "9/9 [==============================] - 186s 20s/step\n",
      "Loss : 0.6567134261131287\tRecall : 0.2133333384990692\tPrecision : 0.6153846383094788\n",
      "Epoch 3/10\n",
      "9/9 [==============================] - 189s 22s/step\n",
      "Loss : 0.6337926387786865\tRecall : 0.6901408433914185\tPrecision : 0.6202531456947327\n",
      "Epoch 4/10\n",
      "9/9 [==============================] - 172s 18s/step\n",
      "Loss : 0.6053617596626282\tRecall : 0.6470588445663452\tPrecision : 0.7213114500045776\n",
      "Epoch 5/10\n",
      "9/9 [==============================] - 187s 20s/step\n",
      "Loss : 0.53763747215271\tRecall : 0.6315789222717285\tPrecision : 0.7868852615356445\n",
      "Epoch 6/10\n",
      "9/9 [==============================] - 193s 22s/step\n",
      "Loss : 0.5714637637138367\tRecall : 0.7941176295280457\tPrecision : 0.8059701323509216\n",
      "Epoch 7/10\n",
      "9/9 [==============================] - 178s 19s/step\n",
      "Loss : 0.4700058400630951\tRecall : 0.7681159377098083\tPrecision : 0.8030303120613098\n",
      "Epoch 8/10\n",
      "9/9 [==============================] - 174s 20s/step\n",
      "Loss : 0.5572782158851624\tRecall : 0.828125\tPrecision : 0.8983050584793091\n",
      "Epoch 9/10\n",
      "9/9 [==============================] - 216s 24s/step\n",
      "Loss : 0.6201855540275574\tRecall : 0.8208954930305481\tPrecision : 0.9016393423080444\n",
      "Epoch 10/10\n",
      "9/9 [==============================] - 206s 23s/step\n",
      "Loss : 0.5353017449378967\tRecall : 0.8493150472640991\tPrecision : 0.9117646813392639\n",
      "Training complete, saving embedding kernel.\n",
      "Successfully saved model at saved_model\\embedding_kernel.h5.\n",
      "Generating data variant with Gerhard_Schroeder as anchor\n"
     ]
    },
    {
     "name": "stderr",
     "output_type": "stream",
     "text": [
      "100%|██████████| 5749/5749 [00:17<00:00, 323.48it/s]\n"
     ]
    },
    {
     "name": "stdout",
     "output_type": "stream",
     "text": [
      "[DEBUG] Finished data variant setup\n",
      "Preparing data augmentation from data\\var_anchor to data\\var_positive.\n"
     ]
    },
    {
     "name": "stderr",
     "output_type": "stream",
     "text": [
      "100%|██████████| 100/100 [00:01<00:00, 54.35it/s]\n"
     ]
    },
    {
     "name": "stdout",
     "output_type": "stream",
     "text": [
      "Successfully generated 200 new images through data augmentation.\n",
      "Preparing data augmentation from data\\var_anchor to data\\var_anchor.\n"
     ]
    },
    {
     "name": "stderr",
     "output_type": "stream",
     "text": [
      "100%|██████████| 100/100 [00:00<00:00, 112.36it/s]\n"
     ]
    },
    {
     "name": "stdout",
     "output_type": "stream",
     "text": [
      "Successfully generated 100 new images through data augmentation.\n",
      "Harvesting data from anchor data\\var_anchor, positive data\\var_positive and negative data\\var_negative folder.\n",
      "Anchor images availlable :\t200\n",
      "Positive images availlable :\t200\n",
      "Negative images availlable :\t12493\n",
      "Tuple harvested :\t\t200\n",
      "Labelling data\n",
      "Successfully harvested and labelled 200 data.\n",
      "Begining training 5th/100 person.\n",
      "Epoch 1/10\n",
      "9/9 [==============================] - 206s 23s/step\n",
      "Loss : 0.6498193740844727\tRecall : 0.6617646813392639\tPrecision : 0.6521739363670349\n",
      "Epoch 2/10\n",
      "9/9 [==============================] - 176s 20s/step\n",
      "Loss : 0.6534479856491089\tRecall : 0.8985507488250732\tPrecision : 0.6813187003135681\n",
      "Epoch 3/10\n",
      "9/9 [==============================] - 162s 18s/step\n",
      "Loss : 0.6191738247871399\tRecall : 0.6461538672447205\tPrecision : 0.688524603843689\n",
      "Epoch 4/10\n",
      "9/9 [==============================] - 194s 21s/step\n",
      "Loss : 0.5883272290229797\tRecall : 0.8550724387168884\tPrecision : 0.737500011920929\n",
      "Epoch 5/10\n",
      "9/9 [==============================] - 189s 21s/step\n",
      "Loss : 0.4463827610015869\tRecall : 0.7857142686843872\tPrecision : 0.7638888955116272\n",
      "Epoch 6/10\n",
      "9/9 [==============================] - 185s 20s/step\n",
      "Loss : 0.502547025680542\tRecall : 0.8918918967247009\tPrecision : 0.8354430198669434\n",
      "Epoch 7/10\n",
      "9/9 [==============================] - 178s 20s/step\n",
      "Loss : 0.5088962912559509\tRecall : 0.8684210777282715\tPrecision : 0.9166666865348816\n",
      "Epoch 8/10\n",
      "9/9 [==============================] - 173s 20s/step\n",
      "Loss : 0.6897807121276855\tRecall : 0.8787878751754761\tPrecision : 0.920634925365448\n",
      "Epoch 9/10\n",
      "9/9 [==============================] - 171s 18s/step\n",
      "Loss : 0.5124812722206116\tRecall : 0.8970588445663452\tPrecision : 0.8970588445663452\n",
      "Epoch 10/10\n",
      "9/9 [==============================] - 164s 18s/step\n",
      "Loss : 0.19367225468158722\tRecall : 0.9275362491607666\tPrecision : 0.9014084339141846\n",
      "Training complete, saving embedding kernel.\n",
      "Successfully saved model at saved_model\\embedding_kernel.h5.\n",
      "Generating data variant with Ariel_Sharon as anchor\n"
     ]
    },
    {
     "name": "stderr",
     "output_type": "stream",
     "text": [
      "100%|██████████| 5749/5749 [00:17<00:00, 325.14it/s]\n"
     ]
    },
    {
     "name": "stdout",
     "output_type": "stream",
     "text": [
      "[DEBUG] Finished data variant setup\n",
      "Preparing data augmentation from data\\var_anchor to data\\var_positive.\n"
     ]
    },
    {
     "name": "stderr",
     "output_type": "stream",
     "text": [
      "100%|██████████| 77/77 [00:01<00:00, 51.61it/s]\n"
     ]
    },
    {
     "name": "stdout",
     "output_type": "stream",
     "text": [
      "Successfully generated 154 new images through data augmentation.\n",
      "Preparing data augmentation from data\\var_anchor to data\\var_anchor.\n"
     ]
    },
    {
     "name": "stderr",
     "output_type": "stream",
     "text": [
      "100%|██████████| 77/77 [00:01<00:00, 69.81it/s]\n"
     ]
    },
    {
     "name": "stdout",
     "output_type": "stream",
     "text": [
      "Successfully generated 77 new images through data augmentation.\n",
      "Harvesting data from anchor data\\var_anchor, positive data\\var_positive and negative data\\var_negative folder.\n",
      "Anchor images availlable :\t154\n",
      "Positive images availlable :\t154\n",
      "Negative images availlable :\t12516\n",
      "Tuple harvested :\t\t154\n",
      "Labelling data\n",
      "Successfully harvested and labelled 154 data.\n",
      "Begining training 6th/100 person.\n",
      "Epoch 1/10\n",
      "7/7 [==============================] - 141s 19s/step\n",
      "Loss : 0.5881029963493347\tRecall : 0.7058823704719543\tPrecision : 0.5538461804389954\n",
      "Epoch 2/10\n",
      "7/7 [==============================] - 136s 20s/step\n",
      "Loss : 0.585889995098114\tRecall : 0.1666666716337204\tPrecision : 0.8999999761581421\n",
      "Epoch 3/10\n",
      "7/7 [==============================] - 146s 20s/step\n",
      "Loss : 0.6168299317359924\tRecall : 0.03846153989434242\tPrecision : 0.6666666865348816\n",
      "Epoch 4/10\n",
      "7/7 [==============================] - 148s 21s/step\n",
      "Loss : 0.6626496315002441\tRecall : 0.1525423675775528\tPrecision : 0.8999999761581421\n",
      "Epoch 5/10\n",
      "7/7 [==============================] - 145s 20s/step\n",
      "Loss : 0.5293191075325012\tRecall : 0.1111111119389534\tPrecision : 0.75\n",
      "Epoch 6/10\n",
      "7/7 [==============================] - 157s 22s/step\n",
      "Loss : 0.39938458800315857\tRecall : 0.2857142984867096\tPrecision : 0.8235294222831726\n",
      "Epoch 7/10\n",
      "7/7 [==============================] - 129s 17s/step\n",
      "Loss : 0.4954451620578766\tRecall : 0.5686274766921997\tPrecision : 0.8529411554336548\n",
      "Epoch 8/10\n",
      "7/7 [==============================] - 134s 19s/step\n",
      "Loss : 0.7147535681724548\tRecall : 0.6875\tPrecision : 0.824999988079071\n",
      "Epoch 9/10\n",
      "7/7 [==============================] - 131s 19s/step\n",
      "Loss : 0.5464146137237549\tRecall : 0.7843137383460999\tPrecision : 0.8888888955116272\n",
      "Epoch 10/10\n",
      "7/7 [==============================] - 161s 23s/step\n",
      "Loss : 0.624241828918457\tRecall : 0.7799999713897705\tPrecision : 0.8297872543334961\n",
      "Training complete, saving embedding kernel.\n",
      "Successfully saved model at saved_model\\embedding_kernel.h5.\n",
      "Generating data variant with Hugo_Chavez as anchor\n"
     ]
    },
    {
     "name": "stderr",
     "output_type": "stream",
     "text": [
      "100%|██████████| 5749/5749 [00:18<00:00, 319.37it/s]\n"
     ]
    },
    {
     "name": "stdout",
     "output_type": "stream",
     "text": [
      "[DEBUG] Finished data variant setup\n",
      "Preparing data augmentation from data\\var_anchor to data\\var_positive.\n"
     ]
    },
    {
     "name": "stderr",
     "output_type": "stream",
     "text": [
      "100%|██████████| 71/71 [00:01<00:00, 59.41it/s]\n"
     ]
    },
    {
     "name": "stdout",
     "output_type": "stream",
     "text": [
      "Successfully generated 142 new images through data augmentation.\n",
      "Preparing data augmentation from data\\var_anchor to data\\var_anchor.\n"
     ]
    },
    {
     "name": "stderr",
     "output_type": "stream",
     "text": [
      "100%|██████████| 71/71 [00:00<00:00, 108.56it/s]\n"
     ]
    },
    {
     "name": "stdout",
     "output_type": "stream",
     "text": [
      "Successfully generated 71 new images through data augmentation.\n",
      "Harvesting data from anchor data\\var_anchor, positive data\\var_positive and negative data\\var_negative folder.\n",
      "Anchor images availlable :\t142\n",
      "Positive images availlable :\t142\n",
      "Negative images availlable :\t12522\n",
      "Tuple harvested :\t\t142\n",
      "Labelling data\n",
      "Successfully harvested and labelled 142 data.\n",
      "Begining training 7th/100 person.\n",
      "Epoch 1/10\n",
      "7/7 [==============================] - 132s 19s/step\n",
      "Loss : 0.7917507886886597\tRecall : 0.8823529481887817\tPrecision : 0.5\n",
      "Epoch 2/10\n",
      "7/7 [==============================] - 125s 18s/step\n",
      "Loss : 0.6454872488975525\tRecall : 1.0\tPrecision : 0.5\n",
      "Epoch 3/10\n",
      "7/7 [==============================] - 119s 17s/step\n",
      "Loss : 0.7141961455345154\tRecall : 1.0\tPrecision : 0.47999998927116394\n",
      "Epoch 4/10\n",
      "7/7 [==============================] - 116s 16s/step\n",
      "Loss : 0.6450016498565674\tRecall : 1.0\tPrecision : 0.49000000953674316\n",
      "Epoch 5/10\n",
      "7/7 [==============================] - 112s 16s/step\n",
      "Loss : 0.6585214734077454\tRecall : 1.0\tPrecision : 0.5199999809265137\n",
      "Epoch 6/10\n",
      "7/7 [==============================] - 122s 17s/step\n",
      "Loss : 0.7331457734107971\tRecall : 1.0\tPrecision : 0.5\n",
      "Epoch 7/10\n",
      "7/7 [==============================] - 121s 16s/step\n",
      "Loss : 0.692505419254303\tRecall : 1.0\tPrecision : 0.5299999713897705\n",
      "Epoch 8/10\n",
      "7/7 [==============================] - 114s 16s/step\n",
      "Loss : 0.6827919483184814\tRecall : 1.0\tPrecision : 0.44999998807907104\n",
      "Epoch 9/10\n",
      "7/7 [==============================] - 134s 19s/step\n",
      "Loss : 0.6741113662719727\tRecall : 1.0\tPrecision : 0.4300000071525574\n",
      "Epoch 10/10\n",
      "7/7 [==============================] - 138s 19s/step\n",
      "Loss : 0.6987252235412598\tRecall : 1.0\tPrecision : 0.5\n",
      "Training complete, saving embedding kernel.\n",
      "Successfully saved model at saved_model\\embedding_kernel.h5.\n",
      "Generating data variant with Junichiro_Koizumi as anchor\n"
     ]
    },
    {
     "name": "stderr",
     "output_type": "stream",
     "text": [
      "100%|██████████| 5749/5749 [00:17<00:00, 328.42it/s]\n"
     ]
    },
    {
     "name": "stdout",
     "output_type": "stream",
     "text": [
      "[DEBUG] Finished data variant setup\n",
      "Preparing data augmentation from data\\var_anchor to data\\var_positive.\n"
     ]
    },
    {
     "name": "stderr",
     "output_type": "stream",
     "text": [
      "100%|██████████| 60/60 [00:00<00:00, 60.36it/s]\n"
     ]
    },
    {
     "name": "stdout",
     "output_type": "stream",
     "text": [
      "Successfully generated 120 new images through data augmentation.\n",
      "Preparing data augmentation from data\\var_anchor to data\\var_anchor.\n"
     ]
    },
    {
     "name": "stderr",
     "output_type": "stream",
     "text": [
      "100%|██████████| 60/60 [00:00<00:00, 109.69it/s]\n"
     ]
    },
    {
     "name": "stdout",
     "output_type": "stream",
     "text": [
      "Successfully generated 60 new images through data augmentation.\n",
      "Harvesting data from anchor data\\var_anchor, positive data\\var_positive and negative data\\var_negative folder.\n",
      "Anchor images availlable :\t120\n",
      "Positive images availlable :\t120\n",
      "Negative images availlable :\t12533\n",
      "Tuple harvested :\t\t120\n",
      "Labelling data\n",
      "Successfully harvested and labelled 120 data.\n",
      "Begining training 8th/100 person.\n",
      "Epoch 1/10\n",
      "6/6 [==============================] - 103s 17s/step\n",
      "Loss : 0.6972512006759644\tRecall : 1.0\tPrecision : 0.511904776096344\n",
      "Epoch 2/10\n",
      "6/6 [==============================] - 97s 16s/step\n",
      "Loss : 0.6912277340888977\tRecall : 0.5952380895614624\tPrecision : 0.5555555820465088\n",
      "Epoch 3/10\n",
      "6/6 [==============================] - 96s 16s/step\n",
      "Loss : 0.6562129855155945\tRecall : 0.2777777910232544\tPrecision : 0.4545454680919647\n",
      "Epoch 4/10\n",
      "6/6 [==============================] - 121s 20s/step\n",
      "Loss : 0.69827800989151\tRecall : 0.15909090638160706\tPrecision : 0.5384615659713745\n",
      "Epoch 5/10\n",
      "6/6 [==============================] - 110s 17s/step\n",
      "Loss : 0.7111004590988159\tRecall : 0.08888889104127884\tPrecision : 0.6666666865348816\n",
      "Epoch 6/10\n",
      "6/6 [==============================] - 116s 19s/step\n",
      "Loss : 0.6673976182937622\tRecall : 0.15909090638160706\tPrecision : 0.6363636255264282\n",
      "Epoch 7/10\n",
      "6/6 [==============================] - 107s 18s/step\n",
      "Loss : 0.6966290473937988\tRecall : 0.125\tPrecision : 0.5\n",
      "Epoch 8/10\n",
      "6/6 [==============================] - 96s 16s/step\n",
      "Loss : 0.7190152406692505\tRecall : 0.0731707289814949\tPrecision : 0.6000000238418579\n",
      "Epoch 9/10\n",
      "6/6 [==============================] - 102s 17s/step\n",
      "Loss : 0.6260875463485718\tRecall : 0.02631578966975212\tPrecision : 0.3333333432674408\n",
      "Epoch 10/10\n",
      "6/6 [==============================] - 106s 17s/step\n",
      "Loss : 0.6795704960823059\tRecall : 0.022727273404598236\tPrecision : 1.0\n",
      "Training complete, saving embedding kernel.\n",
      "Successfully saved model at saved_model\\embedding_kernel.h5.\n",
      "Generating data variant with Jean_Chretien as anchor\n"
     ]
    },
    {
     "name": "stderr",
     "output_type": "stream",
     "text": [
      "100%|██████████| 5749/5749 [00:17<00:00, 326.80it/s]\n"
     ]
    },
    {
     "name": "stdout",
     "output_type": "stream",
     "text": [
      "[DEBUG] Finished data variant setup\n",
      "Preparing data augmentation from data\\var_anchor to data\\var_positive.\n"
     ]
    },
    {
     "name": "stderr",
     "output_type": "stream",
     "text": [
      "100%|██████████| 55/55 [00:00<00:00, 64.03it/s]\n"
     ]
    },
    {
     "name": "stdout",
     "output_type": "stream",
     "text": [
      "Successfully generated 110 new images through data augmentation.\n",
      "Preparing data augmentation from data\\var_anchor to data\\var_anchor.\n"
     ]
    },
    {
     "name": "stderr",
     "output_type": "stream",
     "text": [
      "100%|██████████| 55/55 [00:00<00:00, 114.35it/s]\n"
     ]
    },
    {
     "name": "stdout",
     "output_type": "stream",
     "text": [
      "Successfully generated 55 new images through data augmentation.\n",
      "Harvesting data from anchor data\\var_anchor, positive data\\var_positive and negative data\\var_negative folder.\n",
      "Anchor images availlable :\t110\n",
      "Positive images availlable :\t110\n",
      "Negative images availlable :\t12538\n",
      "Tuple harvested :\t\t110\n",
      "Labelling data\n",
      "Successfully harvested and labelled 110 data.\n",
      "Begining training 9th/100 person.\n",
      "Epoch 1/10\n",
      "5/5 [==============================] - 96s 19s/step\n",
      "Loss : 0.6147228479385376\tRecall : 0.0\tPrecision : 0.0\n",
      "Epoch 2/10\n",
      "5/5 [==============================] - 94s 19s/step\n",
      "Loss : 0.7498567700386047\tRecall : 0.0\tPrecision : 0.0\n",
      "Epoch 3/10\n",
      "5/5 [==============================] - 93s 19s/step\n",
      "Loss : 0.7016163468360901\tRecall : 0.025641025975346565\tPrecision : 1.0\n",
      "Epoch 4/10\n",
      "5/5 [==============================] - 94s 19s/step\n",
      "Loss : 0.640788733959198\tRecall : 0.027027027681469917\tPrecision : 1.0\n",
      "Epoch 5/10\n",
      "5/5 [==============================] - 104s 22s/step\n",
      "Loss : 0.6750034689903259\tRecall : 0.0\tPrecision : 0.0\n",
      "Epoch 6/10\n",
      "5/5 [==============================] - 94s 19s/step\n",
      "Loss : 0.6863030195236206\tRecall : 0.02777777798473835\tPrecision : 1.0\n",
      "Epoch 7/10\n",
      "5/5 [==============================] - 100s 19s/step\n",
      "Loss : 0.6905049085617065\tRecall : 0.0\tPrecision : 0.0\n",
      "Epoch 8/10\n",
      "5/5 [==============================] - 99s 20s/step\n",
      "Loss : 0.6553377509117126\tRecall : 0.02500000037252903\tPrecision : 1.0\n",
      "Epoch 9/10\n",
      "5/5 [==============================] - 108s 22s/step\n",
      "Loss : 0.615281879901886\tRecall : 0.02777777798473835\tPrecision : 1.0\n",
      "Epoch 10/10\n",
      "5/5 [==============================] - 106s 20s/step\n",
      "Loss : 0.5995467305183411\tRecall : 0.05000000074505806\tPrecision : 1.0\n",
      "Training complete, saving embedding kernel.\n",
      "Successfully saved model at saved_model\\embedding_kernel.h5.\n",
      "Generating data variant with John_Ashcroft as anchor\n"
     ]
    },
    {
     "name": "stderr",
     "output_type": "stream",
     "text": [
      "100%|██████████| 5749/5749 [00:19<00:00, 298.74it/s]\n"
     ]
    },
    {
     "name": "stdout",
     "output_type": "stream",
     "text": [
      "[DEBUG] Finished data variant setup\n",
      "Preparing data augmentation from data\\var_anchor to data\\var_positive.\n"
     ]
    },
    {
     "name": "stderr",
     "output_type": "stream",
     "text": [
      "100%|██████████| 53/53 [00:00<00:00, 59.15it/s]\n"
     ]
    },
    {
     "name": "stdout",
     "output_type": "stream",
     "text": [
      "Successfully generated 106 new images through data augmentation.\n",
      "Preparing data augmentation from data\\var_anchor to data\\var_anchor.\n"
     ]
    },
    {
     "name": "stderr",
     "output_type": "stream",
     "text": [
      "100%|██████████| 53/53 [00:00<00:00, 114.72it/s]\n"
     ]
    },
    {
     "name": "stdout",
     "output_type": "stream",
     "text": [
      "Successfully generated 53 new images through data augmentation.\n",
      "Harvesting data from anchor data\\var_anchor, positive data\\var_positive and negative data\\var_negative folder.\n",
      "Anchor images availlable :\t106\n",
      "Positive images availlable :\t106\n",
      "Negative images availlable :\t12540\n",
      "Tuple harvested :\t\t106\n",
      "Labelling data\n",
      "Successfully harvested and labelled 106 data.\n",
      "Begining training 10th/100 person.\n",
      "Epoch 1/10\n",
      "5/5 [==============================] - 103s 20s/step\n",
      "Loss : 0.6096721291542053\tRecall : 0.0\tPrecision : 0.0\n",
      "Epoch 2/10\n",
      "5/5 [==============================] - 82s 17s/step\n",
      "Loss : 0.6729810237884521\tRecall : 0.0\tPrecision : 0.0\n",
      "Epoch 3/10\n",
      "5/5 [==============================] - 92s 19s/step\n",
      "Loss : 0.6742261648178101\tRecall : 0.02857142873108387\tPrecision : 1.0\n",
      "Epoch 4/10\n",
      "5/5 [==============================] - 87s 17s/step\n",
      "Loss : 0.6932501196861267\tRecall : 0.02631578966975212\tPrecision : 0.5\n",
      "Epoch 5/10\n",
      "5/5 [==============================] - 98s 20s/step\n",
      "Loss : 0.5748552680015564\tRecall : 0.02857142873108387\tPrecision : 1.0\n",
      "Epoch 6/10\n",
      "5/5 [==============================] - 101s 19s/step\n",
      "Loss : 0.5730395913124084\tRecall : 0.05882352963089943\tPrecision : 1.0\n",
      "Epoch 7/10\n",
      "5/5 [==============================] - 87s 18s/step\n",
      "Loss : 0.5809692740440369\tRecall : 0.095238097012043\tPrecision : 1.0\n",
      "Epoch 8/10\n",
      "5/5 [==============================] - 93s 19s/step\n",
      "Loss : 0.6283918023109436\tRecall : 0.1515151560306549\tPrecision : 0.8333333134651184\n",
      "Epoch 9/10\n",
      "5/5 [==============================] - 106s 21s/step\n",
      "Loss : 0.5544233322143555\tRecall : 0.2702702581882477\tPrecision : 0.9090909361839294\n",
      "Epoch 10/10\n",
      "5/5 [==============================] - 103s 20s/step\n",
      "Loss : 0.5172977447509766\tRecall : 0.375\tPrecision : 1.0\n",
      "Training complete, saving embedding kernel.\n",
      "Successfully saved model at saved_model\\embedding_kernel.h5.\n",
      "Generating data variant with Jacques_Chirac as anchor\n"
     ]
    },
    {
     "name": "stderr",
     "output_type": "stream",
     "text": [
      "100%|██████████| 5749/5749 [00:18<00:00, 311.56it/s]\n"
     ]
    },
    {
     "name": "stdout",
     "output_type": "stream",
     "text": [
      "[DEBUG] Finished data variant setup\n",
      "Preparing data augmentation from data\\var_anchor to data\\var_positive.\n"
     ]
    },
    {
     "name": "stderr",
     "output_type": "stream",
     "text": [
      "100%|██████████| 52/52 [00:01<00:00, 38.81it/s]\n"
     ]
    },
    {
     "name": "stdout",
     "output_type": "stream",
     "text": [
      "Successfully generated 104 new images through data augmentation.\n",
      "Preparing data augmentation from data\\var_anchor to data\\var_anchor.\n"
     ]
    },
    {
     "name": "stderr",
     "output_type": "stream",
     "text": [
      "100%|██████████| 52/52 [00:00<00:00, 115.56it/s]\n"
     ]
    },
    {
     "name": "stdout",
     "output_type": "stream",
     "text": [
      "Successfully generated 52 new images through data augmentation.\n",
      "Harvesting data from anchor data\\var_anchor, positive data\\var_positive and negative data\\var_negative folder.\n",
      "Anchor images availlable :\t104\n",
      "Positive images availlable :\t104\n",
      "Negative images availlable :\t12541\n",
      "Tuple harvested :\t\t104\n",
      "Labelling data\n",
      "Successfully harvested and labelled 104 data.\n",
      "Begining training 11th/100 person.\n",
      "Epoch 1/10\n",
      "5/5 [==============================] - 96s 19s/step\n",
      "Loss : 0.6109508275985718\tRecall : 0.20588235557079315\tPrecision : 0.875\n",
      "Epoch 2/10\n",
      "5/5 [==============================] - 93s 17s/step\n",
      "Loss : 0.7662137746810913\tRecall : 0.5641025900840759\tPrecision : 0.8461538553237915\n",
      "Epoch 3/10\n",
      "5/5 [==============================] - 108s 21s/step\n",
      "Loss : 0.48257750272750854\tRecall : 0.5897436141967773\tPrecision : 0.7931034564971924\n",
      "Epoch 4/10\n",
      "5/5 [==============================] - 90s 18s/step\n",
      "Loss : 0.56890469789505\tRecall : 0.6571428775787354\tPrecision : 0.7666666507720947\n",
      "Epoch 5/10\n",
      "5/5 [==============================] - 100s 20s/step\n",
      "Loss : 0.36067160964012146\tRecall : 0.8529411554336548\tPrecision : 0.8529411554336548\n",
      "Epoch 6/10\n",
      "5/5 [==============================] - 107s 22s/step\n",
      "Loss : 0.26886799931526184\tRecall : 0.8333333134651184\tPrecision : 0.8571428656578064\n",
      "Epoch 7/10\n",
      "5/5 [==============================] - 115s 22s/step\n",
      "Loss : 0.23939430713653564\tRecall : 0.9090909361839294\tPrecision : 0.8823529481887817\n",
      "Epoch 8/10\n",
      "5/5 [==============================] - 99s 20s/step\n",
      "Loss : 0.2699999213218689\tRecall : 0.8823529481887817\tPrecision : 0.9677419066429138\n",
      "Epoch 9/10\n",
      "5/5 [==============================] - 108s 21s/step\n",
      "Loss : 0.18955858051776886\tRecall : 0.9210526347160339\tPrecision : 0.9722222089767456\n",
      "Epoch 10/10\n",
      "5/5 [==============================] - 104s 21s/step\n",
      "Loss : 0.3504795730113983\tRecall : 0.925000011920929\tPrecision : 0.9736841917037964\n",
      "Training complete, saving embedding kernel.\n",
      "Successfully saved model at saved_model\\embedding_kernel.h5.\n",
      "Generating data variant with Serena_Williams as anchor\n"
     ]
    },
    {
     "name": "stderr",
     "output_type": "stream",
     "text": [
      "100%|██████████| 5749/5749 [00:19<00:00, 293.81it/s]\n"
     ]
    },
    {
     "name": "stdout",
     "output_type": "stream",
     "text": [
      "[DEBUG] Finished data variant setup\n",
      "Preparing data augmentation from data\\var_anchor to data\\var_positive.\n"
     ]
    },
    {
     "name": "stderr",
     "output_type": "stream",
     "text": [
      "100%|██████████| 52/52 [00:00<00:00, 61.39it/s]\n"
     ]
    },
    {
     "name": "stdout",
     "output_type": "stream",
     "text": [
      "Successfully generated 104 new images through data augmentation.\n",
      "Preparing data augmentation from data\\var_anchor to data\\var_anchor.\n"
     ]
    },
    {
     "name": "stderr",
     "output_type": "stream",
     "text": [
      "100%|██████████| 52/52 [00:00<00:00, 100.00it/s]\n"
     ]
    },
    {
     "name": "stdout",
     "output_type": "stream",
     "text": [
      "Successfully generated 52 new images through data augmentation.\n",
      "Harvesting data from anchor data\\var_anchor, positive data\\var_positive and negative data\\var_negative folder.\n",
      "Anchor images availlable :\t104\n",
      "Positive images availlable :\t104\n",
      "Negative images availlable :\t12541\n",
      "Tuple harvested :\t\t104\n",
      "Labelling data\n",
      "Successfully harvested and labelled 104 data.\n",
      "Begining training 12th/100 person.\n",
      "Epoch 1/10\n",
      "5/5 [==============================] - 109s 21s/step\n",
      "Loss : 0.8131362199783325\tRecall : 0.5714285969734192\tPrecision : 0.6896551847457886\n",
      "Epoch 2/10\n",
      "5/5 [==============================] - 85s 17s/step\n",
      "Loss : 0.73359215259552\tRecall : 0.3888888955116272\tPrecision : 0.699999988079071\n",
      "Epoch 3/10\n",
      "5/5 [==============================] - 88s 16s/step\n",
      "Loss : 0.696623682975769\tRecall : 0.6153846383094788\tPrecision : 0.6857143044471741\n",
      "Epoch 4/10\n",
      "5/5 [==============================] - 87s 17s/step\n",
      "Loss : 0.6003584265708923\tRecall : 0.37142857909202576\tPrecision : 0.6842105388641357\n",
      "Epoch 5/10\n",
      "5/5 [==============================] - 100s 20s/step\n",
      "Loss : 0.5400218367576599\tRecall : 0.15000000596046448\tPrecision : 1.0\n",
      "Epoch 6/10\n",
      "5/5 [==============================] - 100s 19s/step\n",
      "Loss : 0.6396531462669373\tRecall : 0.2631579041481018\tPrecision : 0.8333333134651184\n",
      "Epoch 7/10\n",
      "5/5 [==============================] - 98s 18s/step\n",
      "Loss : 0.4970756471157074\tRecall : 0.3235294222831726\tPrecision : 1.0\n",
      "Epoch 8/10\n",
      "5/5 [==============================] - 92s 19s/step\n",
      "Loss : 0.5648446083068848\tRecall : 0.37837839126586914\tPrecision : 1.0\n",
      "Epoch 9/10\n",
      "5/5 [==============================] - 95s 17s/step\n",
      "Loss : 0.6305754780769348\tRecall : 0.45945945382118225\tPrecision : 1.0\n",
      "Epoch 10/10\n",
      "5/5 [==============================] - 88s 17s/step\n",
      "Loss : 0.36385276913642883\tRecall : 0.5\tPrecision : 0.949999988079071\n",
      "Training complete, saving embedding kernel.\n",
      "Successfully saved model at saved_model\\embedding_kernel.h5.\n",
      "Generating data variant with Vladimir_Putin as anchor\n"
     ]
    },
    {
     "name": "stderr",
     "output_type": "stream",
     "text": [
      "100%|██████████| 5749/5749 [00:18<00:00, 311.23it/s]\n"
     ]
    },
    {
     "name": "stdout",
     "output_type": "stream",
     "text": [
      "[DEBUG] Finished data variant setup\n",
      "Preparing data augmentation from data\\var_anchor to data\\var_positive.\n"
     ]
    },
    {
     "name": "stderr",
     "output_type": "stream",
     "text": [
      "100%|██████████| 49/49 [00:01<00:00, 31.49it/s]\n"
     ]
    },
    {
     "name": "stdout",
     "output_type": "stream",
     "text": [
      "Successfully generated 98 new images through data augmentation.\n",
      "Preparing data augmentation from data\\var_anchor to data\\var_anchor.\n"
     ]
    },
    {
     "name": "stderr",
     "output_type": "stream",
     "text": [
      "100%|██████████| 49/49 [00:00<00:00, 105.60it/s]\n"
     ]
    },
    {
     "name": "stdout",
     "output_type": "stream",
     "text": [
      "Successfully generated 49 new images through data augmentation.\n",
      "Harvesting data from anchor data\\var_anchor, positive data\\var_positive and negative data\\var_negative folder.\n",
      "Anchor images availlable :\t98\n",
      "Positive images availlable :\t98\n",
      "Negative images availlable :\t12544\n",
      "Tuple harvested :\t\t98\n",
      "Labelling data\n",
      "Successfully harvested and labelled 98 data.\n",
      "Begining training 13th/100 person.\n",
      "Epoch 1/10\n",
      "5/5 [==============================] - 103s 20s/step\n",
      "Loss : 0.6502166390419006\tRecall : 0.65625\tPrecision : 0.6176470518112183\n",
      "Epoch 2/10\n",
      "5/5 [==============================] - 91s 18s/step\n",
      "Loss : 0.7000621557235718\tRecall : 0.8235294222831726\tPrecision : 0.5833333134651184\n",
      "Epoch 3/10\n",
      "5/5 [==============================] - 98s 19s/step\n",
      "Loss : 0.5916621088981628\tRecall : 0.2857142984867096\tPrecision : 0.8333333134651184\n",
      "Epoch 4/10\n",
      "5/5 [==============================] - 90s 18s/step\n",
      "Loss : 0.6176186203956604\tRecall : 0.6451612710952759\tPrecision : 0.8333333134651184\n",
      "Epoch 5/10\n",
      "5/5 [==============================] - 83s 17s/step\n",
      "Loss : 0.5918008089065552\tRecall : 0.6486486196517944\tPrecision : 0.8571428656578064\n",
      "Epoch 6/10\n",
      "5/5 [==============================] - 86s 17s/step\n",
      "Loss : 0.6206753253936768\tRecall : 0.7027027010917664\tPrecision : 0.8666666746139526\n",
      "Epoch 7/10\n",
      "5/5 [==============================] - 83s 16s/step\n",
      "Loss : 0.3263837695121765\tRecall : 0.71875\tPrecision : 0.8846153616905212\n",
      "Epoch 8/10\n",
      "5/5 [==============================] - 87s 17s/step\n",
      "Loss : 0.23214974999427795\tRecall : 0.9444444179534912\tPrecision : 0.9189189076423645\n",
      "Epoch 9/10\n",
      "5/5 [==============================] - 97s 18s/step\n",
      "Loss : 0.7419143915176392\tRecall : 0.9375\tPrecision : 0.8823529481887817\n",
      "Epoch 10/10\n",
      "5/5 [==============================] - 107s 20s/step\n",
      "Loss : 0.19665881991386414\tRecall : 0.6470588445663452\tPrecision : 1.0\n",
      "Training complete, saving embedding kernel.\n",
      "Successfully saved model at saved_model\\embedding_kernel.h5.\n",
      "Generating data variant with Luiz_Inacio_Lula_da_Silva as anchor\n"
     ]
    },
    {
     "name": "stderr",
     "output_type": "stream",
     "text": [
      "100%|██████████| 5749/5749 [00:18<00:00, 312.92it/s]\n"
     ]
    },
    {
     "name": "stdout",
     "output_type": "stream",
     "text": [
      "[DEBUG] Finished data variant setup\n",
      "Preparing data augmentation from data\\var_anchor to data\\var_positive.\n"
     ]
    },
    {
     "name": "stderr",
     "output_type": "stream",
     "text": [
      "100%|██████████| 48/48 [00:00<00:00, 62.58it/s]\n"
     ]
    },
    {
     "name": "stdout",
     "output_type": "stream",
     "text": [
      "Successfully generated 96 new images through data augmentation.\n",
      "Preparing data augmentation from data\\var_anchor to data\\var_anchor.\n"
     ]
    },
    {
     "name": "stderr",
     "output_type": "stream",
     "text": [
      "100%|██████████| 48/48 [00:00<00:00, 116.79it/s]\n"
     ]
    },
    {
     "name": "stdout",
     "output_type": "stream",
     "text": [
      "Successfully generated 48 new images through data augmentation.\n",
      "Harvesting data from anchor data\\var_anchor, positive data\\var_positive and negative data\\var_negative folder.\n",
      "Anchor images availlable :\t96\n",
      "Positive images availlable :\t96\n",
      "Negative images availlable :\t12545\n",
      "Tuple harvested :\t\t96\n",
      "Labelling data\n",
      "Successfully harvested and labelled 96 data.\n",
      "Begining training 14th/100 person.\n",
      "Epoch 1/10\n",
      "5/5 [==============================] - 89s 16s/step\n",
      "Loss : 0.9050731062889099\tRecall : 0.625\tPrecision : 0.5882353186607361\n",
      "Epoch 2/10\n",
      "5/5 [==============================] - 86s 17s/step\n",
      "Loss : 0.39794111251831055\tRecall : 0.7692307829856873\tPrecision : 0.7692307829856873\n",
      "Epoch 3/10\n",
      "5/5 [==============================] - 90s 18s/step\n",
      "Loss : 0.3659556210041046\tRecall : 0.7419354915618896\tPrecision : 0.6216216087341309\n",
      "Epoch 4/10\n",
      "5/5 [==============================] - 98s 19s/step\n",
      "Loss : 0.624993085861206\tRecall : 0.6176470518112183\tPrecision : 0.75\n",
      "Epoch 5/10\n",
      "5/5 [==============================] - 89s 18s/step\n",
      "Loss : 0.5583932995796204\tRecall : 0.8571428656578064\tPrecision : 0.6818181872367859\n",
      "Epoch 6/10\n",
      "5/5 [==============================] - 95s 20s/step\n",
      "Loss : 0.31221121549606323\tRecall : 0.65625\tPrecision : 0.8399999737739563\n",
      "Epoch 7/10\n",
      "5/5 [==============================] - 86s 15s/step\n",
      "Loss : 0.5031423568725586\tRecall : 0.7272727489471436\tPrecision : 0.8888888955116272\n",
      "Epoch 8/10\n",
      "5/5 [==============================] - 82s 16s/step\n",
      "Loss : 0.5581180453300476\tRecall : 0.8571428656578064\tPrecision : 0.8108108043670654\n",
      "Epoch 9/10\n",
      "5/5 [==============================] - 89s 16s/step\n",
      "Loss : 0.3868933618068695\tRecall : 0.8285714387893677\tPrecision : 0.8529411554336548\n",
      "Epoch 10/10\n",
      "5/5 [==============================] - 84s 17s/step\n",
      "Loss : 0.273764967918396\tRecall : 0.8999999761581421\tPrecision : 0.8709677457809448\n",
      "Training complete, saving embedding kernel.\n",
      "Successfully saved model at saved_model\\embedding_kernel.h5.\n",
      "Generating data variant with Gloria_Macapagal_Arroyo as anchor\n"
     ]
    },
    {
     "name": "stderr",
     "output_type": "stream",
     "text": [
      "100%|██████████| 5749/5749 [00:19<00:00, 294.17it/s]\n"
     ]
    },
    {
     "name": "stdout",
     "output_type": "stream",
     "text": [
      "[DEBUG] Finished data variant setup\n",
      "Preparing data augmentation from data\\var_anchor to data\\var_positive.\n"
     ]
    },
    {
     "name": "stderr",
     "output_type": "stream",
     "text": [
      "100%|██████████| 44/44 [00:00<00:00, 58.51it/s]\n"
     ]
    },
    {
     "name": "stdout",
     "output_type": "stream",
     "text": [
      "Successfully generated 88 new images through data augmentation.\n",
      "Preparing data augmentation from data\\var_anchor to data\\var_anchor.\n"
     ]
    },
    {
     "name": "stderr",
     "output_type": "stream",
     "text": [
      "100%|██████████| 44/44 [00:00<00:00, 105.77it/s]\n"
     ]
    },
    {
     "name": "stdout",
     "output_type": "stream",
     "text": [
      "Successfully generated 44 new images through data augmentation.\n",
      "Harvesting data from anchor data\\var_anchor, positive data\\var_positive and negative data\\var_negative folder.\n",
      "Anchor images availlable :\t88\n",
      "Positive images availlable :\t88\n",
      "Negative images availlable :\t12549\n",
      "Tuple harvested :\t\t88\n",
      "Labelling data\n",
      "Successfully harvested and labelled 88 data.\n",
      "Begining training 15th/100 person.\n",
      "Epoch 1/10\n",
      "4/4 [==============================] - 78s 20s/step\n",
      "Loss : 0.6436741948127747\tRecall : 0.375\tPrecision : 0.47999998927116394\n",
      "Epoch 2/10\n",
      "4/4 [==============================] - 70s 17s/step\n",
      "Loss : 0.6842280626296997\tRecall : 0.9354838728904724\tPrecision : 0.5370370149612427\n",
      "Epoch 3/10\n",
      "4/4 [==============================] - 88s 23s/step\n",
      "Loss : 0.7056035995483398\tRecall : 0.5483871102333069\tPrecision : 0.5666666626930237\n",
      "Epoch 4/10\n",
      "4/4 [==============================] - 70s 17s/step\n",
      "Loss : 0.6581929326057434\tRecall : 0.4615384638309479\tPrecision : 0.6315789222717285\n",
      "Epoch 5/10\n",
      "4/4 [==============================] - 75s 19s/step\n",
      "Loss : 0.682303249835968\tRecall : 0.3103448152542114\tPrecision : 0.8181818127632141\n",
      "Epoch 6/10\n",
      "4/4 [==============================] - 85s 21s/step\n",
      "Loss : 0.5527342557907104\tRecall : 0.37037035822868347\tPrecision : 0.625\n",
      "Epoch 7/10\n",
      "4/4 [==============================] - 94s 23s/step\n",
      "Loss : 0.6365422606468201\tRecall : 0.37037035822868347\tPrecision : 0.6666666865348816\n",
      "Epoch 8/10\n",
      "4/4 [==============================] - 80s 21s/step\n",
      "Loss : 0.6270326972007751\tRecall : 0.5517241358757019\tPrecision : 0.7272727489471436\n",
      "Epoch 9/10\n",
      "4/4 [==============================] - 89s 22s/step\n",
      "Loss : 0.6100408434867859\tRecall : 0.7333333492279053\tPrecision : 0.7586206793785095\n",
      "Epoch 10/10\n",
      "4/4 [==============================] - 85s 20s/step\n",
      "Loss : 0.655003547668457\tRecall : 0.6896551847457886\tPrecision : 0.8333333134651184\n",
      "Training complete, saving embedding kernel.\n",
      "Successfully saved model at saved_model\\embedding_kernel.h5.\n",
      "Generating data variant with Arnold_Schwarzenegger as anchor\n"
     ]
    },
    {
     "name": "stderr",
     "output_type": "stream",
     "text": [
      "100%|██████████| 5749/5749 [00:18<00:00, 310.49it/s]\n"
     ]
    },
    {
     "name": "stdout",
     "output_type": "stream",
     "text": [
      "[DEBUG] Finished data variant setup\n",
      "Preparing data augmentation from data\\var_anchor to data\\var_positive.\n"
     ]
    },
    {
     "name": "stderr",
     "output_type": "stream",
     "text": [
      "100%|██████████| 42/42 [00:00<00:00, 57.77it/s]\n"
     ]
    },
    {
     "name": "stdout",
     "output_type": "stream",
     "text": [
      "Successfully generated 84 new images through data augmentation.\n",
      "Preparing data augmentation from data\\var_anchor to data\\var_anchor.\n"
     ]
    },
    {
     "name": "stderr",
     "output_type": "stream",
     "text": [
      "100%|██████████| 42/42 [00:00<00:00, 112.90it/s]\n"
     ]
    },
    {
     "name": "stdout",
     "output_type": "stream",
     "text": [
      "Successfully generated 42 new images through data augmentation.\n",
      "Harvesting data from anchor data\\var_anchor, positive data\\var_positive and negative data\\var_negative folder.\n",
      "Anchor images availlable :\t84\n",
      "Positive images availlable :\t84\n",
      "Negative images availlable :\t12551\n",
      "Tuple harvested :\t\t84\n",
      "Labelling data\n",
      "Successfully harvested and labelled 84 data.\n",
      "Begining training 16th/100 person.\n",
      "Epoch 1/10\n",
      "4/4 [==============================] - 67s 17s/step\n",
      "Loss : 0.8807416558265686\tRecall : 0.4615384638309479\tPrecision : 0.6315789222717285\n",
      "Epoch 2/10\n",
      "4/4 [==============================] - 85s 22s/step\n",
      "Loss : 0.5773729085922241\tRecall : 0.6333333253860474\tPrecision : 0.5588235259056091\n",
      "Epoch 3/10\n",
      "4/4 [==============================] - 91s 22s/step\n",
      "Loss : 0.5476148128509521\tRecall : 0.7037037014961243\tPrecision : 0.5757575631141663\n",
      "Epoch 4/10\n",
      "4/4 [==============================] - 67s 16s/step\n",
      "Loss : 0.7532066106796265\tRecall : 0.35483869910240173\tPrecision : 0.6875\n",
      "Epoch 5/10\n",
      "4/4 [==============================] - 85s 20s/step\n",
      "Loss : 0.6452592611312866\tRecall : 0.5666666626930237\tPrecision : 0.8500000238418579\n",
      "Epoch 6/10\n",
      "4/4 [==============================] - 80s 18s/step\n",
      "Loss : 0.649879515171051\tRecall : 0.6875\tPrecision : 0.7333333492279053\n",
      "Epoch 7/10\n",
      "4/4 [==============================] - 78s 20s/step\n",
      "Loss : 0.6103357076644897\tRecall : 0.7352941036224365\tPrecision : 0.8333333134651184\n",
      "Epoch 8/10\n",
      "4/4 [==============================] - 82s 21s/step\n",
      "Loss : 0.5339229702949524\tRecall : 0.6428571343421936\tPrecision : 0.782608687877655\n",
      "Epoch 9/10\n",
      "4/4 [==============================] - 76s 19s/step\n",
      "Loss : 0.5169179439544678\tRecall : 0.7666666507720947\tPrecision : 0.8518518805503845\n",
      "Epoch 10/10\n",
      "4/4 [==============================] - 75s 20s/step\n",
      "Loss : 0.6196340322494507\tRecall : 0.7857142686843872\tPrecision : 0.8461538553237915\n",
      "Training complete, saving embedding kernel.\n",
      "Successfully saved model at saved_model\\embedding_kernel.h5.\n",
      "Generating data variant with Jennifer_Capriati as anchor\n"
     ]
    },
    {
     "name": "stderr",
     "output_type": "stream",
     "text": [
      "100%|██████████| 5749/5749 [00:17<00:00, 321.31it/s]\n"
     ]
    },
    {
     "name": "stdout",
     "output_type": "stream",
     "text": [
      "[DEBUG] Finished data variant setup\n",
      "Preparing data augmentation from data\\var_anchor to data\\var_positive.\n"
     ]
    },
    {
     "name": "stderr",
     "output_type": "stream",
     "text": [
      "100%|██████████| 42/42 [00:00<00:00, 54.76it/s]\n"
     ]
    },
    {
     "name": "stdout",
     "output_type": "stream",
     "text": [
      "Successfully generated 84 new images through data augmentation.\n",
      "Preparing data augmentation from data\\var_anchor to data\\var_anchor.\n"
     ]
    },
    {
     "name": "stderr",
     "output_type": "stream",
     "text": [
      "100%|██████████| 42/42 [00:00<00:00, 104.22it/s]\n"
     ]
    },
    {
     "name": "stdout",
     "output_type": "stream",
     "text": [
      "Successfully generated 42 new images through data augmentation.\n",
      "Harvesting data from anchor data\\var_anchor, positive data\\var_positive and negative data\\var_negative folder.\n",
      "Anchor images availlable :\t84\n",
      "Positive images availlable :\t84\n",
      "Negative images availlable :\t12551\n",
      "Tuple harvested :\t\t84\n",
      "Labelling data\n",
      "Successfully harvested and labelled 84 data.\n",
      "Begining training 17th/100 person.\n",
      "Epoch 1/10\n",
      "4/4 [==============================] - 72s 18s/step\n",
      "Loss : 0.7855022549629211\tRecall : 0.4516128897666931\tPrecision : 0.699999988079071\n",
      "Epoch 2/10\n",
      "4/4 [==============================] - 91s 22s/step\n",
      "Loss : 0.5450565814971924\tRecall : 0.625\tPrecision : 0.7407407164573669\n",
      "Epoch 3/10\n",
      "4/4 [==============================] - 90s 22s/step\n",
      "Loss : 0.7485414743423462\tRecall : 0.5\tPrecision : 0.8235294222831726\n",
      "Epoch 4/10\n",
      "4/4 [==============================] - 76s 19s/step\n",
      "Loss : 0.6308691501617432\tRecall : 0.6428571343421936\tPrecision : 0.8571428656578064\n",
      "Epoch 5/10\n",
      "4/4 [==============================] - 80s 18s/step\n",
      "Loss : 0.6042595505714417\tRecall : 0.7037037014961243\tPrecision : 0.8636363744735718\n",
      "Epoch 6/10\n",
      "4/4 [==============================] - 82s 20s/step\n",
      "Loss : 0.36884862184524536\tRecall : 0.6785714030265808\tPrecision : 0.9047619104385376\n",
      "Epoch 7/10\n",
      "4/4 [==============================] - 74s 18s/step\n",
      "Loss : 0.45437926054000854\tRecall : 0.7142857313156128\tPrecision : 0.8695651888847351\n",
      "Epoch 8/10\n",
      "4/4 [==============================] - 77s 20s/step\n",
      "Loss : 0.24764157831668854\tRecall : 0.84375\tPrecision : 0.931034505367279\n",
      "Epoch 9/10\n",
      "4/4 [==============================] - 84s 22s/step\n",
      "Loss : 0.22227807343006134\tRecall : 0.8620689511299133\tPrecision : 0.8620689511299133\n",
      "Epoch 10/10\n",
      "4/4 [==============================] - 83s 22s/step\n",
      "Loss : 0.29476213455200195\tRecall : 0.9599999785423279\tPrecision : 0.9230769276618958\n",
      "Training complete, saving embedding kernel.\n",
      "Successfully saved model at saved_model\\embedding_kernel.h5.\n",
      "Generating data variant with Laura_Bush as anchor\n"
     ]
    },
    {
     "name": "stderr",
     "output_type": "stream",
     "text": [
      "100%|██████████| 5749/5749 [00:19<00:00, 301.07it/s]\n"
     ]
    },
    {
     "name": "stdout",
     "output_type": "stream",
     "text": [
      "[DEBUG] Finished data variant setup\n",
      "Preparing data augmentation from data\\var_anchor to data\\var_positive.\n"
     ]
    },
    {
     "name": "stderr",
     "output_type": "stream",
     "text": [
      "100%|██████████| 41/41 [00:01<00:00, 27.66it/s]\n"
     ]
    },
    {
     "name": "stdout",
     "output_type": "stream",
     "text": [
      "Successfully generated 82 new images through data augmentation.\n",
      "Preparing data augmentation from data\\var_anchor to data\\var_anchor.\n"
     ]
    },
    {
     "name": "stderr",
     "output_type": "stream",
     "text": [
      "100%|██████████| 41/41 [00:00<00:00, 112.95it/s]\n"
     ]
    },
    {
     "name": "stdout",
     "output_type": "stream",
     "text": [
      "Successfully generated 41 new images through data augmentation.\n",
      "Harvesting data from anchor data\\var_anchor, positive data\\var_positive and negative data\\var_negative folder.\n",
      "Anchor images availlable :\t82\n",
      "Positive images availlable :\t82\n",
      "Negative images availlable :\t12552\n",
      "Tuple harvested :\t\t82\n",
      "Labelling data\n",
      "Successfully harvested and labelled 82 data.\n",
      "Begining training 18th/100 person.\n",
      "Epoch 1/10\n",
      "4/4 [==============================] - 71s 18s/step\n",
      "Loss : 0.4612855315208435\tRecall : 0.6296296119689941\tPrecision : 0.7727272510528564\n",
      "Epoch 2/10\n",
      "4/4 [==============================] - 86s 20s/step\n",
      "Loss : 0.7319561839103699\tRecall : 0.4838709533214569\tPrecision : 0.8333333134651184\n",
      "Epoch 3/10\n",
      "4/4 [==============================] - 73s 18s/step\n",
      "Loss : 0.8836142420768738\tRecall : 0.774193525314331\tPrecision : 0.8275862336158752\n",
      "Epoch 4/10\n",
      "4/4 [==============================] - 76s 20s/step\n",
      "Loss : 0.7225397825241089\tRecall : 0.7666666507720947\tPrecision : 0.8846153616905212\n",
      "Epoch 5/10\n",
      "4/4 [==============================] - 63s 15s/step\n",
      "Loss : 0.654532253742218\tRecall : 0.8461538553237915\tPrecision : 0.7857142686843872\n",
      "Epoch 6/10\n",
      "4/4 [==============================] - 77s 18s/step\n",
      "Loss : 0.29350993037223816\tRecall : 0.8695651888847351\tPrecision : 0.8333333134651184\n",
      "Epoch 7/10\n",
      "4/4 [==============================] - 71s 18s/step\n",
      "Loss : 0.3830093741416931\tRecall : 0.8620689511299133\tPrecision : 0.8620689511299133\n",
      "Epoch 8/10\n",
      "4/4 [==============================] - 70s 18s/step\n",
      "Loss : 0.24369516968727112\tRecall : 0.9285714030265808\tPrecision : 0.9285714030265808\n",
      "Epoch 9/10\n",
      "4/4 [==============================] - 81s 20s/step\n",
      "Loss : 0.15024134516716003\tRecall : 0.9285714030265808\tPrecision : 0.8666666746139526\n",
      "Epoch 10/10\n",
      "4/4 [==============================] - 67s 17s/step\n",
      "Loss : 0.3723589777946472\tRecall : 0.931034505367279\tPrecision : 0.931034505367279\n",
      "Training complete, saving embedding kernel.\n",
      "Successfully saved model at saved_model\\embedding_kernel.h5.\n",
      "Generating data variant with Lleyton_Hewitt as anchor\n"
     ]
    },
    {
     "name": "stderr",
     "output_type": "stream",
     "text": [
      "100%|██████████| 5749/5749 [00:19<00:00, 300.62it/s]\n"
     ]
    },
    {
     "name": "stdout",
     "output_type": "stream",
     "text": [
      "[DEBUG] Finished data variant setup\n",
      "Preparing data augmentation from data\\var_anchor to data\\var_positive.\n"
     ]
    },
    {
     "name": "stderr",
     "output_type": "stream",
     "text": [
      "100%|██████████| 41/41 [00:00<00:00, 60.03it/s]\n"
     ]
    },
    {
     "name": "stdout",
     "output_type": "stream",
     "text": [
      "Successfully generated 82 new images through data augmentation.\n",
      "Preparing data augmentation from data\\var_anchor to data\\var_anchor.\n"
     ]
    },
    {
     "name": "stderr",
     "output_type": "stream",
     "text": [
      "100%|██████████| 41/41 [00:00<00:00, 111.41it/s]\n"
     ]
    },
    {
     "name": "stdout",
     "output_type": "stream",
     "text": [
      "Successfully generated 41 new images through data augmentation.\n",
      "Harvesting data from anchor data\\var_anchor, positive data\\var_positive and negative data\\var_negative folder.\n",
      "Anchor images availlable :\t82\n",
      "Positive images availlable :\t82\n",
      "Negative images availlable :\t12552\n",
      "Tuple harvested :\t\t82\n",
      "Labelling data\n",
      "Successfully harvested and labelled 82 data.\n",
      "Begining training 19th/100 person.\n",
      "Epoch 1/10\n",
      "4/4 [==============================] - 78s 18s/step\n",
      "Loss : 1.2921640872955322\tRecall : 0.7083333134651184\tPrecision : 0.4722222089767456\n",
      "Epoch 2/10\n",
      "4/4 [==============================] - 72s 16s/step\n",
      "Loss : 0.7295398712158203\tRecall : 0.9629629850387573\tPrecision : 0.48148149251937866\n",
      "Epoch 3/10\n",
      "4/4 [==============================] - 66s 16s/step\n",
      "Loss : 0.645289421081543\tRecall : 0.78125\tPrecision : 0.6756756901741028\n",
      "Epoch 4/10\n",
      "4/4 [==============================] - 64s 16s/step\n",
      "Loss : 0.6022274494171143\tRecall : 0.7333333492279053\tPrecision : 0.7333333492279053\n",
      "Epoch 5/10\n",
      "4/4 [==============================] - 82s 19s/step\n",
      "Loss : 0.6722664833068848\tRecall : 0.7241379022598267\tPrecision : 0.875\n",
      "Epoch 6/10\n",
      "4/4 [==============================] - 72s 18s/step\n",
      "Loss : 0.48996439576148987\tRecall : 0.7037037014961243\tPrecision : 0.7599999904632568\n",
      "Epoch 7/10\n",
      "4/4 [==============================] - 75s 18s/step\n",
      "Loss : 0.4027189314365387\tRecall : 0.8666666746139526\tPrecision : 0.9285714030265808\n",
      "Epoch 8/10\n",
      "4/4 [==============================] - 75s 20s/step\n",
      "Loss : 0.505757212638855\tRecall : 0.8709677457809448\tPrecision : 0.8709677457809448\n",
      "Epoch 9/10\n",
      "4/4 [==============================] - 78s 18s/step\n",
      "Loss : 0.40301313996315\tRecall : 0.8214285969734192\tPrecision : 0.9200000166893005\n",
      "Epoch 10/10\n",
      "4/4 [==============================] - 63s 15s/step\n",
      "Loss : 0.4244197905063629\tRecall : 0.7931034564971924\tPrecision : 0.9583333134651184\n",
      "Training complete, saving embedding kernel.\n",
      "Successfully saved model at saved_model\\embedding_kernel.h5.\n",
      "Generating data variant with Alejandro_Toledo as anchor\n"
     ]
    },
    {
     "name": "stderr",
     "output_type": "stream",
     "text": [
      "100%|██████████| 5749/5749 [00:18<00:00, 310.09it/s]\n"
     ]
    },
    {
     "name": "stdout",
     "output_type": "stream",
     "text": [
      "[DEBUG] Finished data variant setup\n",
      "Preparing data augmentation from data\\var_anchor to data\\var_positive.\n"
     ]
    },
    {
     "name": "stderr",
     "output_type": "stream",
     "text": [
      "100%|██████████| 39/39 [00:01<00:00, 28.51it/s]\n"
     ]
    },
    {
     "name": "stdout",
     "output_type": "stream",
     "text": [
      "Successfully generated 78 new images through data augmentation.\n",
      "Preparing data augmentation from data\\var_anchor to data\\var_anchor.\n"
     ]
    },
    {
     "name": "stderr",
     "output_type": "stream",
     "text": [
      "100%|██████████| 39/39 [00:00<00:00, 116.07it/s]\n"
     ]
    },
    {
     "name": "stdout",
     "output_type": "stream",
     "text": [
      "Successfully generated 39 new images through data augmentation.\n",
      "Harvesting data from anchor data\\var_anchor, positive data\\var_positive and negative data\\var_negative folder.\n",
      "Anchor images availlable :\t78\n",
      "Positive images availlable :\t78\n",
      "Negative images availlable :\t12554\n",
      "Tuple harvested :\t\t78\n",
      "Labelling data\n",
      "Successfully harvested and labelled 78 data.\n",
      "Begining training 20th/100 person.\n",
      "Epoch 1/10\n",
      "4/4 [==============================] - 64s 14s/step\n",
      "Loss : 0.6896234750747681\tRecall : 0.23999999463558197\tPrecision : 0.4285714328289032\n",
      "Epoch 2/10\n",
      "4/4 [==============================] - 81s 19s/step\n",
      "Loss : 0.7437710762023926\tRecall : 0.25925925374031067\tPrecision : 0.7777777910232544\n",
      "Epoch 3/10\n",
      "4/4 [==============================] - 71s 18s/step\n",
      "Loss : 0.7208552360534668\tRecall : 0.5555555820465088\tPrecision : 0.5769230723381042\n",
      "Epoch 4/10\n",
      "4/4 [==============================] - 70s 15s/step\n",
      "Loss : 0.7347596883773804\tRecall : 0.8399999737739563\tPrecision : 0.5526315569877625\n",
      "Epoch 5/10\n",
      "4/4 [==============================] - 76s 19s/step\n",
      "Loss : 0.6832571625709534\tRecall : 0.5517241358757019\tPrecision : 0.7272727489471436\n",
      "Epoch 6/10\n",
      "4/4 [==============================] - 67s 15s/step\n",
      "Loss : 0.6449213027954102\tRecall : 0.42307692766189575\tPrecision : 0.7333333492279053\n",
      "Epoch 7/10\n",
      "4/4 [==============================] - 82s 19s/step\n",
      "Loss : 0.5700079202651978\tRecall : 0.5357142686843872\tPrecision : 0.75\n",
      "Epoch 8/10\n",
      "4/4 [==============================] - 71s 15s/step\n",
      "Loss : 0.6385094523429871\tRecall : 0.5833333134651184\tPrecision : 0.6666666865348816\n",
      "Epoch 9/10\n",
      "4/4 [==============================] - 77s 18s/step\n",
      "Loss : 0.6305976510047913\tRecall : 0.36000001430511475\tPrecision : 1.0\n",
      "Epoch 10/10\n",
      "4/4 [==============================] - 69s 15s/step\n",
      "Loss : 0.6197056770324707\tRecall : 0.5555555820465088\tPrecision : 1.0\n",
      "Training complete, saving embedding kernel.\n",
      "Successfully saved model at saved_model\\embedding_kernel.h5.\n",
      "Generating data variant with Hans_Blix as anchor\n"
     ]
    },
    {
     "name": "stderr",
     "output_type": "stream",
     "text": [
      "100%|██████████| 5749/5749 [00:18<00:00, 311.66it/s]\n"
     ]
    },
    {
     "name": "stdout",
     "output_type": "stream",
     "text": [
      "[DEBUG] Finished data variant setup\n",
      "Preparing data augmentation from data\\var_anchor to data\\var_positive.\n"
     ]
    },
    {
     "name": "stderr",
     "output_type": "stream",
     "text": [
      "100%|██████████| 39/39 [00:00<00:00, 58.91it/s]\n"
     ]
    },
    {
     "name": "stdout",
     "output_type": "stream",
     "text": [
      "Successfully generated 78 new images through data augmentation.\n",
      "Preparing data augmentation from data\\var_anchor to data\\var_anchor.\n"
     ]
    },
    {
     "name": "stderr",
     "output_type": "stream",
     "text": [
      "100%|██████████| 39/39 [00:01<00:00, 38.92it/s]\n"
     ]
    },
    {
     "name": "stdout",
     "output_type": "stream",
     "text": [
      "Successfully generated 39 new images through data augmentation.\n",
      "Harvesting data from anchor data\\var_anchor, positive data\\var_positive and negative data\\var_negative folder.\n",
      "Anchor images availlable :\t78\n",
      "Positive images availlable :\t78\n",
      "Negative images availlable :\t12554\n",
      "Tuple harvested :\t\t78\n",
      "Labelling data\n",
      "Successfully harvested and labelled 78 data.\n",
      "Begining training 21th/100 person.\n",
      "Epoch 1/10\n",
      "4/4 [==============================] - 86s 20s/step\n",
      "Loss : 0.7722368836402893\tRecall : 0.2857142984867096\tPrecision : 0.5333333611488342\n",
      "Epoch 2/10\n",
      "4/4 [==============================] - 84s 20s/step\n",
      "Loss : 0.7357813119888306\tRecall : 0.25806450843811035\tPrecision : 0.5714285969734192\n",
      "Epoch 3/10\n",
      "4/4 [==============================] - 83s 20s/step\n",
      "Loss : 0.6722275614738464\tRecall : 0.5\tPrecision : 0.7368420958518982\n",
      "Epoch 4/10\n",
      "4/4 [==============================] - 82s 19s/step\n",
      "Loss : 0.6759928464889526\tRecall : 0.3461538553237915\tPrecision : 0.692307710647583\n",
      "Epoch 5/10\n",
      "4/4 [==============================] - 74s 16s/step\n",
      "Loss : 0.572165310382843\tRecall : 0.8064516186714172\tPrecision : 0.7352941036224365\n",
      "Epoch 6/10\n",
      "4/4 [==============================] - 64s 16s/step\n",
      "Loss : 0.7003780007362366\tRecall : 0.9666666388511658\tPrecision : 0.7250000238418579\n",
      "Epoch 7/10\n",
      "4/4 [==============================] - 66s 16s/step\n",
      "Loss : 0.6250714063644409\tRecall : 0.7857142686843872\tPrecision : 0.7096773982048035\n",
      "Epoch 8/10\n",
      "4/4 [==============================] - 69s 17s/step\n",
      "Loss : 0.5272514224052429\tRecall : 0.8333333134651184\tPrecision : 0.8333333134651184\n",
      "Epoch 9/10\n",
      "4/4 [==============================] - 71s 15s/step\n",
      "Loss : 0.6583355665206909\tRecall : 0.8799999952316284\tPrecision : 0.8148148059844971\n",
      "Epoch 10/10\n",
      "4/4 [==============================] - 80s 19s/step\n",
      "Loss : 0.48217251896858215\tRecall : 0.8888888955116272\tPrecision : 0.8571428656578064\n",
      "Training complete, saving embedding kernel.\n",
      "Successfully saved model at saved_model\\embedding_kernel.h5.\n",
      "Generating data variant with Nestor_Kirchner as anchor\n"
     ]
    },
    {
     "name": "stderr",
     "output_type": "stream",
     "text": [
      "100%|██████████| 5749/5749 [00:17<00:00, 330.73it/s]\n"
     ]
    },
    {
     "name": "stdout",
     "output_type": "stream",
     "text": [
      "[DEBUG] Finished data variant setup\n",
      "Preparing data augmentation from data\\var_anchor to data\\var_positive.\n"
     ]
    },
    {
     "name": "stderr",
     "output_type": "stream",
     "text": [
      "100%|██████████| 37/37 [00:00<00:00, 53.55it/s]\n"
     ]
    },
    {
     "name": "stdout",
     "output_type": "stream",
     "text": [
      "Successfully generated 74 new images through data augmentation.\n",
      "Preparing data augmentation from data\\var_anchor to data\\var_anchor.\n"
     ]
    },
    {
     "name": "stderr",
     "output_type": "stream",
     "text": [
      "100%|██████████| 37/37 [00:00<00:00, 116.72it/s]\n"
     ]
    },
    {
     "name": "stdout",
     "output_type": "stream",
     "text": [
      "Successfully generated 37 new images through data augmentation.\n",
      "Harvesting data from anchor data\\var_anchor, positive data\\var_positive and negative data\\var_negative folder.\n",
      "Anchor images availlable :\t74\n",
      "Positive images availlable :\t74\n",
      "Negative images availlable :\t12556\n",
      "Tuple harvested :\t\t74\n",
      "Labelling data\n",
      "Successfully harvested and labelled 74 data.\n",
      "Begining training 22th/100 person.\n",
      "Epoch 1/10\n",
      "4/4 [==============================] - 74s 16s/step\n",
      "Loss : 0.8448477387428284\tRecall : 0.4399999976158142\tPrecision : 0.5\n",
      "Epoch 2/10\n",
      "4/4 [==============================] - 66s 17s/step\n",
      "Loss : 0.864822268486023\tRecall : 0.9166666865348816\tPrecision : 0.4680851101875305\n",
      "Epoch 3/10\n",
      "4/4 [==============================] - 71s 16s/step\n",
      "Loss : 0.6449721455574036\tRecall : 0.7083333134651184\tPrecision : 0.5666666626930237\n",
      "Epoch 4/10\n",
      "4/4 [==============================] - 73s 18s/step\n",
      "Loss : 0.7026666402816772\tRecall : 0.4838709533214569\tPrecision : 0.9375\n",
      "Epoch 5/10\n",
      "4/4 [==============================] - 64s 15s/step\n",
      "Loss : 0.6682745218276978\tRecall : 0.6521739363670349\tPrecision : 0.75\n",
      "Epoch 6/10\n",
      "4/4 [==============================] - 72s 16s/step\n",
      "Loss : 0.6988565921783447\tRecall : 0.4642857015132904\tPrecision : 0.8666666746139526\n",
      "Epoch 7/10\n",
      "4/4 [==============================] - 63s 16s/step\n",
      "Loss : 0.6906299591064453\tRecall : 0.6206896305084229\tPrecision : 0.782608687877655\n",
      "Epoch 8/10\n",
      "4/4 [==============================] - 71s 16s/step\n",
      "Loss : 0.6875913739204407\tRecall : 0.6399999856948853\tPrecision : 0.7272727489471436\n",
      "Epoch 9/10\n",
      "4/4 [==============================] - 59s 14s/step\n",
      "Loss : 0.6674309968948364\tRecall : 0.6538461446762085\tPrecision : 0.7727272510528564\n",
      "Epoch 10/10\n",
      "4/4 [==============================] - 72s 16s/step\n",
      "Loss : 0.6712781190872192\tRecall : 0.7857142686843872\tPrecision : 0.7857142686843872\n",
      "Training complete, saving embedding kernel.\n",
      "Successfully saved model at saved_model\\embedding_kernel.h5.\n",
      "Generating data variant with Andre_Agassi as anchor\n"
     ]
    },
    {
     "name": "stderr",
     "output_type": "stream",
     "text": [
      "100%|██████████| 5749/5749 [00:18<00:00, 308.24it/s]\n"
     ]
    },
    {
     "name": "stdout",
     "output_type": "stream",
     "text": [
      "[DEBUG] Finished data variant setup\n",
      "Preparing data augmentation from data\\var_anchor to data\\var_positive.\n"
     ]
    },
    {
     "name": "stderr",
     "output_type": "stream",
     "text": [
      "100%|██████████| 36/36 [00:00<00:00, 53.02it/s]\n"
     ]
    },
    {
     "name": "stdout",
     "output_type": "stream",
     "text": [
      "Successfully generated 72 new images through data augmentation.\n",
      "Preparing data augmentation from data\\var_anchor to data\\var_anchor.\n"
     ]
    },
    {
     "name": "stderr",
     "output_type": "stream",
     "text": [
      "100%|██████████| 36/36 [00:00<00:00, 101.41it/s]\n"
     ]
    },
    {
     "name": "stdout",
     "output_type": "stream",
     "text": [
      "Successfully generated 36 new images through data augmentation.\n",
      "Harvesting data from anchor data\\var_anchor, positive data\\var_positive and negative data\\var_negative folder.\n",
      "Anchor images availlable :\t72\n",
      "Positive images availlable :\t72\n",
      "Negative images availlable :\t12557\n",
      "Tuple harvested :\t\t72\n",
      "Labelling data\n",
      "Successfully harvested and labelled 72 data.\n",
      "Begining training 23th/100 person.\n",
      "Epoch 1/10\n",
      "4/4 [==============================] - 66s 16s/step\n",
      "Loss : 0.6817930340766907\tRecall : 0.5416666865348816\tPrecision : 0.4642857015132904\n",
      "Epoch 2/10\n",
      "4/4 [==============================] - 72s 18s/step\n",
      "Loss : 0.7836756706237793\tRecall : 0.6000000238418579\tPrecision : 0.5357142686843872\n",
      "Epoch 3/10\n",
      "4/4 [==============================] - 65s 14s/step\n",
      "Loss : 0.683790922164917\tRecall : 0.7586206793785095\tPrecision : 0.6470588445663452\n",
      "Epoch 4/10\n",
      "4/4 [==============================] - 64s 16s/step\n",
      "Loss : 0.7070205211639404\tRecall : 0.9615384340286255\tPrecision : 0.5102040767669678\n",
      "Epoch 5/10\n",
      "4/4 [==============================] - 59s 13s/step\n",
      "Loss : 0.6491473317146301\tRecall : 1.0\tPrecision : 0.4399999976158142\n",
      "Epoch 6/10\n",
      "4/4 [==============================] - 69s 15s/step\n",
      "Loss : 0.6591961979866028\tRecall : 1.0\tPrecision : 0.5625\n",
      "Epoch 7/10\n",
      "4/4 [==============================] - 60s 14s/step\n",
      "Loss : 0.6184377670288086\tRecall : 1.0\tPrecision : 0.6078431606292725\n",
      "Epoch 8/10\n",
      "4/4 [==============================] - 71s 18s/step\n",
      "Loss : 0.6757133603096008\tRecall : 1.0\tPrecision : 0.47058823704719543\n",
      "Epoch 9/10\n",
      "4/4 [==============================] - 59s 14s/step\n",
      "Loss : 0.573223352432251\tRecall : 1.0\tPrecision : 0.47058823704719543\n",
      "Epoch 10/10\n",
      "4/4 [==============================] - 59s 14s/step\n",
      "Loss : 0.7063998579978943\tRecall : 1.0\tPrecision : 0.4901960790157318\n",
      "Training complete, saving embedding kernel.\n",
      "Successfully saved model at saved_model\\embedding_kernel.h5.\n",
      "Generating data variant with Alvaro_Uribe as anchor\n"
     ]
    },
    {
     "name": "stderr",
     "output_type": "stream",
     "text": [
      "100%|██████████| 5749/5749 [00:19<00:00, 294.71it/s]\n"
     ]
    },
    {
     "name": "stdout",
     "output_type": "stream",
     "text": [
      "[DEBUG] Finished data variant setup\n",
      "Preparing data augmentation from data\\var_anchor to data\\var_positive.\n"
     ]
    },
    {
     "name": "stderr",
     "output_type": "stream",
     "text": [
      "100%|██████████| 35/35 [00:00<00:00, 58.92it/s]\n"
     ]
    },
    {
     "name": "stdout",
     "output_type": "stream",
     "text": [
      "Successfully generated 70 new images through data augmentation.\n",
      "Preparing data augmentation from data\\var_anchor to data\\var_anchor.\n"
     ]
    },
    {
     "name": "stderr",
     "output_type": "stream",
     "text": [
      "100%|██████████| 35/35 [00:00<00:00, 116.67it/s]\n"
     ]
    },
    {
     "name": "stdout",
     "output_type": "stream",
     "text": [
      "Successfully generated 35 new images through data augmentation.\n",
      "Harvesting data from anchor data\\var_anchor, positive data\\var_positive and negative data\\var_negative folder.\n",
      "Anchor images availlable :\t70\n",
      "Positive images availlable :\t70\n",
      "Negative images availlable :\t12558\n",
      "Tuple harvested :\t\t70\n",
      "Labelling data\n",
      "Successfully harvested and labelled 70 data.\n",
      "Begining training 24th/100 person.\n",
      "Epoch 1/10\n",
      "4/4 [==============================] - 71s 18s/step\n",
      "Loss : 0.6463128924369812\tRecall : 1.0\tPrecision : 0.46000000834465027\n",
      "Epoch 2/10\n",
      "4/4 [==============================] - 64s 15s/step\n",
      "Loss : 0.6188333034515381\tRecall : 1.0\tPrecision : 0.5199999809265137\n",
      "Epoch 3/10\n",
      "4/4 [==============================] - 64s 13s/step\n",
      "Loss : 0.8163453340530396\tRecall : 1.0\tPrecision : 0.46000000834465027\n",
      "Epoch 4/10\n",
      "4/4 [==============================] - 62s 13s/step\n",
      "Loss : 0.6612500548362732\tRecall : 1.0\tPrecision : 0.4000000059604645\n",
      "Epoch 5/10\n",
      "4/4 [==============================] - 65s 15s/step\n",
      "Loss : 0.6770901679992676\tRecall : 1.0\tPrecision : 0.5199999809265137\n",
      "Epoch 6/10\n",
      "4/4 [==============================] - 57s 13s/step\n",
      "Loss : 0.7245292067527771\tRecall : 1.0\tPrecision : 0.5\n",
      "Epoch 7/10\n",
      "4/4 [==============================] - 67s 17s/step\n",
      "Loss : 0.7113739848136902\tRecall : 1.0\tPrecision : 0.5199999809265137\n",
      "Epoch 8/10\n",
      "4/4 [==============================] - 74s 17s/step\n",
      "Loss : 0.6887689828872681\tRecall : 1.0\tPrecision : 0.5400000214576721\n",
      "Epoch 9/10\n",
      "4/4 [==============================] - 68s 15s/step\n",
      "Loss : 0.6743446588516235\tRecall : 1.0\tPrecision : 0.5\n",
      "Epoch 10/10\n",
      "4/4 [==============================] - 70s 18s/step\n",
      "Loss : 0.7163009643554688\tRecall : 1.0\tPrecision : 0.5\n",
      "Training complete, saving embedding kernel.\n",
      "Successfully saved model at saved_model\\embedding_kernel.h5.\n",
      "Generating data variant with Megawati_Sukarnoputri as anchor\n"
     ]
    },
    {
     "name": "stderr",
     "output_type": "stream",
     "text": [
      "100%|██████████| 5749/5749 [00:17<00:00, 322.01it/s]\n"
     ]
    },
    {
     "name": "stdout",
     "output_type": "stream",
     "text": [
      "[DEBUG] Finished data variant setup\n",
      "Preparing data augmentation from data\\var_anchor to data\\var_positive.\n"
     ]
    },
    {
     "name": "stderr",
     "output_type": "stream",
     "text": [
      "100%|██████████| 33/33 [00:01<00:00, 27.61it/s]\n"
     ]
    },
    {
     "name": "stdout",
     "output_type": "stream",
     "text": [
      "Successfully generated 66 new images through data augmentation.\n",
      "Preparing data augmentation from data\\var_anchor to data\\var_anchor.\n"
     ]
    },
    {
     "name": "stderr",
     "output_type": "stream",
     "text": [
      "100%|██████████| 33/33 [00:00<00:00, 104.43it/s]\n"
     ]
    },
    {
     "name": "stdout",
     "output_type": "stream",
     "text": [
      "Successfully generated 33 new images through data augmentation.\n",
      "Harvesting data from anchor data\\var_anchor, positive data\\var_positive and negative data\\var_negative folder.\n",
      "Anchor images availlable :\t66\n",
      "Positive images availlable :\t66\n",
      "Negative images availlable :\t12560\n",
      "Tuple harvested :\t\t66\n",
      "Labelling data\n",
      "Successfully harvested and labelled 66 data.\n",
      "Begining training 25th/100 person.\n",
      "Epoch 1/10\n",
      "3/3 [==============================] - 66s 24s/step\n",
      "Loss : 0.6964520812034607\tRecall : 0.9200000166893005\tPrecision : 0.5227272510528564\n",
      "Epoch 2/10\n",
      "3/3 [==============================] - 60s 17s/step\n",
      "Loss : 0.6934896111488342\tRecall : 0.7894737124443054\tPrecision : 0.375\n",
      "Epoch 3/10\n",
      "3/3 [==============================] - 60s 21s/step\n",
      "Loss : 0.6891100406646729\tRecall : 0.800000011920929\tPrecision : 0.5128205418586731\n",
      "Epoch 4/10\n",
      "3/3 [==============================] - 63s 21s/step\n",
      "Loss : 0.6960894465446472\tRecall : 0.9200000166893005\tPrecision : 0.5348837375640869\n",
      "Epoch 5/10\n",
      "3/3 [==============================] - 58s 20s/step\n",
      "Loss : 0.6894877552986145\tRecall : 1.0\tPrecision : 0.52173912525177\n",
      "Epoch 6/10\n",
      "3/3 [==============================] - 64s 23s/step\n",
      "Loss : 0.6859419345855713\tRecall : 1.0\tPrecision : 0.47826087474823\n",
      "Epoch 7/10\n",
      "3/3 [==============================] - 73s 24s/step\n",
      "Loss : 0.7017079591751099\tRecall : 1.0\tPrecision : 0.44680851697921753\n",
      "Epoch 8/10\n",
      "3/3 [==============================] - 60s 19s/step\n",
      "Loss : 0.7000442743301392\tRecall : 1.0\tPrecision : 0.44680851697921753\n",
      "Epoch 9/10\n",
      "3/3 [==============================] - 58s 17s/step\n",
      "Loss : 0.6931840181350708\tRecall : 1.0\tPrecision : 0.4680851101875305\n",
      "Epoch 10/10\n",
      "3/3 [==============================] - 55s 17s/step\n",
      "Loss : 0.6545366048812866\tRecall : 1.0\tPrecision : 0.5319148898124695\n",
      "Training complete, saving embedding kernel.\n",
      "Successfully saved model at saved_model\\embedding_kernel.h5.\n",
      "Generating data variant with Silvio_Berlusconi as anchor\n"
     ]
    },
    {
     "name": "stderr",
     "output_type": "stream",
     "text": [
      "100%|██████████| 5749/5749 [00:17<00:00, 325.29it/s]\n"
     ]
    },
    {
     "name": "stdout",
     "output_type": "stream",
     "text": [
      "[DEBUG] Finished data variant setup\n",
      "Preparing data augmentation from data\\var_anchor to data\\var_positive.\n"
     ]
    },
    {
     "name": "stderr",
     "output_type": "stream",
     "text": [
      "100%|██████████| 33/33 [00:00<00:00, 57.39it/s]\n"
     ]
    },
    {
     "name": "stdout",
     "output_type": "stream",
     "text": [
      "Successfully generated 66 new images through data augmentation.\n",
      "Preparing data augmentation from data\\var_anchor to data\\var_anchor.\n"
     ]
    },
    {
     "name": "stderr",
     "output_type": "stream",
     "text": [
      "100%|██████████| 33/33 [00:00<00:00, 107.14it/s]\n"
     ]
    },
    {
     "name": "stdout",
     "output_type": "stream",
     "text": [
      "Successfully generated 33 new images through data augmentation.\n",
      "Harvesting data from anchor data\\var_anchor, positive data\\var_positive and negative data\\var_negative folder.\n",
      "Anchor images availlable :\t66\n",
      "Positive images availlable :\t66\n",
      "Negative images availlable :\t12560\n",
      "Tuple harvested :\t\t66\n",
      "Labelling data\n",
      "Successfully harvested and labelled 66 data.\n",
      "Begining training 26th/100 person.\n",
      "Epoch 1/10\n",
      "3/3 [==============================] - 68s 23s/step\n",
      "Loss : 0.6920545101165771\tRecall : 1.0\tPrecision : 0.4680851101875305\n",
      "Epoch 2/10\n",
      "3/3 [==============================] - 71s 23s/step\n",
      "Loss : 0.6872493624687195\tRecall : 1.0\tPrecision : 0.5106382966041565\n",
      "Epoch 3/10\n",
      "3/3 [==============================] - 56s 17s/step\n",
      "Loss : 0.6942680478096008\tRecall : 1.0\tPrecision : 0.4680851101875305\n",
      "Epoch 4/10\n",
      "3/3 [==============================] - 64s 23s/step\n",
      "Loss : 0.6918705105781555\tRecall : 1.0\tPrecision : 0.4680851101875305\n",
      "Epoch 5/10\n",
      "3/3 [==============================] - 64s 21s/step\n",
      "Loss : 0.6968191862106323\tRecall : 1.0\tPrecision : 0.4893617033958435\n",
      "Epoch 6/10\n",
      "3/3 [==============================] - 64s 23s/step\n",
      "Loss : 0.6907144784927368\tRecall : 1.0\tPrecision : 0.5744680762290955\n",
      "Epoch 7/10\n",
      "3/3 [==============================] - 58s 17s/step\n",
      "Loss : 0.6933351159095764\tRecall : 1.0\tPrecision : 0.5106382966041565\n",
      "Epoch 8/10\n",
      "3/3 [==============================] - 64s 19s/step\n",
      "Loss : 0.6935796141624451\tRecall : 1.0\tPrecision : 0.38297873735427856\n",
      "Epoch 9/10\n",
      "3/3 [==============================] - 61s 21s/step\n",
      "Loss : 0.6916418671607971\tRecall : 0.949999988079071\tPrecision : 0.5\n",
      "Epoch 10/10\n",
      "3/3 [==============================] - 59s 21s/step\n",
      "Loss : 0.6899288296699524\tRecall : 0.692307710647583\tPrecision : 0.6428571343421936\n",
      "Training complete, saving embedding kernel.\n",
      "Successfully saved model at saved_model\\embedding_kernel.h5.\n",
      "Generating data variant with Tom_Ridge as anchor\n"
     ]
    },
    {
     "name": "stderr",
     "output_type": "stream",
     "text": [
      "100%|██████████| 5749/5749 [00:17<00:00, 320.32it/s]\n"
     ]
    },
    {
     "name": "stdout",
     "output_type": "stream",
     "text": [
      "[DEBUG] Finished data variant setup\n",
      "Preparing data augmentation from data\\var_anchor to data\\var_positive.\n"
     ]
    },
    {
     "name": "stderr",
     "output_type": "stream",
     "text": [
      "100%|██████████| 33/33 [00:00<00:00, 56.70it/s]\n"
     ]
    },
    {
     "name": "stdout",
     "output_type": "stream",
     "text": [
      "Successfully generated 66 new images through data augmentation.\n",
      "Preparing data augmentation from data\\var_anchor to data\\var_anchor.\n"
     ]
    },
    {
     "name": "stderr",
     "output_type": "stream",
     "text": [
      "100%|██████████| 33/33 [00:00<00:00, 110.00it/s]\n"
     ]
    },
    {
     "name": "stdout",
     "output_type": "stream",
     "text": [
      "Successfully generated 33 new images through data augmentation.\n",
      "Harvesting data from anchor data\\var_anchor, positive data\\var_positive and negative data\\var_negative folder.\n",
      "Anchor images availlable :\t66\n",
      "Positive images availlable :\t66\n",
      "Negative images availlable :\t12560\n",
      "Tuple harvested :\t\t66\n",
      "Labelling data\n",
      "Successfully harvested and labelled 66 data.\n",
      "Begining training 27th/100 person.\n",
      "Epoch 1/10\n",
      "3/3 [==============================] - 61s 21s/step\n",
      "Loss : 0.6884989142417908\tRecall : 0.739130437374115\tPrecision : 0.5862069129943848\n",
      "Epoch 2/10\n",
      "3/3 [==============================] - 52s 17s/step\n",
      "Loss : 0.6827635169029236\tRecall : 0.8695651888847351\tPrecision : 0.6666666865348816\n",
      "Epoch 3/10\n",
      "3/3 [==============================] - 52s 17s/step\n",
      "Loss : 0.6795982718467712\tRecall : 0.6086956262588501\tPrecision : 0.7368420958518982\n",
      "Epoch 4/10\n",
      "3/3 [==============================] - 52s 17s/step\n",
      "Loss : 0.6863396763801575\tRecall : 0.21739129722118378\tPrecision : 0.625\n",
      "Epoch 5/10\n",
      "3/3 [==============================] - 62s 21s/step\n",
      "Loss : 0.6682347059249878\tRecall : 0.1538461595773697\tPrecision : 0.6666666865348816\n",
      "Epoch 6/10\n",
      "3/3 [==============================] - 52s 17s/step\n",
      "Loss : 0.6754969358444214\tRecall : 0.0\tPrecision : 0.0\n",
      "Epoch 7/10\n",
      "3/3 [==============================] - 59s 20s/step\n",
      "Loss : 0.617502748966217\tRecall : 0.0\tPrecision : 0.0\n",
      "Epoch 8/10\n",
      "3/3 [==============================] - 52s 17s/step\n",
      "Loss : 0.6292879581451416\tRecall : 0.0476190485060215\tPrecision : 0.5\n",
      "Epoch 9/10\n",
      "3/3 [==============================] - 60s 21s/step\n",
      "Loss : 0.6730883121490479\tRecall : 0.0\tPrecision : 0.0\n",
      "Epoch 10/10\n",
      "3/3 [==============================] - 64s 24s/step\n",
      "Loss : 0.6089764833450317\tRecall : 0.0\tPrecision : 0.0\n",
      "Training complete, saving embedding kernel.\n",
      "Successfully saved model at saved_model\\embedding_kernel.h5.\n",
      "Generating data variant with Kofi_Annan as anchor\n"
     ]
    },
    {
     "name": "stderr",
     "output_type": "stream",
     "text": [
      "100%|██████████| 5749/5749 [00:19<00:00, 299.82it/s]\n"
     ]
    },
    {
     "name": "stdout",
     "output_type": "stream",
     "text": [
      "[DEBUG] Finished data variant setup\n",
      "Preparing data augmentation from data\\var_anchor to data\\var_positive.\n"
     ]
    },
    {
     "name": "stderr",
     "output_type": "stream",
     "text": [
      "100%|██████████| 32/32 [00:00<00:00, 56.34it/s]\n"
     ]
    },
    {
     "name": "stdout",
     "output_type": "stream",
     "text": [
      "Successfully generated 64 new images through data augmentation.\n",
      "Preparing data augmentation from data\\var_anchor to data\\var_anchor.\n"
     ]
    },
    {
     "name": "stderr",
     "output_type": "stream",
     "text": [
      "100%|██████████| 32/32 [00:00<00:00, 106.66it/s]\n"
     ]
    },
    {
     "name": "stdout",
     "output_type": "stream",
     "text": [
      "Successfully generated 32 new images through data augmentation.\n",
      "Harvesting data from anchor data\\var_anchor, positive data\\var_positive and negative data\\var_negative folder.\n",
      "Anchor images availlable :\t64\n",
      "Positive images availlable :\t64\n",
      "Negative images availlable :\t12561\n",
      "Tuple harvested :\t\t64\n",
      "Labelling data\n",
      "Successfully harvested and labelled 64 data.\n",
      "Begining training 28th/100 person.\n",
      "Epoch 1/10\n",
      "3/3 [==============================] - 71s 23s/step\n",
      "Loss : 0.6998955607414246\tRecall : 0.0\tPrecision : 0.0\n",
      "Epoch 2/10\n",
      "3/3 [==============================] - 72s 23s/step\n",
      "Loss : 0.626771867275238\tRecall : 0.0\tPrecision : 0.0\n",
      "Epoch 3/10\n",
      "3/3 [==============================] - 53s 17s/step\n",
      "Loss : 0.6725984811782837\tRecall : 0.04545454680919647\tPrecision : 1.0\n",
      "Epoch 4/10\n",
      "3/3 [==============================] - 53s 17s/step\n",
      "Loss : 0.6866054534912109\tRecall : 0.0\tPrecision : 0.0\n",
      "Epoch 5/10\n",
      "3/3 [==============================] - 50s 16s/step\n",
      "Loss : 0.5322047472000122\tRecall : 0.0\tPrecision : 0.0\n",
      "Epoch 6/10\n",
      "3/3 [==============================] - 64s 23s/step\n",
      "Loss : 0.5485531687736511\tRecall : 0.0\tPrecision : 0.0\n",
      "Epoch 7/10\n",
      "3/3 [==============================] - 68s 22s/step\n",
      "Loss : 0.59762042760849\tRecall : 0.043478261679410934\tPrecision : 1.0\n",
      "Epoch 8/10\n",
      "3/3 [==============================] - 52s 17s/step\n",
      "Loss : 0.5514267683029175\tRecall : 0.1428571492433548\tPrecision : 1.0\n",
      "Epoch 9/10\n",
      "3/3 [==============================] - 59s 17s/step\n",
      "Loss : 0.5542932748794556\tRecall : 0.0\tPrecision : 0.0\n",
      "Epoch 10/10\n",
      "3/3 [==============================] - 58s 20s/step\n",
      "Loss : 0.7067864537239075\tRecall : 0.0476190485060215\tPrecision : 1.0\n",
      "Training complete, saving embedding kernel.\n",
      "Successfully saved model at saved_model\\embedding_kernel.h5.\n",
      "Generating data variant with Roh_Moo-hyun as anchor\n"
     ]
    },
    {
     "name": "stderr",
     "output_type": "stream",
     "text": [
      "100%|██████████| 5749/5749 [00:19<00:00, 296.51it/s]\n"
     ]
    },
    {
     "name": "stdout",
     "output_type": "stream",
     "text": [
      "[DEBUG] Finished data variant setup\n",
      "Preparing data augmentation from data\\var_anchor to data\\var_positive.\n"
     ]
    },
    {
     "name": "stderr",
     "output_type": "stream",
     "text": [
      "100%|██████████| 32/32 [00:00<00:00, 50.95it/s]\n"
     ]
    },
    {
     "name": "stdout",
     "output_type": "stream",
     "text": [
      "Successfully generated 64 new images through data augmentation.\n",
      "Preparing data augmentation from data\\var_anchor to data\\var_anchor.\n"
     ]
    },
    {
     "name": "stderr",
     "output_type": "stream",
     "text": [
      "100%|██████████| 32/32 [00:00<00:00, 100.31it/s]\n"
     ]
    },
    {
     "name": "stdout",
     "output_type": "stream",
     "text": [
      "Successfully generated 32 new images through data augmentation.\n",
      "Harvesting data from anchor data\\var_anchor, positive data\\var_positive and negative data\\var_negative folder.\n",
      "Anchor images availlable :\t64\n",
      "Positive images availlable :\t64\n",
      "Negative images availlable :\t12561\n",
      "Tuple harvested :\t\t64\n",
      "Labelling data\n",
      "Successfully harvested and labelled 64 data.\n",
      "Begining training 29th/100 person.\n",
      "Epoch 1/10\n",
      "3/3 [==============================] - 63s 19s/step\n",
      "Loss : 0.675460696220398\tRecall : 0.08695652335882187\tPrecision : 1.0\n",
      "Epoch 2/10\n",
      "3/3 [==============================] - 70s 22s/step\n",
      "Loss : 0.6642268896102905\tRecall : 0.30434781312942505\tPrecision : 0.5\n",
      "Epoch 3/10\n",
      "3/3 [==============================] - 58s 20s/step\n",
      "Loss : 0.6812669038772583\tRecall : 0.695652186870575\tPrecision : 0.5517241358757019\n",
      "Epoch 4/10\n",
      "3/3 [==============================] - 63s 22s/step\n",
      "Loss : 0.688494861125946\tRecall : 0.6153846383094788\tPrecision : 0.6666666865348816\n",
      "Epoch 5/10\n",
      "3/3 [==============================] - 53s 17s/step\n",
      "Loss : 0.6872464418411255\tRecall : 0.3499999940395355\tPrecision : 0.5384615659713745\n",
      "Epoch 6/10\n",
      "3/3 [==============================] - 55s 17s/step\n",
      "Loss : 0.6729072332382202\tRecall : 0.1304347813129425\tPrecision : 0.75\n",
      "Epoch 7/10\n",
      "3/3 [==============================] - 60s 18s/step\n",
      "Loss : 0.6951825022697449\tRecall : 0.03703703731298447\tPrecision : 0.5\n",
      "Epoch 8/10\n",
      "3/3 [==============================] - 65s 22s/step\n",
      "Loss : 0.5812332034111023\tRecall : 0.043478261679410934\tPrecision : 0.5\n",
      "Epoch 9/10\n",
      "3/3 [==============================] - 56s 19s/step\n",
      "Loss : 0.5440572500228882\tRecall : 0.05263157933950424\tPrecision : 1.0\n",
      "Epoch 10/10\n",
      "3/3 [==============================] - 51s 18s/step\n",
      "Loss : 0.6996150612831116\tRecall : 0.03999999910593033\tPrecision : 1.0\n",
      "Training complete, saving embedding kernel.\n",
      "Successfully saved model at saved_model\\embedding_kernel.h5.\n",
      "Generating data variant with Vicente_Fox as anchor\n"
     ]
    },
    {
     "name": "stderr",
     "output_type": "stream",
     "text": [
      "100%|██████████| 5749/5749 [00:18<00:00, 316.56it/s]\n"
     ]
    },
    {
     "name": "stdout",
     "output_type": "stream",
     "text": [
      "[DEBUG] Finished data variant setup\n",
      "Preparing data augmentation from data\\var_anchor to data\\var_positive.\n"
     ]
    },
    {
     "name": "stderr",
     "output_type": "stream",
     "text": [
      "100%|██████████| 32/32 [00:00<00:00, 57.14it/s]\n"
     ]
    },
    {
     "name": "stdout",
     "output_type": "stream",
     "text": [
      "Successfully generated 64 new images through data augmentation.\n",
      "Preparing data augmentation from data\\var_anchor to data\\var_anchor.\n"
     ]
    },
    {
     "name": "stderr",
     "output_type": "stream",
     "text": [
      "100%|██████████| 32/32 [00:00<00:00, 114.28it/s]\n"
     ]
    },
    {
     "name": "stdout",
     "output_type": "stream",
     "text": [
      "Successfully generated 32 new images through data augmentation.\n",
      "Harvesting data from anchor data\\var_anchor, positive data\\var_positive and negative data\\var_negative folder.\n",
      "Anchor images availlable :\t64\n",
      "Positive images availlable :\t64\n",
      "Negative images availlable :\t12561\n",
      "Tuple harvested :\t\t64\n",
      "Labelling data\n",
      "Successfully harvested and labelled 64 data.\n",
      "Begining training 30th/100 person.\n",
      "Epoch 1/10\n",
      "3/3 [==============================] - 58s 19s/step\n",
      "Loss : 0.6831414103507996\tRecall : 0.2916666567325592\tPrecision : 0.6363636255264282\n",
      "Epoch 2/10\n",
      "3/3 [==============================] - 52s 17s/step\n",
      "Loss : 0.687393844127655\tRecall : 0.6666666865348816\tPrecision : 0.48275861144065857\n",
      "Epoch 3/10\n",
      "3/3 [==============================] - 51s 17s/step\n",
      "Loss : 0.6897954940795898\tRecall : 0.699999988079071\tPrecision : 0.5\n",
      "Epoch 4/10\n",
      "3/3 [==============================] - 52s 17s/step\n",
      "Loss : 0.6942676901817322\tRecall : 0.6000000238418579\tPrecision : 0.517241358757019\n",
      "Epoch 5/10\n",
      "3/3 [==============================] - 59s 17s/step\n",
      "Loss : 0.6904779076576233\tRecall : 0.6521739363670349\tPrecision : 0.625\n",
      "Epoch 6/10\n",
      "3/3 [==============================] - 63s 20s/step\n",
      "Loss : 0.6964953541755676\tRecall : 0.6363636255264282\tPrecision : 0.48275861144065857\n",
      "Epoch 7/10\n",
      "3/3 [==============================] - 52s 17s/step\n",
      "Loss : 0.6914923787117004\tRecall : 0.6521739363670349\tPrecision : 0.5\n",
      "Epoch 8/10\n",
      "3/3 [==============================] - 59s 20s/step\n",
      "Loss : 0.6945165395736694\tRecall : 0.550000011920929\tPrecision : 0.47826087474823\n",
      "Epoch 9/10\n",
      "3/3 [==============================] - 53s 18s/step\n",
      "Loss : 0.6958321928977966\tRecall : 0.5\tPrecision : 0.6111111044883728\n",
      "Epoch 10/10\n",
      "3/3 [==============================] - 51s 17s/step\n",
      "Loss : 0.6979089379310608\tRecall : 0.3478260934352875\tPrecision : 0.7272727489471436\n",
      "Training complete, saving embedding kernel.\n",
      "Successfully saved model at saved_model\\embedding_kernel.h5.\n",
      "Generating data variant with David_Beckham as anchor\n"
     ]
    },
    {
     "name": "stderr",
     "output_type": "stream",
     "text": [
      "100%|██████████| 5749/5749 [00:18<00:00, 304.37it/s]\n"
     ]
    },
    {
     "name": "stdout",
     "output_type": "stream",
     "text": [
      "[DEBUG] Finished data variant setup\n",
      "Preparing data augmentation from data\\var_anchor to data\\var_positive.\n"
     ]
    },
    {
     "name": "stderr",
     "output_type": "stream",
     "text": [
      "100%|██████████| 31/31 [00:00<00:00, 59.62it/s]\n"
     ]
    },
    {
     "name": "stdout",
     "output_type": "stream",
     "text": [
      "Successfully generated 62 new images through data augmentation.\n",
      "Preparing data augmentation from data\\var_anchor to data\\var_anchor.\n"
     ]
    },
    {
     "name": "stderr",
     "output_type": "stream",
     "text": [
      "100%|██████████| 31/31 [00:00<00:00, 106.52it/s]\n"
     ]
    },
    {
     "name": "stdout",
     "output_type": "stream",
     "text": [
      "Successfully generated 31 new images through data augmentation.\n",
      "Harvesting data from anchor data\\var_anchor, positive data\\var_positive and negative data\\var_negative folder.\n",
      "Anchor images availlable :\t62\n",
      "Positive images availlable :\t62\n",
      "Negative images availlable :\t12562\n",
      "Tuple harvested :\t\t62\n",
      "Labelling data\n",
      "Successfully harvested and labelled 62 data.\n",
      "Begining training 31th/100 person.\n",
      "Epoch 1/10\n",
      "3/3 [==============================] - 49s 15s/step\n",
      "Loss : 0.6896944046020508\tRecall : 0.20000000298023224\tPrecision : 0.5714285969734192\n",
      "Epoch 2/10\n",
      "3/3 [==============================] - 51s 16s/step\n",
      "Loss : 0.6929900050163269\tRecall : 0.17391304671764374\tPrecision : 0.4444444477558136\n",
      "Epoch 3/10\n",
      "3/3 [==============================] - 61s 21s/step\n",
      "Loss : 0.6892838478088379\tRecall : 0.375\tPrecision : 0.6000000238418579\n",
      "Epoch 4/10\n",
      "3/3 [==============================] - 65s 20s/step\n",
      "Loss : 0.6947358250617981\tRecall : 0.5833333134651184\tPrecision : 0.6363636255264282\n",
      "Epoch 5/10\n",
      "3/3 [==============================] - 60s 22s/step\n",
      "Loss : 0.6913690567016602\tRecall : 0.6363636255264282\tPrecision : 0.6363636255264282\n",
      "Epoch 6/10\n",
      "3/3 [==============================] - 54s 18s/step\n",
      "Loss : 0.6916200518608093\tRecall : 0.52173912525177\tPrecision : 0.6000000238418579\n",
      "Epoch 7/10\n",
      "3/3 [==============================] - 49s 15s/step\n",
      "Loss : 0.6894094347953796\tRecall : 0.47058823704719543\tPrecision : 0.4444444477558136\n",
      "Epoch 8/10\n",
      "3/3 [==============================] - 47s 15s/step\n",
      "Loss : 0.6850445866584778\tRecall : 0.05882352963089943\tPrecision : 0.1111111119389534\n",
      "Epoch 9/10\n",
      "3/3 [==============================] - 46s 14s/step\n",
      "Loss : 0.6910789608955383\tRecall : 0.27272728085517883\tPrecision : 0.75\n",
      "Epoch 10/10\n",
      "3/3 [==============================] - 45s 14s/step\n",
      "Loss : 0.6927271485328674\tRecall : 0.3181818127632141\tPrecision : 0.5\n",
      "Training complete, saving embedding kernel.\n",
      "Successfully saved model at saved_model\\embedding_kernel.h5.\n",
      "Generating data variant with John_Negroponte as anchor\n"
     ]
    },
    {
     "name": "stderr",
     "output_type": "stream",
     "text": [
      "100%|██████████| 5749/5749 [00:17<00:00, 319.78it/s]\n"
     ]
    },
    {
     "name": "stdout",
     "output_type": "stream",
     "text": [
      "[DEBUG] Finished data variant setup\n",
      "Preparing data augmentation from data\\var_anchor to data\\var_positive.\n"
     ]
    },
    {
     "name": "stderr",
     "output_type": "stream",
     "text": [
      "100%|██████████| 31/31 [00:00<00:00, 47.47it/s]\n"
     ]
    },
    {
     "name": "stdout",
     "output_type": "stream",
     "text": [
      "Successfully generated 62 new images through data augmentation.\n",
      "Preparing data augmentation from data\\var_anchor to data\\var_anchor.\n"
     ]
    },
    {
     "name": "stderr",
     "output_type": "stream",
     "text": [
      "100%|██████████| 31/31 [00:00<00:00, 89.60it/s]\n"
     ]
    },
    {
     "name": "stdout",
     "output_type": "stream",
     "text": [
      "Successfully generated 31 new images through data augmentation.\n",
      "Harvesting data from anchor data\\var_anchor, positive data\\var_positive and negative data\\var_negative folder.\n",
      "Anchor images availlable :\t62\n",
      "Positive images availlable :\t62\n",
      "Negative images availlable :\t12562\n",
      "Tuple harvested :\t\t62\n",
      "Labelling data\n",
      "Successfully harvested and labelled 62 data.\n",
      "Begining training 32th/100 person.\n",
      "Epoch 1/10\n",
      "3/3 [==============================] - 52s 17s/step\n",
      "Loss : 0.693897545337677\tRecall : 0.4761904776096344\tPrecision : 0.5555555820465088\n",
      "Epoch 2/10\n",
      "3/3 [==============================] - 47s 14s/step\n",
      "Loss : 0.6904754638671875\tRecall : 0.550000011920929\tPrecision : 0.7333333492279053\n",
      "Epoch 3/10\n",
      "3/3 [==============================] - 50s 16s/step\n",
      "Loss : 0.6758487224578857\tRecall : 0.40909090638160706\tPrecision : 0.75\n",
      "Epoch 4/10\n",
      "3/3 [==============================] - 49s 14s/step\n",
      "Loss : 0.6854929327964783\tRecall : 0.3684210479259491\tPrecision : 0.699999988079071\n",
      "Epoch 5/10\n",
      "3/3 [==============================] - 51s 16s/step\n",
      "Loss : 0.694591224193573\tRecall : 0.27272728085517883\tPrecision : 1.0\n",
      "Epoch 6/10\n",
      "3/3 [==============================] - 52s 17s/step\n",
      "Loss : 0.7023411393165588\tRecall : 0.2083333283662796\tPrecision : 0.8333333134651184\n",
      "Epoch 7/10\n",
      "3/3 [==============================] - 49s 16s/step\n",
      "Loss : 0.6963575482368469\tRecall : 0.2380952388048172\tPrecision : 0.8333333134651184\n",
      "Epoch 8/10\n",
      "3/3 [==============================] - 55s 17s/step\n",
      "Loss : 0.6896560788154602\tRecall : 0.1818181872367859\tPrecision : 1.0\n",
      "Epoch 9/10\n",
      "3/3 [==============================] - 53s 18s/step\n",
      "Loss : 0.7031671404838562\tRecall : 0.22727273404598236\tPrecision : 0.8333333134651184\n",
      "Epoch 10/10\n",
      "3/3 [==============================] - 51s 17s/step\n",
      "Loss : 0.6740284562110901\tRecall : 0.27272728085517883\tPrecision : 0.8571428656578064\n",
      "Training complete, saving embedding kernel.\n",
      "Successfully saved model at saved_model\\embedding_kernel.h5.\n",
      "Generating data variant with Guillermo_Coria as anchor\n"
     ]
    },
    {
     "name": "stderr",
     "output_type": "stream",
     "text": [
      "100%|██████████| 5749/5749 [00:16<00:00, 339.33it/s]\n"
     ]
    },
    {
     "name": "stdout",
     "output_type": "stream",
     "text": [
      "[DEBUG] Finished data variant setup\n",
      "Preparing data augmentation from data\\var_anchor to data\\var_positive.\n"
     ]
    },
    {
     "name": "stderr",
     "output_type": "stream",
     "text": [
      "100%|██████████| 30/30 [00:00<00:00, 67.72it/s]\n"
     ]
    },
    {
     "name": "stdout",
     "output_type": "stream",
     "text": [
      "Successfully generated 60 new images through data augmentation.\n",
      "Preparing data augmentation from data\\var_anchor to data\\var_anchor.\n"
     ]
    },
    {
     "name": "stderr",
     "output_type": "stream",
     "text": [
      "100%|██████████| 30/30 [00:00<00:00, 126.58it/s]\n"
     ]
    },
    {
     "name": "stdout",
     "output_type": "stream",
     "text": [
      "Successfully generated 30 new images through data augmentation.\n",
      "Harvesting data from anchor data\\var_anchor, positive data\\var_positive and negative data\\var_negative folder.\n",
      "Anchor images availlable :\t60\n",
      "Positive images availlable :\t60\n",
      "Negative images availlable :\t12563\n",
      "Tuple harvested :\t\t60\n",
      "Labelling data\n",
      "Successfully harvested and labelled 60 data.\n",
      "Begining training 33th/100 person.\n",
      "Epoch 1/10\n",
      "3/3 [==============================] - 53s 18s/step\n",
      "Loss : 0.7017834186553955\tRecall : 0.0\tPrecision : 0.0\n",
      "Epoch 2/10\n",
      "3/3 [==============================] - 45s 14s/step\n",
      "Loss : 0.6591785550117493\tRecall : 0.05263157933950424\tPrecision : 0.5\n",
      "Epoch 3/10\n",
      "3/3 [==============================] - 44s 14s/step\n",
      "Loss : 0.6754021048545837\tRecall : 0.04545454680919647\tPrecision : 1.0\n",
      "Epoch 4/10\n",
      "3/3 [==============================] - 41s 13s/step\n",
      "Loss : 0.7038141489028931\tRecall : 0.0\tPrecision : 0.0\n",
      "Epoch 5/10\n",
      "3/3 [==============================] - 41s 13s/step\n",
      "Loss : 0.6752325892448425\tRecall : 0.0\tPrecision : 0.0\n",
      "Epoch 6/10\n",
      "3/3 [==============================] - 43s 13s/step\n",
      "Loss : 0.7114613652229309\tRecall : 0.0\tPrecision : 0.0\n",
      "Epoch 7/10\n",
      "3/3 [==============================] - 42s 13s/step\n",
      "Loss : 0.6813730597496033\tRecall : 0.04545454680919647\tPrecision : 1.0\n",
      "Epoch 8/10\n",
      "3/3 [==============================] - 41s 13s/step\n",
      "Loss : 0.6525940895080566\tRecall : 0.0\tPrecision : 0.0\n",
      "Epoch 9/10\n",
      "3/3 [==============================] - 40s 13s/step\n",
      "Loss : 0.6655821204185486\tRecall : 0.0476190485060215\tPrecision : 1.0\n",
      "Epoch 10/10\n",
      "3/3 [==============================] - 42s 13s/step\n",
      "Loss : 0.6526647806167603\tRecall : 0.10000000149011612\tPrecision : 1.0\n",
      "Training complete, saving embedding kernel.\n",
      "Successfully saved model at saved_model\\embedding_kernel.h5.\n",
      "Generating data variant with Recep_Tayyip_Erdogan as anchor\n"
     ]
    },
    {
     "name": "stderr",
     "output_type": "stream",
     "text": [
      "100%|██████████| 5749/5749 [00:15<00:00, 369.35it/s]\n"
     ]
    },
    {
     "name": "stdout",
     "output_type": "stream",
     "text": [
      "[DEBUG] Finished data variant setup\n",
      "Preparing data augmentation from data\\var_anchor to data\\var_positive.\n"
     ]
    },
    {
     "name": "stderr",
     "output_type": "stream",
     "text": [
      "100%|██████████| 30/30 [00:00<00:00, 68.34it/s]\n"
     ]
    },
    {
     "name": "stdout",
     "output_type": "stream",
     "text": [
      "Successfully generated 60 new images through data augmentation.\n",
      "Preparing data augmentation from data\\var_anchor to data\\var_anchor.\n"
     ]
    },
    {
     "name": "stderr",
     "output_type": "stream",
     "text": [
      "100%|██████████| 30/30 [00:00<00:00, 131.58it/s]\n"
     ]
    },
    {
     "name": "stdout",
     "output_type": "stream",
     "text": [
      "Successfully generated 30 new images through data augmentation.\n",
      "Harvesting data from anchor data\\var_anchor, positive data\\var_positive and negative data\\var_negative folder.\n",
      "Anchor images availlable :\t60\n",
      "Positive images availlable :\t60\n",
      "Negative images availlable :\t12563\n",
      "Tuple harvested :\t\t60\n",
      "Labelling data\n",
      "Successfully harvested and labelled 60 data.\n",
      "Begining training 34th/100 person.\n",
      "Epoch 1/10\n",
      "3/3 [==============================] - 42s 13s/step\n",
      "Loss : 0.6800182461738586\tRecall : 0.0476190485060215\tPrecision : 0.5\n",
      "Epoch 2/10\n",
      "3/3 [==============================] - 42s 13s/step\n",
      "Loss : 0.684227705001831\tRecall : 0.05263157933950424\tPrecision : 0.5\n",
      "Epoch 3/10\n",
      "3/3 [==============================] - 42s 13s/step\n",
      "Loss : 0.6940621733665466\tRecall : 0.08695652335882187\tPrecision : 0.6666666865348816\n",
      "Epoch 4/10\n",
      "3/3 [==============================] - 42s 13s/step\n",
      "Loss : 0.6578733921051025\tRecall : 0.1304347813129425\tPrecision : 1.0\n",
      "Epoch 5/10\n",
      "3/3 [==============================] - 42s 13s/step\n",
      "Loss : 0.6382696628570557\tRecall : 0.10526315867900848\tPrecision : 1.0\n",
      "Epoch 6/10\n",
      "3/3 [==============================] - 42s 13s/step\n",
      "Loss : 0.6554432511329651\tRecall : 0.05263157933950424\tPrecision : 1.0\n",
      "Epoch 7/10\n",
      "3/3 [==============================] - 42s 13s/step\n",
      "Loss : 0.5965206623077393\tRecall : 0.0555555559694767\tPrecision : 1.0\n",
      "Epoch 8/10\n",
      "3/3 [==============================] - 41s 13s/step\n",
      "Loss : 0.7254030704498291\tRecall : 0.043478261679410934\tPrecision : 1.0\n",
      "Epoch 9/10\n",
      "3/3 [==============================] - 42s 13s/step\n",
      "Loss : 0.5793010592460632\tRecall : 0.05263157933950424\tPrecision : 1.0\n",
      "Epoch 10/10\n",
      "3/3 [==============================] - 42s 13s/step\n",
      "Loss : 0.6983667016029358\tRecall : 0.0\tPrecision : 0.0\n",
      "Training complete, saving embedding kernel.\n",
      "Successfully saved model at saved_model\\embedding_kernel.h5.\n",
      "Generating data variant with Bill_Clinton as anchor\n"
     ]
    },
    {
     "name": "stderr",
     "output_type": "stream",
     "text": [
      "100%|██████████| 5749/5749 [00:17<00:00, 334.53it/s]\n"
     ]
    },
    {
     "name": "stdout",
     "output_type": "stream",
     "text": [
      "[DEBUG] Finished data variant setup\n",
      "Preparing data augmentation from data\\var_anchor to data\\var_positive.\n"
     ]
    },
    {
     "name": "stderr",
     "output_type": "stream",
     "text": [
      "100%|██████████| 29/29 [00:00<00:00, 68.80it/s]\n"
     ]
    },
    {
     "name": "stdout",
     "output_type": "stream",
     "text": [
      "Successfully generated 58 new images through data augmentation.\n",
      "Preparing data augmentation from data\\var_anchor to data\\var_anchor.\n"
     ]
    },
    {
     "name": "stderr",
     "output_type": "stream",
     "text": [
      "100%|██████████| 29/29 [00:00<00:00, 128.89it/s]\n"
     ]
    },
    {
     "name": "stdout",
     "output_type": "stream",
     "text": [
      "Successfully generated 29 new images through data augmentation.\n",
      "Harvesting data from anchor data\\var_anchor, positive data\\var_positive and negative data\\var_negative folder.\n",
      "Anchor images availlable :\t58\n",
      "Positive images availlable :\t58\n",
      "Negative images availlable :\t12564\n",
      "Tuple harvested :\t\t58\n",
      "Labelling data\n",
      "Successfully harvested and labelled 58 data.\n",
      "Begining training 35th/100 person.\n",
      "Epoch 1/10\n",
      "3/3 [==============================] - 40s 12s/step\n",
      "Loss : 0.5900905132293701\tRecall : 0.0\tPrecision : 0.0\n",
      "Epoch 2/10\n",
      "3/3 [==============================] - 39s 12s/step\n",
      "Loss : 0.7398766279220581\tRecall : 0.0\tPrecision : 0.0\n",
      "Epoch 3/10\n",
      "3/3 [==============================] - 40s 12s/step\n",
      "Loss : 0.7687405943870544\tRecall : 0.0\tPrecision : 0.0\n",
      "Epoch 4/10\n",
      "3/3 [==============================] - 39s 12s/step\n",
      "Loss : 0.7405742406845093\tRecall : 0.08695652335882187\tPrecision : 0.6666666865348816\n",
      "Epoch 5/10\n",
      "3/3 [==============================] - 40s 12s/step\n",
      "Loss : 0.6789836287498474\tRecall : 0.25\tPrecision : 1.0\n",
      "Epoch 6/10\n",
      "3/3 [==============================] - 40s 12s/step\n",
      "Loss : 0.7124972343444824\tRecall : 0.15000000596046448\tPrecision : 0.75\n",
      "Epoch 7/10\n",
      "3/3 [==============================] - 40s 12s/step\n",
      "Loss : 0.6763561367988586\tRecall : 0.1666666716337204\tPrecision : 0.6000000238418579\n",
      "Epoch 8/10\n",
      "3/3 [==============================] - 39s 12s/step\n",
      "Loss : 0.6608331203460693\tRecall : 0.190476194024086\tPrecision : 0.6666666865348816\n",
      "Epoch 9/10\n",
      "3/3 [==============================] - 39s 12s/step\n",
      "Loss : 0.6696887612342834\tRecall : 0.1666666716337204\tPrecision : 0.6000000238418579\n",
      "Epoch 10/10\n",
      "3/3 [==============================] - 40s 12s/step\n",
      "Loss : 0.7212837934494019\tRecall : 0.190476194024086\tPrecision : 0.6666666865348816\n",
      "Training complete, saving embedding kernel.\n",
      "Successfully saved model at saved_model\\embedding_kernel.h5.\n",
      "Generating data variant with Mahmoud_Abbas as anchor\n"
     ]
    },
    {
     "name": "stderr",
     "output_type": "stream",
     "text": [
      "100%|██████████| 5749/5749 [00:16<00:00, 343.00it/s]\n"
     ]
    },
    {
     "name": "stdout",
     "output_type": "stream",
     "text": [
      "[DEBUG] Finished data variant setup\n",
      "Preparing data augmentation from data\\var_anchor to data\\var_positive.\n"
     ]
    },
    {
     "name": "stderr",
     "output_type": "stream",
     "text": [
      "100%|██████████| 29/29 [00:00<00:00, 67.92it/s]\n"
     ]
    },
    {
     "name": "stdout",
     "output_type": "stream",
     "text": [
      "Successfully generated 58 new images through data augmentation.\n",
      "Preparing data augmentation from data\\var_anchor to data\\var_anchor.\n"
     ]
    },
    {
     "name": "stderr",
     "output_type": "stream",
     "text": [
      "100%|██████████| 29/29 [00:00<00:00, 114.62it/s]\n"
     ]
    },
    {
     "name": "stdout",
     "output_type": "stream",
     "text": [
      "Successfully generated 29 new images through data augmentation.\n",
      "Harvesting data from anchor data\\var_anchor, positive data\\var_positive and negative data\\var_negative folder.\n",
      "Anchor images availlable :\t58\n",
      "Positive images availlable :\t58\n",
      "Negative images availlable :\t12564\n",
      "Tuple harvested :\t\t58\n",
      "Labelling data\n",
      "Successfully harvested and labelled 58 data.\n",
      "Begining training 36th/100 person.\n",
      "Epoch 1/10\n",
      "3/3 [==============================] - 39s 12s/step\n",
      "Loss : 0.6808243989944458\tRecall : 0.10000000149011612\tPrecision : 1.0\n",
      "Epoch 2/10\n",
      "3/3 [==============================] - 40s 12s/step\n",
      "Loss : 0.6893198490142822\tRecall : 0.05263157933950424\tPrecision : 1.0\n",
      "Epoch 3/10\n",
      "3/3 [==============================] - 40s 12s/step\n",
      "Loss : 0.713737964630127\tRecall : 0.1428571492433548\tPrecision : 1.0\n",
      "Epoch 4/10\n",
      "3/3 [==============================] - 40s 12s/step\n",
      "Loss : 0.6802775859832764\tRecall : 0.20000000298023224\tPrecision : 0.800000011920929\n",
      "Epoch 5/10\n",
      "3/3 [==============================] - 39s 12s/step\n",
      "Loss : 0.6808207035064697\tRecall : 0.2631579041481018\tPrecision : 1.0\n",
      "Epoch 6/10\n",
      "3/3 [==============================] - 40s 12s/step\n",
      "Loss : 0.6767356991767883\tRecall : 0.25\tPrecision : 0.8333333134651184\n",
      "Epoch 7/10\n",
      "3/3 [==============================] - 40s 12s/step\n",
      "Loss : 0.7680935263633728\tRecall : 0.190476194024086\tPrecision : 1.0\n",
      "Epoch 8/10\n",
      "3/3 [==============================] - 39s 12s/step\n",
      "Loss : 0.7162576913833618\tRecall : 0.1764705926179886\tPrecision : 1.0\n",
      "Epoch 9/10\n",
      "3/3 [==============================] - 40s 12s/step\n",
      "Loss : 0.6718260645866394\tRecall : 0.2857142984867096\tPrecision : 0.8571428656578064\n",
      "Epoch 10/10\n",
      "3/3 [==============================] - 40s 12s/step\n",
      "Loss : 0.6896024942398071\tRecall : 0.2380952388048172\tPrecision : 0.7142857313156128\n",
      "Training complete, saving embedding kernel.\n",
      "Successfully saved model at saved_model\\embedding_kernel.h5.\n",
      "Generating data variant with Jack_Straw as anchor\n"
     ]
    },
    {
     "name": "stderr",
     "output_type": "stream",
     "text": [
      "100%|██████████| 5749/5749 [00:17<00:00, 334.72it/s]\n"
     ]
    },
    {
     "name": "stdout",
     "output_type": "stream",
     "text": [
      "[DEBUG] Finished data variant setup\n",
      "Preparing data augmentation from data\\var_anchor to data\\var_positive.\n"
     ]
    },
    {
     "name": "stderr",
     "output_type": "stream",
     "text": [
      "100%|██████████| 28/28 [00:00<00:00, 67.31it/s]\n"
     ]
    },
    {
     "name": "stdout",
     "output_type": "stream",
     "text": [
      "Successfully generated 56 new images through data augmentation.\n",
      "Preparing data augmentation from data\\var_anchor to data\\var_anchor.\n"
     ]
    },
    {
     "name": "stderr",
     "output_type": "stream",
     "text": [
      "100%|██████████| 28/28 [00:00<00:00, 127.27it/s]\n"
     ]
    },
    {
     "name": "stdout",
     "output_type": "stream",
     "text": [
      "Successfully generated 28 new images through data augmentation.\n",
      "Harvesting data from anchor data\\var_anchor, positive data\\var_positive and negative data\\var_negative folder.\n",
      "Anchor images availlable :\t56\n",
      "Positive images availlable :\t56\n",
      "Negative images availlable :\t12565\n",
      "Tuple harvested :\t\t56\n",
      "Labelling data\n",
      "Successfully harvested and labelled 56 data.\n",
      "Begining training 37th/100 person.\n",
      "Epoch 1/10\n",
      "3/3 [==============================] - 39s 12s/step\n",
      "Loss : 0.6863940358161926\tRecall : 0.1428571492433548\tPrecision : 0.75\n",
      "Epoch 2/10\n",
      "3/3 [==============================] - 38s 12s/step\n",
      "Loss : 0.6814175844192505\tRecall : 0.05000000074505806\tPrecision : 0.25\n",
      "Epoch 3/10\n",
      "3/3 [==============================] - 39s 12s/step\n",
      "Loss : 0.6907256841659546\tRecall : 0.15000000596046448\tPrecision : 0.6000000238418579\n",
      "Epoch 4/10\n",
      "3/3 [==============================] - 39s 12s/step\n",
      "Loss : 0.7036845684051514\tRecall : 0.29411765933036804\tPrecision : 0.7142857313156128\n",
      "Epoch 5/10\n",
      "3/3 [==============================] - 38s 12s/step\n",
      "Loss : 0.7155318260192871\tRecall : 0.20000000298023224\tPrecision : 0.800000011920929\n",
      "Epoch 6/10\n",
      "3/3 [==============================] - 39s 12s/step\n",
      "Loss : 0.6873291730880737\tRecall : 0.15789473056793213\tPrecision : 0.75\n",
      "Epoch 7/10\n",
      "3/3 [==============================] - 39s 12s/step\n",
      "Loss : 0.6742813587188721\tRecall : 0.15789473056793213\tPrecision : 0.6000000238418579\n",
      "Epoch 8/10\n",
      "3/3 [==============================] - 39s 12s/step\n",
      "Loss : 0.6715563535690308\tRecall : 0.2857142984867096\tPrecision : 0.75\n",
      "Epoch 9/10\n",
      "3/3 [==============================] - 38s 12s/step\n",
      "Loss : 0.6723599433898926\tRecall : 0.190476194024086\tPrecision : 0.800000011920929\n",
      "Epoch 10/10\n",
      "3/3 [==============================] - 39s 12s/step\n",
      "Loss : 0.65300053358078\tRecall : 0.15789473056793213\tPrecision : 1.0\n",
      "Training complete, saving embedding kernel.\n",
      "Successfully saved model at saved_model\\embedding_kernel.h5.\n",
      "Generating data variant with Juan_Carlos_Ferrero as anchor\n"
     ]
    },
    {
     "name": "stderr",
     "output_type": "stream",
     "text": [
      "100%|██████████| 5749/5749 [00:16<00:00, 347.71it/s]\n"
     ]
    },
    {
     "name": "stdout",
     "output_type": "stream",
     "text": [
      "[DEBUG] Finished data variant setup\n",
      "Preparing data augmentation from data\\var_anchor to data\\var_positive.\n"
     ]
    },
    {
     "name": "stderr",
     "output_type": "stream",
     "text": [
      "100%|██████████| 28/28 [00:00<00:00, 49.38it/s]\n"
     ]
    },
    {
     "name": "stdout",
     "output_type": "stream",
     "text": [
      "Successfully generated 56 new images through data augmentation.\n",
      "Preparing data augmentation from data\\var_anchor to data\\var_anchor.\n"
     ]
    },
    {
     "name": "stderr",
     "output_type": "stream",
     "text": [
      "100%|██████████| 28/28 [00:00<00:00, 128.44it/s]\n"
     ]
    },
    {
     "name": "stdout",
     "output_type": "stream",
     "text": [
      "Successfully generated 28 new images through data augmentation.\n",
      "Harvesting data from anchor data\\var_anchor, positive data\\var_positive and negative data\\var_negative folder.\n",
      "Anchor images availlable :\t56\n",
      "Positive images availlable :\t56\n",
      "Negative images availlable :\t12565\n",
      "Tuple harvested :\t\t56\n",
      "Labelling data\n",
      "Successfully harvested and labelled 56 data.\n",
      "Begining training 38th/100 person.\n",
      "Epoch 1/10\n",
      "3/3 [==============================] - 39s 12s/step\n",
      "Loss : 0.7803833484649658\tRecall : 0.095238097012043\tPrecision : 0.6666666865348816\n",
      "Epoch 2/10\n",
      "3/3 [==============================] - 39s 12s/step\n",
      "Loss : 0.6959490776062012\tRecall : 0.1111111119389534\tPrecision : 0.6666666865348816\n",
      "Epoch 3/10\n",
      "3/3 [==============================] - 37s 11s/step\n",
      "Loss : 0.6999915242195129\tRecall : 0.1111111119389534\tPrecision : 0.6666666865348816\n",
      "Epoch 4/10\n",
      "3/3 [==============================] - 38s 12s/step\n",
      "Loss : 0.6898559331893921\tRecall : 0.3684210479259491\tPrecision : 0.5384615659713745\n",
      "Epoch 5/10\n",
      "3/3 [==============================] - 39s 12s/step\n",
      "Loss : 0.679542064666748\tRecall : 0.29411765933036804\tPrecision : 0.5\n",
      "Epoch 6/10\n",
      "3/3 [==============================] - 38s 12s/step\n",
      "Loss : 0.689473032951355\tRecall : 0.21052631735801697\tPrecision : 0.5714285969734192\n",
      "Epoch 7/10\n",
      "3/3 [==============================] - 39s 12s/step\n",
      "Loss : 0.6865898370742798\tRecall : 0.22727273404598236\tPrecision : 0.7142857313156128\n",
      "Epoch 8/10\n",
      "3/3 [==============================] - 39s 11s/step\n",
      "Loss : 0.6884016990661621\tRecall : 0.20000000298023224\tPrecision : 0.5714285969734192\n",
      "Epoch 9/10\n",
      "3/3 [==============================] - 39s 12s/step\n",
      "Loss : 0.6886172294616699\tRecall : 0.27272728085517883\tPrecision : 0.75\n",
      "Epoch 10/10\n",
      "3/3 [==============================] - 39s 12s/step\n",
      "Loss : 0.698114275932312\tRecall : 0.21052631735801697\tPrecision : 0.5714285969734192\n",
      "Training complete, saving embedding kernel.\n",
      "Successfully saved model at saved_model\\embedding_kernel.h5.\n",
      "Generating data variant with Ricardo_Lagos as anchor\n"
     ]
    },
    {
     "name": "stderr",
     "output_type": "stream",
     "text": [
      "100%|██████████| 5749/5749 [00:14<00:00, 387.65it/s]\n"
     ]
    },
    {
     "name": "stdout",
     "output_type": "stream",
     "text": [
      "[DEBUG] Finished data variant setup\n",
      "Preparing data augmentation from data\\var_anchor to data\\var_positive.\n"
     ]
    },
    {
     "name": "stderr",
     "output_type": "stream",
     "text": [
      "100%|██████████| 27/27 [00:00<00:00, 59.73it/s]\n"
     ]
    },
    {
     "name": "stdout",
     "output_type": "stream",
     "text": [
      "Successfully generated 54 new images through data augmentation.\n",
      "Preparing data augmentation from data\\var_anchor to data\\var_anchor.\n"
     ]
    },
    {
     "name": "stderr",
     "output_type": "stream",
     "text": [
      "100%|██████████| 27/27 [00:00<00:00, 125.00it/s]\n"
     ]
    },
    {
     "name": "stdout",
     "output_type": "stream",
     "text": [
      "Successfully generated 27 new images through data augmentation.\n",
      "Harvesting data from anchor data\\var_anchor, positive data\\var_positive and negative data\\var_negative folder.\n",
      "Anchor images availlable :\t54\n",
      "Positive images availlable :\t54\n",
      "Negative images availlable :\t12566\n",
      "Tuple harvested :\t\t54\n",
      "Labelling data\n",
      "Successfully harvested and labelled 54 data.\n",
      "Begining training 39th/100 person.\n",
      "Epoch 1/10\n",
      "3/3 [==============================] - 38s 11s/step\n",
      "Loss : 0.6956210136413574\tRecall : 0.625\tPrecision : 0.625\n",
      "Epoch 2/10\n",
      "3/3 [==============================] - 37s 11s/step\n",
      "Loss : 0.71659916639328\tRecall : 0.25\tPrecision : 0.8333333134651184\n",
      "Epoch 3/10\n",
      "3/3 [==============================] - 37s 11s/step\n",
      "Loss : 0.6803764700889587\tRecall : 0.190476194024086\tPrecision : 0.6666666865348816\n",
      "Epoch 4/10\n",
      "3/3 [==============================] - 37s 11s/step\n",
      "Loss : 0.7100470066070557\tRecall : 0.11764705926179886\tPrecision : 0.5\n",
      "Epoch 5/10\n",
      "3/3 [==============================] - 37s 11s/step\n",
      "Loss : 0.597642719745636\tRecall : 0.10526315867900848\tPrecision : 0.6666666865348816\n",
      "Epoch 6/10\n",
      "3/3 [==============================] - 37s 11s/step\n",
      "Loss : 0.6393845081329346\tRecall : 0.05263157933950424\tPrecision : 0.5\n",
      "Epoch 7/10\n",
      "3/3 [==============================] - 37s 11s/step\n",
      "Loss : 0.7543466687202454\tRecall : 0.0\tPrecision : 0.0\n",
      "Epoch 8/10\n",
      "3/3 [==============================] - 37s 11s/step\n",
      "Loss : 0.6922979354858398\tRecall : 0.25\tPrecision : 0.7142857313156128\n",
      "Epoch 9/10\n",
      "3/3 [==============================] - 37s 11s/step\n",
      "Loss : 0.6201974749565125\tRecall : 0.375\tPrecision : 0.75\n",
      "Epoch 10/10\n",
      "3/3 [==============================] - 36s 11s/step\n",
      "Loss : 0.6243453025817871\tRecall : 0.0555555559694767\tPrecision : 1.0\n",
      "Training complete, saving embedding kernel.\n",
      "Successfully saved model at saved_model\\embedding_kernel.h5.\n",
      "Generating data variant with Gray_Davis as anchor\n"
     ]
    },
    {
     "name": "stderr",
     "output_type": "stream",
     "text": [
      "100%|██████████| 5749/5749 [00:16<00:00, 359.15it/s]\n"
     ]
    },
    {
     "name": "stdout",
     "output_type": "stream",
     "text": [
      "[DEBUG] Finished data variant setup\n",
      "Preparing data augmentation from data\\var_anchor to data\\var_positive.\n"
     ]
    },
    {
     "name": "stderr",
     "output_type": "stream",
     "text": [
      "100%|██████████| 26/26 [00:00<00:00, 68.97it/s]\n"
     ]
    },
    {
     "name": "stdout",
     "output_type": "stream",
     "text": [
      "Successfully generated 52 new images through data augmentation.\n",
      "Preparing data augmentation from data\\var_anchor to data\\var_anchor.\n"
     ]
    },
    {
     "name": "stderr",
     "output_type": "stream",
     "text": [
      "100%|██████████| 26/26 [00:00<00:00, 126.83it/s]\n"
     ]
    },
    {
     "name": "stdout",
     "output_type": "stream",
     "text": [
      "Successfully generated 26 new images through data augmentation.\n",
      "Harvesting data from anchor data\\var_anchor, positive data\\var_positive and negative data\\var_negative folder.\n",
      "Anchor images availlable :\t52\n",
      "Positive images availlable :\t52\n",
      "Negative images availlable :\t12567\n",
      "Tuple harvested :\t\t52\n",
      "Labelling data\n",
      "Successfully harvested and labelled 52 data.\n",
      "Begining training 40th/100 person.\n",
      "Epoch 1/10\n",
      "3/3 [==============================] - 36s 10s/step\n",
      "Loss : 0.6556573510169983\tRecall : 0.0\tPrecision : 0.0\n",
      "Epoch 2/10\n",
      "3/3 [==============================] - 36s 10s/step\n",
      "Loss : 0.698243260383606\tRecall : 0.0\tPrecision : 0.0\n",
      "Epoch 3/10\n",
      "3/3 [==============================] - 36s 10s/step\n",
      "Loss : 0.6048774719238281\tRecall : 0.0\tPrecision : 0.0\n",
      "Epoch 4/10\n",
      "3/3 [==============================] - 36s 10s/step\n",
      "Loss : 0.6588364243507385\tRecall : 0.05000000074505806\tPrecision : 1.0\n",
      "Epoch 5/10\n",
      "3/3 [==============================] - 36s 10s/step\n",
      "Loss : 0.6075810194015503\tRecall : 0.1666666716337204\tPrecision : 0.75\n",
      "Epoch 6/10\n",
      "3/3 [==============================] - 36s 10s/step\n",
      "Loss : 0.6503249406814575\tRecall : 0.10526315867900848\tPrecision : 1.0\n",
      "Epoch 7/10\n",
      "3/3 [==============================] - 36s 10s/step\n",
      "Loss : 0.6761304140090942\tRecall : 0.095238097012043\tPrecision : 0.6666666865348816\n",
      "Epoch 8/10\n",
      "3/3 [==============================] - 36s 10s/step\n",
      "Loss : 0.6620302200317383\tRecall : 0.2222222238779068\tPrecision : 0.800000011920929\n",
      "Epoch 9/10\n",
      "3/3 [==============================] - 36s 10s/step\n",
      "Loss : 0.6056503057479858\tRecall : 0.15000000596046448\tPrecision : 1.0\n",
      "Epoch 10/10\n",
      "3/3 [==============================] - 36s 10s/step\n",
      "Loss : 0.6331490278244019\tRecall : 0.15789473056793213\tPrecision : 1.0\n",
      "Training complete, saving embedding kernel.\n",
      "Successfully saved model at saved_model\\embedding_kernel.h5.\n",
      "Generating data variant with Rudolph_Giuliani as anchor\n"
     ]
    },
    {
     "name": "stderr",
     "output_type": "stream",
     "text": [
      "100%|██████████| 5749/5749 [00:17<00:00, 327.99it/s]\n"
     ]
    },
    {
     "name": "stdout",
     "output_type": "stream",
     "text": [
      "[DEBUG] Finished data variant setup\n",
      "Preparing data augmentation from data\\var_anchor to data\\var_positive.\n"
     ]
    },
    {
     "name": "stderr",
     "output_type": "stream",
     "text": [
      "100%|██████████| 26/26 [00:00<00:00, 68.60it/s]\n"
     ]
    },
    {
     "name": "stdout",
     "output_type": "stream",
     "text": [
      "Successfully generated 52 new images through data augmentation.\n",
      "Preparing data augmentation from data\\var_anchor to data\\var_anchor.\n"
     ]
    },
    {
     "name": "stderr",
     "output_type": "stream",
     "text": [
      "100%|██████████| 26/26 [00:00<00:00, 115.04it/s]\n"
     ]
    },
    {
     "name": "stdout",
     "output_type": "stream",
     "text": [
      "Successfully generated 26 new images through data augmentation.\n",
      "Harvesting data from anchor data\\var_anchor, positive data\\var_positive and negative data\\var_negative folder.\n",
      "Anchor images availlable :\t52\n",
      "Positive images availlable :\t52\n",
      "Negative images availlable :\t12567\n",
      "Tuple harvested :\t\t52\n",
      "Labelling data\n",
      "Successfully harvested and labelled 52 data.\n",
      "Begining training 41th/100 person.\n",
      "Epoch 1/10\n",
      "3/3 [==============================] - 36s 10s/step\n",
      "Loss : 0.6436053514480591\tRecall : 0.0\tPrecision : 0.0\n",
      "Epoch 2/10\n",
      "3/3 [==============================] - 36s 10s/step\n",
      "Loss : 0.5675768256187439\tRecall : 0.1111111119389534\tPrecision : 1.0\n",
      "Epoch 3/10\n",
      "3/3 [==============================] - 36s 10s/step\n",
      "Loss : 0.8081341981887817\tRecall : 0.1111111119389534\tPrecision : 0.6666666865348816\n",
      "Epoch 4/10\n",
      "3/3 [==============================] - 37s 10s/step\n",
      "Loss : 0.8477433323860168\tRecall : 0.0\tPrecision : 0.0\n",
      "Epoch 5/10\n",
      "3/3 [==============================] - 36s 10s/step\n",
      "Loss : 0.604736864566803\tRecall : 0.23529411852359772\tPrecision : 0.5714285969734192\n",
      "Epoch 6/10\n",
      "3/3 [==============================] - 36s 10s/step\n",
      "Loss : 0.7139117121696472\tRecall : 0.1764705926179886\tPrecision : 0.75\n",
      "Epoch 7/10\n",
      "3/3 [==============================] - 35s 10s/step\n",
      "Loss : 0.684991717338562\tRecall : 0.11764705926179886\tPrecision : 1.0\n",
      "Epoch 8/10\n",
      "3/3 [==============================] - 36s 10s/step\n",
      "Loss : 0.8329111337661743\tRecall : 0.1111111119389534\tPrecision : 0.6666666865348816\n",
      "Epoch 9/10\n",
      "3/3 [==============================] - 36s 10s/step\n",
      "Loss : 0.6564452052116394\tRecall : 0.3529411852359772\tPrecision : 0.6666666865348816\n",
      "Epoch 10/10\n",
      "3/3 [==============================] - 36s 10s/step\n",
      "Loss : 0.6864534616470337\tRecall : 0.42105263471603394\tPrecision : 1.0\n",
      "Training complete, saving embedding kernel.\n",
      "Successfully saved model at saved_model\\embedding_kernel.h5.\n",
      "Generating data variant with Tom_Daschle as anchor\n"
     ]
    },
    {
     "name": "stderr",
     "output_type": "stream",
     "text": [
      "100%|██████████| 5749/5749 [00:15<00:00, 371.32it/s]\n"
     ]
    },
    {
     "name": "stdout",
     "output_type": "stream",
     "text": [
      "[DEBUG] Finished data variant setup\n",
      "Preparing data augmentation from data\\var_anchor to data\\var_positive.\n"
     ]
    },
    {
     "name": "stderr",
     "output_type": "stream",
     "text": [
      "100%|██████████| 25/25 [00:00<00:00, 70.03it/s]\n"
     ]
    },
    {
     "name": "stdout",
     "output_type": "stream",
     "text": [
      "Successfully generated 50 new images through data augmentation.\n",
      "Preparing data augmentation from data\\var_anchor to data\\var_anchor.\n"
     ]
    },
    {
     "name": "stderr",
     "output_type": "stream",
     "text": [
      "100%|██████████| 25/25 [00:00<00:00, 54.95it/s] \n"
     ]
    },
    {
     "name": "stdout",
     "output_type": "stream",
     "text": [
      "Successfully generated 25 new images through data augmentation.\n",
      "Harvesting data from anchor data\\var_anchor, positive data\\var_positive and negative data\\var_negative folder.\n",
      "Anchor images availlable :\t50\n",
      "Positive images availlable :\t50\n",
      "Negative images availlable :\t12568\n",
      "Tuple harvested :\t\t50\n",
      "Labelling data\n",
      "Successfully harvested and labelled 50 data.\n",
      "Begining training 42th/100 person.\n",
      "Epoch 1/10\n",
      "3/3 [==============================] - 35s 9s/step\n",
      "Loss : 0.6920541524887085\tRecall : 0.375\tPrecision : 0.75\n",
      "Epoch 2/10\n",
      "3/3 [==============================] - 35s 10s/step\n",
      "Loss : 0.6333454251289368\tRecall : 0.10526315867900848\tPrecision : 1.0\n",
      "Epoch 3/10\n",
      "3/3 [==============================] - 35s 10s/step\n",
      "Loss : 0.7692477107048035\tRecall : 0.05882352963089943\tPrecision : 1.0\n",
      "Epoch 4/10\n",
      "3/3 [==============================] - 34s 10s/step\n",
      "Loss : 0.5885146260261536\tRecall : 0.10526315867900848\tPrecision : 1.0\n",
      "Epoch 5/10\n",
      "3/3 [==============================] - 35s 10s/step\n",
      "Loss : 0.6825501918792725\tRecall : 0.10526315867900848\tPrecision : 1.0\n",
      "Epoch 6/10\n",
      "3/3 [==============================] - 35s 10s/step\n",
      "Loss : 0.6499527096748352\tRecall : 0.1111111119389534\tPrecision : 1.0\n",
      "Epoch 7/10\n",
      "3/3 [==============================] - 35s 10s/step\n",
      "Loss : 0.596966028213501\tRecall : 0.11764705926179886\tPrecision : 1.0\n",
      "Epoch 8/10\n",
      "3/3 [==============================] - 35s 10s/step\n",
      "Loss : 0.5855600833892822\tRecall : 0.0\tPrecision : 0.0\n",
      "Epoch 9/10\n",
      "3/3 [==============================] - 35s 10s/step\n",
      "Loss : 0.6405629515647888\tRecall : 0.0\tPrecision : 0.0\n",
      "Epoch 10/10\n",
      "3/3 [==============================] - 35s 10s/step\n",
      "Loss : 0.6318953037261963\tRecall : 0.06666667014360428\tPrecision : 1.0\n",
      "Training complete, saving embedding kernel.\n",
      "Successfully saved model at saved_model\\embedding_kernel.h5.\n",
      "Generating data variant with Atal_Bihari_Vajpayee as anchor\n"
     ]
    },
    {
     "name": "stderr",
     "output_type": "stream",
     "text": [
      "100%|██████████| 5749/5749 [00:16<00:00, 358.06it/s]\n"
     ]
    },
    {
     "name": "stdout",
     "output_type": "stream",
     "text": [
      "[DEBUG] Finished data variant setup\n",
      "Preparing data augmentation from data\\var_anchor to data\\var_positive.\n"
     ]
    },
    {
     "name": "stderr",
     "output_type": "stream",
     "text": [
      "100%|██████████| 24/24 [00:00<00:00, 61.70it/s]\n"
     ]
    },
    {
     "name": "stdout",
     "output_type": "stream",
     "text": [
      "Successfully generated 48 new images through data augmentation.\n",
      "Preparing data augmentation from data\\var_anchor to data\\var_anchor.\n"
     ]
    },
    {
     "name": "stderr",
     "output_type": "stream",
     "text": [
      "100%|██████████| 24/24 [00:00<00:00, 131.87it/s]\n"
     ]
    },
    {
     "name": "stdout",
     "output_type": "stream",
     "text": [
      "Successfully generated 24 new images through data augmentation.\n",
      "Harvesting data from anchor data\\var_anchor, positive data\\var_positive and negative data\\var_negative folder.\n",
      "Anchor images availlable :\t48\n",
      "Positive images availlable :\t48\n",
      "Negative images availlable :\t12569\n",
      "Tuple harvested :\t\t48\n",
      "Labelling data\n",
      "Successfully harvested and labelled 48 data.\n",
      "Begining training 43th/100 person.\n",
      "Epoch 1/10\n",
      "3/3 [==============================] - 33s 9s/step\n",
      "Loss : 1.0037264823913574\tRecall : 0.0\tPrecision : 0.0\n",
      "Epoch 2/10\n",
      "3/3 [==============================] - 34s 9s/step\n",
      "Loss : 0.7467331886291504\tRecall : 0.1111111119389534\tPrecision : 0.6666666865348816\n",
      "Epoch 3/10\n",
      "3/3 [==============================] - 34s 9s/step\n",
      "Loss : 0.6926455497741699\tRecall : 0.7368420958518982\tPrecision : 0.6363636255264282\n",
      "Epoch 4/10\n",
      "3/3 [==============================] - 33s 9s/step\n",
      "Loss : 0.6944937705993652\tRecall : 0.9411764740943909\tPrecision : 0.5333333611488342\n",
      "Epoch 5/10\n",
      "3/3 [==============================] - 33s 9s/step\n",
      "Loss : 0.7079145908355713\tRecall : 1.0\tPrecision : 0.6071428656578064\n",
      "Epoch 6/10\n",
      "3/3 [==============================] - 33s 9s/step\n",
      "Loss : 0.6827733516693115\tRecall : 0.6000000238418579\tPrecision : 0.529411792755127\n",
      "Epoch 7/10\n",
      "3/3 [==============================] - 33s 9s/step\n",
      "Loss : 0.4663452208042145\tRecall : 0.125\tPrecision : 0.4000000059604645\n",
      "Epoch 8/10\n",
      "3/3 [==============================] - 33s 9s/step\n",
      "Loss : 0.7059019804000854\tRecall : 0.11764705926179886\tPrecision : 0.6666666865348816\n",
      "Epoch 9/10\n",
      "3/3 [==============================] - 33s 9s/step\n",
      "Loss : 0.6447113752365112\tRecall : 0.23529411852359772\tPrecision : 0.5\n",
      "Epoch 10/10\n",
      "3/3 [==============================] - 33s 9s/step\n",
      "Loss : 0.7088134288787842\tRecall : 0.25\tPrecision : 0.4444444477558136\n",
      "Training complete, saving embedding kernel.\n",
      "Successfully saved model at saved_model\\embedding_kernel.h5.\n",
      "Generating data variant with Jeremy_Greenstock as anchor\n"
     ]
    },
    {
     "name": "stderr",
     "output_type": "stream",
     "text": [
      "100%|██████████| 5749/5749 [00:17<00:00, 328.44it/s]\n"
     ]
    },
    {
     "name": "stdout",
     "output_type": "stream",
     "text": [
      "[DEBUG] Finished data variant setup\n",
      "Preparing data augmentation from data\\var_anchor to data\\var_positive.\n"
     ]
    },
    {
     "name": "stderr",
     "output_type": "stream",
     "text": [
      "100%|██████████| 24/24 [00:00<00:00, 62.02it/s]\n"
     ]
    },
    {
     "name": "stdout",
     "output_type": "stream",
     "text": [
      "Successfully generated 48 new images through data augmentation.\n",
      "Preparing data augmentation from data\\var_anchor to data\\var_anchor.\n"
     ]
    },
    {
     "name": "stderr",
     "output_type": "stream",
     "text": [
      "100%|██████████| 24/24 [00:00<00:00, 123.07it/s]\n"
     ]
    },
    {
     "name": "stdout",
     "output_type": "stream",
     "text": [
      "Successfully generated 24 new images through data augmentation.\n",
      "Harvesting data from anchor data\\var_anchor, positive data\\var_positive and negative data\\var_negative folder.\n",
      "Anchor images availlable :\t48\n",
      "Positive images availlable :\t48\n",
      "Negative images availlable :\t12569\n",
      "Tuple harvested :\t\t48\n",
      "Labelling data\n",
      "Successfully harvested and labelled 48 data.\n",
      "Begining training 44th/100 person.\n",
      "Epoch 1/10\n",
      "3/3 [==============================] - 34s 9s/step\n",
      "Loss : 0.6985306739807129\tRecall : 0.3125\tPrecision : 0.38461539149284363\n",
      "Epoch 2/10\n",
      "3/3 [==============================] - 32s 9s/step\n",
      "Loss : 0.687250554561615\tRecall : 0.5555555820465088\tPrecision : 0.4761904776096344\n",
      "Epoch 3/10\n",
      "3/3 [==============================] - 33s 9s/step\n",
      "Loss : 0.686254620552063\tRecall : 0.761904776096344\tPrecision : 0.6153846383094788\n",
      "Epoch 4/10\n",
      "3/3 [==============================] - 33s 9s/step\n",
      "Loss : 0.6982263326644897\tRecall : 0.7894737124443054\tPrecision : 0.5769230723381042\n",
      "Epoch 5/10\n",
      "3/3 [==============================] - 34s 9s/step\n",
      "Loss : 0.6890960931777954\tRecall : 0.8235294222831726\tPrecision : 0.5185185074806213\n",
      "Epoch 6/10\n",
      "3/3 [==============================] - 34s 9s/step\n",
      "Loss : 0.6881508827209473\tRecall : 0.7647058963775635\tPrecision : 0.5416666865348816\n",
      "Epoch 7/10\n",
      "3/3 [==============================] - 33s 9s/step\n",
      "Loss : 0.6839625239372253\tRecall : 0.46666666865348816\tPrecision : 0.5833333134651184\n",
      "Epoch 8/10\n",
      "3/3 [==============================] - 34s 9s/step\n",
      "Loss : 0.6947348117828369\tRecall : 0.30000001192092896\tPrecision : 0.8571428656578064\n",
      "Epoch 9/10\n",
      "3/3 [==============================] - 34s 9s/step\n",
      "Loss : 0.7041476964950562\tRecall : 0.20000000298023224\tPrecision : 0.4285714328289032\n",
      "Epoch 10/10\n",
      "3/3 [==============================] - 33s 9s/step\n",
      "Loss : 0.6922136545181274\tRecall : 0.46666666865348816\tPrecision : 0.6363636255264282\n",
      "Training complete, saving embedding kernel.\n",
      "Successfully saved model at saved_model\\embedding_kernel.h5.\n",
      "Generating data variant with Winona_Ryder as anchor\n"
     ]
    },
    {
     "name": "stderr",
     "output_type": "stream",
     "text": [
      "100%|██████████| 5749/5749 [00:17<00:00, 325.46it/s]\n"
     ]
    },
    {
     "name": "stdout",
     "output_type": "stream",
     "text": [
      "[DEBUG] Finished data variant setup\n",
      "Preparing data augmentation from data\\var_anchor to data\\var_positive.\n"
     ]
    },
    {
     "name": "stderr",
     "output_type": "stream",
     "text": [
      "100%|██████████| 24/24 [00:00<00:00, 61.86it/s]\n"
     ]
    },
    {
     "name": "stdout",
     "output_type": "stream",
     "text": [
      "Successfully generated 48 new images through data augmentation.\n",
      "Preparing data augmentation from data\\var_anchor to data\\var_anchor.\n"
     ]
    },
    {
     "name": "stderr",
     "output_type": "stream",
     "text": [
      "100%|██████████| 24/24 [00:00<00:00, 123.07it/s]\n"
     ]
    },
    {
     "name": "stdout",
     "output_type": "stream",
     "text": [
      "Successfully generated 24 new images through data augmentation.\n",
      "Harvesting data from anchor data\\var_anchor, positive data\\var_positive and negative data\\var_negative folder.\n",
      "Anchor images availlable :\t48\n",
      "Positive images availlable :\t48\n",
      "Negative images availlable :\t12569\n",
      "Tuple harvested :\t\t48\n",
      "Labelling data\n",
      "Successfully harvested and labelled 48 data.\n",
      "Begining training 45th/100 person.\n",
      "Epoch 1/10\n",
      "3/3 [==============================] - 33s 9s/step\n",
      "Loss : 0.6692371368408203\tRecall : 0.23529411852359772\tPrecision : 0.5\n",
      "Epoch 2/10\n",
      "3/3 [==============================] - 32s 9s/step\n",
      "Loss : 0.7053589224815369\tRecall : 0.1764705926179886\tPrecision : 0.5\n",
      "Epoch 3/10\n",
      "3/3 [==============================] - 34s 9s/step\n",
      "Loss : 0.6671653985977173\tRecall : 0.3333333432674408\tPrecision : 0.6666666865348816\n",
      "Epoch 4/10\n",
      "3/3 [==============================] - 34s 9s/step\n",
      "Loss : 0.6804910898208618\tRecall : 0.1764705926179886\tPrecision : 0.5\n",
      "Epoch 5/10\n",
      "3/3 [==============================] - 33s 9s/step\n",
      "Loss : 0.6971396207809448\tRecall : 0.46666666865348816\tPrecision : 0.4375\n",
      "Epoch 6/10\n",
      "3/3 [==============================] - 33s 9s/step\n",
      "Loss : 0.686951220035553\tRecall : 0.800000011920929\tPrecision : 0.6153846383094788\n",
      "Epoch 7/10\n",
      "3/3 [==============================] - 33s 9s/step\n",
      "Loss : 0.6904140710830688\tRecall : 0.9285714030265808\tPrecision : 0.4193548262119293\n",
      "Epoch 8/10\n",
      "3/3 [==============================] - 33s 9s/step\n",
      "Loss : 0.6948671340942383\tRecall : 0.9333333373069763\tPrecision : 0.4516128897666931\n",
      "Epoch 9/10\n",
      "3/3 [==============================] - 33s 9s/step\n",
      "Loss : 0.6904729604721069\tRecall : 0.9375\tPrecision : 0.5\n",
      "Epoch 10/10\n",
      "3/3 [==============================] - 33s 9s/step\n",
      "Loss : 0.6985582113265991\tRecall : 0.8947368264198303\tPrecision : 0.6296296119689941\n",
      "Training complete, saving embedding kernel.\n",
      "Successfully saved model at saved_model\\embedding_kernel.h5.\n",
      "Generating data variant with Jose_Maria_Aznar as anchor\n"
     ]
    },
    {
     "name": "stderr",
     "output_type": "stream",
     "text": [
      "100%|██████████| 5749/5749 [00:15<00:00, 377.52it/s]\n"
     ]
    },
    {
     "name": "stdout",
     "output_type": "stream",
     "text": [
      "[DEBUG] Finished data variant setup\n",
      "Preparing data augmentation from data\\var_anchor to data\\var_positive.\n"
     ]
    },
    {
     "name": "stderr",
     "output_type": "stream",
     "text": [
      "100%|██████████| 23/23 [00:00<00:00, 66.47it/s]\n"
     ]
    },
    {
     "name": "stdout",
     "output_type": "stream",
     "text": [
      "Successfully generated 46 new images through data augmentation.\n",
      "Preparing data augmentation from data\\var_anchor to data\\var_anchor.\n"
     ]
    },
    {
     "name": "stderr",
     "output_type": "stream",
     "text": [
      "100%|██████████| 23/23 [00:00<00:00, 130.68it/s]\n"
     ]
    },
    {
     "name": "stdout",
     "output_type": "stream",
     "text": [
      "Successfully generated 23 new images through data augmentation.\n",
      "Harvesting data from anchor data\\var_anchor, positive data\\var_positive and negative data\\var_negative folder.\n",
      "Anchor images availlable :\t46\n",
      "Positive images availlable :\t46\n",
      "Negative images availlable :\t12570\n",
      "Tuple harvested :\t\t46\n",
      "Labelling data\n",
      "Successfully harvested and labelled 46 data.\n",
      "Begining training 46th/100 person.\n",
      "Epoch 1/10\n",
      "3/3 [==============================] - 34s 9s/step\n",
      "Loss : 0.6849489808082581\tRecall : 0.7894737124443054\tPrecision : 0.5769230723381042\n",
      "Epoch 2/10\n",
      "3/3 [==============================] - 36s 9s/step\n",
      "Loss : 0.7006331086158752\tRecall : 0.8125\tPrecision : 0.4642857015132904\n",
      "Epoch 3/10\n",
      "3/3 [==============================] - 33s 9s/step\n",
      "Loss : 0.7019672989845276\tRecall : 0.800000011920929\tPrecision : 0.5714285969734192\n",
      "Epoch 4/10\n",
      "3/3 [==============================] - 36s 9s/step\n",
      "Loss : 0.6830143928527832\tRecall : 0.7142857313156128\tPrecision : 0.7142857313156128\n",
      "Epoch 5/10\n",
      "3/3 [==============================] - 39s 10s/step\n",
      "Loss : 0.6898521780967712\tRecall : 0.7368420958518982\tPrecision : 0.699999988079071\n",
      "Epoch 6/10\n",
      "3/3 [==============================] - 39s 10s/step\n",
      "Loss : 0.6970345377922058\tRecall : 0.7857142686843872\tPrecision : 0.550000011920929\n",
      "Epoch 7/10\n",
      "3/3 [==============================] - 42s 10s/step\n",
      "Loss : 0.7023522257804871\tRecall : 0.6875\tPrecision : 0.5789473652839661\n",
      "Epoch 8/10\n",
      "3/3 [==============================] - 34s 8s/step\n",
      "Loss : 0.6872137784957886\tRecall : 0.5714285969734192\tPrecision : 0.4444444477558136\n",
      "Epoch 9/10\n",
      "3/3 [==============================] - 32s 8s/step\n",
      "Loss : 0.6848230957984924\tRecall : 0.6666666865348816\tPrecision : 0.5\n",
      "Epoch 10/10\n",
      "3/3 [==============================] - 31s 8s/step\n",
      "Loss : 0.6989440321922302\tRecall : 0.7333333492279053\tPrecision : 0.42307692766189575\n",
      "Training complete, saving embedding kernel.\n",
      "Successfully saved model at saved_model\\embedding_kernel.h5.\n",
      "Generating data variant with Saddam_Hussein as anchor\n"
     ]
    },
    {
     "name": "stderr",
     "output_type": "stream",
     "text": [
      "100%|██████████| 5749/5749 [00:16<00:00, 349.60it/s]\n"
     ]
    },
    {
     "name": "stdout",
     "output_type": "stream",
     "text": [
      "[DEBUG] Finished data variant setup\n",
      "Preparing data augmentation from data\\var_anchor to data\\var_positive.\n"
     ]
    },
    {
     "name": "stderr",
     "output_type": "stream",
     "text": [
      "100%|██████████| 23/23 [00:00<00:00, 68.25it/s]\n"
     ]
    },
    {
     "name": "stdout",
     "output_type": "stream",
     "text": [
      "Successfully generated 46 new images through data augmentation.\n",
      "Preparing data augmentation from data\\var_anchor to data\\var_anchor.\n"
     ]
    },
    {
     "name": "stderr",
     "output_type": "stream",
     "text": [
      "100%|██████████| 23/23 [00:00<00:00, 134.50it/s]\n"
     ]
    },
    {
     "name": "stdout",
     "output_type": "stream",
     "text": [
      "Successfully generated 23 new images through data augmentation.\n",
      "Harvesting data from anchor data\\var_anchor, positive data\\var_positive and negative data\\var_negative folder.\n",
      "Anchor images availlable :\t46\n",
      "Positive images availlable :\t46\n",
      "Negative images availlable :\t12570\n",
      "Tuple harvested :\t\t46\n",
      "Labelling data\n",
      "Successfully harvested and labelled 46 data.\n",
      "Begining training 47th/100 person.\n",
      "Epoch 1/10\n",
      "3/3 [==============================] - 31s 8s/step\n",
      "Loss : 0.6738935708999634\tRecall : 0.9375\tPrecision : 0.6521739363670349\n",
      "Epoch 2/10\n",
      "3/3 [==============================] - 31s 8s/step\n",
      "Loss : 0.6597715020179749\tRecall : 0.9166666865348816\tPrecision : 0.5789473652839661\n",
      "Epoch 3/10\n",
      "3/3 [==============================] - 32s 8s/step\n",
      "Loss : 0.6534379720687866\tRecall : 0.5625\tPrecision : 0.6428571343421936\n",
      "Epoch 4/10\n",
      "3/3 [==============================] - 31s 8s/step\n",
      "Loss : 0.697579562664032\tRecall : 0.5\tPrecision : 0.800000011920929\n",
      "Epoch 5/10\n",
      "3/3 [==============================] - 31s 8s/step\n",
      "Loss : 0.6462677121162415\tRecall : 0.375\tPrecision : 0.75\n",
      "Epoch 6/10\n",
      "3/3 [==============================] - 31s 8s/step\n",
      "Loss : 0.684916615486145\tRecall : 0.4444444477558136\tPrecision : 0.8888888955116272\n",
      "Epoch 7/10\n",
      "3/3 [==============================] - 37s 11s/step\n",
      "Loss : 0.6528001427650452\tRecall : 0.3571428656578064\tPrecision : 0.8333333134651184\n",
      "Epoch 8/10\n",
      "3/3 [==============================] - 52s 14s/step\n",
      "Loss : 0.6895514130592346\tRecall : 0.3571428656578064\tPrecision : 1.0\n",
      "Epoch 9/10\n",
      "3/3 [==============================] - 45s 11s/step\n",
      "Loss : 0.6834644675254822\tRecall : 0.1764705926179886\tPrecision : 1.0\n",
      "Epoch 10/10\n",
      "3/3 [==============================] - 35s 9s/step\n",
      "Loss : 0.6179419159889221\tRecall : 0.23076923191547394\tPrecision : 1.0\n",
      "Training complete, saving embedding kernel.\n",
      "Successfully saved model at saved_model\\embedding_kernel.h5.\n",
      "Generating data variant with Tiger_Woods as anchor\n"
     ]
    },
    {
     "name": "stderr",
     "output_type": "stream",
     "text": [
      "100%|██████████| 5749/5749 [00:19<00:00, 293.57it/s]\n"
     ]
    },
    {
     "name": "stdout",
     "output_type": "stream",
     "text": [
      "[DEBUG] Finished data variant setup\n",
      "Preparing data augmentation from data\\var_anchor to data\\var_positive.\n"
     ]
    },
    {
     "name": "stderr",
     "output_type": "stream",
     "text": [
      "100%|██████████| 23/23 [00:00<00:00, 43.96it/s]\n"
     ]
    },
    {
     "name": "stdout",
     "output_type": "stream",
     "text": [
      "Successfully generated 46 new images through data augmentation.\n",
      "Preparing data augmentation from data\\var_anchor to data\\var_anchor.\n"
     ]
    },
    {
     "name": "stderr",
     "output_type": "stream",
     "text": [
      "100%|██████████| 23/23 [00:00<00:00, 82.51it/s]\n"
     ]
    },
    {
     "name": "stdout",
     "output_type": "stream",
     "text": [
      "Successfully generated 23 new images through data augmentation.\n",
      "Harvesting data from anchor data\\var_anchor, positive data\\var_positive and negative data\\var_negative folder.\n",
      "Anchor images availlable :\t46\n",
      "Positive images availlable :\t46\n",
      "Negative images availlable :\t12570\n",
      "Tuple harvested :\t\t46\n",
      "Labelling data\n",
      "Successfully harvested and labelled 46 data.\n",
      "Begining training 48th/100 person.\n",
      "Epoch 1/10\n",
      "3/3 [==============================] - 34s 9s/step\n",
      "Loss : 0.8246641755104065\tRecall : 0.1764705926179886\tPrecision : 1.0\n",
      "Epoch 2/10\n",
      "3/3 [==============================] - 36s 10s/step\n",
      "Loss : 0.6362720131874084\tRecall : 0.11764705926179886\tPrecision : 0.6666666865348816\n",
      "Epoch 3/10\n",
      "3/3 [==============================] - 35s 9s/step\n",
      "Loss : 0.7329133749008179\tRecall : 0.1764705926179886\tPrecision : 1.0\n",
      "Epoch 4/10\n",
      "3/3 [==============================] - 45s 11s/step\n",
      "Loss : 0.654386043548584\tRecall : 0.2142857164144516\tPrecision : 0.75\n",
      "Epoch 5/10\n",
      "3/3 [==============================] - 32s 8s/step\n",
      "Loss : 0.7593899965286255\tRecall : 0.13333334028720856\tPrecision : 0.6666666865348816\n",
      "Epoch 6/10\n",
      "3/3 [==============================] - 32s 8s/step\n",
      "Loss : 0.6904621124267578\tRecall : 0.0625\tPrecision : 0.5\n",
      "Epoch 7/10\n",
      "3/3 [==============================] - 33s 9s/step\n",
      "Loss : 0.6362350583076477\tRecall : 0.2857142984867096\tPrecision : 1.0\n",
      "Epoch 8/10\n",
      "3/3 [==============================] - 33s 9s/step\n",
      "Loss : 0.8489506840705872\tRecall : 0.13333334028720856\tPrecision : 0.6666666865348816\n",
      "Epoch 9/10\n",
      "3/3 [==============================] - 32s 9s/step\n",
      "Loss : 0.6770160794258118\tRecall : 0.46666666865348816\tPrecision : 0.875\n",
      "Epoch 10/10\n",
      "3/3 [==============================] - 32s 8s/step\n",
      "Loss : 0.6402623653411865\tRecall : 0.38461539149284363\tPrecision : 0.7142857313156128\n",
      "Training complete, saving embedding kernel.\n",
      "Successfully saved model at saved_model\\embedding_kernel.h5.\n",
      "Generating data variant with George_Robertson as anchor\n"
     ]
    },
    {
     "name": "stderr",
     "output_type": "stream",
     "text": [
      "100%|██████████| 5749/5749 [00:16<00:00, 350.42it/s]\n"
     ]
    },
    {
     "name": "stdout",
     "output_type": "stream",
     "text": [
      "[DEBUG] Finished data variant setup\n",
      "Preparing data augmentation from data\\var_anchor to data\\var_positive.\n"
     ]
    },
    {
     "name": "stderr",
     "output_type": "stream",
     "text": [
      "100%|██████████| 22/22 [00:00<00:00, 35.78it/s]\n"
     ]
    },
    {
     "name": "stdout",
     "output_type": "stream",
     "text": [
      "Successfully generated 44 new images through data augmentation.\n",
      "Preparing data augmentation from data\\var_anchor to data\\var_anchor.\n"
     ]
    },
    {
     "name": "stderr",
     "output_type": "stream",
     "text": [
      "100%|██████████| 22/22 [00:00<00:00, 117.71it/s]\n"
     ]
    },
    {
     "name": "stdout",
     "output_type": "stream",
     "text": [
      "Successfully generated 22 new images through data augmentation.\n",
      "Harvesting data from anchor data\\var_anchor, positive data\\var_positive and negative data\\var_negative folder.\n",
      "Anchor images availlable :\t44\n",
      "Positive images availlable :\t44\n",
      "Negative images availlable :\t12571\n",
      "Tuple harvested :\t\t44\n",
      "Labelling data\n",
      "Successfully harvested and labelled 44 data.\n",
      "Begining training 49th/100 person.\n",
      "Epoch 1/10\n",
      "2/2 [==============================] - 32s 15s/step\n",
      "Loss : 0.6686027646064758\tRecall : 0.13333334028720856\tPrecision : 0.5\n",
      "Epoch 2/10\n",
      "2/2 [==============================] - 30s 14s/step\n",
      "Loss : 0.6873250603675842\tRecall : 0.38461539149284363\tPrecision : 0.7142857313156128\n",
      "Epoch 3/10\n",
      "2/2 [==============================] - 31s 15s/step\n",
      "Loss : 0.6663182973861694\tRecall : 0.23076923191547394\tPrecision : 0.5\n",
      "Epoch 4/10\n",
      "2/2 [==============================] - 33s 15s/step\n",
      "Loss : 0.6949338316917419\tRecall : 0.31578946113586426\tPrecision : 0.75\n",
      "Epoch 5/10\n",
      "2/2 [==============================] - 35s 18s/step\n",
      "Loss : 0.6806662082672119\tRecall : 0.3888888955116272\tPrecision : 0.699999988079071\n",
      "Epoch 6/10\n",
      "2/2 [==============================] - 32s 15s/step\n",
      "Loss : 0.6876697540283203\tRecall : 0.5333333611488342\tPrecision : 0.6666666865348816\n",
      "Epoch 7/10\n",
      "2/2 [==============================] - 30s 15s/step\n",
      "Loss : 0.6850929260253906\tRecall : 0.23529411852359772\tPrecision : 0.6666666865348816\n",
      "Epoch 8/10\n",
      "2/2 [==============================] - 30s 15s/step\n",
      "Loss : 0.6745424866676331\tRecall : 0.5\tPrecision : 0.699999988079071\n",
      "Epoch 9/10\n",
      "2/2 [==============================] - 33s 16s/step\n",
      "Loss : 0.6528640985488892\tRecall : 0.23076923191547394\tPrecision : 0.5\n",
      "Epoch 10/10\n",
      "2/2 [==============================] - 33s 16s/step\n",
      "Loss : 0.6541613936424255\tRecall : 0.2857142984867096\tPrecision : 0.800000011920929\n",
      "Training complete, saving embedding kernel.\n",
      "Successfully saved model at saved_model\\embedding_kernel.h5.\n",
      "Generating data variant with Hamid_Karzai as anchor\n"
     ]
    },
    {
     "name": "stderr",
     "output_type": "stream",
     "text": [
      "100%|██████████| 5749/5749 [00:28<00:00, 199.69it/s]\n"
     ]
    },
    {
     "name": "stdout",
     "output_type": "stream",
     "text": [
      "[DEBUG] Finished data variant setup\n",
      "Preparing data augmentation from data\\var_anchor to data\\var_positive.\n"
     ]
    },
    {
     "name": "stderr",
     "output_type": "stream",
     "text": [
      "100%|██████████| 22/22 [00:00<00:00, 59.20it/s]\n"
     ]
    },
    {
     "name": "stdout",
     "output_type": "stream",
     "text": [
      "Successfully generated 44 new images through data augmentation.\n",
      "Preparing data augmentation from data\\var_anchor to data\\var_anchor.\n"
     ]
    },
    {
     "name": "stderr",
     "output_type": "stream",
     "text": [
      "100%|██████████| 22/22 [00:00<00:00, 121.69it/s]\n"
     ]
    },
    {
     "name": "stdout",
     "output_type": "stream",
     "text": [
      "Successfully generated 22 new images through data augmentation.\n",
      "Harvesting data from anchor data\\var_anchor, positive data\\var_positive and negative data\\var_negative folder.\n",
      "Anchor images availlable :\t44\n",
      "Positive images availlable :\t44\n",
      "Negative images availlable :\t12571\n",
      "Tuple harvested :\t\t44\n",
      "Labelling data\n",
      "Successfully harvested and labelled 44 data.\n",
      "Begining training 50th/100 person.\n",
      "Epoch 1/10\n",
      "2/2 [==============================] - 32s 16s/step\n",
      "Loss : 0.6574815511703491\tRecall : 0.13333334028720856\tPrecision : 0.6666666865348816\n",
      "Epoch 2/10\n",
      "2/2 [==============================] - 29s 14s/step\n",
      "Loss : 0.7026925683021545\tRecall : 0.0\tPrecision : 0.0\n",
      "Epoch 3/10\n",
      "2/2 [==============================] - 34s 19s/step\n",
      "Loss : 0.6473826169967651\tRecall : 0.1764705926179886\tPrecision : 1.0\n",
      "Epoch 4/10\n",
      "2/2 [==============================] - 39s 16s/step\n",
      "Loss : 0.6978237628936768\tRecall : 0.25\tPrecision : 1.0\n",
      "Epoch 5/10\n",
      "2/2 [==============================] - 31s 15s/step\n",
      "Loss : 0.6762456297874451\tRecall : 0.1666666716337204\tPrecision : 0.6666666865348816\n",
      "Epoch 6/10\n",
      "2/2 [==============================] - 33s 16s/step\n",
      "Loss : 0.6550273299217224\tRecall : 0.20000000298023224\tPrecision : 0.75\n",
      "Epoch 7/10\n",
      "2/2 [==============================] - 37s 19s/step\n",
      "Loss : 0.6969872713088989\tRecall : 0.1428571492433548\tPrecision : 1.0\n",
      "Epoch 8/10\n",
      "2/2 [==============================] - 37s 17s/step\n",
      "Loss : 0.6916139125823975\tRecall : 0.0625\tPrecision : 1.0\n",
      "Epoch 9/10\n",
      "2/2 [==============================] - 34s 15s/step\n",
      "Loss : 0.6760886311531067\tRecall : 0.2857142984867096\tPrecision : 0.800000011920929\n",
      "Epoch 10/10\n",
      "2/2 [==============================] - 33s 15s/step\n",
      "Loss : 0.7143558263778687\tRecall : 0.38461539149284363\tPrecision : 0.8333333134651184\n",
      "Training complete, saving embedding kernel.\n",
      "Successfully saved model at saved_model\\embedding_kernel.h5.\n",
      "Generating data variant with Lindsay_Davenport as anchor\n"
     ]
    },
    {
     "name": "stderr",
     "output_type": "stream",
     "text": [
      "100%|██████████| 5749/5749 [00:18<00:00, 315.92it/s]\n"
     ]
    },
    {
     "name": "stdout",
     "output_type": "stream",
     "text": [
      "[DEBUG] Finished data variant setup\n",
      "Preparing data augmentation from data\\var_anchor to data\\var_positive.\n"
     ]
    },
    {
     "name": "stderr",
     "output_type": "stream",
     "text": [
      "100%|██████████| 22/22 [00:00<00:00, 46.29it/s]\n"
     ]
    },
    {
     "name": "stdout",
     "output_type": "stream",
     "text": [
      "Successfully generated 44 new images through data augmentation.\n",
      "Preparing data augmentation from data\\var_anchor to data\\var_anchor.\n"
     ]
    },
    {
     "name": "stderr",
     "output_type": "stream",
     "text": [
      "100%|██████████| 22/22 [00:00<00:00, 54.87it/s]\n"
     ]
    },
    {
     "name": "stdout",
     "output_type": "stream",
     "text": [
      "Successfully generated 22 new images through data augmentation.\n",
      "Harvesting data from anchor data\\var_anchor, positive data\\var_positive and negative data\\var_negative folder.\n",
      "Anchor images availlable :\t44\n",
      "Positive images availlable :\t44\n",
      "Negative images availlable :\t12571\n",
      "Tuple harvested :\t\t44\n",
      "Labelling data\n",
      "Successfully harvested and labelled 44 data.\n",
      "Begining training 51th/100 person.\n",
      "Epoch 1/10\n",
      "2/2 [==============================] - 31s 15s/step\n",
      "Loss : 0.6518863439559937\tRecall : 0.2222222238779068\tPrecision : 0.5714285969734192\n",
      "Epoch 2/10\n"
     ]
    }
   ],
   "source": [
    "n_max_person = 100\n",
    "offset = 0\n",
    "max_harvest = 100\n",
    "\n",
    "embedding_pretrained = make_embedding_from_pretrained(file_name='embedding_kernel')\n",
    "siamese_model = make_siamese_model(embedding_pretrained)\n",
    "train_step = define_train_step(siamese_model)\n",
    "train = define_training_loop(siamese_model, train_step)\n",
    "print(f\"Successfully created siamese model from pretrained kernel.\")\n",
    "\n",
    "for k_th_person in range(n_max_person):\n",
    "    empty_folder(VANC_PATH)\n",
    "    empty_folder(VPOS_PATH)\n",
    "    empty_folder(VNEG_PATH)\n",
    "\n",
    "    setup_var_data(offset+k_th_person, max_harvest)\n",
    "    data_augment_from_folder(VANC_PATH, VPOS_PATH, data_augmentation_factor=2)\n",
    "    data_augment_from_folder(VANC_PATH, VANC_PATH, data_augmentation_factor=1)\n",
    "\n",
    "    data = harvest_from_folder(\n",
    "        anc_path=VANC_PATH, pos_path=VPOS_PATH, neg_path=VNEG_PATH, n_harvest = 2*max_harvest)\n",
    "    train_data, test_data = build_dataloader_pipeline(data, max_data_size = 2*max_harvest)\n",
    "    \n",
    "    print(f\"Begining training {k_th_person+1}th/{n_max_person} person.\")\n",
    "    train(train_data, n_epoch=10)\n",
    "    print(f\"Training complete, saving embedding kernel.\")\n",
    "    save_model(embedding_pretrained, file_name='embedding_kernel')"
   ]
  }
 ],
 "metadata": {
  "kernelspec": {
   "display_name": ".venv",
   "language": "python",
   "name": "python3"
  },
  "language_info": {
   "codemirror_mode": {
    "name": "ipython",
    "version": 3
   },
   "file_extension": ".py",
   "mimetype": "text/x-python",
   "name": "python",
   "nbconvert_exporter": "python",
   "pygments_lexer": "ipython3",
   "version": "3.7.3"
  }
 },
 "nbformat": 4,
 "nbformat_minor": 2
}
