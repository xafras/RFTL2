{
 "cells": [
  {
   "cell_type": "code",
   "execution_count": 1,
   "metadata": {},
   "outputs": [],
   "source": [
    "from src import *"
   ]
  },
  {
   "cell_type": "code",
   "execution_count": 2,
   "metadata": {},
   "outputs": [
    {
     "name": "stdout",
     "output_type": "stream",
     "text": [
      "Successfully created siamese model from pretrained kernel.\n",
      "Preparing data augmentation from data\\anchor to data\\positive.\n"
     ]
    },
    {
     "name": "stderr",
     "output_type": "stream",
     "text": [
      "100%|██████████| 25/25 [00:00<00:00, 33.01it/s]\n"
     ]
    },
    {
     "name": "stdout",
     "output_type": "stream",
     "text": [
      "Successfully generated 100 new images through data augmentation.\n",
      "Preparing data augmentation from data\\anchor to data\\var_anchor.\n"
     ]
    },
    {
     "name": "stderr",
     "output_type": "stream",
     "text": [
      "100%|██████████| 25/25 [00:00<00:00, 38.26it/s]\n"
     ]
    },
    {
     "name": "stdout",
     "output_type": "stream",
     "text": [
      "Successfully generated 75 new images through data augmentation.\n",
      "Harvesting data from anchor data\\var_anchor, positive data\\positive and negative data\\negative folder.\n",
      "Anchor images availlable :\t100\n",
      "Positive images availlable :\t100\n",
      "Negative images availlable :\t13233\n",
      "Tuple harvested :\t\t100\n",
      "Labelling data\n",
      "Successfully harvested and labelled 100 data.\n"
     ]
    }
   ],
   "source": [
    "max_harvest = 100\n",
    "\n",
    "# empty_folder(ANC_PATH)\n",
    "# start_video_capture(awaited_capture=25)\n",
    "\n",
    "empty_folder(VANC_PATH)\n",
    "empty_folder(POS_PATH)\n",
    "\n",
    "\n",
    "embedding_pretrained = make_embedding_from_pretrained(file_name='embedding_kernel_A')\n",
    "siamese_model = make_siamese_model(embedding_pretrained)\n",
    "train_step = define_train_step(siamese_model)\n",
    "train = define_training_loop(siamese_model, train_step)\n",
    "print(f\"Successfully created siamese model from pretrained kernel.\")\n",
    "\n",
    "data_augment_from_folder(ANC_PATH, POS_PATH, data_augmentation_factor=4)\n",
    "copy_folder(ANC_PATH, VANC_PATH)\n",
    "data_augment_from_folder(ANC_PATH, VANC_PATH, data_augmentation_factor=3)\n",
    "data = harvest_from_folder(anc_path=VANC_PATH, pos_path=POS_PATH, neg_path=NEG_PATH, n_harvest = 2*max_harvest)\n",
    "train_data, test_data = build_dataloader_pipeline(data, max_data_size = 2*max_harvest)"
   ]
  },
  {
   "cell_type": "code",
   "execution_count": 3,
   "metadata": {},
   "outputs": [
    {
     "name": "stdout",
     "output_type": "stream",
     "text": [
      "Begining transfert learning.\n",
      "Epoch 1/10\n",
      "5/5 [==============================] - 80s 16s/step\n",
      "Loss : 0.6552544832229614\tRecall : 0.0\tPrecision : 0.0\n",
      "Epoch 2/10\n",
      "5/5 [==============================] - 68s 13s/step\n",
      "Loss : 0.3574376106262207\tRecall : 0.0\tPrecision : 0.0\n",
      "Epoch 3/10\n",
      "5/5 [==============================] - 79s 16s/step\n",
      "Loss : 0.43691131472587585\tRecall : 0.18421052396297455\tPrecision : 1.0\n",
      "Epoch 4/10\n",
      "5/5 [==============================] - 97s 19s/step\n",
      "Loss : 0.2489900439977646\tRecall : 0.45945945382118225\tPrecision : 1.0\n",
      "Epoch 5/10\n",
      "5/5 [==============================] - 92s 18s/step\n",
      "Loss : 0.3584205210208893\tRecall : 0.8787878751754761\tPrecision : 0.9666666388511658\n",
      "Epoch 6/10\n",
      "5/5 [==============================] - 95s 19s/step\n",
      "Loss : 0.09198763221502304\tRecall : 1.0\tPrecision : 0.9722222089767456\n",
      "Epoch 7/10\n",
      "5/5 [==============================] - 84s 15s/step\n",
      "Loss : 0.15617635846138\tRecall : 1.0\tPrecision : 0.9756097793579102\n",
      "Epoch 8/10\n",
      "5/5 [==============================] - 73s 14s/step\n",
      "Loss : 0.013179582543671131\tRecall : 1.0\tPrecision : 0.970588207244873\n",
      "Epoch 9/10\n",
      "5/5 [==============================] - 79s 16s/step\n",
      "Loss : 0.047744739800691605\tRecall : 1.0\tPrecision : 0.9696969985961914\n",
      "Epoch 10/10\n",
      "5/5 [==============================] - 74s 14s/step\n",
      "Loss : 0.3444717228412628\tRecall : 0.9714285731315613\tPrecision : 1.0\n",
      "Transfert training complete, saving trasnfered siamese model.\n"
     ]
    }
   ],
   "source": [
    "print(f\"Begining transfert learning.\")\n",
    "train(train_data, n_epoch=10)\n",
    "print(f\"Transfert training complete, saving transfered siamese model.\")"
   ]
  },
  {
   "cell_type": "code",
   "execution_count": 4,
   "metadata": {},
   "outputs": [
    {
     "name": "stdout",
     "output_type": "stream",
     "text": [
      "Successfully saved model at saved_model\\transfered_siamese_model_A.h5.\n"
     ]
    }
   ],
   "source": [
    "save_model(siamese_model, file_name='transfered_siamese_model_A')"
   ]
  }
 ],
 "metadata": {
  "kernelspec": {
   "display_name": ".venv",
   "language": "python",
   "name": "python3"
  },
  "language_info": {
   "codemirror_mode": {
    "name": "ipython",
    "version": 3
   },
   "file_extension": ".py",
   "mimetype": "text/x-python",
   "name": "python",
   "nbconvert_exporter": "python",
   "pygments_lexer": "ipython3",
   "version": "3.7.3"
  }
 },
 "nbformat": 4,
 "nbformat_minor": 2
}
