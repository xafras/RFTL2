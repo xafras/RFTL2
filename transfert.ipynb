{
 "cells": [
  {
   "cell_type": "code",
   "execution_count": null,
   "metadata": {},
   "outputs": [],
   "source": [
    "from src import *"
   ]
  },
  {
   "cell_type": "code",
   "execution_count": null,
   "metadata": {},
   "outputs": [],
   "source": [
    "# empty_folder(ANC_PATH)\n",
    "# start_video_capture(awaited_capture=25)"
   ]
  },
  {
   "cell_type": "code",
   "execution_count": null,
   "metadata": {},
   "outputs": [],
   "source": [
    "max_harvest = 100\n",
    "\n",
    "empty_folder(VANC_PATH)\n",
    "empty_folder(POS_PATH)\n",
    "\n",
    "# embedding_pretrained = make_embedding_from_pretrained(file_name='embedding_kernel_A')\n",
    "# siamese_model = make_siamese_model(embedding_pretrained)\n",
    "siamese_model = make_siamese_model(make_embedding())\n",
    "\n",
    "train_step = define_train_step(siamese_model)\n",
    "train = define_training_loop(siamese_model, train_step)\n",
    "print(f\"Successfully created siamese model from pretrained kernel.\")\n",
    "\n",
    "data_augment_from_folder(ANC_PATH, POS_PATH, data_augmentation_factor=4)\n",
    "copy_folder(ANC_PATH, VANC_PATH)\n",
    "data_augment_from_folder(ANC_PATH, VANC_PATH, data_augmentation_factor=3)\n",
    "data = harvest_from_folder(anc_path=VANC_PATH, pos_path=POS_PATH, neg_path=NEG_PATH, n_harvest = 2*max_harvest)\n",
    "train_data, test_data = build_dataloader_pipeline(data, max_data_size = 2*max_harvest)"
   ]
  },
  {
   "cell_type": "code",
   "execution_count": null,
   "metadata": {},
   "outputs": [],
   "source": [
    "print(f\"Begining transfert learning.\")\n",
    "train(train_data, n_epoch=10)\n",
    "print(f\"Transfert training complete, saving transfered siamese model.\")"
   ]
  },
  {
   "cell_type": "code",
   "execution_count": null,
   "metadata": {},
   "outputs": [],
   "source": [
    "save_model(siamese_model, file_name='naive_siamese_model_Isaac')"
   ]
  }
 ],
 "metadata": {
  "kernelspec": {
   "display_name": ".venv",
   "language": "python",
   "name": "python3"
  },
  "language_info": {
   "codemirror_mode": {
    "name": "ipython",
    "version": 3
   },
   "file_extension": ".py",
   "mimetype": "text/x-python",
   "name": "python",
   "nbconvert_exporter": "python",
   "pygments_lexer": "ipython3",
   "version": "3.7.3"
  }
 },
 "nbformat": 4,
 "nbformat_minor": 2
}
