{
 "cells": [
  {
   "cell_type": "code",
   "execution_count": 1,
   "metadata": {},
   "outputs": [],
   "source": [
    "from src import *"
   ]
  },
  {
   "cell_type": "code",
   "execution_count": 2,
   "metadata": {},
   "outputs": [],
   "source": [
    "# empty_folder(ANC_PATH)\n",
    "# start_video_capture(awaited_capture=25)"
   ]
  },
  {
   "cell_type": "code",
   "execution_count": 3,
   "metadata": {},
   "outputs": [
    {
     "name": "stdout",
     "output_type": "stream",
     "text": [
      "Successfully created siamese model from pretrained kernel.\n",
      "Preparing data augmentation from data\\anchor to data\\positive.\n"
     ]
    },
    {
     "name": "stderr",
     "output_type": "stream",
     "text": [
      "100%|██████████| 25/25 [00:01<00:00, 21.78it/s]\n"
     ]
    },
    {
     "name": "stdout",
     "output_type": "stream",
     "text": [
      "Successfully generated 100 new images through data augmentation.\n",
      "Preparing data augmentation from data\\anchor to data\\var_anchor.\n"
     ]
    },
    {
     "name": "stderr",
     "output_type": "stream",
     "text": [
      "100%|██████████| 25/25 [00:00<00:00, 28.65it/s]\n"
     ]
    },
    {
     "name": "stdout",
     "output_type": "stream",
     "text": [
      "Successfully generated 75 new images through data augmentation.\n",
      "Harvesting data from anchor data\\var_anchor, positive data\\positive and negative data\\negative folder.\n",
      "Anchor images availlable :\t100\n",
      "Positive images availlable :\t100\n",
      "Negative images availlable :\t13233\n",
      "Tuple harvested :\t\t100\n",
      "Labelling data\n",
      "Successfully harvested and labelled 100 data.\n"
     ]
    }
   ],
   "source": [
    "max_harvest = 100\n",
    "\n",
    "empty_folder(VANC_PATH)\n",
    "empty_folder(POS_PATH)\n",
    "\n",
    "# embedding_pretrained = make_embedding_from_pretrained(file_name='embedding_kernel_A')\n",
    "# siamese_model = make_siamese_model(embedding_pretrained)\n",
    "siamese_model = make_siamese_model(make_embedding())\n",
    "\n",
    "train_step = define_train_step(siamese_model)\n",
    "train = define_training_loop(siamese_model, train_step)\n",
    "print(f\"Successfully created siamese model from pretrained kernel.\")\n",
    "\n",
    "data_augment_from_folder(ANC_PATH, POS_PATH, data_augmentation_factor=4)\n",
    "copy_folder(ANC_PATH, VANC_PATH)\n",
    "data_augment_from_folder(ANC_PATH, VANC_PATH, data_augmentation_factor=3)\n",
    "data = harvest_from_folder(anc_path=VANC_PATH, pos_path=POS_PATH, neg_path=NEG_PATH, n_harvest = 2*max_harvest)\n",
    "train_data, test_data = build_dataloader_pipeline(data, max_data_size = 2*max_harvest)"
   ]
  },
  {
   "cell_type": "code",
   "execution_count": 4,
   "metadata": {},
   "outputs": [
    {
     "name": "stdout",
     "output_type": "stream",
     "text": [
      "Begining transfert learning.\n",
      "Epoch 1/2\n",
      "5/5 [==============================] - 92s 18s/step\n",
      "Loss : 0.5862463712692261\tRecall : 0.3142857253551483\tPrecision : 0.9166666865348816\n",
      "Epoch 2/2\n",
      "5/5 [==============================] - 90s 18s/step\n",
      "Loss : 0.8602288365364075\tRecall : 0.6944444179534912\tPrecision : 1.0\n",
      "Transfert training complete, saving transfered siamese model.\n"
     ]
    }
   ],
   "source": [
    "print(f\"Begining transfert learning.\")\n",
    "train(train_data, n_epoch=2)\n",
    "print(f\"Transfert training complete, saving transfered siamese model.\")"
   ]
  },
  {
   "cell_type": "code",
   "execution_count": 5,
   "metadata": {},
   "outputs": [
    {
     "name": "stdout",
     "output_type": "stream",
     "text": [
      "Successfully saved model at saved_model\\naive_siamese_model_Teddy_A_2.h5.\n"
     ]
    }
   ],
   "source": [
    "save_model(siamese_model, file_name='naive_siamese_model_Teddy_A_2')"
   ]
  }
 ],
 "metadata": {
  "kernelspec": {
   "display_name": ".venv",
   "language": "python",
   "name": "python3"
  },
  "language_info": {
   "codemirror_mode": {
    "name": "ipython",
    "version": 3
   },
   "file_extension": ".py",
   "mimetype": "text/x-python",
   "name": "python",
   "nbconvert_exporter": "python",
   "pygments_lexer": "ipython3",
   "version": "3.7.3"
  }
 },
 "nbformat": 4,
 "nbformat_minor": 2
}
