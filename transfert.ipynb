{
 "cells": [
  {
   "cell_type": "code",
   "execution_count": 1,
   "metadata": {},
   "outputs": [],
   "source": [
    "from src import *"
   ]
  },
  {
   "cell_type": "code",
   "execution_count": 2,
   "metadata": {},
   "outputs": [],
   "source": [
    "# empty_folder(ANC_PATH)\n",
    "# start_video_capture(awaited_capture=25)"
   ]
  },
  {
   "cell_type": "code",
   "execution_count": 3,
   "metadata": {},
   "outputs": [
    {
     "name": "stdout",
     "output_type": "stream",
     "text": [
      "Successfully created siamese model from pretrained kernel.\n",
      "Preparing data augmentation from data\\anchor to data\\positive.\n"
     ]
    },
    {
     "name": "stderr",
     "output_type": "stream",
     "text": [
      "100%|██████████| 25/25 [00:00<00:00, 27.70it/s]\n"
     ]
    },
    {
     "name": "stdout",
     "output_type": "stream",
     "text": [
      "Successfully generated 100 new images through data augmentation.\n",
      "Preparing data augmentation from data\\anchor to data\\var_anchor.\n"
     ]
    },
    {
     "name": "stderr",
     "output_type": "stream",
     "text": [
      "100%|██████████| 25/25 [00:00<00:00, 40.45it/s]\n"
     ]
    },
    {
     "name": "stdout",
     "output_type": "stream",
     "text": [
      "Successfully generated 75 new images through data augmentation.\n",
      "Harvesting data from anchor data\\var_anchor, positive data\\positive and negative data\\negative folder.\n",
      "Anchor images availlable :\t100\n",
      "Positive images availlable :\t100\n",
      "Negative images availlable :\t13233\n",
      "Tuple harvested :\t\t100\n",
      "Labelling data\n",
      "Successfully harvested and labelled 100 data.\n"
     ]
    }
   ],
   "source": [
    "max_harvest = 100\n",
    "\n",
    "empty_folder(VANC_PATH)\n",
    "empty_folder(POS_PATH)\n",
    "\n",
    "embedding_pretrained = make_embedding_from_pretrained(file_name='embedding_kernel_A')\n",
    "siamese_model = make_siamese_model(embedding_pretrained)\n",
    "# siamese_model = make_siamese_model(make_embedding())\n",
    "\n",
    "train_step = define_train_step(siamese_model)\n",
    "train = define_training_loop(siamese_model, train_step)\n",
    "print(f\"Successfully created siamese model from pretrained kernel.\")\n",
    "\n",
    "data_augment_from_folder(ANC_PATH, POS_PATH, data_augmentation_factor=4)\n",
    "copy_folder(ANC_PATH, VANC_PATH)\n",
    "data_augment_from_folder(ANC_PATH, VANC_PATH, data_augmentation_factor=3)\n",
    "data = harvest_from_folder(anc_path=VANC_PATH, pos_path=POS_PATH, neg_path=NEG_PATH, n_harvest = 2*max_harvest)\n",
    "train_data, test_data = build_dataloader_pipeline(data, max_data_size = 2*max_harvest)"
   ]
  },
  {
   "cell_type": "code",
   "execution_count": 4,
   "metadata": {},
   "outputs": [
    {
     "name": "stdout",
     "output_type": "stream",
     "text": [
      "Begining transfert learning.\n",
      "Epoch 1/5\n",
      "5/5 [==============================] - 178s 38s/step\n",
      "Loss : 0.690888524055481\tRecall : 0.375\tPrecision : 0.7142857313156128\n",
      "Epoch 2/5\n",
      "5/5 [==============================] - 80s 14s/step\n",
      "Loss : 0.6895073652267456\tRecall : 0.21052631735801697\tPrecision : 1.0\n",
      "Epoch 3/5\n",
      "5/5 [==============================] - 71s 14s/step\n",
      "Loss : 0.6241955757141113\tRecall : 0.8055555820465088\tPrecision : 0.90625\n",
      "Epoch 4/5\n",
      "5/5 [==============================] - 70s 13s/step\n",
      "Loss : 0.8857694864273071\tRecall : 0.08571428805589676\tPrecision : 1.0\n",
      "Epoch 5/5\n",
      "5/5 [==============================] - 69s 13s/step\n",
      "Loss : 0.5638862252235413\tRecall : 0.8648648858070374\tPrecision : 0.8648648858070374\n",
      "Transfert training complete, saving transfered siamese model.\n"
     ]
    }
   ],
   "source": [
    "print(f\"Begining transfert learning.\")\n",
    "train(train_data, n_epoch=5)\n",
    "print(f\"Transfert training complete, saving transfered siamese model.\")"
   ]
  },
  {
   "cell_type": "code",
   "execution_count": 5,
   "metadata": {},
   "outputs": [
    {
     "name": "stdout",
     "output_type": "stream",
     "text": [
      "Successfully saved model at saved_model\\pretrained_siamese_model_Teddy_A_5.h5.\n"
     ]
    }
   ],
   "source": [
    "save_model(siamese_model, file_name='pretrained_siamese_model_Teddy_A_5')"
   ]
  }
 ],
 "metadata": {
  "kernelspec": {
   "display_name": ".venv",
   "language": "python",
   "name": "python3"
  },
  "language_info": {
   "codemirror_mode": {
    "name": "ipython",
    "version": 3
   },
   "file_extension": ".py",
   "mimetype": "text/x-python",
   "name": "python",
   "nbconvert_exporter": "python",
   "pygments_lexer": "ipython3",
   "version": "3.7.3"
  }
 },
 "nbformat": 4,
 "nbformat_minor": 2
}
